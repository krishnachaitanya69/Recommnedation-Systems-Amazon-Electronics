{
 "cells": [
  {
   "cell_type": "code",
   "execution_count": 1,
   "metadata": {},
   "outputs": [
    {
     "name": "stderr",
     "output_type": "stream",
     "text": [
      "C:\\ProgramData\\Anaconda3\\lib\\site-packages\\statsmodels\\tools\\_testing.py:19: FutureWarning: pandas.util.testing is deprecated. Use the functions in the public API at pandas.testing instead.\n",
      "  import pandas.util.testing as tm\n"
     ]
    }
   ],
   "source": [
    "#Let us import all the necessary libraries\n",
    "import numpy as np \n",
    "import pandas as pd\n",
    "import matplotlib.pyplot as plt\n",
    "%matplotlib inline\n",
    "import seaborn as sns\n",
    "from surprise import accuracy\n",
    "from surprise.model_selection import cross_validate, train_test_split\n",
    "from surprise import SVD, Dataset, Reader, KNNWithMeans"
   ]
  },
  {
   "cell_type": "markdown",
   "metadata": {},
   "source": [
    "# 1. Read and explore the given dataset. ( Rename column/add headers, plot histograms, find data characteristics) ( 13 Marks)"
   ]
  },
  {
   "cell_type": "code",
   "execution_count": 2,
   "metadata": {},
   "outputs": [],
   "source": [
    "#Load the dataset\n",
    "df = pd.read_csv('Electronic_dataset.csv')"
   ]
  },
  {
   "cell_type": "code",
   "execution_count": 3,
   "metadata": {},
   "outputs": [
    {
     "data": {
      "text/html": [
       "<div>\n",
       "<style scoped>\n",
       "    .dataframe tbody tr th:only-of-type {\n",
       "        vertical-align: middle;\n",
       "    }\n",
       "\n",
       "    .dataframe tbody tr th {\n",
       "        vertical-align: top;\n",
       "    }\n",
       "\n",
       "    .dataframe thead th {\n",
       "        text-align: right;\n",
       "    }\n",
       "</style>\n",
       "<table border=\"1\" class=\"dataframe\">\n",
       "  <thead>\n",
       "    <tr style=\"text-align: right;\">\n",
       "      <th></th>\n",
       "      <th>user_id</th>\n",
       "      <th>prod_id</th>\n",
       "      <th>ratings</th>\n",
       "      <th>timestamp</th>\n",
       "    </tr>\n",
       "  </thead>\n",
       "  <tbody>\n",
       "    <tr>\n",
       "      <th>0</th>\n",
       "      <td>A3L1GVWVJKWZZS</td>\n",
       "      <td>B0058UUR6E</td>\n",
       "      <td>5.0</td>\n",
       "      <td>1364774400</td>\n",
       "    </tr>\n",
       "    <tr>\n",
       "      <th>1</th>\n",
       "      <td>A08831071BVKZMKNCPI5S</td>\n",
       "      <td>B009ID0VVS</td>\n",
       "      <td>5.0</td>\n",
       "      <td>1357257600</td>\n",
       "    </tr>\n",
       "    <tr>\n",
       "      <th>2</th>\n",
       "      <td>A1SINU2I4IOPNU</td>\n",
       "      <td>B000GBO9IM</td>\n",
       "      <td>4.0</td>\n",
       "      <td>1358121600</td>\n",
       "    </tr>\n",
       "    <tr>\n",
       "      <th>3</th>\n",
       "      <td>A3P3P31EEOX2BD</td>\n",
       "      <td>B00CDCIOHO</td>\n",
       "      <td>3.0</td>\n",
       "      <td>1404950400</td>\n",
       "    </tr>\n",
       "    <tr>\n",
       "      <th>4</th>\n",
       "      <td>A3DBLJ3MPBJQMN</td>\n",
       "      <td>B000MS3VGA</td>\n",
       "      <td>5.0</td>\n",
       "      <td>1294444800</td>\n",
       "    </tr>\n",
       "  </tbody>\n",
       "</table>\n",
       "</div>"
      ],
      "text/plain": [
       "                 user_id     prod_id  ratings   timestamp\n",
       "0         A3L1GVWVJKWZZS  B0058UUR6E      5.0  1364774400\n",
       "1  A08831071BVKZMKNCPI5S  B009ID0VVS      5.0  1357257600\n",
       "2         A1SINU2I4IOPNU  B000GBO9IM      4.0  1358121600\n",
       "3         A3P3P31EEOX2BD  B00CDCIOHO      3.0  1404950400\n",
       "4         A3DBLJ3MPBJQMN  B000MS3VGA      5.0  1294444800"
      ]
     },
     "execution_count": 3,
     "metadata": {},
     "output_type": "execute_result"
    }
   ],
   "source": [
    "#Looking at the top 5 rows of the dataset\n",
    "df.head(5)"
   ]
  },
  {
   "cell_type": "markdown",
   "metadata": {},
   "source": [
    "User id (user_id) looks like unique alphanumeric code assigned to each user similar to product id(prod_id) while ratings is an numeric code provided to each product ranging from 1 to 5.As quoted in earlier description we can remove the column named timestamp."
   ]
  },
  {
   "cell_type": "code",
   "execution_count": 4,
   "metadata": {},
   "outputs": [
    {
     "data": {
      "text/plain": [
       "(500000, 4)"
      ]
     },
     "execution_count": 4,
     "metadata": {},
     "output_type": "execute_result"
    }
   ],
   "source": [
    "#Showing the shape of the dataframe\n",
    "df.shape"
   ]
  },
  {
   "cell_type": "code",
   "execution_count": 5,
   "metadata": {},
   "outputs": [
    {
     "data": {
      "text/plain": [
       "448368"
      ]
     },
     "execution_count": 5,
     "metadata": {},
     "output_type": "execute_result"
    }
   ],
   "source": [
    "#Looking at the number of unique values in user_id field\n",
    "df['user_id'].nunique()"
   ]
  },
  {
   "cell_type": "code",
   "execution_count": 6,
   "metadata": {},
   "outputs": [
    {
     "data": {
      "text/plain": [
       "130138"
      ]
     },
     "execution_count": 6,
     "metadata": {},
     "output_type": "execute_result"
    }
   ],
   "source": [
    "#Looking at the number of unique values in prod_id field\n",
    "df['prod_id'].nunique()"
   ]
  },
  {
   "cell_type": "code",
   "execution_count": 7,
   "metadata": {},
   "outputs": [
    {
     "name": "stdout",
     "output_type": "stream",
     "text": [
      "<class 'pandas.core.frame.DataFrame'>\n",
      "RangeIndex: 500000 entries, 0 to 499999\n",
      "Data columns (total 4 columns):\n",
      " #   Column     Non-Null Count   Dtype  \n",
      "---  ------     --------------   -----  \n",
      " 0   user_id    500000 non-null  object \n",
      " 1   prod_id    500000 non-null  object \n",
      " 2   ratings    500000 non-null  float64\n",
      " 3   timestamp  500000 non-null  int64  \n",
      "dtypes: float64(1), int64(1), object(2)\n",
      "memory usage: 15.3+ MB\n"
     ]
    }
   ],
   "source": [
    "#Chekingthe info about all atributes\n",
    "df.info()"
   ]
  },
  {
   "cell_type": "code",
   "execution_count": 8,
   "metadata": {},
   "outputs": [
    {
     "data": {
      "text/plain": [
       "False    500000\n",
       "dtype: int64"
      ]
     },
     "execution_count": 8,
     "metadata": {},
     "output_type": "execute_result"
    }
   ],
   "source": [
    "#Checking the number of duplicates in each row(False means none are present)\n",
    "df.duplicated().value_counts()"
   ]
  },
  {
   "cell_type": "code",
   "execution_count": 9,
   "metadata": {},
   "outputs": [],
   "source": [
    "#dropping timestamp column, since it's of no significance \n",
    "df = df.drop(labels = \"timestamp\", axis = 1)"
   ]
  },
  {
   "cell_type": "code",
   "execution_count": 10,
   "metadata": {},
   "outputs": [
    {
     "data": {
      "image/png": "[encoded data removed]",
      "text/plain": [
       "<Figure size 576x432 with 1 Axes>"
      ]
     },
     "metadata": {
      "needs_background": "light"
     },
     "output_type": "display_data"
    }
   ],
   "source": [
    "#Building a histogram for dataframe(for ratings as that is only numeric column)\n",
    "df.hist(figsize=(8,6), xlabelsize = 10);"
   ]
  },
  {
   "cell_type": "markdown",
   "metadata": {},
   "source": [
    "Looking at the histogram it seems most of the ratings are 5 out of 5,With lest of them rated as 2."
   ]
  },
  {
   "cell_type": "code",
   "execution_count": 11,
   "metadata": {},
   "outputs": [
    {
     "data": {
      "text/html": [
       "<div>\n",
       "<style scoped>\n",
       "    .dataframe tbody tr th:only-of-type {\n",
       "        vertical-align: middle;\n",
       "    }\n",
       "\n",
       "    .dataframe tbody tr th {\n",
       "        vertical-align: top;\n",
       "    }\n",
       "\n",
       "    .dataframe thead th {\n",
       "        text-align: right;\n",
       "    }\n",
       "</style>\n",
       "<table border=\"1\" class=\"dataframe\">\n",
       "  <thead>\n",
       "    <tr style=\"text-align: right;\">\n",
       "      <th></th>\n",
       "      <th>count</th>\n",
       "      <th>mean</th>\n",
       "      <th>std</th>\n",
       "      <th>min</th>\n",
       "      <th>25%</th>\n",
       "      <th>50%</th>\n",
       "      <th>75%</th>\n",
       "      <th>max</th>\n",
       "    </tr>\n",
       "  </thead>\n",
       "  <tbody>\n",
       "    <tr>\n",
       "      <th>ratings</th>\n",
       "      <td>500000.0</td>\n",
       "      <td>4.013172</td>\n",
       "      <td>1.379996</td>\n",
       "      <td>1.0</td>\n",
       "      <td>3.0</td>\n",
       "      <td>5.0</td>\n",
       "      <td>5.0</td>\n",
       "      <td>5.0</td>\n",
       "    </tr>\n",
       "  </tbody>\n",
       "</table>\n",
       "</div>"
      ],
      "text/plain": [
       "            count      mean       std  min  25%  50%  75%  max\n",
       "ratings  500000.0  4.013172  1.379996  1.0  3.0  5.0  5.0  5.0"
      ]
     },
     "execution_count": 11,
     "metadata": {},
     "output_type": "execute_result"
    }
   ],
   "source": [
    "#Checking the transpose of descirption\n",
    "df.describe().T"
   ]
  },
  {
   "cell_type": "markdown",
   "metadata": {},
   "source": [
    "We see a lot of attributes in given dataset hence we need to prune the dataset and one observation is that we have many users who have given one or 2 ratings for each product which are of ver less significance hence for future computation we have to consider the users who have given more than 5 ratings.Hence filtering users with minimum 5 ratings. "
   ]
  },
  {
   "cell_type": "code",
   "execution_count": 12,
   "metadata": {
    "scrolled": true
   },
   "outputs": [
    {
     "data": {
      "text/plain": [
       "user_id    5912\n",
       "prod_id    5912\n",
       "ratings    5912\n",
       "dtype: int64"
      ]
     },
     "execution_count": 12,
     "metadata": {},
     "output_type": "execute_result"
    }
   ],
   "source": [
    "#Using the counter library for getting counts\n",
    "from collections import Counter\n",
    "counts = Counter(df.user_id)\n",
    "df_popular = df[df.user_id.isin([key for key in counts if counts[key] > 5])]\n",
    "df_popular[df_popular.user_id.isin([key for key in counts if counts[key] > 5])].count()"
   ]
  },
  {
   "cell_type": "markdown",
   "metadata": {},
   "source": [
    "now we see number of records trimmed down to 5912"
   ]
  },
  {
   "cell_type": "code",
   "execution_count": 13,
   "metadata": {},
   "outputs": [
    {
     "data": {
      "image/png": "[encoded data removed]",
      "text/plain": [
       "<Figure size 432x288 with 1 Axes>"
      ]
     },
     "metadata": {
      "needs_background": "light"
     },
     "output_type": "display_data"
    }
   ],
   "source": [
    "#Checking the distribution plot\n",
    "sns.distplot(df_popular['ratings'])\n",
    "plt.show()"
   ]
  },
  {
   "cell_type": "markdown",
   "metadata": {},
   "source": [
    "The distribuion looks skewed due to more number of 5 star ratings"
   ]
  },
  {
   "cell_type": "markdown",
   "metadata": {},
   "source": [
    "# 2. Build Popularity Recommender model. ( 10 marks)"
   ]
  },
  {
   "cell_type": "markdown",
   "metadata": {},
   "source": [
    "We are taking the previous dataset(pruned) and grouping them by Product id based on mean ratings and sorting\n",
    "them in descending value of top 10"
   ]
  },
  {
   "cell_type": "code",
   "execution_count": 14,
   "metadata": {},
   "outputs": [
    {
     "data": {
      "text/plain": [
       "prod_id\n",
       "B00L26YDA4    5.0\n",
       "B0030BJEUS    5.0\n",
       "B0032FOJOS    5.0\n",
       "B0032ANC8M    5.0\n",
       "B0031U1AT6    5.0\n",
       "B0031RG2JC    5.0\n",
       "B0031AQ302    5.0\n",
       "B00310V8IY    5.0\n",
       "B0030O0Q2U    5.0\n",
       "B0030MITDK    5.0\n",
       "Name: ratings, dtype: float64"
      ]
     },
     "execution_count": 14,
     "metadata": {},
     "output_type": "execute_result"
    }
   ],
   "source": [
    "df_popular.groupby('prod_id').mean()['ratings'].sort_values(ascending=False).head(10)"
   ]
  },
  {
   "cell_type": "code",
   "execution_count": 15,
   "metadata": {},
   "outputs": [
    {
     "data": {
      "text/html": [
       "<div>\n",
       "<style scoped>\n",
       "    .dataframe tbody tr th:only-of-type {\n",
       "        vertical-align: middle;\n",
       "    }\n",
       "\n",
       "    .dataframe tbody tr th {\n",
       "        vertical-align: top;\n",
       "    }\n",
       "\n",
       "    .dataframe thead th {\n",
       "        text-align: right;\n",
       "    }\n",
       "</style>\n",
       "<table border=\"1\" class=\"dataframe\">\n",
       "  <thead>\n",
       "    <tr style=\"text-align: right;\">\n",
       "      <th></th>\n",
       "      <th>user_id</th>\n",
       "      <th>prod_id</th>\n",
       "      <th>ratings</th>\n",
       "    </tr>\n",
       "  </thead>\n",
       "  <tbody>\n",
       "    <tr>\n",
       "      <th>26</th>\n",
       "      <td>A2HX3D3MPPASNS</td>\n",
       "      <td>B004I3VZM2</td>\n",
       "      <td>4.0</td>\n",
       "    </tr>\n",
       "    <tr>\n",
       "      <th>214</th>\n",
       "      <td>AZNUHQSHZHSUE</td>\n",
       "      <td>B000FJEYZI</td>\n",
       "      <td>1.0</td>\n",
       "    </tr>\n",
       "    <tr>\n",
       "      <th>264</th>\n",
       "      <td>A1YEPFLLH42OU1</td>\n",
       "      <td>B00E3W15P0</td>\n",
       "      <td>5.0</td>\n",
       "    </tr>\n",
       "    <tr>\n",
       "      <th>286</th>\n",
       "      <td>A2GYV87WW0DMSN</td>\n",
       "      <td>B0009Y7APU</td>\n",
       "      <td>5.0</td>\n",
       "    </tr>\n",
       "    <tr>\n",
       "      <th>413</th>\n",
       "      <td>A10Y058K7B96C6</td>\n",
       "      <td>B005HSG3VK</td>\n",
       "      <td>5.0</td>\n",
       "    </tr>\n",
       "    <tr>\n",
       "      <th>...</th>\n",
       "      <td>...</td>\n",
       "      <td>...</td>\n",
       "      <td>...</td>\n",
       "    </tr>\n",
       "    <tr>\n",
       "      <th>499755</th>\n",
       "      <td>ADKZOXAOV8EXD</td>\n",
       "      <td>B0076BNKU8</td>\n",
       "      <td>5.0</td>\n",
       "    </tr>\n",
       "    <tr>\n",
       "      <th>499783</th>\n",
       "      <td>A9Y5O2R4D6EH5</td>\n",
       "      <td>B006NNWZSI</td>\n",
       "      <td>5.0</td>\n",
       "    </tr>\n",
       "    <tr>\n",
       "      <th>499873</th>\n",
       "      <td>AR74YY08IP2WE</td>\n",
       "      <td>B0088CJT4U</td>\n",
       "      <td>5.0</td>\n",
       "    </tr>\n",
       "    <tr>\n",
       "      <th>499916</th>\n",
       "      <td>A18S2VGUH9SCV5</td>\n",
       "      <td>B00064C53K</td>\n",
       "      <td>5.0</td>\n",
       "    </tr>\n",
       "    <tr>\n",
       "      <th>499955</th>\n",
       "      <td>A3NNTYXX1O8D61</td>\n",
       "      <td>B0064I1NQ2</td>\n",
       "      <td>3.0</td>\n",
       "    </tr>\n",
       "  </tbody>\n",
       "</table>\n",
       "<p>5912 rows × 3 columns</p>\n",
       "</div>"
      ],
      "text/plain": [
       "               user_id     prod_id  ratings\n",
       "26      A2HX3D3MPPASNS  B004I3VZM2      4.0\n",
       "214      AZNUHQSHZHSUE  B000FJEYZI      1.0\n",
       "264     A1YEPFLLH42OU1  B00E3W15P0      5.0\n",
       "286     A2GYV87WW0DMSN  B0009Y7APU      5.0\n",
       "413     A10Y058K7B96C6  B005HSG3VK      5.0\n",
       "...                ...         ...      ...\n",
       "499755   ADKZOXAOV8EXD  B0076BNKU8      5.0\n",
       "499783   A9Y5O2R4D6EH5  B006NNWZSI      5.0\n",
       "499873   AR74YY08IP2WE  B0088CJT4U      5.0\n",
       "499916  A18S2VGUH9SCV5  B00064C53K      5.0\n",
       "499955  A3NNTYXX1O8D61  B0064I1NQ2      3.0\n",
       "\n",
       "[5912 rows x 3 columns]"
      ]
     },
     "execution_count": 15,
     "metadata": {},
     "output_type": "execute_result"
    }
   ],
   "source": [
    "df_popular"
   ]
  },
  {
   "cell_type": "code",
   "execution_count": 16,
   "metadata": {},
   "outputs": [
    {
     "name": "stdout",
     "output_type": "stream",
     "text": [
      "Most Liked:  prod_id\n",
      "B00L26YDA4    5.0\n",
      "Name: ratings, dtype: float64\n",
      "Least Liked:  prod_id\n",
      "1400501466    1.0\n",
      "Name: ratings, dtype: float64\n"
     ]
    }
   ],
   "source": [
    "#Below are the most and least liked item\n",
    "print(\"Most Liked: \",df_popular.groupby('prod_id')['ratings'].mean().sort_values(ascending=False).head(1))\n",
    "print(\"Least Liked: \",df_popular.groupby('prod_id')['ratings'].mean().sort_values(ascending=True).head(1))"
   ]
  },
  {
   "cell_type": "code",
   "execution_count": 17,
   "metadata": {},
   "outputs": [
    {
     "data": {
      "text/plain": [
       "user_id\n",
       "A3GVXKCTFN3YDN    5.0\n",
       "A1Q9NE8OY1XD5J    5.0\n",
       "A1Z4YY7V0KXPED    5.0\n",
       "A3CEUT263RNUDO    5.0\n",
       "A3CVC8TCHFFDK8    5.0\n",
       "A3D0UM4ZD2CMAW    5.0\n",
       "A3GQY0TFRG0MPZ    5.0\n",
       "A3HR0ZZOFKQ97N    5.0\n",
       "A3HSDV9Y0TV5Z2    5.0\n",
       "A3LDFTSXU3UPBO    5.0\n",
       "Name: ratings, dtype: float64"
      ]
     },
     "execution_count": 17,
     "metadata": {},
     "output_type": "execute_result"
    }
   ],
   "source": [
    "df_popular.groupby('user_id').mean()['ratings'].sort_values(ascending=False).head(10)"
   ]
  },
  {
   "cell_type": "code",
   "execution_count": 18,
   "metadata": {},
   "outputs": [],
   "source": [
    "#Finding the highest average rated product.\n",
    "ratings_mean_count = pd.DataFrame(df_popular.groupby('prod_id')['ratings'].mean())"
   ]
  },
  {
   "cell_type": "code",
   "execution_count": 19,
   "metadata": {},
   "outputs": [
    {
     "data": {
      "text/plain": [
       "prod_id\n",
       "B00L26YDA4    5.0\n",
       "B0030BJEUS    5.0\n",
       "B0032FOJOS    5.0\n",
       "B0032ANC8M    5.0\n",
       "B0031U1AT6    5.0\n",
       "B0031RG2JC    5.0\n",
       "B0031AQ302    5.0\n",
       "B00310V8IY    5.0\n",
       "B0030O0Q2U    5.0\n",
       "B0030MITDK    5.0\n",
       "Name: ratings, dtype: float64"
      ]
     },
     "execution_count": 19,
     "metadata": {},
     "output_type": "execute_result"
    }
   ],
   "source": [
    "ratings_mean_count['ratings'].sort_values(ascending=False).head(10)"
   ]
  },
  {
   "cell_type": "markdown",
   "metadata": {},
   "source": [
    "Above products are the most popular products"
   ]
  },
  {
   "cell_type": "code",
   "execution_count": 20,
   "metadata": {},
   "outputs": [],
   "source": [
    "# Creating a column in the dataframse to records the number of times a product is rated.\n",
    "ratings_mean_count['rating_counts'] = pd.DataFrame(df_popular.groupby('prod_id')['ratings'].count())"
   ]
  },
  {
   "cell_type": "code",
   "execution_count": 21,
   "metadata": {},
   "outputs": [],
   "source": [
    "df_pop=ratings_mean_count.sort_values(by=['ratings','rating_counts'],ascending=False)"
   ]
  },
  {
   "cell_type": "code",
   "execution_count": 22,
   "metadata": {},
   "outputs": [
    {
     "data": {
      "text/html": [
       "<div>\n",
       "<style scoped>\n",
       "    .dataframe tbody tr th:only-of-type {\n",
       "        vertical-align: middle;\n",
       "    }\n",
       "\n",
       "    .dataframe tbody tr th {\n",
       "        vertical-align: top;\n",
       "    }\n",
       "\n",
       "    .dataframe thead th {\n",
       "        text-align: right;\n",
       "    }\n",
       "</style>\n",
       "<table border=\"1\" class=\"dataframe\">\n",
       "  <thead>\n",
       "    <tr style=\"text-align: right;\">\n",
       "      <th></th>\n",
       "      <th>ratings</th>\n",
       "      <th>rating_counts</th>\n",
       "    </tr>\n",
       "    <tr>\n",
       "      <th>prod_id</th>\n",
       "      <th></th>\n",
       "      <th></th>\n",
       "    </tr>\n",
       "  </thead>\n",
       "  <tbody>\n",
       "    <tr>\n",
       "      <th>B003ES5ZUU</th>\n",
       "      <td>5.0</td>\n",
       "      <td>13</td>\n",
       "    </tr>\n",
       "    <tr>\n",
       "      <th>B000QUUFRW</th>\n",
       "      <td>5.0</td>\n",
       "      <td>6</td>\n",
       "    </tr>\n",
       "    <tr>\n",
       "      <th>B00829THVO</th>\n",
       "      <td>5.0</td>\n",
       "      <td>5</td>\n",
       "    </tr>\n",
       "    <tr>\n",
       "      <th>B00005T3G0</th>\n",
       "      <td>5.0</td>\n",
       "      <td>4</td>\n",
       "    </tr>\n",
       "    <tr>\n",
       "      <th>B000S5Q9CA</th>\n",
       "      <td>5.0</td>\n",
       "      <td>4</td>\n",
       "    </tr>\n",
       "    <tr>\n",
       "      <th>B0013DXVYK</th>\n",
       "      <td>5.0</td>\n",
       "      <td>4</td>\n",
       "    </tr>\n",
       "    <tr>\n",
       "      <th>B001XURP7W</th>\n",
       "      <td>5.0</td>\n",
       "      <td>4</td>\n",
       "    </tr>\n",
       "    <tr>\n",
       "      <th>B00267S7XW</th>\n",
       "      <td>5.0</td>\n",
       "      <td>4</td>\n",
       "    </tr>\n",
       "    <tr>\n",
       "      <th>B002RCNX8K</th>\n",
       "      <td>5.0</td>\n",
       "      <td>4</td>\n",
       "    </tr>\n",
       "    <tr>\n",
       "      <th>B003ES5ZSW</th>\n",
       "      <td>5.0</td>\n",
       "      <td>4</td>\n",
       "    </tr>\n",
       "  </tbody>\n",
       "</table>\n",
       "</div>"
      ],
      "text/plain": [
       "            ratings  rating_counts\n",
       "prod_id                           \n",
       "B003ES5ZUU      5.0             13\n",
       "B000QUUFRW      5.0              6\n",
       "B00829THVO      5.0              5\n",
       "B00005T3G0      5.0              4\n",
       "B000S5Q9CA      5.0              4\n",
       "B0013DXVYK      5.0              4\n",
       "B001XURP7W      5.0              4\n",
       "B00267S7XW      5.0              4\n",
       "B002RCNX8K      5.0              4\n",
       "B003ES5ZSW      5.0              4"
      ]
     },
     "execution_count": 22,
     "metadata": {},
     "output_type": "execute_result"
    }
   ],
   "source": [
    "df_pop.head(10)"
   ]
  },
  {
   "cell_type": "code",
   "execution_count": 23,
   "metadata": {},
   "outputs": [
    {
     "data": {
      "text/html": [
       "<div>\n",
       "<style scoped>\n",
       "    .dataframe tbody tr th:only-of-type {\n",
       "        vertical-align: middle;\n",
       "    }\n",
       "\n",
       "    .dataframe tbody tr th {\n",
       "        vertical-align: top;\n",
       "    }\n",
       "\n",
       "    .dataframe thead th {\n",
       "        text-align: right;\n",
       "    }\n",
       "</style>\n",
       "<table border=\"1\" class=\"dataframe\">\n",
       "  <thead>\n",
       "    <tr style=\"text-align: right;\">\n",
       "      <th></th>\n",
       "      <th>ratings</th>\n",
       "      <th>rating_counts</th>\n",
       "    </tr>\n",
       "    <tr>\n",
       "      <th>prod_id</th>\n",
       "      <th></th>\n",
       "      <th></th>\n",
       "    </tr>\n",
       "  </thead>\n",
       "  <tbody>\n",
       "    <tr>\n",
       "      <th>B003ES5ZUU</th>\n",
       "      <td>5.000000</td>\n",
       "      <td>13</td>\n",
       "    </tr>\n",
       "    <tr>\n",
       "      <th>B007WTAJTO</th>\n",
       "      <td>4.923077</td>\n",
       "      <td>13</td>\n",
       "    </tr>\n",
       "    <tr>\n",
       "      <th>B0088CJT4U</th>\n",
       "      <td>4.333333</td>\n",
       "      <td>9</td>\n",
       "    </tr>\n",
       "    <tr>\n",
       "      <th>B005FYNSPK</th>\n",
       "      <td>4.888889</td>\n",
       "      <td>9</td>\n",
       "    </tr>\n",
       "    <tr>\n",
       "      <th>B0079UAT0A</th>\n",
       "      <td>4.857143</td>\n",
       "      <td>7</td>\n",
       "    </tr>\n",
       "    <tr>\n",
       "      <th>B00829TIEK</th>\n",
       "      <td>4.571429</td>\n",
       "      <td>7</td>\n",
       "    </tr>\n",
       "    <tr>\n",
       "      <th>B001TH7GSW</th>\n",
       "      <td>4.857143</td>\n",
       "      <td>7</td>\n",
       "    </tr>\n",
       "    <tr>\n",
       "      <th>B002SZEOLG</th>\n",
       "      <td>3.571429</td>\n",
       "      <td>7</td>\n",
       "    </tr>\n",
       "    <tr>\n",
       "      <th>B00829THK0</th>\n",
       "      <td>4.428571</td>\n",
       "      <td>7</td>\n",
       "    </tr>\n",
       "    <tr>\n",
       "      <th>B000QUUFRW</th>\n",
       "      <td>5.000000</td>\n",
       "      <td>6</td>\n",
       "    </tr>\n",
       "  </tbody>\n",
       "</table>\n",
       "</div>"
      ],
      "text/plain": [
       "             ratings  rating_counts\n",
       "prod_id                            \n",
       "B003ES5ZUU  5.000000             13\n",
       "B007WTAJTO  4.923077             13\n",
       "B0088CJT4U  4.333333              9\n",
       "B005FYNSPK  4.888889              9\n",
       "B0079UAT0A  4.857143              7\n",
       "B00829TIEK  4.571429              7\n",
       "B001TH7GSW  4.857143              7\n",
       "B002SZEOLG  3.571429              7\n",
       "B00829THK0  4.428571              7\n",
       "B000QUUFRW  5.000000              6"
      ]
     },
     "execution_count": 23,
     "metadata": {},
     "output_type": "execute_result"
    }
   ],
   "source": [
    "basic_poplurity_model = df_pop.sort_values(by=['rating_counts'], ascending=False)\n",
    "basic_poplurity_model.head(10)"
   ]
  },
  {
   "cell_type": "markdown",
   "metadata": {},
   "source": [
    "Above is the top 10 product Ids sorted based on the ratings and times rated."
   ]
  },
  {
   "cell_type": "code",
   "execution_count": 24,
   "metadata": {},
   "outputs": [
    {
     "data": {
      "text/plain": [
       "(4971, 2)"
      ]
     },
     "execution_count": 24,
     "metadata": {},
     "output_type": "execute_result"
    }
   ],
   "source": [
    "#Check the shape of new dataframe in which rows must be equal to df_popular['productId'].nunique().\n",
    "ratings_mean_count.shape"
   ]
  },
  {
   "cell_type": "markdown",
   "metadata": {},
   "source": [
    "As the name suggests Popularity based recommendation system works with the trend. It basically uses the items that are highly rated and with most of the ratings."
   ]
  },
  {
   "cell_type": "markdown",
   "metadata": {},
   "source": [
    "\n",
    "# 3. Split the data randomly into a train and test dataset. ( For example, split it in 70/30 ratio) ( 2 marks)"
   ]
  },
  {
   "cell_type": "code",
   "execution_count": 25,
   "metadata": {},
   "outputs": [],
   "source": [
    "reader = Reader(rating_scale=(1,5))"
   ]
  },
  {
   "cell_type": "code",
   "execution_count": 26,
   "metadata": {},
   "outputs": [],
   "source": [
    "data = Dataset.load_from_df(df_popular[['user_id', 'prod_id', 'ratings']], reader)"
   ]
  },
  {
   "cell_type": "code",
   "execution_count": 27,
   "metadata": {},
   "outputs": [],
   "source": [
    "#We are giving a random state of 123 as it was used in classroom example.\n",
    "trainset, testset = train_test_split(data, test_size=0.30, random_state = 123)"
   ]
  },
  {
   "cell_type": "markdown",
   "metadata": {},
   "source": [
    "# 4. Build Collaborative Filtering model. ( 10 marks)"
   ]
  },
  {
   "cell_type": "code",
   "execution_count": 28,
   "metadata": {},
   "outputs": [],
   "source": [
    "Countu=df_popular.groupby('user_id')['ratings'].count()"
   ]
  },
  {
   "cell_type": "code",
   "execution_count": 29,
   "metadata": {},
   "outputs": [
    {
     "name": "stdout",
     "output_type": "stream",
     "text": [
      "The max ratings by a user is 36 with a median of 7.0\n"
     ]
    }
   ],
   "source": [
    "print(\"The max ratings by a user is {} with a median of {}\".format(Countu.max(),Countu.median()))\n"
   ]
  },
  {
   "cell_type": "code",
   "execution_count": 30,
   "metadata": {},
   "outputs": [],
   "source": [
    "Countp=df_popular.groupby('prod_id')['ratings'].count()"
   ]
  },
  {
   "cell_type": "code",
   "execution_count": 31,
   "metadata": {},
   "outputs": [
    {
     "name": "stdout",
     "output_type": "stream",
     "text": [
      "The max ratings for a Product is 13 with a median of 1.0\n"
     ]
    }
   ],
   "source": [
    "print(\"The max ratings for a Product is {} with a median of {}\".format(Countp.max(),Countp.median()))"
   ]
  },
  {
   "cell_type": "code",
   "execution_count": 32,
   "metadata": {},
   "outputs": [],
   "source": [
    "algo = SVD(n_factors=50,biased=False)"
   ]
  },
  {
   "cell_type": "code",
   "execution_count": 33,
   "metadata": {},
   "outputs": [],
   "source": [
    "# Train the algorithm on the trainset, and predict ratings for the testset\n",
    "algo.fit(trainset)\n",
    "pred = algo.test(testset)"
   ]
  },
  {
   "cell_type": "code",
   "execution_count": 34,
   "metadata": {},
   "outputs": [
    {
     "name": "stdout",
     "output_type": "stream",
     "text": [
      "                 uid         iid  r_ui       est  \\\n",
      "0     A3IY316DRNF5F2  B00AQ64KM2   5.0  4.233929   \n",
      "1     A2TKWMX4563NR6  B003ZM17RK   5.0  4.233929   \n",
      "2      ACJT8MUC0LRF0  B003CJTQJW   5.0  1.000000   \n",
      "3      AN1EG21Q0IYPI  B004OCXGAG   5.0  4.233929   \n",
      "4     A18I3164IW4H23  B003ZFZSBI   5.0  4.233929   \n",
      "...              ...         ...   ...       ...   \n",
      "1769  A1V4VVBQBFXRHC  B0000AE6G9   1.0  4.233929   \n",
      "1770  A30X750M8V1XXW  B0000BZL1P   5.0  1.000000   \n",
      "1771  A225G2TFM76GYX  B000X3OOQU   4.0  4.233929   \n",
      "1772  A1PN2U0AWXGVML  B000069AT6   5.0  4.233929   \n",
      "1773   AKSQNMIKOU01H  B005ZLOW8K   4.0  4.233929   \n",
      "\n",
      "                                                details  \n",
      "0     {'was_impossible': True, 'reason': 'User and i...  \n",
      "1     {'was_impossible': True, 'reason': 'User and i...  \n",
      "2                             {'was_impossible': False}  \n",
      "3     {'was_impossible': True, 'reason': 'User and i...  \n",
      "4     {'was_impossible': True, 'reason': 'User and i...  \n",
      "...                                                 ...  \n",
      "1769  {'was_impossible': True, 'reason': 'User and i...  \n",
      "1770                          {'was_impossible': False}  \n",
      "1771  {'was_impossible': True, 'reason': 'User and i...  \n",
      "1772  {'was_impossible': True, 'reason': 'User and i...  \n",
      "1773  {'was_impossible': True, 'reason': 'User and i...  \n",
      "\n",
      "[1774 rows x 5 columns]\n"
     ]
    }
   ],
   "source": [
    "#Checking the output prediction of testset based on traindata\n",
    "print(pd.DataFrame(pred))"
   ]
  },
  {
   "cell_type": "markdown",
   "metadata": {},
   "source": [
    "Collaborative filtering can also be done in 2 ways \n",
    "1.User-User\n",
    "2.Product-Product\n",
    "one is filtering done based on grouping of user id while the other is filtering done based on product id"
   ]
  },
  {
   "cell_type": "code",
   "execution_count": null,
   "metadata": {},
   "outputs": [
    {
     "name": "stdout",
     "output_type": "stream",
     "text": [
      "Estimating biases using als...\n",
      "Computing the pearson_baseline similarity matrix...\n",
      "Done computing similarity matrix.\n"
     ]
    }
   ],
   "source": [
    "# User based collaborative filtering\n",
    "algo = KNNWithMeans(k=50, sim_options={'name': 'pearson_baseline', 'user_based': True})\n",
    "algo.fit(trainset)\n",
    "\n",
    "# run the trained model against the testset\n",
    "test_pred_User = algo.test(testset)\n",
    "test_pred_User"
   ]
  },
  {
   "cell_type": "code",
   "execution_count": null,
   "metadata": {},
   "outputs": [],
   "source": [
    "# Product based collaborative filtering\n",
    "algo_Prod = KNNWithMeans(k=50, sim_options={'name': 'pearson_baseline', 'user_based': False})\n",
    "algo_Prod.fit(trainset)\n",
    "\n",
    "# run the trained model against the testset\n",
    "test_pred_Prod = algo_Prod.test(testset)\n",
    "test_pred_Prod"
   ]
  },
  {
   "cell_type": "markdown",
   "metadata": {},
   "source": [
    "# 5. Evaluate the above model. (Once the model is trained on the training data, it can be used to compute the error (like RMSE) on predictions made on the test data.) You can also use a different method to evaluate the models. ( 5 marks)"
   ]
  },
  {
   "cell_type": "code",
   "execution_count": null,
   "metadata": {},
   "outputs": [],
   "source": [
    "# Then compute RMSE,MAE and FCP(Ratio of concordant pairs used in classification models)\n",
    "print(\"The RMSE is {},MAE is {} and FCP is {}\".format(accuracy.rmse(pred),accuracy.mae(pred),accuracy.fcp(pred)))"
   ]
  },
  {
   "cell_type": "code",
   "execution_count": null,
   "metadata": {},
   "outputs": [],
   "source": [
    "# Then compute RMSE,MAE and FCP(Ratio of concordant pairs used in classification models)\n",
    "print(\"The RMSE is {},MAE is {} and FCP is {}\".format(accuracy.rmse(test_pred_User),accuracy.mae(test_pred_User),accuracy.fcp(test_pred_User)))"
   ]
  },
  {
   "cell_type": "code",
   "execution_count": null,
   "metadata": {},
   "outputs": [],
   "source": [
    "# Then compute RMSE,MAE and FCP(Ratio of concordant pairs used in classification models)\n",
    "print(\"The RMSE is {},MAE is {} and FCP is {}\".format(accuracy.rmse(test_pred_Prod),accuracy.mae(test_pred_Prod),accuracy.fcp(test_pred_Prod)))"
   ]
  },
  {
   "cell_type": "code",
   "execution_count": null,
   "metadata": {},
   "outputs": [],
   "source": [
    "predictions=pd.DataFrame(pred)"
   ]
  },
  {
   "cell_type": "code",
   "execution_count": null,
   "metadata": {},
   "outputs": [],
   "source": [
    "predictions.head()"
   ]
  },
  {
   "cell_type": "code",
   "execution_count": 42,
   "metadata": {},
   "outputs": [
    {
     "name": "stdout",
     "output_type": "stream",
     "text": [
      "Computing the msd similarity matrix...\n",
      "Done computing similarity matrix.\n",
      "Computing the msd similarity matrix...\n",
      "Done computing similarity matrix.\n",
      "Computing the msd similarity matrix...\n",
      "Done computing similarity matrix.\n",
      "Computing the msd similarity matrix...\n",
      "Done computing similarity matrix.\n",
      "Computing the msd similarity matrix...\n",
      "Done computing similarity matrix.\n"
     ]
    },
    {
     "data": {
      "text/html": [
       "<div>\n",
       "<style scoped>\n",
       "    .dataframe tbody tr th:only-of-type {\n",
       "        vertical-align: middle;\n",
       "    }\n",
       "\n",
       "    .dataframe tbody tr th {\n",
       "        vertical-align: top;\n",
       "    }\n",
       "\n",
       "    .dataframe thead th {\n",
       "        text-align: right;\n",
       "    }\n",
       "</style>\n",
       "<table border=\"1\" class=\"dataframe\">\n",
       "  <thead>\n",
       "    <tr style=\"text-align: right;\">\n",
       "      <th></th>\n",
       "      <th>test_rmse</th>\n",
       "      <th>fit_time</th>\n",
       "      <th>test_time</th>\n",
       "    </tr>\n",
       "    <tr>\n",
       "      <th>Algorithm</th>\n",
       "      <th></th>\n",
       "      <th></th>\n",
       "      <th></th>\n",
       "    </tr>\n",
       "  </thead>\n",
       "  <tbody>\n",
       "    <tr>\n",
       "      <th>SVD</th>\n",
       "      <td>1.039295</td>\n",
       "      <td>0.728784</td>\n",
       "      <td>0.020605</td>\n",
       "    </tr>\n",
       "    <tr>\n",
       "      <th>KNNWithMeans</th>\n",
       "      <td>1.077050</td>\n",
       "      <td>0.055012</td>\n",
       "      <td>0.025407</td>\n",
       "    </tr>\n",
       "  </tbody>\n",
       "</table>\n",
       "</div>"
      ],
      "text/plain": [
       "              test_rmse  fit_time  test_time\n",
       "Algorithm                                   \n",
       "SVD            1.039295  0.728784   0.020605\n",
       "KNNWithMeans   1.077050  0.055012   0.025407"
      ]
     },
     "execution_count": 42,
     "metadata": {},
     "output_type": "execute_result"
    }
   ],
   "source": [
    "benchmark = []\n",
    "# Iterate over all algorithms\n",
    "for algorithm in [SVD(), KNNWithMeans(k=20)]:\n",
    "    # Perform cross validation\n",
    "    results = cross_validate(algorithm, data, measures=['RMSE'], cv=5, verbose=False)\n",
    "    \n",
    "    # Get results & append algorithm name\n",
    "    tmp = pd.DataFrame.from_dict(results).mean(axis=0)\n",
    "    tmp = tmp.append(pd.Series([str(algorithm).split(' ')[0].split('.')[-1]], index=['Algorithm']))\n",
    "    benchmark.append(tmp)\n",
    "    \n",
    "pd.DataFrame(benchmark).set_index('Algorithm').sort_values('test_rmse')\n"
   ]
  },
  {
   "cell_type": "markdown",
   "metadata": {},
   "source": [
    "Above we compare the conventional SVD used for collaborative filtering taking more time than KNNwith means,Lower RMSE shows a better fit hence SVD seems to have a lower RMSE and test time.\n"
   ]
  },
  {
   "cell_type": "markdown",
   "metadata": {},
   "source": [
    "# 6. Get top - K ( K = 5) recommendations. Since our goal is to recommend new products to each user based on his/her habits, we will recommend 5 new products. ( 10 marks)"
   ]
  },
  {
   "cell_type": "code",
   "execution_count": 43,
   "metadata": {},
   "outputs": [],
   "source": [
    "from collections import defaultdict\n",
    "\n",
    "def get_top_n(predictions, n=5):\n",
    "    top_n = defaultdict(list)\n",
    "    for uid, iid, r_ui, est, _ in predictions:\n",
    "        top_n[uid].append((iid, est))\n",
    "\n",
    "    # Then sort the predictions for each user and retrieve the k highest ones.\n",
    "    for uid, user_ratings in top_n.items():\n",
    "        user_ratings.sort(key=lambda x: x[1], reverse=True)\n",
    "        top_n[uid] = user_ratings[:n]\n",
    "\n",
    "    return top_n\n"
   ]
  },
  {
   "cell_type": "code",
   "execution_count": 44,
   "metadata": {},
   "outputs": [
    {
     "data": {
      "text/html": [
       "<div>\n",
       "<style scoped>\n",
       "    .dataframe tbody tr th:only-of-type {\n",
       "        vertical-align: middle;\n",
       "    }\n",
       "\n",
       "    .dataframe tbody tr th {\n",
       "        vertical-align: top;\n",
       "    }\n",
       "\n",
       "    .dataframe thead th {\n",
       "        text-align: right;\n",
       "    }\n",
       "</style>\n",
       "<table border=\"1\" class=\"dataframe\">\n",
       "  <thead>\n",
       "    <tr style=\"text-align: right;\">\n",
       "      <th></th>\n",
       "      <th>uid</th>\n",
       "      <th>iid</th>\n",
       "      <th>r_ui</th>\n",
       "      <th>est</th>\n",
       "      <th>details</th>\n",
       "    </tr>\n",
       "  </thead>\n",
       "  <tbody>\n",
       "    <tr>\n",
       "      <th>0</th>\n",
       "      <td>A3IY316DRNF5F2</td>\n",
       "      <td>B00AQ64KM2</td>\n",
       "      <td>5.0</td>\n",
       "      <td>4.233929</td>\n",
       "      <td>{'was_impossible': True, 'reason': 'User and i...</td>\n",
       "    </tr>\n",
       "    <tr>\n",
       "      <th>1</th>\n",
       "      <td>A2TKWMX4563NR6</td>\n",
       "      <td>B003ZM17RK</td>\n",
       "      <td>5.0</td>\n",
       "      <td>4.233929</td>\n",
       "      <td>{'was_impossible': True, 'reason': 'User and i...</td>\n",
       "    </tr>\n",
       "  </tbody>\n",
       "</table>\n",
       "</div>"
      ],
      "text/plain": [
       "              uid         iid  r_ui       est  \\\n",
       "0  A3IY316DRNF5F2  B00AQ64KM2   5.0  4.233929   \n",
       "1  A2TKWMX4563NR6  B003ZM17RK   5.0  4.233929   \n",
       "\n",
       "                                             details  \n",
       "0  {'was_impossible': True, 'reason': 'User and i...  \n",
       "1  {'was_impossible': True, 'reason': 'User and i...  "
      ]
     },
     "execution_count": 44,
     "metadata": {},
     "output_type": "execute_result"
    }
   ],
   "source": [
    "predictions.head(2)"
   ]
  },
  {
   "cell_type": "code",
   "execution_count": 45,
   "metadata": {},
   "outputs": [],
   "source": [
    "top_n = get_top_n(pred, n=5)"
   ]
  },
  {
   "cell_type": "code",
   "execution_count": 46,
   "metadata": {},
   "outputs": [
    {
     "name": "stdout",
     "output_type": "stream",
     "text": [
      "A3IY316DRNF5F2 ['B00AQ64KM2', 'B004IAPSAA', 'B000NDBRKG', 'B009SYZ8OC']\n",
      "A2TKWMX4563NR6 ['B003ZM17RK', 'B001NPEBGU', 'B000QDTJDK']\n",
      "ACJT8MUC0LRF0 ['B00GXJHDHA', 'B003CJTQJW']\n",
      "AN1EG21Q0IYPI ['B004OCXGAG']\n",
      "A18I3164IW4H23 ['B003ZFZSBI', 'B000O9T5IA', 'B000V1IFR8']\n",
      "A3QWNQ2WA7QZYJ ['B00006HYKM', 'B0009HHZ1Q']\n",
      "A2R27MAG4MAQN4 ['B008M5108Q', 'B00BEW8MVC', 'B0036ORCLW']\n",
      "A231WM2Z2JL0U3 ['B00008SB1D', 'B00004SD9Q', 'B00005OMZN', 'B000066JQU', 'B00005AC8J']\n",
      "AYUF7YETYOLNX ['B008RW6QHY', 'B0084Y9V54']\n",
      "A13BX9O5UDBILC ['B002SB8RPO', 'B004N7W4Q4', 'B002SQK2F2', 'B00267S7XW']\n",
      "A1A6UYFNC1L304 ['B004DUMQVY', 'B0071NWYP8']\n",
      "A2S26YGSVXBCFL ['B0031RG2AG']\n",
      "A3CG93783LP0FO ['B003XE3X8Q', 'B00EXK14S0', 'B005HY4U5A', 'B002W7RHOG', 'B000JMJWV2']\n",
      "A1QQA7Y92L4F9R ['B001KX8VES', 'B004D2B6YA', 'B001IT4BWA']\n",
      "A2YNF8D4ADUPD9 ['B000I54FFS', 'B000BFYCUS', 'B001HABRKE']\n",
      "A1ZTR0FR5AW9B4 ['B005Z43V9S', 'B009D79VH4', 'B001J6N11E']\n",
      "A1BITE87QKYF64 ['B001UAGSJQ', 'B00099C2M6', 'B000Y0KQEG']\n",
      "A1EH2S92FHWZRP ['B0029U2YPS', 'B0090Z3QD4']\n",
      "AXYM52DNK6NDF ['B002QAUN2M', 'B003ES5ZUU']\n",
      "A1H98YV5K5BUX0 ['B00004YZLY', 'B005GSNLBQ', 'B000TXZIDM']\n",
      "A23PCEL26412R1 ['B000F7QRTG', 'B005IQRMN4', 'B004MKNJD4', 'B00017LSPI']\n",
      "ADLVFFE4VBT8 ['B0049MOJ2U', 'B001V9LPT4', 'B00HJ4GX10', 'B008CP5R8K', 'B0021AFZBQ']\n",
      "A30X750M8V1XXW ['B007FPIQ0E', 'B001IBMLKM', 'B001UI4EQC', 'B00006B7DA', 'B0000BZL1P']\n",
      "A360VP3RBMJFDL ['B004896ZE4', 'B00A9MXI3A', 'B00BEWF4R2']\n",
      "A1ODOGXEYECQQ8 ['B00JGGUBPI', 'B0009RKL5S', 'B009JBFOZW', 'B006421IRW', 'B002TOJXNU']\n",
      "A195EZSQDW3E21 ['B004FD1D2C', 'B0059GFQPO', 'B004I43MJ0']\n",
      "A3BACUOZV1M0WM ['B000AZ57M6', 'B004HREPCQ', 'B0000DK7AI']\n",
      "A23ONMGKEWDG4M ['B000H7GFWS', 'B002CMAW20', 'B000B69WVG', 'B000I1ZWRC', 'B000HKGK8Y']\n",
      "A215IN14OKAE2T ['B002TUC64W', 'B001EQ0HAW', 'B002JE8PYI', 'B000062VUO']\n",
      "A328S9RN3U5M68 ['B007THCFXM', 'B0082E9K7U', 'B00IRX1NXK']\n",
      "A225G2TFM76GYX ['B004U7UAWM', 'B002I3OZ6W', 'B000X3OOQU', 'B001TUYTZM']\n",
      "A2KZOIOFXXMC1H ['B003RYJ5BQ', 'B00ATWVDIC', 'B001196H3S']\n",
      "A3W4D8XOGLWUN5 ['B0002OZXHO', 'B000ZH98LU']\n",
      "A4WEZJOIZIV4U ['B00009XVCZ', 'B002IRPA2G', 'B00CI3BISU', 'B004UTQRHW', 'B000V9F3AW']\n",
      "A1MEISNED4NP7U ['B004QBUL1C', 'B000V1O1J4', 'B007PLL4CK', 'B001PMG1XW', 'B006B7R9PU']\n",
      "A11QD9H9KTEK45 ['B007ZQ5ZTS', 'B003XM73P2', 'B001PS9E5I']\n",
      "A17V9XL4CWTQ6G ['B005FDXZJU', 'B00HFFDDLG', 'B00009R700']\n",
      "A1KXJCXS6HFRQZ ['B001TOD7ME', 'B002VPDM2K', 'B002KKFP9Y']\n",
      "A1EXGL6L0QQ0M5 ['B001AQYJI2', 'B00ATZJ60Q']\n",
      "A2FRKEXDXDN1KI ['B000EVSI7M', 'B00834SJNA']\n",
      "AWNJAY0M5UI70 ['B000I5KSNQ', 'B007ZWVCOY', 'B002RCNX8K']\n",
      "A3NEAETOSXDBOM ['B003E7W8LU', 'B000067VBL', 'B004ZKH1NA', 'B00873AC28', 'B0000668YX']\n",
      "A368IPE6EW0GZL ['B0016J1EC2', 'B007LGD6HA']\n",
      "AAA0TUKS5VBSA ['B00CIZ2238', 'B00E0HITQ6', 'B003Y3BFBI', 'B006DDT6JO', 'B0036Q7MV0']\n",
      "AR18DH5SL9F73 ['B002YWB47U', 'B003CJQ69A', 'B004GEHFMW', 'B001NJ0D0Y']\n",
      "AGVWTYW0ULXHT ['B008X1BVH4', 'B00D65AJ0C', 'B002O3KVSC', 'B001SJVU6K']\n",
      "A1PSVZBM894R5H ['B00006F2MW']\n",
      "A19XPAWSWDRI3B ['B00556F8BU', 'B004QMA882', 'B000P5AJXI', 'B007R9MK8C', 'B004G6002M']\n",
      "A1FVW47U1G96QV ['B003YT0I4W', 'B003M0R0Y4', 'B001JKIHAU']\n",
      "AG2YXYIQ8TLTA ['B0015EY5RE', 'B001VFUN82', 'B003DZ165W']\n",
      "A33775AIB1A664 ['B000652M6Y']\n",
      "A25C2M3QF9G7OQ ['B00609P9CY', 'B00JKH25DO', 'B001GAOYCS', 'B002MAPRYU']\n",
      "A12DQZKRKTNF5E ['B00CXFJPJC', 'B00I4Z3JEM', 'B00E0GO9FW', 'B006MBP7T0', 'B00DJGPV88']\n",
      "A9Y5O2R4D6EH5 ['B006NNWZSI', 'B0055R0YK4', 'B004K1EOAC', 'B001AYW91I', 'B00004WCG6']\n",
      "A2WLNSZ9U0T1S3 ['B006SVV6HG', 'B001P80EZW', 'B003B48UQ8', 'B001U0O5QO', 'B001TRM4K2']\n",
      "A1E1LEVQ9VQNK ['B0035HOW0E', 'B000EOSHGQ', 'B00BQ0RCQ8', 'B00GYFGCOI', 'B005EJH6RW']\n",
      "A6FIAB28IS79 ['B001SER47O', 'B00005ALB1', 'B0000TQ154', 'B004J3ZV62', 'B000L475L2']\n",
      "A3PJJTAKISAFI9 ['B005NAFEYE', 'B00009R94U', 'B004QVPGXK']\n",
      "AZIMOGTBT3LPP ['B00429NVQA', 'B005PAIVII']\n",
      "A18U9BQQQ0U8F5 ['B00AZ9T264', 'B00EIQTKAS', 'B00E055H5O']\n",
      "A3FOSLM5G1BO63 ['B008ULPA2O', 'B00BUER7EC', 'B007ULT41S', 'B008X9Z7N0', 'B008X9Z9S8']\n",
      "A19XMHRB3G4DIR ['B0013PSOT0', 'B000VVXNZW', 'B001UVEZFE', 'B004OHX6P6', 'B002SZEOLG']\n",
      "A1KOOC0V1UWJJQ ['B001QWW0D6', 'B000N35A0Y', 'B004V94F5C']\n",
      "A3M82NO6OU1FHS ['B004X8EO6Q']\n",
      "A3HSDV9Y0TV5Z2 ['B000I991LM']\n",
      "A1IBKN1GXYJ3K4 ['B004ZP74JG', 'B00007M5Y8', 'B00006LHF0']\n",
      "A10Y058K7B96C6 ['B0088PPFP4', 'B005FDXMJS', 'B003BWWLWY', 'B00JC5Y6WM']\n",
      "A3EZEP0FX5BC1P ['B00EJ8CQSS', 'B00B5Q79D4', 'B001O92JFK', 'B0028Y4CWI']\n",
      "A1VGXHHR08G044 ['B00B7X2OTY', 'B005BV0FHG']\n",
      "A2RGWCT6K2C3EZ ['B00761ZRG8', 'B004MTE7EK']\n",
      "A3N4I2KRSMACW8 ['B00BXF7I9M', 'B001X017G2', 'B005CG2ATQ']\n",
      "A1RPTVW5VEOSI ['B00005NVBF', 'B0043VE28I', 'B0030C54EM', 'B000K5VD2E']\n",
      "A1143YEAZYMYHJ ['B00E965ZKQ', 'B00894YP00', 'B0024R4B5C', 'B00005T3GK', 'B005X9XVNQ']\n",
      "A680RUE1FDO8B ['B000AA2IC8', 'B001AALJ9U', 'B0098G9LHU', 'B0016D9URO', 'B002K8M9HC']\n",
      "A145B8OHVNNFAJ ['B00EVWXAEQ', 'B00829TIA4']\n",
      "A1CPRP3VFJRS1R ['B0001CVBRI', 'B0002I7288', 'B0001YFZ46']\n",
      "A359MYLPLEOF7N ['B000H0K8VY', 'B004AFEYU8']\n",
      "A2XIOXRRYX0KZY ['B00FG38L16', 'B00CGY4JBY', 'B0035JCI6M', 'B00EMHVVLY', 'B007P4VOWC']\n",
      "A3ROWBJW70FJF ['B004Q0T0LU', 'B000ARFND2', 'B002MMY4WY']\n",
      "A143LJ4G2OPP7T ['B001DW8J5C', 'B008BMWPKW', 'B006EKIQYM']\n",
      "AZ515FFZ7I2P7 ['B0007X7W6K', 'B007ABAQI8', 'B009YE461C']\n",
      "A3NNTYXX1O8D61 ['B003C1AO2I', 'B0071BTMTG']\n",
      "AGILRZOT49R0V ['B0030CNHLY', 'B001TH7T2U', 'B002S53LJ2', 'B001TH7GSW', 'B006W8U2MU']\n",
      "A1N5FSCYN4796F ['B0006FS2E0', 'B007RB164E', 'B005WKKIGO', 'B005USRBVI']\n",
      "AR1NP84PU84D4 ['B004286VMW', 'B002W6Z1L8', 'B007P4YAPK']\n",
      "A3GX0FAMEXV6FB ['B005B3VO24', 'B00006B92A']\n",
      "A3GQY0TFRG0MPZ ['B005L90Q0O', 'B003V42O6K', 'B000B9RI14', 'B00FOU3KYE']\n",
      "A24P4E3RJ6AX94 ['B003VYH1UE', 'B00IWGJFGE', 'B001E1Y5O6']\n",
      "A17BUUBOU0598B ['B009NE5YC8', 'B000VXKBZ0', 'B001IYS1QM', 'B000EPJL1A', 'B001DJ9GOS']\n",
      "A38KK0SZYEH5UD ['B000AMLXHW', 'B00FY3T9DW', 'B0013A1XDY', 'B0034XIM82']\n",
      "A2GMZZ6TDYOHY7 ['B006WXK874', 'B001MSZBNA']\n",
      "A1MJMYLRTZ76ZX ['B0007TC38Q', 'B00008K4BD', 'B000GABVOS', 'B00GYI88TW']\n",
      "AQIJ3ZEEVCIKU ['B0091F8EZ8', 'B001CIREXA']\n",
      "A3OA4DV4L81N1D ['B005LT1XP6', 'B008EFF8BY', 'B00DIEQ3E2', 'B006O1T9NS', 'B000W3QLLW']\n",
      "ASCBJEPXTOU0V ['B00DY3J8VM', 'B001N87XVW']\n",
      "A1QVFHPY8418HC ['B001S0RUFY', 'B000IV413S', 'B0007MXZB2', 'B009A6CZYY', 'B00902SFC4']\n",
      "A1Q98ZMHZXOYWI ['B007M50PTM', 'B009GF6F9U', 'B0002MQGOK']\n",
      "A2SL5IW096Z2BL ['B00076RJV0']\n",
      "A1SFPA80X7TRBR ['B005E2YEPQ', 'B000U5TUWE']\n",
      "AYB4ELCS5AM8P ['B00ACP3OOM', 'B001N6W5GC', 'B000BQ7GW8', 'B00G4V0QSK']\n",
      "A2G563AC1HME2R ['B000U39Y9K', 'B000V0GXR8', 'B00BT7RAPG']\n",
      "AT28RL25Q2OLK ['B001HAER88', 'B000N29X08', 'B000KZ70JE']\n",
      "A30JPZ9TZ7I61U ['B007BYLLNI', 'B004728Q12', 'B004SBBD1C', 'B008X9ZBVI']\n",
      "A2VALCFTOWFYXZ ['B003L14YFC', 'B004Q7LGZG', 'B00JXPP9RW', 'B003L18RZU']\n",
      "AR64CEBJWBICU ['B000K2NVZY', 'B0001M3612']\n",
      "A1L64KDYO5BOJA ['B0036AZA6A', 'B0015C4Y0Y', 'B003NRHAH8']\n",
      "A36A1ZYZH8568P ['B004Y3C3VI', 'B00CF5OHZ2']\n",
      "A4U27URFECK1U ['B0056C7SWK', 'B00EHBPF6W', 'B00HSQAIQU']\n",
      "A1PI8VBCXXSGC7 ['B0082DIZO0', 'B004286VMW']\n",
      "A2JOPUWVV0XQJ3 ['B001LT2OAS', 'B00IFZLH4A']\n",
      "AGATRDOFW48DK ['B000GPMJ7Q']\n",
      "A17HMM1M7T9PJ1 ['B004M8ST5Y', 'B005KTIX50', 'B004Q3R9B0']\n",
      "A3UXW18DP4WSD6 ['B0045HG53K', 'B000IJY8DS']\n",
      "AT09WGFUM934H ['B001VL572I', 'B0090IA3AU', 'B00E3RHS6A', 'B00A4ZXE40']\n",
      "A1F7YU6O5RU432 ['B003VAK16O', 'B00HUDZ8MU', 'B002IO2UM2', 'B000R9AAJA']\n",
      "A2SPV96SGOEO2 ['B002SNCOGA', 'B003ZUXVQM']\n",
      "A30AH4DU1TR8Y4 ['B0099J8BZE']\n",
      "A2NOW4U7W3F7RI ['B00H6XDT7K', 'B004W6RLO6', 'B00FLKW0JI', 'B00G02YZ2Q', 'B0097BEF0O']\n",
      "A5JLAU2ARJ0BO ['B004MSQZUU', 'B000095SB4', 'B000B8UOTS', 'B00068E1ME', 'B0001FV35U']\n",
      "A21VM9WVF8EOSJ ['B000LBVFFC', 'B003QKBVYK', 'B001207YMY', 'B0075Z2SMG']\n",
      "A3QU3O79AGNWCY ['B000V4PZCI']\n",
      "A19ZM9NAFLVW3B ['B007ZZ6OW6', 'B002FCNP3A']\n",
      "A74UT8IQCM0I2 ['B00378KMG4', 'B0060B7NCG', 'B000092TT0']\n",
      "A19W47CXJJP1MI ['B005M1777G', 'B000092TS9', 'B00ATE7SZM', 'B0044UHMOO', 'B005FYNSPK']\n",
      "A3OXHLG6DIBRW8 ['B00ADM79N6', 'B005Z63LWS', 'B0034XJNHQ', 'B000V4TMWC', 'B005PUZOYM']\n",
      "A3IOQ7NVVLAUEE ['B002ZIT22C', 'B000HVHYJW', 'B005Z1QJH2']\n",
      "A2ZRMCRLDSUX6R ['B002KMIZIU']\n",
      "A2H23FQ7QR9DYV ['B000063TJY', 'B006QF22HM', 'B004T9RR6I']\n",
      "A37IRE9GZ0CZ7I ['B000JE7GPY', 'B004O7WF12']\n",
      "ADKZOXAOV8EXD ['B003Q0BPC8', 'B0076BNKU8', 'B0099XGZXA', 'B0017H4G0A']\n",
      "A3I9Q7TS5FQY0W ['B00HJX1ZKK']\n",
      "AOEDWQLH2WKKW ['B001TANZ0W', 'B00C0NWAPS', 'B007F7G6WW', 'B00EVIBN26']\n",
      "A3AYSYSLHU26U9 ['B003UVCSZ6', 'B00AVWKUXE', 'B002XVUTPK', 'B001TOD7ME']\n",
      "A32G54YHK6OGO4 ['B009LRR5AQ', 'B004BLK24S', 'B00BGGDVOO']\n",
      "A9LNWA25IM2DX ['B0042X93AY', 'B002VPE1XY']\n",
      "A1WJ3P43SZUNDM ['B0051778S4', 'B00465XLWO']\n",
      "A3N4VTNFPMTHEF ['B001GAPHOC', 'B00116SLYY', 'B00JP12170']\n",
      "A2L42QEWR77PKZ ['B0049AVWAO', 'B004I4RBXI', 'B00CD8ADKO']\n",
      "A7EJERNB7IK3Z ['B000L3X6Y8', 'B001E6ZQ08', 'B0001IM95U', 'B000M3ILF6']\n",
      "AW8UBYMNJ894V ['B0027JLIVM', 'B008PTTMGQ', 'B00GSK46D8', 'B000N99BBC', 'B000A6PPOK']\n",
      "A3MUSWDCTZINQZ ['B008HK3SSG', 'B00DQZO0R0', 'B008H9BXMK']\n",
      "A1U5IJHJK84S54 ['B00COJVGC6', 'B001O0DQXI']\n",
      "AEJAGHLC675A7 ['B00000DM9M', 'B004ETQHV4', 'B0079R8KO0', 'B005IGVXJS', 'B009UNGYHG']\n",
      "A27M75LRSJ788H ['B0048O33P8', 'B000NO6WOQ', 'B005FYNSPK']\n",
      "AFR9GYKAHM37U ['B005KP473Q', 'B0096239G0']\n",
      "A2X06FP2PQ6EK0 ['B00EB1ZZSG', 'B004UR160C']\n",
      "ANW6EGY12V5XS ['B007SZ0EOW', 'B005WKFT18', 'B0030O0Q2U', 'B00E055H5O']\n",
      "A3ER6ARJ23CIN8 ['B00006BT1G', 'B0006J1EUA', 'B002M3SHXA', 'B000VIT0G6', 'B0002GRUH8']\n",
      "AAQ9NJ480N9W5 ['B00407ZNE2', 'B0001VGFKW']\n",
      "A2EW01G2LNJN06 ['B000EW8074', 'B003ES61EE']\n",
      "A3JU990UTN5RQP ['B000FQWGZG', 'B007WF1IMK', 'B002VPE1Q6', 'B002TLTGM6']\n",
      "A34BZM6S9L7QI4 ['B00EFYJYDQ', 'B00AQ2BRXQ', 'B00IX6D0EQ', 'B0097CXWUW', 'B0079UAT0A']\n",
      "A2JXS1JII6SAUD ['B0001XGR2G', 'B0073VB3KA', 'B003WM5J0O']\n",
      "A26877IWJGISYM ['B001DCE672', 'B005ONOX2E', 'B004UKRRD4']\n",
      "A1MZL91Z44RN06 ['B000E9VKVU', 'B005EJLFXS', 'B000V1O1L2']\n",
      "AC6Z7DP1Z5GHD ['B0059H616G', 'B0000XK46M', 'B002VPE1QG']\n",
      "AQYVHOTU427MC ['B008UGMLWQ']\n",
      "A3ULWD7PM5OFKU ['B000IZE8XM', 'B000K8PH8C', 'B008I646WG', 'B000EHUE7I']\n",
      "A3V0YR50F1XSKP ['B004XIT4NO', 'B001M0JAVC', 'B003YVJJ5Y']\n",
      "A1URXSRV6WDHVY ['B000067SQQ']\n",
      "A11R5VW7IM6ISQ ['B0000BZL28', 'B0001FTVE0']\n",
      "A2ARDVMUGDFED6 ['B000A5LP5Y', 'B000PTFDYO', 'B003ES61EE']\n",
      "A38RMU1Y5TDP9 ['B0056XEJJO', 'B00HTPHK5W']\n",
      "A2XRMQA6PJ5ZJ8 ['B0013A1XDE', 'B003D8GAA0', 'B004XANKWI', 'B008AF383S', 'B00005I9Q0']\n",
      "AFXTKAO0CB354 ['B0083Y1YVE', 'B002ZKTCUM']\n",
      "A1HBI9BBQIG1NH ['B0044DEEJC', 'B00F9ZQQ8Q']\n",
      "A1VLVWTLV3LVHR ['B0018CWZUW', 'B0000A602S', 'B005GFXH6S']\n",
      "A33HIV8RXRDM88 ['B003ZUXXWO', 'B002VPE1X4', 'B002TLT6U8', 'B00BR3ZYIW', 'B0079TOI8K']\n",
      "ABSYIF0ONC2AF ['B003QKBVYK', 'B0018BQR84', 'B005H1WYXI']\n",
      "A3CW0ZLUO5X2B1 ['B001L7UL50', 'B00H7F9IVI', 'B007RMAS1K', 'B004UHY8SO', 'B001O94GNS']\n",
      "A27Y4OEC9MD9PA ['B000JNQSIQ', 'B003Y30334']\n",
      "AT6CZDCP4TRGA ['B0047741BG', 'B000222YSM', 'B00009PUM7', 'B00113V748']\n",
      "A3FEJ8H2VTN0OJ ['B000IEO964', 'B008RJZQSW', 'B004Y02R1W', 'B001TH7GUA', 'B005DKZTNK']\n",
      "A32LX4XJ2LU740 ['B00GJFP0IM', 'B00DG0SH7E', 'B001MTE32Y', 'B005KFONIU', 'B003XU6H8I']\n",
      "A2NSXY5L42ZUGO ['B00005ABA5']\n",
      "A23WPWLYT3P1CZ ['B001R0EVMA']\n",
      "A2BX8DDQGCCG2J ['B004TF3Q0I', 'B008D9HZ62']\n",
      "A28ZNQA9A9VZNQ ['B003NNS09O', 'B00AI2HY72', 'B005OCZSB0']\n",
      "A3J2YU2D9BH2J7 ['B00AVZO9A6', 'B004AB3GJM', 'B003ES5ZUU']\n",
      "A3LGT6UZL99IW1 ['B000CSGJCS', 'B00009R94Q', 'B002U5MKLK', 'B00F3F0EIU', 'B003AM8S3G']\n",
      "A20DZX38KRBIT8 ['B0000AZW8X', 'B0016OJXGQ', 'B001IOHAVO', 'B000VZCEU8', 'B004R6LTNK']\n",
      "AETQIN7OH0RL9 ['B000E65HXA', 'B000QUUFRW']\n",
      "A15T9G38F589KM ['B004TS2AOS', 'B003VAK16O']\n",
      "AMS2CPERWN7JV ['B000GAUZFO']\n",
      "A2V5M5EJPOD2IU ['B00009W3BW', 'B002OL2NT4', 'B009HQCAPQ', 'B00829THK0']\n",
      "A2BLFCOPSMBOZ9 ['B000EW2XQ8', 'B004UAKCS6']\n",
      "A1NIZ4UELGSCVV ['B00070QQ1K', 'B0019OZ3OO']\n",
      "AIJQU979J6UFY ['B000W8PJVU', 'B003554BP2', 'B00009KO0D']\n",
      "A1UQUDT2Q0YENM ['B001FR8POU', 'B003RRYAXQ']\n",
      "A1Z4YY7V0KXPED ['B004AQM4EU', 'B00009R6UI', 'B0049WBZEK']\n",
      "A2LB4FLRZG6CUV ['B0058M5R62', 'B003XIJ3MW']\n",
      "AX7317G153T8W ['B000RZTDZ6', 'B000RQHAUA']\n",
      "A2SXL0NDPTP9X9 ['B00000JI4F']\n",
      "A1C82BC5GNABOA ['B00009R9CF', 'B000OEP3F4']\n",
      "A2VWE5SGNDS8HW ['B001OI2YNS']\n",
      "ARXU3FESTWMJJ ['B002IC0YLS', 'B003GR6IUK', 'B00FRMAOIO', 'B00176TEGM']\n",
      "A34DQINHT6NYJU ['B00DOWCQB2', 'B0079TOEQQ']\n",
      "A2PICNZWHEINQC ['B00573NBP6', 'B003QSG0HK', 'B003ES5ZUU', 'B002VPE1QG']\n",
      "ABXANRX4GPYRZ ['B000A4AWMC', 'B000ZLSWJ0', 'B001GVIUMW']\n",
      "A1KLZY9NL0AKMV ['B00166EUI0']\n",
      "A3HR0ZZOFKQ97N ['B0054IPKQ2']\n",
      "A2NYK9KWFMJV4Y ['B00I9H9B7Y', 'B0000608R3', 'B000E1WDS2', 'B00ISFNSBW', 'B00JUI6SV8']\n",
      "A2UQIQUOAB47OT ['B00008IOWR', 'B00004SB92', 'B004R6WWK4']\n",
      "AWZR0O65DL2Q ['B0000ALX5R', 'B004EUM2LW', 'B00366WLZ2', 'B00IEEWAMA', 'B001T9NUJE']\n",
      "A2B7BUH8834Y6M ['B002K4512Q', 'B002C7481G', 'B002NEGTTW', 'B00IUICOHG', 'B0079TOEQQ']\n",
      "A3F3B6HY9RJI04 ['B001FA1NZA', 'B00EYW9DSU', 'B0001M2FZK', 'B00EAR8S76']\n",
      "A3SU7JSTPH9CC9 ['B0034WR71G', 'B000EM8GDW', 'B00G7PPM1Y']\n",
      "ABIVKBMSIPEDY ['B007R9CTE2', 'B0062MXHCS', 'B004SKBIH2']\n",
      "AYNAH993VDECT ['B0007TLJU4', 'B0038KN114']\n",
      "ARTA78TP6H73D ['B00JJWHCNS', 'B00JTYYV0I', 'B008OEHV6U']\n",
      "A1RDHBBZE1NPS3 ['B004F09CVO', 'B003ES5ZQE']\n",
      "A3LWC833HQIG7J ['B004SKBJP8', 'B00001P4ZH']\n",
      "A3J029KBNG5MNP ['B00D695GS8', 'B00BUL5A8K', 'B00832NCWU']\n",
      "AHD3NZHDUZ5I6 ['B000WJ9J8S', 'B001402CHY']\n",
      "A2X78O6G89CB30 ['B004N623WK', 'B003UAT800', 'B0096PVLL2', 'B004M8SWBU']\n",
      "A3LDFTSXU3UPBO ['B001CGHH98', 'B008D6KZHQ', 'B00A1D8YSG']\n",
      "A2VC48WIMY6L6E ['B0063705PE']\n",
      "A2V1J3JT5OOZFO ['B001L5SN70', 'B00GTGETFG', 'B006GWO5WK', 'B0011Z2402']\n",
      "A1H6SBO7R007I8 ['B006K552SE', 'B002QQ7TLY', 'B0061HMRA2', 'B00829TIA4']\n",
      "A1B6SIX2I161O9 ['B0039UUPFS']\n",
      "A3INN916E4VION ['B002VNJPBO', 'B0006GCCO0']\n",
      "A36K2N527TXXJN ['B00FDLDCD8', 'B007X3DAMM', 'B00IGU7FS6', 'B003VAHYXW', 'B00B8KWMKW']\n",
      "A4IL0CLL27Q33 ['B00F4RASK6', 'B004TKTOWC']\n",
      "A2EYVLDGH8OJZB ['B005OL2ID2', 'B00FOILCZK']\n",
      "A2J8DE8R94ZB02 ['B0009JQROK', 'B001E0RZ3U']\n",
      "A1IMK99FD7RPOL ['B00G5ZROEY', 'B000092YPR', 'B007NMTHK2']\n",
      "A2SYAQXJGRY3XE ['B00DHGZKLS', 'B00CQ838VM']\n",
      "A1INE33UQ1B4Q3 ['B003P2UMR6', 'B001HSOFI2']\n",
      "AH79X9T2G9XSI ['B001B1Z7ZU', 'B002AJMHMI']\n",
      "A19RGDJPNZ7NZ ['B000WVAW6O', 'B00BDRSCKY', 'B00EYW9DSU', 'B00B30N7AQ']\n",
      "A3077MQTAKOVFZ ['B006NQWTMW', 'B001XURP7W']\n",
      "A1W415JP5WEAJK ['B00DN27H58', 'B005ELV3HE', 'B003UE52ME', 'B00G4UQ6U8']\n",
      "A3T7V207KRDE2O ['B004P6NU8O', 'B001G9WAF2', 'B002OGMNT4', 'B001G1ZPV6', 'B000L47AHG']\n",
      "ADZF3QDGSZE7K ['B002IUOAFQ', 'B0011NVMO8', 'B003TLAMV4']\n",
      "ABH9D1TEOJ56E ['B000088USR', 'B00008IHU2']\n",
      "A1LHMSY3Q46PJS ['B009I9N1V4', 'B000TKHGL2']\n",
      "A3UW23DBF2KHWC ['B00IDTHJAY', 'B00KFD0O0I', 'B00B55I9MA']\n",
      "A29KJ32G75L7G9 ['B007URKIGC', 'B00814B2XQ', 'B008YQAFH0', 'B00834SJNA']\n",
      "A3EZFFPVS34AMO ['B004OJE3HY', 'B0029NFOE8', 'B001MS2UJ8', 'B003NTZFLO']\n",
      "A1YEPFLLH42OU1 ['B006QTEV22', 'B0056TYRMW', 'B002HWWDAY', 'B00G024X32', 'B00E3W15P0']\n",
      "A3DCX8SNP4K3ON ['B008FSEBDG', 'B007Q7EG7I', 'B001NJ0D0Y']\n",
      "A1B4MIXYVIKMU2 ['B00IF4OATU']\n",
      "A11U7BJTYTZL5V ['B00006JPEA']\n",
      "A3IPSECQAUAT8V ['B00005U244', 'B0007TJ5AK']\n",
      "A506HOOCVL8GW ['B0000AQI9E', 'B006GJTKRI', 'B000CRUBAA']\n",
      "A2LEIANN1UZTHP ['B000067SG2', 'B0002Q7VO0']\n",
      "A3H4S6YO9VNGDZ ['B00BQ8RFAI', 'B00E3I2H10', 'B00A1A1LQ6']\n",
      "A5A4374R8I7NB ['B005CQ0RTQ', 'B001ELK2NY', 'B00494XZ1Y', 'B0058D35RY']\n",
      "A3SQCTNYQFVBWM ['B003Y2KCEK', 'B0055WL75K']\n",
      "A3CJ7MHAS9IMAM ['B002LITT56', 'B0088CJT4U']\n",
      "AEWYUPCNDV7HY ['B00008VSLA', 'B001TZUS98', 'B001D9IWIY', 'B003BEDQRG', 'B00119T6NQ']\n",
      "A1VOFY3QFT9WCG ['B006EKIQYM']\n",
      "A2VAD79S4A06DD ['B00006I53D']\n",
      "A2R6RA8FRBS608 ['B000BN94F8', 'B000V4OSMQ', 'B00006IAAN', 'B000V4URJ4']\n",
      "A1N2JL8ROQWQNW ['B00GTGETFG']\n",
      "AYOTEJ617O60K ['B002DZN1A6']\n",
      "A1VQHH85U7PX0 ['B000L47AHG', 'B001M4XCHQ', 'B008HK3SSG', 'B00CXADBRY', 'B00007EDM8']\n",
      "A3EXWV8FNSSFL6 ['B005PUZOYM', 'B00HDW9MU2', 'B00DVEJA7G', 'B0036OR924']\n",
      "A253IOATGMT2UP ['B005J5TZQ6', 'B007RKTZ16', 'B0000BZL1P', 'B003ES5ZUU']\n",
      "A2XHOLOLKGV1FE ['B001F8Q0DM']\n",
      "A1F1A0QQP2XVH5 ['B00BOHNYU6', 'B007W0XHK6', 'B0013FK9U2', 'B002TMRZOQ', 'B005GTNZUM']\n",
      "A2OBDNQ5ZYU1L8 ['B004286VMW', 'B002S0OBV4', 'B002SG7MEG']\n",
      "A20OBCQWBKCGZT ['B00CIRLJPI', 'B0044WWLW0']\n",
      "A27H0T39U3FZB5 ['B001E1Y5O6', 'B0046RE60I']\n",
      "AE68I04K30VHS ['B00004TVSP', 'B005TOU804', 'B0064TINNM', 'B001GNC7PG']\n",
      "A1TT5YBX2MXKQX ['B005712C2Q', 'B002GCR04Y', 'B0038LILTK']\n",
      "A1X3ESYZ79H59E ['B00ATM1M92', 'B0079UAT0A', 'B007Q8GOHM']\n",
      "A3RW42FT2Y2SYU ['B000ARAPQW', 'B0012IYLMM']\n",
      "A3L6L5O89JTX2T ['B000AQF4JG', 'B000NEKOGI', 'B00328HR7G', 'B003D8QPT6', 'B0012W7HQK']\n",
      "A1BLDIJ8VJKUZZ ['B005CLPP8E', 'B003M0NURK']\n",
      "A15XI2BEGGFEOW ['B0002CE0XY', 'B0032JPDFI']\n",
      "A2NN1KIYEM2SKS ['B00BQ4F9ZA', 'B000MX48VM']\n",
      "AN81JUYW2SL24 ['B000VK5BMQ', 'B0032UWTGI', 'B0002CPBWI']\n",
      "A25UZ7MA72SMKM ['B00IF0JAYE', 'B00DIHVL2I', 'B003VAM32E']\n",
      "A1E3OB6QMBKRYZ ['B0067XG1T8', 'B00472DQTO', 'B00KHA5G6G']\n",
      "A3NG7X4APIV649 ['B00GM6LX0M', 'B0002VAQR4', 'B000IM9542']\n",
      "A1YUB4V9OHM4YI ['B0009GU4GA']\n",
      "A26BDXG9KVH7SU ['B007FPIQZ4']\n",
      "A1V3TRGWOMA8LC ['B009WG6LLA']\n",
      "AW63IRQWH10GF ['B000YQA0BO']\n",
      "APRNS6DB68LLV ['B00GK3KIE4', 'B00EDCF0MY']\n",
      "A3E3EQ39FZTZEK ['B00689HXI4', 'B000EPJLGK', 'B001P5HL3S']\n",
      "A1T1YSCDW0PD25 ['B000XSBGP2', 'B00CO8TBOW', 'B00DVFLJDS']\n",
      "A240FRPD4MEXND ['B00191QN6O', 'B007CRWQ74', 'B0063705PE']\n",
      "A3REK3OFONWB1Q ['B00410CI9G', 'B0007KK2S8', 'B001KBZ3SC', 'B0000BZL5A', 'B005ZLOW8K']\n",
      "AXL5GGD8MPGWE ['B008295PTC', 'B005CG2ATQ', 'B005KN1YV6']\n",
      "A294BKN913UOGP ['B007VXRKFM', 'B001CZ9ZEE', 'B0015DYMVO']\n",
      "A3B20R4ZAH0Y2Y ['B001CZ9ZEE', 'B0000665P5', 'B00CB2F65O', 'B00F93IOR4', 'B00E98O7GC']\n",
      "A353U0L2HAMSHV ['B00DQZTJKI', 'B003NVMDWG']\n",
      "A2HMF8ZR67BNZS ['B004COCMRO', 'B000MX48VM', 'B001MLZKAQ', 'B004NQHR12', 'B000F6OJOC']\n",
      "A3J8A5L5AF5TX9 ['B004OF9XGO', 'B00005T3G0', 'B006EKIQYM']\n",
      "A1Z3SFPOSZUVN0 ['B005IWZYA6', 'B0050YG3CU']\n",
      "A2HRHF83I3NDGT ['B009MPBFNU', 'B00762YNMG']\n",
      "A2IXK5LB4Y0NYV ['B003FVU49I', 'B0091N044Y']\n",
      "A2ZR5RLHI1INB1 ['B005KMBG1U', 'B00006JN3G']\n",
      "AT8V3JOZD3KWK ['B0031U1AT6', 'B0053ESKUK', 'B004BB4VVI', 'B003GSLU3E']\n",
      "A2PSD2R9A1CXG7 ['B0096YOQRY', 'B00006I53S']\n",
      "A22CW0ZHY3NJH8 ['B000BKBHJM', 'B003I4FESI']\n",
      "A3LDPF5FMB782Z ['B001F50UHM', 'B00995IGBM', 'B000QUUFRW']\n",
      "AFICF7DKHTQ87 ['B009F7IBZK', 'B00G6CLN3Y']\n",
      "A38QEATH3NODFM ['B000204SWE', 'B0001H4BMU']\n",
      "A19UTUEBWKIZFT ['B00752R89C', 'B0075SUK14', 'B00829THVO', 'B0079UAT0A']\n",
      "A18HE80910BTZI ['B007KZQMO6', 'B00D29Z1TQ', 'B0007UQNKO', 'B00E7LOXTW', 'B000I98ZQY']\n",
      "A3S3R88HA0HZG3 ['B00IZGWTVO', 'B007H3L24Q', 'B006WVR9GY']\n",
      "AGXMC3ITWZASE ['B00178TVPY', 'B003554BP2']\n",
      "ATS2855497V0I ['B004HO58SO', 'B002Y5XQYG']\n",
      "A1VHCO8RQFIGQJ ['B000YHGAMG', 'B007I5JT4S']\n",
      "A26LD9FQHTM8ZH ['B001OMH1JQ', 'B008X9Z9ZQ', 'B007KFLV9W']\n",
      "A3Q4TYJVAM4IRM ['B000FITKK8', 'B003EKT9NM']\n",
      "A3QNQQKJTL76H0 ['B00B46XUQU', 'B00829TIA4']\n",
      "A2L4ZGN7GZJ95T ['B004I8U2D0', 'B00E87BT8S', 'B00EZJQVG4', 'B00C28L51G']\n",
      "A2ZY49IDE6TY5I ['B008HFCI50', 'B0013FRNKG', 'B007Q8GOHM']\n",
      "A3GVXKCTFN3YDN ['B00CB2F65O', 'B004JK8BDK', 'B002CTQ9XO', 'B002FU5QLQ']\n",
      "AKT8TGIT6VVZ5 ['B000EHT5EQ', 'B000JE5CQO', 'B0009HN57E']\n",
      "AROQO2VDODT7 ['B002K3Z3DO', 'B00017LSPI']\n",
      "AVJ6URCLNJQD2 ['B003DZJQQI', 'B003FVJYF8', 'B00IL3C8HG']\n",
      "A2WO1AMGXON0QH ['B0002ER2NM', 'B000FEHJEG', 'B006QMWG08', 'B001EGY4JW']\n",
      "A9ELHLPXF7JKD ['B004YIZXEC']\n",
      "A12DLJESJKM1OQ ['B00000JXV3', 'B00006RSJ1', 'B00008OE6I', 'B00006L9CT', 'B00006IIU1']\n",
      "A365PBEOWM7EI7 ['B003WJ2H2K', 'B001Q6X0S6', 'B0074EUKDM']\n",
      "AUCISQA1YXX86 ['B001G5ZTN6', 'B0002INMK0']\n",
      "AJ2ICMO59T3H ['B000NNNWN6']\n",
      "A10O7THJ2O20AG ['B009924TSY', 'B003ZBZ64Q']\n",
      "A1OGCPMSIVK7G4 ['B00104XCVO']\n",
      "A15CL28ALB7MTZ ['B002L6HDQA', 'B001BN6G8A', 'B000F2P0ZS', 'B00DR8LA60']\n",
      "A20H1M28WLI9J2 ['B0038KN114', 'B00D12BQMA', 'B00C7EPU0M', 'B005XU3OPK', 'B0002L5R78']\n",
      "A10ZFE6YE0UHW8 ['B005AY01RI']\n",
      "A213J54E63SYOP ['B00CUKHN0S', 'B00BJPRI1Y', 'B007HIIB4K']\n",
      "A2UOHALGF2X77Q ['B001E71H5K', 'B0028Y4CWI', 'B005GOINEK']\n",
      "A1ZCSSCAGBCD49 ['B007BY0MIS', 'B00829TIEK']\n",
      "AG35JCCQWDRCS ['B0087N46XY', 'B00009R898', 'B000MIN5NY', 'B00011CS2G']\n",
      "A35HNL2VEDK9Z1 ['B0032FOJOS', 'B00005LE75']\n",
      "A3T4OHEAHOJ700 ['B004OPV1JG', 'B0007M3PK8', 'B008MF48J4']\n",
      "A10X9ME6R66JDX ['B0048606UG', 'B00483WRZ6']\n",
      "A2ZMOCCPJWCIV5 ['B00DP1WYD2', 'B007KPIMXK', 'B003DSCU72']\n",
      "A10NMELR4KX0J6 ['B003NR57BY', 'B00AHBKW2S']\n",
      "ALUV2YKWZENKK ['B0097CZHAU', 'B00F6E8OUS']\n",
      "A12R3YGEHW7D8G ['B003A4GZUC', 'B004GYVPGE', 'B00A3U8AHW', 'B001FA1O18', 'B00017LSPI']\n",
      "A3NOBH42C7UI5M ['B000EWHH7I', 'B001GIPSAM']\n",
      "A3BKNXX8QFIXIV ['B00DR0B7Y8', 'B00AYT62HC', 'B002L6GEKG', 'B003VAGXWK']\n",
      "AAR7CEPXYJA0T ['B001FO2VDO', 'B00171BFXC', 'B00347L6I6']\n",
      "A2HX3D3MPPASNS ['B008Z0F3FY', 'B008V5NVU2', 'B005CLPP84', 'B006MRAVFE']\n",
      "A29IP2N2DSBH3T ['B0079M711S', 'B001KBZ3QO']\n",
      "A2QRXQPHDMFCQV ['B001RB1QWW', 'B003FGB8FM']\n",
      "A11I1I9QLMAM1A ['B000RZDBM2', 'B008ULPAT2']\n",
      "A2QI2NTDTMK2FV ['B001NEJO2W', 'B00170H0O6', 'B004CLYEDC']\n",
      "A1VFX417XDNWIU ['B00EKJQLSC', 'B004SCRC98']\n",
      "ALQ4USPEQ9L5N ['B00G4FCHH4', 'B003ULNA3K']\n",
      "A2DQGD2M6EZRS6 ['B004FT48GY', 'B001TH7GSW']\n",
      "AOEAD7DPLZE53 ['B0081O7ZPU', 'B001D06BZY', 'B000855034', 'B000QJ6KXQ', 'B00DYH6HEY']\n",
      "A2D1LPEUCTNT8X ['B008AGP5H4', 'B004460DIA', 'B00B8O6IIK']\n",
      "A1EKSETIBS9ETQ ['B005C31F2M', 'B003UOIMAS', 'B00AEEDRFM']\n",
      "A100WO06OQR8BQ ['B004HYG9W8', 'B000WKY2MK']\n",
      "AZBXKUH4AIW3X ['B00009X3RO', 'B00316263Y']\n",
      "A1J75JJ0Q2OEJN ['B001UE8IMC']\n",
      "A2KYRPDKVBI2R4 ['B0002AHT0M', 'B002PHMGN0', 'B001OORMVQ']\n",
      "A21IBMN32YHKUF ['B00000JMO3', 'B000HGSL9Y']\n",
      "A1XCCTKNN1RZMZ ['B000Q85WRC']\n",
      "A149RNR5RH19YY ['B00006B9HP', 'B003HOXQFM']\n",
      "A2WB7LZ595CR50 ['B001TZWNF0', 'B004J1G2MQ', 'B0092ML8QW', 'B00EMHVVLY']\n",
      "A28UMA3GW9L124 ['B000I98YWO', 'B00EVIBN8U', 'B0001XGQCC', 'B0011Z9VX0', 'B000N99BBC']\n",
      "A1P0JSFW184ZXJ ['B0035JD0DW', 'B004CLYEA0', 'B0025ZH43O']\n",
      "AG7EF0SVBQOUX ['B0032DLHWW', 'B00A36BMQC', 'B001NIICNU']\n",
      "AVPNQUVZWMDSX ['B004N6259G', 'B00C39KBVE']\n",
      "AE88D7OM7YU99 ['B00FR6VL50', 'B00EOE4G4E']\n",
      "A2T3S3VTW65VO5 ['B006R3231I', 'B001Q9ERAI', 'B00008AYBE']\n",
      "A18UVHCREY2RE2 ['B003B3P2CY']\n",
      "A1CMD08Z49PGKQ ['B00FZ03CD2', 'B009289F02', 'B006DKEUAM', 'B0096TK65A', 'B00DJNCS6O']\n",
      "A3V7D0LH8L7BG0 ['B001PS9UKW', 'B008H9BXMK']\n",
      "A2TCCKKIPJCM0L ['B00D8IC2IY', 'B0000AI0NC']\n",
      "A1X1CEGHTHMBL1 ['B00GLG2D4I']\n",
      "A2NB2E5DXE319Z ['B001RQ2YF0', 'B0015YTYKM', 'B007FPIO2E', 'B002KETE24']\n",
      "A29HTPTAH1VKXL ['B00400OSJ0', 'B001V2P8HQ']\n",
      "A23GFTVIETX7DS ['B005GM1Q1O', 'B004T9RR6I']\n",
      "A19HKRB4LU5YR ['B00HNJWSH4', 'B003EN2VJI']\n",
      "A2AY4YUOX2N1BQ ['B001EH8FZA', 'B002LM38YK', 'B003TO51LC', 'B00212O4IE', 'B0027YYMQA']\n",
      "A1T3A9M7WSR48A ['B002GU5XKE', 'B0015DPJCA', 'B000FCN9UG']\n",
      "A18U49406IPPIJ ['B0084Y47SK']\n",
      "A3R4794K2RVU1S ['B001F51G16']\n",
      "A2Y739CRM15WDL ['B000XB4P8Y']\n",
      "A2BZ16RKE13PKV ['B000EBKS3O', 'B00ARB5FLQ', 'B006LW0W5Y']\n",
      "A38NHXL5257E3B ['B00871SR68', 'B003SGCO3E', 'B007KZQM8W']\n",
      "A2P8384ORUDZJ7 ['B00GXDG9G2', 'B000B9RI14', 'B00AVTMPOE']\n",
      "ACSX5AIZE3MJ9 ['B002GXIT6Q', 'B008R39DZK', 'B000EN4CVQ']\n",
      "A10PEXB6XAQ5XF ['B008OHRJ32', 'B009X01C64', 'B009NUK6S4']\n",
      "ACHTDPEQYSEQL ['B000CH3IIW']\n",
      "A5MCDQ60DWUEV ['B002ZIMEMW']\n",
      "A64LEAZ2QF8L2 ['B002N44W64', 'B001G5ZTZO', 'B008Y2SPH6']\n",
      "A1C0SOX7DPXY65 ['B000ZJZ7OA', 'B00FJWKYYG']\n",
      "A2BYV7S1QP2YIG ['B00C20KWP4']\n",
      "A5KMMY627T3W ['B000HGIWN4', 'B000F8XGJO', 'B005A0B3MO']\n",
      "A3OXHEV3U8YOAZ ['B003ZTKFEE', 'B001U5YZ4G']\n",
      "A1F9Z42CFF9IAY ['B0036OR924', 'B000M6XKEK', 'B001IKEX8G', 'B002E9HBGG', 'B004TJ6JH6']\n",
      "A34UZMZ043704I ['B004ALI5KC']\n",
      "A20DDH4NT6Q1E8 ['B00480OTHI']\n",
      "A3MQ15651KGVLJ ['B0089KDD5C']\n",
      "AZAC8O310IK4E ['B000FFLWLQ', 'B00746LVOM', 'B004DYQRME']\n",
      "ASJSX783R5HTZ ['B0081TXIXI', 'B0000BZL1P']\n",
      "A26EQ8U96JA92T ['B002VUCCVW', 'B003OC6LWM']\n",
      "AG8YP2XTC5X1I ['B00ENSKUUK']\n",
      "A3TNM3C9ENUCFW ['B005D5M136', 'B009OZ2SQQ']\n",
      "A39137LW12KK7B ['B00E87E1ME']\n",
      "AOWF9T81XMX2S ['B00E3W15P0']\n",
      "A3IMALU0RM8UT9 ['B00HFFDDLG', 'B00AHMO8G8', 'B00DVFLJDS']\n",
      "A2503LT8PZIHAD ['B008DWCRQW', 'B00BOHNYTW']\n",
      "A18S2VGUH9SCV5 ['B0096239G0', 'B0054JE706', 'B008ULPD0S']\n",
      "A11IXJ8M1JO296 ['B000SOQ6KQ']\n",
      "A32LR27V9CW2IA ['B0042A8CW2', 'B004357WL8', 'B004K1EOCA']\n",
      "A3D0UM4ZD2CMAW ['B004R9PCM6', 'B003O520JC', 'B000VOE466']\n",
      "A3A4ZAIBQWKOZS ['B002MY8ENM', 'B00HFFDDLG', 'B006OM75I8', 'B003XE3X8Q', 'B00G57BN1M']\n",
      "A2W0GY64CJSV5D ['B00KCAPAKI']\n",
      "A26S0R5B6D0BP9 ['B001HA0KZ2', 'B002DPUUKK']\n",
      "A30XZK10EZN9V4 ['B00568KKOW', 'B00009R97B', 'B003Y2ILES', 'B006MBP7T0']\n",
      "A3EGYYIIFP568L ['B0034V5RBE', 'B0098VWMOE']\n",
      "A10ZBR6O8S8OCY ['B002VPE1XY', 'B000PD29HO']\n",
      "AZHGPE0NPPQVT ['B005PAINXQ', 'B006TAEH7W']\n",
      "A25WJCAP606YMP ['B000CCTGAQ']\n",
      "AY6A8KPYCE6B0 ['B004Z0KPUG', 'B0058D8D3K', 'B001TOD7N8', 'B004XYJKHS']\n",
      "A2DG63DN704LOI ['B008P8ESDO', 'B00B7XC6PQ']\n",
      "A1AWL9JASMG904 ['B007BDJ81Q', 'B006GWO5WK']\n",
      "A3SMD3T0QTN109 ['B000UF3FT8']\n",
      "A22RY8N8CNDF3A ['B00F5UEARE']\n",
      "A1YVO5V1SO18DZ ['B00004VX3T']\n",
      "A2MY9VXHZYAHUZ ['B007H3L24Q', 'B002YXMPPO', 'B00001P4ZH']\n",
      "A2294LS59GC5K7 ['B003DTLV8K', 'B000VZS2EU', 'B006W8U2MU']\n",
      "A278V4RQOW79GG ['B001PLCKUG', 'B0013YJ012', 'B0002L5R78']\n",
      "A6VPK7X53QNAQ ['B0011ZK6PC', 'B0079UAT0A', 'B001FA1O0O']\n",
      "A1PL7QILVQV3IF ['B000B8IHDS']\n",
      "A3TAS1AG6FMBQW ['B003GTSHY8', 'B00APUQPHW']\n",
      "A33PVCHCQ2BTN0 ['B002TMRZOQ', 'B006U1YUZE', 'B0041R8ODI', 'B002Y6CJJ8', 'B0097CXWUW']\n",
      "A3QNDSQJFA360M ['B000WXH1Z2', 'B008BMWPKW']\n",
      "A259MPG6SOL02P ['B004PKGL0Y', 'B003OINA0W', 'B004CCS266', 'B00005UK8V', 'B0011CZ8SA']\n",
      "A3KNGMX2RVQG91 ['B00A66XB54']\n",
      "A203OCQQ12MAVT ['B0013LQD7Y', 'B003B1ASV6', 'B0000511T7', 'B000YB862E']\n",
      "A3S9DOTT4Z8JF9 ['B000N53TDM', 'B0002J28NQ']\n",
      "A1V4VVBQBFXRHC ['B0001XGQTA', 'B003DKAGZS', 'B0000AE6G9']\n",
      "A33YZNZIRA3H97 ['B0009HN57O']\n",
      "A1G650TTTHEAL5 ['B00AJG3NK4', 'B00ENZRS76']\n",
      "A13WOT3RSXKRD5 ['B00AQDG96K', 'B001J0K9RO', 'B00E4LGY88', 'B00004TS6W']\n",
      "A3RGHO0Q938FRS ['B0072ZQGIG', 'B00EB7UIO6']\n",
      "A1PN2U0AWXGVML ['B00139JBU2', 'B003M0NT1M', 'B000069AT6']\n",
      "A34IWBVNW1JHUO ['B00C452XFO', 'B00E055H5O']\n",
      "A32JCI4AK2JTTG ['B009DKBBJ2', 'B004686HAO', 'B001TUZCZ8', 'B003L62T7W', 'B000WQ21SQ']\n",
      "A1WKQ94M45D8MG ['B003BLQHN4', 'B005QCDY50']\n",
      "AVFB9B931P1CJ ['B004LVMCMS', 'B001EYU3LM', 'B000JLUBMM']\n",
      "A14JBDSWKPKTZA ['B001F7HLRC', 'B002KQ5KVG', 'B00FLZ2F5W']\n",
      "A3DWO5RJDA430F ['B000R3BQHQ', 'B00AWZFJ22', 'B008EMLOE2', 'B00004ZCA0']\n",
      "AI8EMB0HUC6Z5 ['B0007Z13XG', 'B00GV4UHDO', 'B00263D7A4']\n",
      "AGOH8N902URMW ['B00BBXTUA6', 'B008B14TQ6', 'B000WGB3XK', 'B00JR6GCZA', 'B007FPIQ72']\n",
      "A2IQF161DYA68V ['B008G9V60K', 'B008KEPWMY']\n",
      "A8X8D4BUY5DFU ['B0049P6OTI']\n",
      "A2TBLWQX0EQHGV ['B009VV56TY', 'B007US42TU', 'B009NHAEXE']\n",
      "ALDAF4VVLFRHP ['B0032O6S70', 'B004R7A9NU', 'B000HEW0KW', 'B004CLYEH8']\n",
      "A3BVN2QBNPBHCR ['B00CO1HUGU', 'B000WXSO76', 'B003ELOSIW']\n",
      "AQM0K7MBBT4AY ['B00BFO14W8', 'B00D2LR76E']\n",
      "A3K91X9X2ARDOK ['B008E18PDG']\n",
      "A16HXVNPU5TCGE ['B00BWF5U0M', 'B0010ZHK20', 'B00162YZXE']\n",
      "ATXRV6Z3N08ZX ['B000EA0EDO', 'B0031RGKXU', 'B000P76KXY', 'B001PKUUE0']\n",
      "A1JJOV69MAU2J2 ['B0007VMROE', 'B00004TDN0', 'B00004TDMX']\n",
      "AWPODHOB4GFWL ['B00EVWX8R0', 'B000NDZ0Q8', 'B00A81ICCE', 'B000092OWG', 'B001TH7GSW']\n",
      "A15QYHQH80W30L ['B00419V4L0', 'B004E9SGO0', 'B0014Z5XMK', 'B002ZCXJZE', 'B001HX44A6']\n",
      "AWW5AOW8G0YBA ['B0002J6M6A', 'B004BDORM4', 'B001VMAY98']\n",
      "A3NHUQ33CFH3VM ['B00F705VHU', 'B002FCND0K']\n",
      "ABQWMANK4AR63 ['B001CE5LNY', 'B004RORMF6']\n",
      "AWH2AY17ZU7W2 ['B00CD1FB26', 'B00435PI3W']\n",
      "A2OL5WLCNZVD9K ['B005TDWY4I']\n",
      "A30J7WQV0ZNRXG ['B00AWRPIWQ', 'B008OHNZI0']\n",
      "A20951I210L0IB ['B003VAHYNC', 'B002OOWB3O']\n",
      "AONUCJBC85BL ['B00171MWU2']\n",
      "A31BD4RXCON7QO ['B002X8GEIO', 'B001N3FDEG']\n",
      "AMVXR3NPL0GWX ['B0029ZA49Q', 'B0002Y5WXO', 'B003TLSXMO']\n",
      "A1XXMNLOLKNO0I ['B00GBLO0DU', 'B008NF8BKK', 'B00508ZURU', 'B0035JT1DA']\n",
      "A2W9GX82SLKROQ ['B00GMG3E1S', 'B0019M7WCW', 'B00009R6UJ']\n",
      "A1BPPZINVQ2CE6 ['B00005U21D', 'B0002KVQBA']\n",
      "A2JE071UW97J2A ['B008H0AGEA', 'B00007E7JU']\n",
      "A17O9AHKHK66AI ['B00EVWX8R0', 'B001Q3LU22']\n",
      "A383XURHVF8ON6 ['B00CD8XDOC', 'B005MI8NQ8']\n",
      "A2AX2UGB167J31 ['B004XXMUCQ', 'B002NVC1DS', 'B000Q9UFKU']\n",
      "A17UNMURMLX0ZE ['B007GR44PM', 'B00EJ8CQSS']\n",
      "AZNUHQSHZHSUE ['B000VNJD18', 'B009A6CZYO', 'B002QEBMAK']\n",
      "A28TWWUAWFVCTR ['B0025KXUS2', 'B001T0HFNA']\n",
      "A3EX8ZFNVDHGPM ['B000ELE4Q6', '9985511476', 'B007PJ4P4G']\n",
      "A2Y3A341VDK37H ['B00GTGETFG', 'B0081W7S5Y']\n",
      "A1OMXVXXP07F05 ['B000FVVKQM']\n",
      "A2LLSFQO8O8XNW ['B002HSXXMA', 'B0000DK2ZM']\n",
      "A1UQBFCERIP7VJ ['B006WVR9GY', 'B00IEFUB02', 'B00GO4GMAI']\n",
      "A2GKMXRLI7KLFP ['B003GJL5U6', 'B006OSXJFU']\n",
      "A1C5TCCR2IGKBU ['B004TJ6JH6', 'B002YKU2E8']\n",
      "A197T2N6RU7K56 ['B000VE4MM2', 'B0046TJG1U', 'B005CLPP84', 'B004NY9UV4']\n",
      "A2DKQQIZ793AV5 ['B00IIUAM2K']\n",
      "A3775OP5VTX5ON ['B001Q3MA80', 'B00542NV32', 'B000WOIFO2']\n",
      "A328GLDSDNFYII ['B002L3S5GA']\n",
      "A1D9V11QUHXENQ ['B00E60NO94', 'B005SEZR0G']\n",
      "A2IFGGXG3YV3Y6 ['B004KM4AQY', 'B003ZUXX4W', 'B00JIJUC0M', 'B00DQZRKY0']\n",
      "AHIK7BUXFRMT8 ['B003C2YOE6', 'B006IC4YZQ']\n",
      "AL42PIIG5DXYD ['B000NMFCIA']\n",
      "A4UGMKUSX9XHI ['B001SER48S', 'B0065V44B4', 'B003XIJ3MW', 'B0002YE6EU']\n",
      "A2ALRZ0ENQLYY5 ['B005EOWBHC']\n",
      "A1XE3M22N91451 ['B0057GNDBA', 'B001MSU1HG']\n",
      "A3LKN9GND01EWJ ['B00KHA5G6G', 'B001IWOBLI']\n",
      "A2F7CSE6KT7NI4 ['B0040723AE']\n",
      "A1NMM0RDRF6R84 ['B004MC3ON2']\n",
      "AMKNPIDFLRFMP ['B001D9IWIY', 'B0036WT3RU', 'B004BDOT7C']\n",
      "A3PDWA32BAMB2Y ['B0037MA9X6', 'B003XY6HYS']\n",
      "A17RFKCYS69M3Y ['B000J2V9OA']\n",
      "A20G074MWH9U7O ['B003U7SR0U', 'B002TLT10I', 'B004285MF4', 'B0081G3XEU']\n",
      "A3CEUT263RNUDO ['B000OEP3F4']\n",
      "A2I6GN7OHB9JKF ['B003XZSZWO', 'B0007RXDDM']\n",
      "A2UWPPU5GZLMQZ ['B0099XGZXA']\n",
      "A2RN2AO4BE6F4K ['B0001GRTK2']\n",
      "A3AP2MA7YIWA4F ['B000BF3A88', 'B007P4VOWC']\n",
      "A1SB9BNNGKNX2Z ['B003FST9JC']\n",
      "A1NRMTQ5SZPZA ['B002WE4HE2']\n",
      "A344HKYO36KSMS ['B0050W1Z3E', 'B001F7AP1Q', 'B000WU2FGK', 'B00006L4XC']\n",
      "A1NDYTRD1PGI3V ['B009Z7HN0Y']\n",
      "A1CYTBE7LLUQ8F ['B000EPHS6A', 'B0062IPIPQ']\n",
      "A20NJHXCDTDS0J ['B00607JNIM', 'B00FJRS5BA', 'B0095VPB0E']\n",
      "A3V2EZ6MA32FF6 ['B00BT8XX9C', 'B005A0B7CA', 'B00267S7XW']\n",
      "A2TN0U8173HM7A ['B0098F5W0Q', 'B004H38OU4', 'B005CT56F8']\n",
      "A2G2QNKDL1Y6AC ['B00006IS9M']\n",
      "A1N3EH28S4DI8L ['B003Y2KC7W', 'B002NO7PWC']\n",
      "A22S7D0LP8GRDH ['B007PY3ZPG', 'B000WEI0S8']\n",
      "A28KI92RSY1Y11 ['B00HPMCO14', 'B004XJMLGA']\n",
      "AFNG8O2DXRCUV ['B0037KLEWS', 'B001TH7GUU']\n",
      "A34C9AFFZOI45T ['B002V1HYM8', 'B000I1YU5C']\n",
      "A1FDSZISWIXH1A ['B0063705PE']\n",
      "A1ZVFCPHCWFV71 ['B004UKRRD4', 'B00EWEHIE6']\n",
      "AEL6CQNQXONBX ['B00G500AE0', 'B00E98O7GC']\n",
      "AQ2FC1DLKVD8H ['B008HMETBE', 'B00JTU88Y2', 'B002MAPSQM']\n",
      "A1BBYSMT9YCODI ['B00BE68UZ6']\n",
      "A1PS4OYWUB0VX ['B007R5YDYA']\n",
      "A1I96OYAUJ3HQE ['B004FP57FO', 'B001TSSOQY']\n",
      "A2KOV8XWZOZ0FQ ['B00008ZPEA']\n",
      "AFJ6ZVBQG4LRK ['B009IKCFRE', 'B0001NNLHK']\n",
      "A1U7LS93I03MFW ['B007PTCFFW', 'B009NUK6S4']\n",
      "A2XOGLJ3V3X7DR ['B0030BZ7HM', 'B00812NRWM', 'B0007OWN9K', 'B002YIG9AQ', 'B008CP5R8K']\n",
      "A1VTCSCH8FFC76 ['B003D3NDCS']\n",
      "A34CSXOGVYF94S ['B00FDLAGLO', 'B0079TOEQQ', 'B00CJRZ31S', 'B0082E9K7U']\n",
      "A3CVC8TCHFFDK8 ['B008PWUPVY']\n",
      "ABDR6IJ93HFIO ['B00E60PZFK', 'B008H50IUM', 'B004GF8TIK', 'B00H5J4YKG']\n",
      "AOCBGDKF09QLU ['B001VZ1W5U']\n",
      "A3PD8JD9L4WEII ['B001GXFVPE', 'B000GR3XYM', 'B00BOHNYTW']\n",
      "A6J8D9V5S9MBE ['B002K8H7XS']\n",
      "A1DB8VHLLVX9X1 ['B00428N9N6']\n",
      "ARBKYIVNYWK3C ['B0011F19CG', 'B00IQ92L4K', 'B005HN5BV8', 'B005B1032I']\n",
      "A1Y6QK1II793JE ['B008Q7HUR0']\n",
      "A3QUDXLOJTKEP9 ['B000EIDARS', 'B006ZBWV0K']\n",
      "AW6A4PPENVZY3 ['B000N4WRGI', 'B0038W0K2K', 'B0056TYRMW']\n",
      "A2VODABWSVHV8E ['B000JE5CKA', 'B000TG4BA0', 'B003XM9774']\n",
      "A250AXLRBVYKB4 ['B001H5T7LK', 'B000IE5XIC', 'B009VV56TY', 'B001P9KF14']\n",
      "A1FF2PLA84KNAE ['B007FFKUW6', 'B000EHCYBC']\n",
      "A1EVV74UQYVKRY ['B00A3YDPWS', 'B007IVZX6K', 'B004AK154Q']\n",
      "A3D822N1K2IAQD ['B005X4Q12E', 'B00E98O7GC', 'B002SZEOLG']\n",
      "A3V5F050GVZ56Q ['B00F409OJY', 'B0052SCU8U']\n",
      "A3S027EIPAXGVV ['B004P8AF30']\n",
      "A11T807LX2EF00 ['B000J5LA9Q', 'B0012GQZZU']\n",
      "A3FEGTOLCWXSV4 ['B0021L9C0A', 'B00408GUNY']\n",
      "A6TBR6L2D4XKC ['B002WE0QN8', 'B0061HLYHY']\n",
      "A2GYV87WW0DMSN ['B0009Y7APU', 'B004MKNJ8E']\n",
      "AA91O96C1Z18W ['B00A8DYLN6']\n",
      "A1E6YJH0YZYFU5 ['B006ITJHVA']\n",
      "A1NJHKPHD4YWZV ['B0001Y0OY2', 'B00HODL7ZI']\n",
      "ABGEKJZI8W2WN ['B00009R6KK', 'B00ISGCAJM']\n",
      "A2ULZRSHXS3HL7 ['B003YCOL7Y', 'B00CEB5QU2', 'B008JIDPMK']\n",
      "A21LDIFT02EMXX ['B00943P9FA', 'B003O1UYHG']\n",
      "A1BVE2ZIBKJ7YI ['B000W5RBQE', 'B002NPCK1W', 'B000ONDRDU']\n",
      "A1EZMU02XNK3DA ['B001QVN2NE']\n",
      "A2JP9E1H0SF392 ['B000TG4BA0', 'B004CLYJ0K']\n",
      "A1LD5SE8IZ1H70 ['B003C1AO2I']\n"
     ]
    },
    {
     "name": "stdout",
     "output_type": "stream",
     "text": [
      "A25PKF8V3Q4IOL ['B00CY9PWKI', 'B00CHH0JF0']\n",
      "A32O5FZH994CNY ['B00DBCJKPK', 'B000LFZ6OE']\n",
      "A2WW57XX2UVLM6 ['B002G1YPH0', 'B00E87E1OM', 'B001M4HXB2']\n",
      "ARQ4HTA950LU9 ['B0040RWN0O']\n",
      "AOKS5JEGN6G ['B00APV9X16', 'B000VWKSFE', 'B0025VKUQG']\n",
      "A17W0GMB0YY83M ['B005FYNSPK']\n",
      "A28N2AWOVO2PB ['B00DTPYQBM', 'B003ES547O', 'B0076POAI0', 'B0088CJT4U']\n",
      "A2VQLV2GUC4H8J ['B0039SM0AS', 'B000A6QVE8', 'B003SALO6S']\n",
      "A370XYLIZCSK1Y ['B002Q0WN48', 'B00BBD7NFU']\n",
      "A8I7ZSX0J2BUA ['B002K42W4Q', 'B003Y54NPQ', 'B002WE6D44']\n",
      "A3NGABXDIB0POU ['B0058UUR6E']\n",
      "A35W3JQYP0M655 ['B00G500AE0', 'B0071CVTAK', 'B00E362W9O']\n",
      "A1435P5AMCPB3X ['B0001WOSJQ', 'B000GIQR0S']\n",
      "A21INUA35HX4XQ ['B0053ORUS8']\n",
      "A3NCIN6TNL0MGA ['B0014T7W8Y']\n",
      "A6VXZ1EEPRTLV ['B002VFFA5M', 'B001LJG102', 'B005IA843W']\n",
      "AX05DBU8IRUWY ['B000J1H4VI', 'B00C57P2BI', 'B00A1EQ950']\n",
      "A37QUQPYFMR9Y9 ['B000OL3QTW']\n",
      "ANYC38I00IRVK ['B0057UAB2K', 'B003MX4D0U']\n",
      "A19QKBWRI072AC ['B00CSFCYFY']\n",
      "AR1T36GLLAFFX ['B0065VKQ34', 'B0017UCTX8']\n",
      "A14OQ67LM79KW3 ['B002MCZJ78']\n",
      "A3F9CMU8KNAY1M ['B006WHPQCC']\n",
      "A2P07C09N1Z2GX ['B0000514G8', 'B0006TIEZS']\n",
      "A3VVMIMMTYQV5F ['B001DK1ZVO', 'B000Y1AFCS', 'B002DYJ0U2', 'B00008ZPED']\n",
      "A33CHNOME6EIS3 ['B0058DOWH6']\n",
      "A2J8T58Z4X15IO ['B003XF0ELO']\n",
      "A1U4GOVZWL8ZTL ['B0040HEF2I']\n",
      "A2X3L31KCXBHCL ['B004FPZ3GM', 'B004T9RR6I', 'B005IHAIJ8']\n",
      "A2QNS95WGN35G9 ['B002BA596W', 'B003IT6Z6I', 'B003ES5ZUU']\n",
      "A1XX9RG82WGSY6 ['B0098FKHA6']\n",
      "A1N03A4M6T4BCI ['B00DKAWM80']\n",
      "A1Z7U9K6X3FEOU ['B002WP2QGM', 'B00604L9BO']\n",
      "AJ605H12TR6M4 ['B0000CBBNP']\n",
      "A3H4A1QB7J8M1K ['B008YQAFMK']\n",
      "A19X4BF861LQST ['B0046LU4N2', 'B001R4BBL0']\n",
      "A2L36AGL8CKY3D ['B0015EA3NO']\n",
      "ADKGE078JK8K7 ['B00DCKROBI']\n",
      "AMO1MLSIJSQOF ['B000EVV6TY']\n",
      "A1BT6TL7UCIC5Y ['B00E40QPX8', 'B00B7Y7M1S']\n",
      "AZMY6E8B52L2T ['B00EE7EXVW']\n",
      "A30O3IPR46PS44 ['B003M349VS', 'B004T9RR4A']\n",
      "A365UM4Y0R8WKV ['B001C3X5OC']\n",
      "A1KKE6VX8VPWZK ['B001QVLD8A']\n",
      "A1QOK9LU90ACF7 ['B000BNUDXK']\n",
      "A1RL1OTV8IJMVD ['B00C8OT7FK', 'B0018KTCIM', 'B005KSQHLS', 'B004YIZWYI']\n",
      "A32QOZWIKQDNZX ['B00065HLSI']\n",
      "A100UD67AHFODS ['B009IBXECS', 'B0060US0AQ']\n",
      "A3U41ZL33SS92P ['B00FQ1NO9W', 'B00F0DD0I6']\n",
      "AEGO6A1AFDTAV ['B001196MG0']\n",
      "A11YOTONCPRQ9S ['B00385TJBK', 'B005FYNSPK']\n",
      "AD73VMNYB8XVX ['B00HXIYIE6']\n",
      "A3PI78CAC2YGDP ['B004GF8TIK', 'B000H7VCVW']\n",
      "A54S9CIUV5VNB ['B00840353W', 'B004GF8TIK']\n",
      "A31N0XY2UTB25C ['B000BX1XGQ']\n",
      "AYLLSFYS3UP1H ['B008239PX0']\n",
      "A314KKDIJWCNMV ['B0088RIV1W', 'B002KMR2IE']\n",
      "A4DSI9VRBED9N ['B003Q5GI2U', 'B001C271MA']\n",
      "A2JMJVNTBL7K7E ['B006OIMWTO']\n",
      "A2SH6A32BE6NEV ['B00DIOALPE']\n",
      "A1KY5G5FP31F2F ['B00683Z9X6', 'B005J5TZVG']\n",
      "A11KZ906QD08C5 ['B003FWHTTA', 'B000M3LJ5U', 'B000B8PBLO']\n",
      "A3SOJO7Z7R9WIA ['B000VEOIDU', 'B00689F764']\n",
      "ADOR3TR7GDF68 ['B008ZVQHD0']\n",
      "A2ED50E3KWKUKW ['B00E3K94T6', 'B0015VW3BM']\n",
      "A3ZRUOFG0P5GM ['B008BBKARI']\n",
      "A2U3OEIK1CUPIK ['B00013BLI6']\n",
      "A6XDZ1MJ0B1A2 ['B00005A8XW']\n",
      "AKP9TEMA1T01X ['B001CQJSP4']\n",
      "A3VVOQ5K6C4Y7C ['B001HTX1XQ']\n",
      "APBB297H3ZA5E ['B000TXHE20']\n",
      "A2ARKEEDO6679D ['B002VBZCZO']\n",
      "A1PV5T5S4D5NPI ['B003924UCK']\n",
      "A24HWYHR28JJ7A ['B000NVR9SM', 'B0033A7K7A']\n",
      "A50W36ATFDSNU ['B000N5PYQM']\n",
      "ASPU6ADKLXPRT ['B000FPLTRI']\n",
      "A1A535TCGNMVPI ['B000BKJZ9Q']\n",
      "AZA595ZPIG240 ['B000B6A4S6']\n",
      "A269FH9V0X3593 ['B008JJLW4M']\n",
      "ABMF4UC4Z00NT ['B00DWMPM92']\n",
      "A2QDOJFFLFGF18 ['B00DEQLDDU', 'B000AY50I8']\n",
      "A3VTOLNB5N6FVP ['B004DVEW8I']\n",
      "A3QRR8PSCBI07C ['B005CT56F8']\n",
      "A96JD9312DHWC ['B008X9Z3UC']\n",
      "ASHJAZC9OA9NS ['B0041DECI8']\n",
      "AR74YY08IP2WE ['B0088CJT4U']\n",
      "AOQLV2LSI9B2W ['B000FTU77C']\n",
      "A1TQZUSOU22E9M ['B00199W47I']\n",
      "A1MFVAHTT2BHM0 ['B00005T3G0']\n",
      "AKSQNMIKOU01H ['B005ZLOW8K']\n"
     ]
    }
   ],
   "source": [
    "# Print the recommended items for each user\n",
    "for uid, user_ratings in top_n.items():\n",
    "    print(uid, [iid for (iid, _) in user_ratings])"
   ]
  },
  {
   "cell_type": "markdown",
   "metadata": {},
   "source": [
    "In above results we are looking at top 5 predictions for each user(some of users may have less than 5 predictions)"
   ]
  },
  {
   "cell_type": "markdown",
   "metadata": {},
   "source": [
    "# 7. Summarise your insights. ( 10 marks)"
   ]
  },
  {
   "cell_type": "markdown",
   "metadata": {},
   "source": [
    "The dataset provided has 500000 rows and 4 columns with user_id representing unique user notation similar to prod_id which represents unique product code. Both of them being categorical the only numeric column is rating representing how a user has rated a particular product between 1 to 5.\n",
    "\n",
    "There is a column named timestamp which was termed insignificant hence dropped.\n",
    "\n",
    "We had to reduce the number of records by filtering out users less than 5 ratings given hence the number of records came down to 5912 rows with 3 columns(user_id,prod_id and ratings).\n",
    "\n",
    "We ran a popularity based model under which top product with best rating(with significant number of ratings) were derived these ratings are supposed to be recommended to new users or users who aren't logged in. The popularity bases items are soley based on the ratings count or frequency of a product(with or without weighted ratings). There is no way to know the user habits.Also, the products with very few ratings will never make this list until a hybrid recommendation system is used such as popularity with random. This approach can be weighted to make sure, random recommedations are for those products which have very low ratings count but high rating values.\n",
    "\n",
    "However, on running collaborative filtering model using Singular Value Decomposition (SVD) and also running K Nearest Neighbor(KNN) we found the SVD more effective due to lower MAE and RMSE.We have alse run the KNN model in User-User(Grouping based on User ID) and Product-Product/Item_Item(Product ID based) to achieve predictions.In the end we derived top 5 product recommendations for each user and a probable rating that the user might provide to the recommended product. There are limitations with collaborative filtering with a straightforward implementation, it is obeserved that the recommendations tend to be already popular, and the items from the long tail section might get ignored. User user-Scalability is an issue as KNN needs to compute nearest neighbors for both items and users.So, large data are slow down KNN by a great extent.\n",
    "\n",
    "Hybrid recommedation system with Collaborative and content-based filtering might help get over the classic problems of collaborative filtering such as cold start ,etc.\n",
    "\n",
    "For Collaborative filtering, SVD outperforms KNNWithMeans with better RMSE and MAE."
   ]
  },
  {
   "cell_type": "markdown",
   "metadata": {},
   "source": [
    "Conclusion:-\n",
    "The recommendations obtained using the above techniques can be suggested to the users for better sales"
   ]
  },
  {
   "cell_type": "code",
   "execution_count": null,
   "metadata": {},
   "outputs": [],
   "source": []
  }
 ],
 "metadata": {
  "kernelspec": {
   "display_name": "Python 3",
   "language": "python",
   "name": "python3"
  },
  "language_info": {
   "codemirror_mode": {
    "name": "ipython",
    "version": 3
   },
   "file_extension": ".py",
   "mimetype": "text/x-python",
   "name": "python",
   "nbconvert_exporter": "python",
   "pygments_lexer": "ipython3",
   "version": "3.7.4"
  }
 },
 "nbformat": 4,
 "nbformat_minor": 2
}
