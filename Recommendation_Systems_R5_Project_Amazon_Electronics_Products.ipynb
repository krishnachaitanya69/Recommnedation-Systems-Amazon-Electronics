{
 "cells": [
  {
   "cell_type": "code",
   "execution_count": 1,
   "metadata": {
    "colab": {
     "base_uri": "https://localhost:8080/"
    },
    "id": "5xjlzKoE0T23",
    "outputId": "2215a80b-364c-499c-adc9-9e98e524dedb"
   },
   "outputs": [
    {
     "name": "stdout",
     "output_type": "stream",
     "text": [
      "Mounted at /content/drive\n"
     ]
    }
   ],
   "source": [
    "#Mount the drive\n",
    "from google.colab import drive\n",
    "drive.mount('/content/drive')"
   ]
  },
  {
   "cell_type": "code",
   "execution_count": 2,
   "metadata": {
    "colab": {
     "base_uri": "https://localhost:8080/"
    },
    "id": "YCEIm_6p3LHt",
    "outputId": "29533b65-320a-472c-d383-3aa041cd8139"
   },
   "outputs": [
    {
     "name": "stdout",
     "output_type": "stream",
     "text": [
      "Collecting surprise\n",
      "  Downloading https://files.pythonhosted.org/packages/61/de/e5cba8682201fcf9c3719a6fdda95693468ed061945493dea2dd37c5618b/surprise-0.1-py2.py3-none-any.whl\n",
      "Collecting scikit-surprise\n",
      "\u001b[?25l  Downloading https://files.pythonhosted.org/packages/97/37/5d334adaf5ddd65da99fc65f6507e0e4599d092ba048f4302fe8775619e8/scikit-surprise-1.1.1.tar.gz (11.8MB)\n",
      "\u001b[K     |████████████████████████████████| 11.8MB 5.9MB/s \n",
      "\u001b[?25hRequirement already satisfied: joblib>=0.11 in /usr/local/lib/python3.6/dist-packages (from scikit-surprise->surprise) (1.0.0)\n",
      "Requirement already satisfied: numpy>=1.11.2 in /usr/local/lib/python3.6/dist-packages (from scikit-surprise->surprise) (1.19.4)\n",
      "Requirement already satisfied: scipy>=1.0.0 in /usr/local/lib/python3.6/dist-packages (from scikit-surprise->surprise) (1.4.1)\n",
      "Requirement already satisfied: six>=1.10.0 in /usr/local/lib/python3.6/dist-packages (from scikit-surprise->surprise) (1.15.0)\n",
      "Building wheels for collected packages: scikit-surprise\n",
      "  Building wheel for scikit-surprise (setup.py) ... \u001b[?25l\u001b[?25hdone\n",
      "  Created wheel for scikit-surprise: filename=scikit_surprise-1.1.1-cp36-cp36m-linux_x86_64.whl size=1618295 sha256=9f436a6ab3cbc649592c80c455584081494f940cb7cd1b113c378a4530fca29c\n",
      "  Stored in directory: /root/.cache/pip/wheels/78/9c/3d/41b419c9d2aff5b6e2b4c0fc8d25c538202834058f9ed110d0\n",
      "Successfully built scikit-surprise\n",
      "Installing collected packages: scikit-surprise, surprise\n",
      "Successfully installed scikit-surprise-1.1.1 surprise-0.1\n"
     ]
    }
   ],
   "source": [
    "!pip install surprise\n"
   ]
  },
  {
   "cell_type": "code",
   "execution_count": 5,
   "metadata": {
    "colab": {
     "base_uri": "https://localhost:8080/"
    },
    "id": "BdUco1vfQ4YV",
    "outputId": "ec9fa2c4-ff6c-43be-8bcd-5b0ed3477128"
   },
   "outputs": [
    {
     "name": "stdout",
     "output_type": "stream",
     "text": [
      "Requirement already satisfied: recmetrics in /usr/local/lib/python3.6/dist-packages (0.0.12)\n",
      "Requirement already satisfied: numpy in /usr/local/lib/python3.6/dist-packages (from recmetrics) (1.19.4)\n",
      "Requirement already satisfied: surprise in /usr/local/lib/python3.6/dist-packages (from recmetrics) (0.1)\n",
      "Requirement already satisfied: scikit-learn in /usr/local/lib/python3.6/dist-packages (from recmetrics) (0.22.2.post1)\n",
      "Requirement already satisfied: seaborn in /usr/local/lib/python3.6/dist-packages (from recmetrics) (0.11.0)\n",
      "Requirement already satisfied: pandas in /usr/local/lib/python3.6/dist-packages (from recmetrics) (1.1.5)\n",
      "Requirement already satisfied: scikit-surprise in /usr/local/lib/python3.6/dist-packages (from surprise->recmetrics) (1.1.1)\n",
      "Requirement already satisfied: scipy>=0.17.0 in /usr/local/lib/python3.6/dist-packages (from scikit-learn->recmetrics) (1.4.1)\n",
      "Requirement already satisfied: joblib>=0.11 in /usr/local/lib/python3.6/dist-packages (from scikit-learn->recmetrics) (1.0.0)\n",
      "Requirement already satisfied: matplotlib>=2.2 in /usr/local/lib/python3.6/dist-packages (from seaborn->recmetrics) (3.2.2)\n",
      "Requirement already satisfied: pytz>=2017.2 in /usr/local/lib/python3.6/dist-packages (from pandas->recmetrics) (2018.9)\n",
      "Requirement already satisfied: python-dateutil>=2.7.3 in /usr/local/lib/python3.6/dist-packages (from pandas->recmetrics) (2.8.1)\n",
      "Requirement already satisfied: six>=1.10.0 in /usr/local/lib/python3.6/dist-packages (from scikit-surprise->surprise->recmetrics) (1.15.0)\n",
      "Requirement already satisfied: cycler>=0.10 in /usr/local/lib/python3.6/dist-packages (from matplotlib>=2.2->seaborn->recmetrics) (0.10.0)\n",
      "Requirement already satisfied: pyparsing!=2.0.4,!=2.1.2,!=2.1.6,>=2.0.1 in /usr/local/lib/python3.6/dist-packages (from matplotlib>=2.2->seaborn->recmetrics) (2.4.7)\n",
      "Requirement already satisfied: kiwisolver>=1.0.1 in /usr/local/lib/python3.6/dist-packages (from matplotlib>=2.2->seaborn->recmetrics) (1.3.1)\n"
     ]
    }
   ],
   "source": [
    "pip install recmetrics"
   ]
  },
  {
   "cell_type": "code",
   "execution_count": 8,
   "metadata": {
    "colab": {
     "base_uri": "https://localhost:8080/"
    },
    "id": "dS3rznAfSMM5",
    "outputId": "870693d2-7a42-40f0-e28e-94902a71d8f4"
   },
   "outputs": [
    {
     "name": "stdout",
     "output_type": "stream",
     "text": [
      "Collecting funcsigs\n",
      "  Downloading https://files.pythonhosted.org/packages/69/cb/f5be453359271714c01b9bd06126eaf2e368f1fddfff30818754b5ac2328/funcsigs-1.0.2-py2.py3-none-any.whl\n",
      "Installing collected packages: funcsigs\n",
      "Successfully installed funcsigs-1.0.2\n"
     ]
    }
   ],
   "source": [
    "pip install funcsigs"
   ]
  },
  {
   "cell_type": "code",
   "execution_count": 45,
   "metadata": {
    "colab": {
     "base_uri": "https://localhost:8080/",
     "height": 519
    },
    "id": "AfA0qIz_3LLr",
    "outputId": "22b4b463-3f7f-4e02-917b-4d3de5508c92"
   },
   "outputs": [
    {
     "ename": "ImportError",
     "evalue": "ignored",
     "output_type": "error",
     "traceback": [
      "\u001b[0;31m---------------------------------------------------------------------------\u001b[0m",
      "\u001b[0;31mImportError\u001b[0m                               Traceback (most recent call last)",
      "\u001b[0;32m<ipython-input-45-471db1907c15>\u001b[0m in \u001b[0;36m<module>\u001b[0;34m()\u001b[0m\n\u001b[1;32m      8\u001b[0m \u001b[0;32mfrom\u001b[0m \u001b[0msurprise\u001b[0m \u001b[0;32mimport\u001b[0m \u001b[0mSVD\u001b[0m\u001b[0;34m\u001b[0m\u001b[0;34m\u001b[0m\u001b[0m\n\u001b[1;32m      9\u001b[0m \u001b[0;32mfrom\u001b[0m \u001b[0mfuncsigs\u001b[0m \u001b[0;32mimport\u001b[0m \u001b[0msignature\u001b[0m\u001b[0;34m\u001b[0m\u001b[0;34m\u001b[0m\u001b[0m\n\u001b[0;32m---> 10\u001b[0;31m \u001b[0;32mimport\u001b[0m \u001b[0mrecmetrics\u001b[0m\u001b[0;34m\u001b[0m\u001b[0;34m\u001b[0m\u001b[0m\n\u001b[0m\u001b[1;32m     11\u001b[0m \u001b[0;32mfrom\u001b[0m \u001b[0msurprise\u001b[0m \u001b[0;32mimport\u001b[0m \u001b[0mReader\u001b[0m\u001b[0;34m,\u001b[0m \u001b[0mDataset\u001b[0m\u001b[0;34m\u001b[0m\u001b[0;34m\u001b[0m\u001b[0m\n\u001b[1;32m     12\u001b[0m \u001b[0;32mfrom\u001b[0m \u001b[0msurprise\u001b[0m\u001b[0;34m.\u001b[0m\u001b[0mmodel_selection\u001b[0m \u001b[0;32mimport\u001b[0m \u001b[0mtrain_test_split\u001b[0m\u001b[0;34m\u001b[0m\u001b[0;34m\u001b[0m\u001b[0m\n",
      "\u001b[0;32m/usr/local/lib/python3.6/dist-packages/recmetrics/__init__.py\u001b[0m in \u001b[0;36m<module>\u001b[0;34m()\u001b[0m\n\u001b[0;32m----> 1\u001b[0;31m \u001b[0;32mfrom\u001b[0m \u001b[0;34m.\u001b[0m\u001b[0mplots\u001b[0m \u001b[0;32mimport\u001b[0m \u001b[0mlong_tail_plot\u001b[0m\u001b[0;34m,\u001b[0m \u001b[0mmark_plot\u001b[0m\u001b[0;34m,\u001b[0m \u001b[0mmapk_plot\u001b[0m\u001b[0;34m,\u001b[0m \u001b[0mcoverage_plot\u001b[0m\u001b[0;34m,\u001b[0m \u001b[0mclass_separation_plot\u001b[0m\u001b[0;34m,\u001b[0m \u001b[0mroc_plot\u001b[0m\u001b[0;34m,\u001b[0m \u001b[0mprecision_recall_plot\u001b[0m\u001b[0;34m\u001b[0m\u001b[0;34m\u001b[0m\u001b[0m\n\u001b[0m\u001b[1;32m      2\u001b[0m \u001b[0;32mfrom\u001b[0m \u001b[0;34m.\u001b[0m\u001b[0mmetrics\u001b[0m \u001b[0;32mimport\u001b[0m \u001b[0mmark\u001b[0m\u001b[0;34m,\u001b[0m \u001b[0mcoverage\u001b[0m\u001b[0;34m,\u001b[0m \u001b[0mpersonalization\u001b[0m\u001b[0;34m,\u001b[0m \u001b[0mintra_list_similarity\u001b[0m\u001b[0;34m,\u001b[0m \u001b[0mrmse\u001b[0m\u001b[0;34m,\u001b[0m \u001b[0mmse\u001b[0m\u001b[0;34m,\u001b[0m \u001b[0mmake_confusion_matrix\u001b[0m\u001b[0;34m,\u001b[0m \u001b[0mrecommender_precision\u001b[0m\u001b[0;34m,\u001b[0m \u001b[0mrecommender_recall\u001b[0m\u001b[0;34m\u001b[0m\u001b[0;34m\u001b[0m\u001b[0m\n",
      "\u001b[0;32m/usr/local/lib/python3.6/dist-packages/recmetrics/plots.py\u001b[0m in \u001b[0;36m<module>\u001b[0;34m()\u001b[0m\n\u001b[1;32m      5\u001b[0m \u001b[0;32mfrom\u001b[0m \u001b[0mmatplotlib\u001b[0m\u001b[0;34m.\u001b[0m\u001b[0mlines\u001b[0m \u001b[0;32mimport\u001b[0m \u001b[0mLine2D\u001b[0m\u001b[0;34m\u001b[0m\u001b[0;34m\u001b[0m\u001b[0m\n\u001b[1;32m      6\u001b[0m \u001b[0;32mfrom\u001b[0m \u001b[0msklearn\u001b[0m\u001b[0;34m.\u001b[0m\u001b[0mmetrics\u001b[0m \u001b[0;32mimport\u001b[0m \u001b[0mroc_curve\u001b[0m\u001b[0;34m,\u001b[0m \u001b[0mauc\u001b[0m\u001b[0;34m,\u001b[0m \u001b[0mprecision_recall_curve\u001b[0m\u001b[0;34m,\u001b[0m \u001b[0maverage_precision_score\u001b[0m\u001b[0;34m\u001b[0m\u001b[0;34m\u001b[0m\u001b[0m\n\u001b[0;32m----> 7\u001b[0;31m \u001b[0;32mfrom\u001b[0m \u001b[0msklearn\u001b[0m\u001b[0;34m.\u001b[0m\u001b[0mutils\u001b[0m\u001b[0;34m.\u001b[0m\u001b[0mfixes\u001b[0m \u001b[0;32mimport\u001b[0m \u001b[0msignature\u001b[0m\u001b[0;34m\u001b[0m\u001b[0;34m\u001b[0m\u001b[0m\n\u001b[0m\u001b[1;32m      8\u001b[0m \u001b[0;34m\u001b[0m\u001b[0m\n\u001b[1;32m      9\u001b[0m \u001b[0;34m\u001b[0m\u001b[0m\n",
      "\u001b[0;31mImportError\u001b[0m: cannot import name 'signature'",
      "",
      "\u001b[0;31m---------------------------------------------------------------------------\u001b[0;32m\nNOTE: If your import is failing due to a missing package, you can\nmanually install dependencies using either !pip or !apt.\n\nTo view examples of installing some common dependencies, click the\n\"Open Examples\" button below.\n\u001b[0;31m---------------------------------------------------------------------------\u001b[0m\n"
     ]
    }
   ],
   "source": [
    "import numpy as np \n",
    "import pandas as pd\n",
    "import matplotlib.pyplot as plt\n",
    "%matplotlib inline\n",
    "import seaborn as sns\n",
    "from surprise import KNNWithMeans\n",
    "from surprise import accuracy\n",
    "from surprise import SVD\n",
    "from funcsigs import signature\n",
    "import recmetrics\n",
    "from surprise import Reader, Dataset\n",
    "from surprise.model_selection import train_test_split\n"
   ]
  },
  {
   "cell_type": "code",
   "execution_count": 36,
   "metadata": {
    "colab": {
     "base_uri": "https://localhost:8080/",
     "height": 450
    },
    "id": "ydNCt1IZQyPm",
    "outputId": "16f5b554-0134-4788-f62c-0d659c0461a6"
   },
   "outputs": [
    {
     "ename": "ImportError",
     "evalue": "ignored",
     "output_type": "error",
     "traceback": [
      "\u001b[0;31m---------------------------------------------------------------------------\u001b[0m",
      "\u001b[0;31mImportError\u001b[0m                               Traceback (most recent call last)",
      "\u001b[0;32m<ipython-input-36-4427986f0b3c>\u001b[0m in \u001b[0;36m<module>\u001b[0;34m()\u001b[0m\n\u001b[0;32m----> 1\u001b[0;31m \u001b[0;32mimport\u001b[0m \u001b[0mrecmetrics\u001b[0m\u001b[0;34m\u001b[0m\u001b[0;34m\u001b[0m\u001b[0m\n\u001b[0m",
      "\u001b[0;32m/usr/local/lib/python3.6/dist-packages/recmetrics/__init__.py\u001b[0m in \u001b[0;36m<module>\u001b[0;34m()\u001b[0m\n\u001b[0;32m----> 1\u001b[0;31m \u001b[0;32mfrom\u001b[0m \u001b[0;34m.\u001b[0m\u001b[0mplots\u001b[0m \u001b[0;32mimport\u001b[0m \u001b[0mlong_tail_plot\u001b[0m\u001b[0;34m,\u001b[0m \u001b[0mmark_plot\u001b[0m\u001b[0;34m,\u001b[0m \u001b[0mmapk_plot\u001b[0m\u001b[0;34m,\u001b[0m \u001b[0mcoverage_plot\u001b[0m\u001b[0;34m,\u001b[0m \u001b[0mclass_separation_plot\u001b[0m\u001b[0;34m,\u001b[0m \u001b[0mroc_plot\u001b[0m\u001b[0;34m,\u001b[0m \u001b[0mprecision_recall_plot\u001b[0m\u001b[0;34m\u001b[0m\u001b[0;34m\u001b[0m\u001b[0m\n\u001b[0m\u001b[1;32m      2\u001b[0m \u001b[0;32mfrom\u001b[0m \u001b[0;34m.\u001b[0m\u001b[0mmetrics\u001b[0m \u001b[0;32mimport\u001b[0m \u001b[0mmark\u001b[0m\u001b[0;34m,\u001b[0m \u001b[0mcoverage\u001b[0m\u001b[0;34m,\u001b[0m \u001b[0mpersonalization\u001b[0m\u001b[0;34m,\u001b[0m \u001b[0mintra_list_similarity\u001b[0m\u001b[0;34m,\u001b[0m \u001b[0mrmse\u001b[0m\u001b[0;34m,\u001b[0m \u001b[0mmse\u001b[0m\u001b[0;34m,\u001b[0m \u001b[0mmake_confusion_matrix\u001b[0m\u001b[0;34m,\u001b[0m \u001b[0mrecommender_precision\u001b[0m\u001b[0;34m,\u001b[0m \u001b[0mrecommender_recall\u001b[0m\u001b[0;34m\u001b[0m\u001b[0;34m\u001b[0m\u001b[0m\n",
      "\u001b[0;32m/usr/local/lib/python3.6/dist-packages/recmetrics/plots.py\u001b[0m in \u001b[0;36m<module>\u001b[0;34m()\u001b[0m\n\u001b[1;32m      5\u001b[0m \u001b[0;32mfrom\u001b[0m \u001b[0mmatplotlib\u001b[0m\u001b[0;34m.\u001b[0m\u001b[0mlines\u001b[0m \u001b[0;32mimport\u001b[0m \u001b[0mLine2D\u001b[0m\u001b[0;34m\u001b[0m\u001b[0;34m\u001b[0m\u001b[0m\n\u001b[1;32m      6\u001b[0m \u001b[0;32mfrom\u001b[0m \u001b[0msklearn\u001b[0m\u001b[0;34m.\u001b[0m\u001b[0mmetrics\u001b[0m \u001b[0;32mimport\u001b[0m \u001b[0mroc_curve\u001b[0m\u001b[0;34m,\u001b[0m \u001b[0mauc\u001b[0m\u001b[0;34m,\u001b[0m \u001b[0mprecision_recall_curve\u001b[0m\u001b[0;34m,\u001b[0m \u001b[0maverage_precision_score\u001b[0m\u001b[0;34m\u001b[0m\u001b[0;34m\u001b[0m\u001b[0m\n\u001b[0;32m----> 7\u001b[0;31m \u001b[0;32mfrom\u001b[0m \u001b[0msklearn\u001b[0m\u001b[0;34m.\u001b[0m\u001b[0mutils\u001b[0m\u001b[0;34m.\u001b[0m\u001b[0mfixes\u001b[0m \u001b[0;32mimport\u001b[0m \u001b[0msignature\u001b[0m\u001b[0;34m\u001b[0m\u001b[0;34m\u001b[0m\u001b[0m\n\u001b[0m\u001b[1;32m      8\u001b[0m \u001b[0;34m\u001b[0m\u001b[0m\n\u001b[1;32m      9\u001b[0m \u001b[0;34m\u001b[0m\u001b[0m\n",
      "\u001b[0;31mImportError\u001b[0m: cannot import name 'signature'",
      "",
      "\u001b[0;31m---------------------------------------------------------------------------\u001b[0;32m\nNOTE: If your import is failing due to a missing package, you can\nmanually install dependencies using either !pip or !apt.\n\nTo view examples of installing some common dependencies, click the\n\"Open Examples\" button below.\n\u001b[0;31m---------------------------------------------------------------------------\u001b[0m\n"
     ]
    }
   ],
   "source": [
    "import recmetrics"
   ]
  },
  {
   "cell_type": "code",
   "execution_count": 10,
   "metadata": {
    "id": "YNe7Rw2zNiqN"
   },
   "outputs": [],
   "source": [
    "import os\n",
    "os.chdir('/content/drive/MyDrive/ColabNotebooks/')"
   ]
  },
  {
   "cell_type": "code",
   "execution_count": 11,
   "metadata": {
    "id": "tA1Q8pia3LYi"
   },
   "outputs": [],
   "source": [
    "df = pd.read_csv('Electronic_dataset.csv')"
   ]
  },
  {
   "cell_type": "code",
   "execution_count": 12,
   "metadata": {
    "colab": {
     "base_uri": "https://localhost:8080/",
     "height": 202
    },
    "id": "EgHiDer2Mynt",
    "outputId": "4f3ae52c-3406-4be7-b0fc-5b56c2444a38"
   },
   "outputs": [
    {
     "data": {
      "text/html": [
       "<div>\n",
       "<style scoped>\n",
       "    .dataframe tbody tr th:only-of-type {\n",
       "        vertical-align: middle;\n",
       "    }\n",
       "\n",
       "    .dataframe tbody tr th {\n",
       "        vertical-align: top;\n",
       "    }\n",
       "\n",
       "    .dataframe thead th {\n",
       "        text-align: right;\n",
       "    }\n",
       "</style>\n",
       "<table border=\"1\" class=\"dataframe\">\n",
       "  <thead>\n",
       "    <tr style=\"text-align: right;\">\n",
       "      <th></th>\n",
       "      <th>user_id</th>\n",
       "      <th>prod_id</th>\n",
       "      <th>ratings</th>\n",
       "      <th>timestamp</th>\n",
       "    </tr>\n",
       "  </thead>\n",
       "  <tbody>\n",
       "    <tr>\n",
       "      <th>0</th>\n",
       "      <td>A3L1GVWVJKWZZS</td>\n",
       "      <td>B0058UUR6E</td>\n",
       "      <td>5.0</td>\n",
       "      <td>1364774400</td>\n",
       "    </tr>\n",
       "    <tr>\n",
       "      <th>1</th>\n",
       "      <td>A08831071BVKZMKNCPI5S</td>\n",
       "      <td>B009ID0VVS</td>\n",
       "      <td>5.0</td>\n",
       "      <td>1357257600</td>\n",
       "    </tr>\n",
       "    <tr>\n",
       "      <th>2</th>\n",
       "      <td>A1SINU2I4IOPNU</td>\n",
       "      <td>B000GBO9IM</td>\n",
       "      <td>4.0</td>\n",
       "      <td>1358121600</td>\n",
       "    </tr>\n",
       "    <tr>\n",
       "      <th>3</th>\n",
       "      <td>A3P3P31EEOX2BD</td>\n",
       "      <td>B00CDCIOHO</td>\n",
       "      <td>3.0</td>\n",
       "      <td>1404950400</td>\n",
       "    </tr>\n",
       "    <tr>\n",
       "      <th>4</th>\n",
       "      <td>A3DBLJ3MPBJQMN</td>\n",
       "      <td>B000MS3VGA</td>\n",
       "      <td>5.0</td>\n",
       "      <td>1294444800</td>\n",
       "    </tr>\n",
       "  </tbody>\n",
       "</table>\n",
       "</div>"
      ],
      "text/plain": [
       "                 user_id     prod_id  ratings   timestamp\n",
       "0         A3L1GVWVJKWZZS  B0058UUR6E      5.0  1364774400\n",
       "1  A08831071BVKZMKNCPI5S  B009ID0VVS      5.0  1357257600\n",
       "2         A1SINU2I4IOPNU  B000GBO9IM      4.0  1358121600\n",
       "3         A3P3P31EEOX2BD  B00CDCIOHO      3.0  1404950400\n",
       "4         A3DBLJ3MPBJQMN  B000MS3VGA      5.0  1294444800"
      ]
     },
     "execution_count": 12,
     "metadata": {
      "tags": []
     },
     "output_type": "execute_result"
    }
   ],
   "source": [
    "df.head(5)"
   ]
  },
  {
   "cell_type": "markdown",
   "metadata": {
    "id": "fPcHIi_7MDdC"
   },
   "source": [
    "1. Read and explore the given dataset. ( Rename column/add headers, plot\n",
    "histograms, find data characteristics) ( 13 Marks)"
   ]
  },
  {
   "cell_type": "code",
   "execution_count": 13,
   "metadata": {
    "colab": {
     "base_uri": "https://localhost:8080/"
    },
    "id": "5WeAQCddcTv3",
    "outputId": "fcda4844-cc51-4293-f288-78ebc3d7135a"
   },
   "outputs": [
    {
     "data": {
      "text/plain": [
       "(500000, 4)"
      ]
     },
     "execution_count": 13,
     "metadata": {
      "tags": []
     },
     "output_type": "execute_result"
    }
   ],
   "source": [
    "df.shape"
   ]
  },
  {
   "cell_type": "code",
   "execution_count": 14,
   "metadata": {
    "colab": {
     "base_uri": "https://localhost:8080/"
    },
    "id": "TI2rYwEEcT8J",
    "outputId": "5d8ac0b7-d79d-4d55-b426-3fbebddee0f7"
   },
   "outputs": [
    {
     "data": {
      "text/plain": [
       "448368"
      ]
     },
     "execution_count": 14,
     "metadata": {
      "tags": []
     },
     "output_type": "execute_result"
    }
   ],
   "source": [
    "df['user_id'].nunique()"
   ]
  },
  {
   "cell_type": "code",
   "execution_count": 15,
   "metadata": {
    "colab": {
     "base_uri": "https://localhost:8080/"
    },
    "id": "DHAc0li2cUFp",
    "outputId": "9e905840-dcbb-496c-8f98-a9414c7afc5e"
   },
   "outputs": [
    {
     "data": {
      "text/plain": [
       "130138"
      ]
     },
     "execution_count": 15,
     "metadata": {
      "tags": []
     },
     "output_type": "execute_result"
    }
   ],
   "source": [
    "df['prod_id'].nunique()"
   ]
  },
  {
   "cell_type": "code",
   "execution_count": 16,
   "metadata": {
    "colab": {
     "base_uri": "https://localhost:8080/"
    },
    "id": "HJJ8oZVf3LbW",
    "outputId": "846912f9-44db-4cd1-d226-bf11dac9aff4"
   },
   "outputs": [
    {
     "name": "stdout",
     "output_type": "stream",
     "text": [
      "<class 'pandas.core.frame.DataFrame'>\n",
      "RangeIndex: 500000 entries, 0 to 499999\n",
      "Data columns (total 4 columns):\n",
      " #   Column     Non-Null Count   Dtype  \n",
      "---  ------     --------------   -----  \n",
      " 0   user_id    500000 non-null  object \n",
      " 1   prod_id    500000 non-null  object \n",
      " 2   ratings    500000 non-null  float64\n",
      " 3   timestamp  500000 non-null  int64  \n",
      "dtypes: float64(1), int64(1), object(2)\n",
      "memory usage: 15.3+ MB\n"
     ]
    }
   ],
   "source": [
    "df.info()"
   ]
  },
  {
   "cell_type": "code",
   "execution_count": 17,
   "metadata": {
    "id": "7NRp_6_scp3Z"
   },
   "outputs": [],
   "source": [
    "df.drop_duplicates(keep='first',inplace=True)"
   ]
  },
  {
   "cell_type": "code",
   "execution_count": 18,
   "metadata": {
    "colab": {
     "base_uri": "https://localhost:8080/"
    },
    "id": "CdIXy6lJctTk",
    "outputId": "9d7baad3-3d16-42ce-b2ef-bce009e2cda2"
   },
   "outputs": [
    {
     "data": {
      "text/plain": [
       "(500000, 4)"
      ]
     },
     "execution_count": 18,
     "metadata": {
      "tags": []
     },
     "output_type": "execute_result"
    }
   ],
   "source": [
    "df.shape"
   ]
  },
  {
   "cell_type": "code",
   "execution_count": 19,
   "metadata": {
    "id": "xxiottmHcy1k"
   },
   "outputs": [],
   "source": [
    "#dropping timestamp column - it's of no significance \n",
    "df = df.drop(labels = \"timestamp\", axis = 1)"
   ]
  },
  {
   "cell_type": "code",
   "execution_count": 20,
   "metadata": {
    "colab": {
     "base_uri": "https://localhost:8080/"
    },
    "id": "Xs2qbV18c4UY",
    "outputId": "3ff5f733-e27b-4029-eaf1-6f933ae4a693"
   },
   "outputs": [
    {
     "data": {
      "text/plain": [
       "(500000, 3)"
      ]
     },
     "execution_count": 20,
     "metadata": {
      "tags": []
     },
     "output_type": "execute_result"
    }
   ],
   "source": [
    "df.shape"
   ]
  },
  {
   "cell_type": "code",
   "execution_count": 21,
   "metadata": {
    "colab": {
     "base_uri": "https://localhost:8080/",
     "height": 390
    },
    "id": "anPj9aBDc80_",
    "outputId": "04beb809-f196-4826-f7a9-afe01e4182db"
   },
   "outputs": [
    {
     "data": {
      "image/png": "[encoded data removed]",
      "text/plain": [
       "<Figure size 576x432 with 1 Axes>"
      ]
     },
     "metadata": {
      "needs_background": "light",
      "tags": []
     },
     "output_type": "display_data"
    }
   ],
   "source": [
    "df.hist(figsize=(8,6), xlabelsize = 10);"
   ]
  },
  {
   "cell_type": "code",
   "execution_count": 22,
   "metadata": {
    "colab": {
     "base_uri": "https://localhost:8080/",
     "height": 79
    },
    "id": "T_qAuj3ZdDCw",
    "outputId": "f6645efa-4a87-4305-95ad-6b71d827b4a0"
   },
   "outputs": [
    {
     "data": {
      "text/html": [
       "<div>\n",
       "<style scoped>\n",
       "    .dataframe tbody tr th:only-of-type {\n",
       "        vertical-align: middle;\n",
       "    }\n",
       "\n",
       "    .dataframe tbody tr th {\n",
       "        vertical-align: top;\n",
       "    }\n",
       "\n",
       "    .dataframe thead th {\n",
       "        text-align: right;\n",
       "    }\n",
       "</style>\n",
       "<table border=\"1\" class=\"dataframe\">\n",
       "  <thead>\n",
       "    <tr style=\"text-align: right;\">\n",
       "      <th></th>\n",
       "      <th>count</th>\n",
       "      <th>mean</th>\n",
       "      <th>std</th>\n",
       "      <th>min</th>\n",
       "      <th>25%</th>\n",
       "      <th>50%</th>\n",
       "      <th>75%</th>\n",
       "      <th>max</th>\n",
       "    </tr>\n",
       "  </thead>\n",
       "  <tbody>\n",
       "    <tr>\n",
       "      <th>ratings</th>\n",
       "      <td>500000.0</td>\n",
       "      <td>4.013172</td>\n",
       "      <td>1.379996</td>\n",
       "      <td>1.0</td>\n",
       "      <td>3.0</td>\n",
       "      <td>5.0</td>\n",
       "      <td>5.0</td>\n",
       "      <td>5.0</td>\n",
       "    </tr>\n",
       "  </tbody>\n",
       "</table>\n",
       "</div>"
      ],
      "text/plain": [
       "            count      mean       std  min  25%  50%  75%  max\n",
       "ratings  500000.0  4.013172  1.379996  1.0  3.0  5.0  5.0  5.0"
      ]
     },
     "execution_count": 22,
     "metadata": {
      "tags": []
     },
     "output_type": "execute_result"
    }
   ],
   "source": [
    "df.describe().T"
   ]
  },
  {
   "cell_type": "markdown",
   "metadata": {
    "id": "bNqEC2wPMJi4"
   },
   "source": [
    "2. Build Popularity Recommender model. ( 10 marks)"
   ]
  },
  {
   "cell_type": "code",
   "execution_count": 23,
   "metadata": {
    "colab": {
     "base_uri": "https://localhost:8080/"
    },
    "id": "l6jER6Tg3Lej",
    "outputId": "f471f620-4604-4101-b1cc-9dfc9205d861"
   },
   "outputs": [
    {
     "data": {
      "text/plain": [
       "user_id    1595\n",
       "prod_id    1595\n",
       "ratings    1595\n",
       "dtype: int64"
      ]
     },
     "execution_count": 23,
     "metadata": {
      "tags": []
     },
     "output_type": "execute_result"
    }
   ],
   "source": [
    "from collections import Counter\n",
    "counts = Counter(df.user_id)\n",
    "df_popular = df[df.user_id.isin([key for key in counts if counts[key] > 10])]\n",
    "df_popular[df_popular.user_id.isin([key for key in counts if counts[key] > 10])].count()"
   ]
  },
  {
   "cell_type": "code",
   "execution_count": 24,
   "metadata": {
    "colab": {
     "base_uri": "https://localhost:8080/"
    },
    "id": "C5u1Tu0Hdc7z",
    "outputId": "0b31a901-d63c-4295-f70e-415a0e240c93"
   },
   "outputs": [
    {
     "data": {
      "text/plain": [
       "(1595, 3)"
      ]
     },
     "execution_count": 24,
     "metadata": {
      "tags": []
     },
     "output_type": "execute_result"
    }
   ],
   "source": [
    "df_popular.shape"
   ]
  },
  {
   "cell_type": "code",
   "execution_count": 25,
   "metadata": {
    "colab": {
     "base_uri": "https://localhost:8080/"
    },
    "id": "U2vbf6NdddFl",
    "outputId": "ad4faadd-6d8c-46c0-ab5a-9cdf19bf2a76"
   },
   "outputs": [
    {
     "data": {
      "text/plain": [
       "1479"
      ]
     },
     "execution_count": 25,
     "metadata": {
      "tags": []
     },
     "output_type": "execute_result"
    }
   ],
   "source": [
    "# These many product must be displayed after groupby\n",
    "df_popular['prod_id'].nunique()"
   ]
  },
  {
   "cell_type": "code",
   "execution_count": 26,
   "metadata": {
    "colab": {
     "base_uri": "https://localhost:8080/"
    },
    "id": "MM1xWxHYddOf",
    "outputId": "ed996f26-2ac0-4d44-cdde-abea24365ab3"
   },
   "outputs": [
    {
     "data": {
      "text/plain": [
       "108"
      ]
     },
     "execution_count": 26,
     "metadata": {
      "tags": []
     },
     "output_type": "execute_result"
    }
   ],
   "source": [
    "df_popular['user_id'].nunique()\n"
   ]
  },
  {
   "cell_type": "code",
   "execution_count": 27,
   "metadata": {
    "colab": {
     "base_uri": "https://localhost:8080/",
     "height": 110
    },
    "id": "TC_dj-KTdsGN",
    "outputId": "b6192bf7-6326-4a94-f543-723423614fd1"
   },
   "outputs": [
    {
     "data": {
      "text/html": [
       "<div>\n",
       "<style scoped>\n",
       "    .dataframe tbody tr th:only-of-type {\n",
       "        vertical-align: middle;\n",
       "    }\n",
       "\n",
       "    .dataframe tbody tr th {\n",
       "        vertical-align: top;\n",
       "    }\n",
       "\n",
       "    .dataframe thead th {\n",
       "        text-align: right;\n",
       "    }\n",
       "</style>\n",
       "<table border=\"1\" class=\"dataframe\">\n",
       "  <thead>\n",
       "    <tr style=\"text-align: right;\">\n",
       "      <th></th>\n",
       "      <th>user_id</th>\n",
       "      <th>prod_id</th>\n",
       "      <th>ratings</th>\n",
       "    </tr>\n",
       "  </thead>\n",
       "  <tbody>\n",
       "    <tr>\n",
       "      <th>264</th>\n",
       "      <td>A1YEPFLLH42OU1</td>\n",
       "      <td>B00E3W15P0</td>\n",
       "      <td>5.0</td>\n",
       "    </tr>\n",
       "    <tr>\n",
       "      <th>413</th>\n",
       "      <td>A10Y058K7B96C6</td>\n",
       "      <td>B005HSG3VK</td>\n",
       "      <td>5.0</td>\n",
       "    </tr>\n",
       "  </tbody>\n",
       "</table>\n",
       "</div>"
      ],
      "text/plain": [
       "            user_id     prod_id  ratings\n",
       "264  A1YEPFLLH42OU1  B00E3W15P0      5.0\n",
       "413  A10Y058K7B96C6  B005HSG3VK      5.0"
      ]
     },
     "execution_count": 27,
     "metadata": {
      "tags": []
     },
     "output_type": "execute_result"
    }
   ],
   "source": [
    "df_popular.head(2)"
   ]
  },
  {
   "cell_type": "code",
   "execution_count": 28,
   "metadata": {
    "id": "Hh8Upkj4dsI3"
   },
   "outputs": [],
   "source": [
    "#Finding the highest average rated product.\n",
    "ratings_mean_count = pd.DataFrame(df_popular.groupby('prod_id')['ratings'].mean())"
   ]
  },
  {
   "cell_type": "code",
   "execution_count": 29,
   "metadata": {
    "colab": {
     "base_uri": "https://localhost:8080/"
    },
    "id": "YB019mzmdsTx",
    "outputId": "28001e18-8348-4fa7-be7a-12079d07a7bf"
   },
   "outputs": [
    {
     "data": {
      "text/plain": [
       "prod_id\n",
       "B00L2442H0    5.0\n",
       "B002TMRZOQ    5.0\n",
       "B0032ANC8M    5.0\n",
       "B0031AQ302    5.0\n",
       "B00310V8IY    5.0\n",
       "B0030MITDK    5.0\n",
       "B0030H0MSA    5.0\n",
       "B002YWCO7O    5.0\n",
       "B002Y1U2M4    5.0\n",
       "B002XVUTPK    5.0\n",
       "Name: ratings, dtype: float64"
      ]
     },
     "execution_count": 29,
     "metadata": {
      "tags": []
     },
     "output_type": "execute_result"
    }
   ],
   "source": [
    "ratings_mean_count['ratings'].sort_values(ascending=False).head(10)"
   ]
  },
  {
   "cell_type": "markdown",
   "metadata": {
    "id": "CFw0la4gebkD"
   },
   "source": [
    "Above products are the most popular products"
   ]
  },
  {
   "cell_type": "code",
   "execution_count": 30,
   "metadata": {
    "id": "_puc0B0seWun"
   },
   "outputs": [],
   "source": [
    "# Creating a column in the dataframse to records the number of times a product is rated.\n",
    "ratings_mean_count['rating_counts'] = pd.DataFrame(df_popular.groupby('prod_id')['ratings'].count())"
   ]
  },
  {
   "cell_type": "code",
   "execution_count": 31,
   "metadata": {
    "colab": {
     "base_uri": "https://localhost:8080/",
     "height": 233
    },
    "id": "oIb9pFcUeW6K",
    "outputId": "12078c2f-20ad-45ee-a8e9-042407ab794d"
   },
   "outputs": [
    {
     "data": {
      "text/html": [
       "<div>\n",
       "<style scoped>\n",
       "    .dataframe tbody tr th:only-of-type {\n",
       "        vertical-align: middle;\n",
       "    }\n",
       "\n",
       "    .dataframe tbody tr th {\n",
       "        vertical-align: top;\n",
       "    }\n",
       "\n",
       "    .dataframe thead th {\n",
       "        text-align: right;\n",
       "    }\n",
       "</style>\n",
       "<table border=\"1\" class=\"dataframe\">\n",
       "  <thead>\n",
       "    <tr style=\"text-align: right;\">\n",
       "      <th></th>\n",
       "      <th>ratings</th>\n",
       "      <th>rating_counts</th>\n",
       "    </tr>\n",
       "    <tr>\n",
       "      <th>prod_id</th>\n",
       "      <th></th>\n",
       "      <th></th>\n",
       "    </tr>\n",
       "  </thead>\n",
       "  <tbody>\n",
       "    <tr>\n",
       "      <th>B003ES5ZSW</th>\n",
       "      <td>5.0</td>\n",
       "      <td>3</td>\n",
       "    </tr>\n",
       "    <tr>\n",
       "      <th>B007R5YDYA</th>\n",
       "      <td>5.0</td>\n",
       "      <td>3</td>\n",
       "    </tr>\n",
       "    <tr>\n",
       "      <th>B00HHRP11C</th>\n",
       "      <td>5.0</td>\n",
       "      <td>3</td>\n",
       "    </tr>\n",
       "    <tr>\n",
       "      <th>B000092TS9</th>\n",
       "      <td>5.0</td>\n",
       "      <td>2</td>\n",
       "    </tr>\n",
       "    <tr>\n",
       "      <th>B0007VPFI4</th>\n",
       "      <td>5.0</td>\n",
       "      <td>2</td>\n",
       "    </tr>\n",
       "  </tbody>\n",
       "</table>\n",
       "</div>"
      ],
      "text/plain": [
       "            ratings  rating_counts\n",
       "prod_id                           \n",
       "B003ES5ZSW      5.0              3\n",
       "B007R5YDYA      5.0              3\n",
       "B00HHRP11C      5.0              3\n",
       "B000092TS9      5.0              2\n",
       "B0007VPFI4      5.0              2"
      ]
     },
     "execution_count": 31,
     "metadata": {
      "tags": []
     },
     "output_type": "execute_result"
    }
   ],
   "source": [
    "ratings_mean_count.sort_values(by=['ratings','rating_counts'],ascending=False).head(5)"
   ]
  },
  {
   "cell_type": "markdown",
   "metadata": {
    "id": "5e0y5NBleqTb"
   },
   "source": [
    "Above is the product Ids sorted based on the ratings and times rated."
   ]
  },
  {
   "cell_type": "code",
   "execution_count": 32,
   "metadata": {
    "colab": {
     "base_uri": "https://localhost:8080/"
    },
    "id": "5bJtTuYMeXEr",
    "outputId": "7bd92c7b-3583-416a-9b87-11eb77575a53"
   },
   "outputs": [
    {
     "data": {
      "text/plain": [
       "(1479, 2)"
      ]
     },
     "execution_count": 32,
     "metadata": {
      "tags": []
     },
     "output_type": "execute_result"
    }
   ],
   "source": [
    "#Check the shape of new dataframe in which rows must be equal to df_popular['productId'].nunique().\n",
    "ratings_mean_count.shape"
   ]
  },
  {
   "cell_type": "markdown",
   "metadata": {
    "id": "jRvQJYiaMON2"
   },
   "source": [
    "3. Split the data randomly into a train and test dataset. ( For example, split it in\n",
    "70/30 ratio) ( 2 marks)"
   ]
  },
  {
   "cell_type": "code",
   "execution_count": 37,
   "metadata": {
    "id": "IcIIi_H63LhG"
   },
   "outputs": [],
   "source": [
    "reader = Reader()\n",
    "df_UserUser = Dataset.load_from_df(df_popular[['user_id', 'prod_id', 'ratings']], reader)\n",
    "test_size = 0.30\n",
    "trainset,testset = train_test_split(df_UserUser,test_size=test_size)"
   ]
  },
  {
   "cell_type": "markdown",
   "metadata": {
    "id": "MnFbQ-axMU-P"
   },
   "source": [
    "4. Build Collaborative Filtering model. ( 10 marks)"
   ]
  },
  {
   "cell_type": "markdown",
   "metadata": {
    "id": "0ori0H2le7dA"
   },
   "source": [
    "Single Value Decomposition"
   ]
  },
  {
   "cell_type": "code",
   "execution_count": 38,
   "metadata": {
    "colab": {
     "base_uri": "https://localhost:8080/",
     "height": 202
    },
    "id": "tqoIPBLhe-4V",
    "outputId": "9031d9f5-0d7e-4cda-db2b-5578a51399ad"
   },
   "outputs": [
    {
     "data": {
      "text/html": [
       "<div>\n",
       "<style scoped>\n",
       "    .dataframe tbody tr th:only-of-type {\n",
       "        vertical-align: middle;\n",
       "    }\n",
       "\n",
       "    .dataframe tbody tr th {\n",
       "        vertical-align: top;\n",
       "    }\n",
       "\n",
       "    .dataframe thead th {\n",
       "        text-align: right;\n",
       "    }\n",
       "</style>\n",
       "<table border=\"1\" class=\"dataframe\">\n",
       "  <thead>\n",
       "    <tr style=\"text-align: right;\">\n",
       "      <th></th>\n",
       "      <th>uid</th>\n",
       "      <th>pid</th>\n",
       "      <th>r_ui</th>\n",
       "      <th>est</th>\n",
       "    </tr>\n",
       "  </thead>\n",
       "  <tbody>\n",
       "    <tr>\n",
       "      <th>0</th>\n",
       "      <td>A2QDOJFFLFGF18</td>\n",
       "      <td>B007W7PK04</td>\n",
       "      <td>4.0</td>\n",
       "      <td>4.635273</td>\n",
       "    </tr>\n",
       "    <tr>\n",
       "      <th>1</th>\n",
       "      <td>A3LGT6UZL99IW1</td>\n",
       "      <td>B001EYTPO8</td>\n",
       "      <td>2.0</td>\n",
       "      <td>4.438082</td>\n",
       "    </tr>\n",
       "    <tr>\n",
       "      <th>2</th>\n",
       "      <td>A1VQHH85U7PX0</td>\n",
       "      <td>B001DL9WDG</td>\n",
       "      <td>5.0</td>\n",
       "      <td>4.290725</td>\n",
       "    </tr>\n",
       "    <tr>\n",
       "      <th>3</th>\n",
       "      <td>A2WLNSZ9U0T1S3</td>\n",
       "      <td>B0002A9RFM</td>\n",
       "      <td>5.0</td>\n",
       "      <td>3.908519</td>\n",
       "    </tr>\n",
       "    <tr>\n",
       "      <th>4</th>\n",
       "      <td>AVPNQUVZWMDSX</td>\n",
       "      <td>B00008SCFL</td>\n",
       "      <td>4.0</td>\n",
       "      <td>4.249942</td>\n",
       "    </tr>\n",
       "  </tbody>\n",
       "</table>\n",
       "</div>"
      ],
      "text/plain": [
       "              uid         pid  r_ui       est\n",
       "0  A2QDOJFFLFGF18  B007W7PK04   4.0  4.635273\n",
       "1  A3LGT6UZL99IW1  B001EYTPO8   2.0  4.438082\n",
       "2   A1VQHH85U7PX0  B001DL9WDG   5.0  4.290725\n",
       "3  A2WLNSZ9U0T1S3  B0002A9RFM   5.0  3.908519\n",
       "4   AVPNQUVZWMDSX  B00008SCFL   4.0  4.249942"
      ]
     },
     "execution_count": 38,
     "metadata": {
      "tags": []
     },
     "output_type": "execute_result"
    }
   ],
   "source": [
    "#train SVD recommender\n",
    "algo = SVD()\n",
    "algo.fit(trainset)\n",
    "\n",
    "#make predictions on test set. \n",
    "test = algo.test(testset)\n",
    "test = pd.DataFrame(test)\n",
    "test.drop(\"details\", inplace=True, axis=1)\n",
    "test.columns = ['uid', 'pid', 'r_ui', 'est']\n",
    "test.head()"
   ]
  },
  {
   "cell_type": "code",
   "execution_count": 39,
   "metadata": {
    "id": "sFnd5VRu3Ljt"
   },
   "outputs": [],
   "source": [
    "#create model (matrix of predicted values)\n",
    "cf_model = test.pivot_table(index='uid', columns='pid', values='est').fillna(0)"
   ]
  },
  {
   "cell_type": "markdown",
   "metadata": {
    "id": "ba3-wyY-fKpv"
   },
   "source": [
    "\n",
    "USER- USER"
   ]
  },
  {
   "cell_type": "code",
   "execution_count": 40,
   "metadata": {
    "colab": {
     "base_uri": "https://localhost:8080/"
    },
    "id": "3Mcju6n5e86s",
    "outputId": "840baa21-ede4-47a6-dca5-07c8198ffb9f"
   },
   "outputs": [
    {
     "name": "stdout",
     "output_type": "stream",
     "text": [
      "Estimating biases using als...\n",
      "Computing the pearson_baseline similarity matrix...\n",
      "Done computing similarity matrix.\n"
     ]
    },
    {
     "data": {
      "text/plain": [
       "[Prediction(uid='A2QDOJFFLFGF18', iid='B007W7PK04', r_ui=4.0, est=4.28584229390681, details={'was_impossible': True, 'reason': 'User and/or item is unknown.'}),\n",
       " Prediction(uid='A3LGT6UZL99IW1', iid='B001EYTPO8', r_ui=2.0, est=4.28584229390681, details={'was_impossible': True, 'reason': 'User and/or item is unknown.'}),\n",
       " Prediction(uid='A1VQHH85U7PX0', iid='B001DL9WDG', r_ui=5.0, est=4.28584229390681, details={'was_impossible': True, 'reason': 'User and/or item is unknown.'}),\n",
       " Prediction(uid='A2WLNSZ9U0T1S3', iid='B0002A9RFM', r_ui=5.0, est=4.28584229390681, details={'was_impossible': True, 'reason': 'User and/or item is unknown.'}),\n",
       " Prediction(uid='AVPNQUVZWMDSX', iid='B00008SCFL', r_ui=4.0, est=4.28584229390681, details={'was_impossible': True, 'reason': 'User and/or item is unknown.'}),\n",
       " Prediction(uid='A20DZX38KRBIT8', iid='B0000AZW8X', r_ui=5.0, est=4.28584229390681, details={'was_impossible': True, 'reason': 'User and/or item is unknown.'}),\n",
       " Prediction(uid='A1435P5AMCPB3X', iid='B000FNJYZO', r_ui=5.0, est=4.28584229390681, details={'was_impossible': True, 'reason': 'User and/or item is unknown.'}),\n",
       " Prediction(uid='A18HE80910BTZI', iid='B00E7LOXTW', r_ui=4.0, est=4.28584229390681, details={'was_impossible': True, 'reason': 'User and/or item is unknown.'}),\n",
       " Prediction(uid='A2B7BUH8834Y6M', iid='B000086A17', r_ui=5.0, est=4.28584229390681, details={'was_impossible': True, 'reason': 'User and/or item is unknown.'}),\n",
       " Prediction(uid='A3R4794K2RVU1S', iid='B004OMV0CW', r_ui=5.0, est=4.28584229390681, details={'was_impossible': True, 'reason': 'User and/or item is unknown.'}),\n",
       " Prediction(uid='AOEAD7DPLZE53', iid='B004MKMH3M', r_ui=3.0, est=4.28584229390681, details={'was_impossible': True, 'reason': 'User and/or item is unknown.'}),\n",
       " Prediction(uid='A3LGT6UZL99IW1', iid='B000B7CM4E', r_ui=5.0, est=4.28584229390681, details={'was_impossible': True, 'reason': 'User and/or item is unknown.'}),\n",
       " Prediction(uid='A3EXWV8FNSSFL6', iid='B001EYV9TM', r_ui=5.0, est=4.28584229390681, details={'was_impossible': True, 'reason': 'User and/or item is unknown.'}),\n",
       " Prediction(uid='A3OXHLG6DIBRW8', iid='B004CLYEE6', r_ui=5.0, est=4.545454545454546, details={'actual_k': 0, 'was_impossible': False}),\n",
       " Prediction(uid='A19XMHRB3G4DIR', iid='B00155RGYM', r_ui=5.0, est=4.28584229390681, details={'was_impossible': True, 'reason': 'User and/or item is unknown.'}),\n",
       " Prediction(uid='A2NOW4U7W3F7RI', iid='B0097BEF0O', r_ui=4.0, est=4.28584229390681, details={'was_impossible': True, 'reason': 'User and/or item is unknown.'}),\n",
       " Prediction(uid='A3OXHLG6DIBRW8', iid='B0026M9YY8', r_ui=5.0, est=4.28584229390681, details={'was_impossible': True, 'reason': 'User and/or item is unknown.'}),\n",
       " Prediction(uid='A34BZM6S9L7QI4', iid='B00HXE4H1E', r_ui=5.0, est=4.28584229390681, details={'was_impossible': True, 'reason': 'User and/or item is unknown.'}),\n",
       " Prediction(uid='A1F1A0QQP2XVH5', iid='B0088CJT4U', r_ui=4.0, est=4.333333333333333, details={'actual_k': 0, 'was_impossible': False}),\n",
       " Prediction(uid='A15CL28ALB7MTZ', iid='B001QFYCXO', r_ui=4.0, est=4.28584229390681, details={'was_impossible': True, 'reason': 'User and/or item is unknown.'}),\n",
       " Prediction(uid='A3R4794K2RVU1S', iid='B0002NXNSG', r_ui=5.0, est=4.28584229390681, details={'was_impossible': True, 'reason': 'User and/or item is unknown.'}),\n",
       " Prediction(uid='A231WM2Z2JL0U3', iid='B00005QFZF', r_ui=5.0, est=4.28584229390681, details={'was_impossible': True, 'reason': 'User and/or item is unknown.'}),\n",
       " Prediction(uid='A30X750M8V1XXW', iid='B0000BZL1P', r_ui=5.0, est=4.28584229390681, details={'was_impossible': True, 'reason': 'User and/or item is unknown.'}),\n",
       " Prediction(uid='A1F9Z42CFF9IAY', iid='B0000AAAPF', r_ui=4.0, est=3.6, details={'actual_k': 0, 'was_impossible': False}),\n",
       " Prediction(uid='A5JLAU2ARJ0BO', iid='B0009K9Q2E', r_ui=5.0, est=4.28584229390681, details={'was_impossible': True, 'reason': 'User and/or item is unknown.'}),\n",
       " Prediction(uid='A18HE80910BTZI', iid='B008DWCRQW', r_ui=3.0, est=4.142857142857143, details={'actual_k': 0, 'was_impossible': False}),\n",
       " Prediction(uid='ADLVFFE4VBT8', iid='B000OH56ZS', r_ui=4.0, est=4.28584229390681, details={'was_impossible': True, 'reason': 'User and/or item is unknown.'}),\n",
       " Prediction(uid='A1435P5AMCPB3X', iid='B000GIQR0S', r_ui=3.0, est=4.28584229390681, details={'was_impossible': True, 'reason': 'User and/or item is unknown.'}),\n",
       " Prediction(uid='A1VHCO8RQFIGQJ', iid='B007PU2X6C', r_ui=4.0, est=4.28584229390681, details={'was_impossible': True, 'reason': 'User and/or item is unknown.'}),\n",
       " Prediction(uid='A1XXMNLOLKNO0I', iid='B008VO4S5K', r_ui=5.0, est=4.28584229390681, details={'was_impossible': True, 'reason': 'User and/or item is unknown.'}),\n",
       " Prediction(uid='A1CPRP3VFJRS1R', iid='B003N3GRCQ', r_ui=5.0, est=4.28584229390681, details={'was_impossible': True, 'reason': 'User and/or item is unknown.'}),\n",
       " Prediction(uid='A1UQBFCERIP7VJ', iid='B00FDLI9U4', r_ui=5.0, est=4.28584229390681, details={'was_impossible': True, 'reason': 'User and/or item is unknown.'}),\n",
       " Prediction(uid='A3OXHLG6DIBRW8', iid='B005Z63LWS', r_ui=5.0, est=4.28584229390681, details={'was_impossible': True, 'reason': 'User and/or item is unknown.'}),\n",
       " Prediction(uid='A3T7V207KRDE2O', iid='B000092TS9', r_ui=5.0, est=4.5, details={'actual_k': 0, 'was_impossible': False}),\n",
       " Prediction(uid='A9Y5O2R4D6EH5', iid='B0055R0YK4', r_ui=4.0, est=4.28584229390681, details={'was_impossible': True, 'reason': 'User and/or item is unknown.'}),\n",
       " Prediction(uid='ARBKYIVNYWK3C', iid='B000TH0VPS', r_ui=5.0, est=4.28584229390681, details={'was_impossible': True, 'reason': 'User and/or item is unknown.'}),\n",
       " Prediction(uid='A3CW0ZLUO5X2B1', iid='B0032OX1N4', r_ui=5.0, est=4.28584229390681, details={'was_impossible': True, 'reason': 'User and/or item is unknown.'}),\n",
       " Prediction(uid='A259MPG6SOL02P', iid='B000E71EW2', r_ui=5.0, est=4.28584229390681, details={'was_impossible': True, 'reason': 'User and/or item is unknown.'}),\n",
       " Prediction(uid='A30X750M8V1XXW', iid='B0017SVEDQ', r_ui=5.0, est=4.28584229390681, details={'was_impossible': True, 'reason': 'User and/or item is unknown.'}),\n",
       " Prediction(uid='A1X1CEGHTHMBL1', iid='B001E1Y5O6', r_ui=5.0, est=4.25, details={'actual_k': 0, 'was_impossible': False}),\n",
       " Prediction(uid='ARBKYIVNYWK3C', iid='B00IQ92L4K', r_ui=5.0, est=4.28584229390681, details={'was_impossible': True, 'reason': 'User and/or item is unknown.'}),\n",
       " Prediction(uid='A15CL28ALB7MTZ', iid='B002L6HDQA', r_ui=5.0, est=4.28584229390681, details={'was_impossible': True, 'reason': 'User and/or item is unknown.'}),\n",
       " Prediction(uid='A28UMA3GW9L124', iid='B005HEUWFW', r_ui=5.0, est=4.28584229390681, details={'was_impossible': True, 'reason': 'User and/or item is unknown.'}),\n",
       " Prediction(uid='A5JLAU2ARJ0BO', iid='B00009MDBY', r_ui=5.0, est=4.28584229390681, details={'was_impossible': True, 'reason': 'User and/or item is unknown.'}),\n",
       " Prediction(uid='A3A4ZAIBQWKOZS', iid='B00L2442H0', r_ui=5.0, est=4.909090909090909, details={'actual_k': 0, 'was_impossible': False}),\n",
       " Prediction(uid='A22CW0ZHY3NJH8', iid='B003I4FESI', r_ui=5.0, est=4.28584229390681, details={'was_impossible': True, 'reason': 'User and/or item is unknown.'}),\n",
       " Prediction(uid='A1EXGL6L0QQ0M5', iid='B001AQYJI2', r_ui=4.0, est=4.28584229390681, details={'was_impossible': True, 'reason': 'User and/or item is unknown.'}),\n",
       " Prediction(uid='A1CMD08Z49PGKQ', iid='B003XIJ3MW', r_ui=5.0, est=4.28584229390681, details={'was_impossible': True, 'reason': 'User and/or item is unknown.'}),\n",
       " Prediction(uid='A250AXLRBVYKB4', iid='B001TH7GSW', r_ui=5.0, est=4.714285714285714, details={'actual_k': 0, 'was_impossible': False}),\n",
       " Prediction(uid='A3PD8JD9L4WEII', iid='B001IUQB2W', r_ui=1.0, est=4.28584229390681, details={'was_impossible': True, 'reason': 'User and/or item is unknown.'}),\n",
       " Prediction(uid='A28UMA3GW9L124', iid='B000I98YWO', r_ui=5.0, est=4.28584229390681, details={'was_impossible': True, 'reason': 'User and/or item is unknown.'}),\n",
       " Prediction(uid='AYB4ELCS5AM8P', iid='B0057UUB1G', r_ui=5.0, est=4.28584229390681, details={'was_impossible': True, 'reason': 'User and/or item is unknown.'}),\n",
       " Prediction(uid='A1ODOGXEYECQQ8', iid='B002QEBMAK', r_ui=4.0, est=4.411764705882353, details={'actual_k': 0, 'was_impossible': False}),\n",
       " Prediction(uid='A1F7YU6O5RU432', iid='B00009X6PH', r_ui=5.0, est=4.28584229390681, details={'was_impossible': True, 'reason': 'User and/or item is unknown.'}),\n",
       " Prediction(uid='A1EH2S92FHWZRP', iid='B0011UEUOA', r_ui=4.0, est=4.28584229390681, details={'was_impossible': True, 'reason': 'User and/or item is unknown.'}),\n",
       " Prediction(uid='A1L64KDYO5BOJA', iid='B0015C4Y0Y', r_ui=5.0, est=4.28584229390681, details={'was_impossible': True, 'reason': 'User and/or item is unknown.'}),\n",
       " Prediction(uid='A23GFTVIETX7DS', iid='B00AYUZARY', r_ui=3.0, est=4.28584229390681, details={'was_impossible': True, 'reason': 'User and/or item is unknown.'}),\n",
       " Prediction(uid='A680RUE1FDO8B', iid='B000Q6UZBM', r_ui=3.0, est=4.28584229390681, details={'was_impossible': True, 'reason': 'User and/or item is unknown.'}),\n",
       " Prediction(uid='A2NYK9KWFMJV4Y', iid='B005GKYHJY', r_ui=4.0, est=4.28584229390681, details={'was_impossible': True, 'reason': 'User and/or item is unknown.'}),\n",
       " Prediction(uid='A1L64KDYO5BOJA', iid='B002EVP85K', r_ui=5.0, est=4.28584229390681, details={'was_impossible': True, 'reason': 'User and/or item is unknown.'}),\n",
       " Prediction(uid='AGOH8N902URMW', iid='B008B14TQ6', r_ui=5.0, est=4.28584229390681, details={'was_impossible': True, 'reason': 'User and/or item is unknown.'}),\n",
       " Prediction(uid='A1F7YU6O5RU432', iid='B008YQR8IY', r_ui=5.0, est=4.9, details={'actual_k': 0, 'was_impossible': False}),\n",
       " Prediction(uid='A3OXHLG6DIBRW8', iid='B000X5ZVS8', r_ui=5.0, est=4.28584229390681, details={'was_impossible': True, 'reason': 'User and/or item is unknown.'}),\n",
       " Prediction(uid='A1VHCO8RQFIGQJ', iid='B001CBDGHA', r_ui=4.0, est=4.28584229390681, details={'was_impossible': True, 'reason': 'User and/or item is unknown.'}),\n",
       " Prediction(uid='A30XZK10EZN9V4', iid='B00568KKOW', r_ui=4.0, est=4.28584229390681, details={'was_impossible': True, 'reason': 'User and/or item is unknown.'}),\n",
       " Prediction(uid='A4WEZJOIZIV4U', iid='B0042KFLJ4', r_ui=5.0, est=4.28584229390681, details={'was_impossible': True, 'reason': 'User and/or item is unknown.'}),\n",
       " Prediction(uid='A23GFTVIETX7DS', iid='B0006PIQE6', r_ui=5.0, est=4.28584229390681, details={'was_impossible': True, 'reason': 'User and/or item is unknown.'}),\n",
       " Prediction(uid='A6FIAB28IS79', iid='B001VAAJ5E', r_ui=2.0, est=4.28584229390681, details={'was_impossible': True, 'reason': 'User and/or item is unknown.'}),\n",
       " Prediction(uid='AGVWTYW0ULXHT', iid='B00BEGS4R0', r_ui=4.0, est=4.28584229390681, details={'was_impossible': True, 'reason': 'User and/or item is unknown.'}),\n",
       " Prediction(uid='A32O5FZH994CNY', iid='B00BI4JX2I', r_ui=4.0, est=4.28584229390681, details={'was_impossible': True, 'reason': 'User and/or item is unknown.'}),\n",
       " Prediction(uid='A3AYSYSLHU26U9', iid='B003UVCSZ6', r_ui=5.0, est=4.28584229390681, details={'was_impossible': True, 'reason': 'User and/or item is unknown.'}),\n",
       " Prediction(uid='A1X1CEGHTHMBL1', iid='B004XANO24', r_ui=5.0, est=4.28584229390681, details={'was_impossible': True, 'reason': 'User and/or item is unknown.'}),\n",
       " Prediction(uid='A1UQBFCERIP7VJ', iid='B00JX1ZS5O', r_ui=5.0, est=4.461538461538462, details={'actual_k': 0, 'was_impossible': False}),\n",
       " Prediction(uid='A1EXGL6L0QQ0M5', iid='B008JJLW4M', r_ui=5.0, est=4.28584229390681, details={'was_impossible': True, 'reason': 'User and/or item is unknown.'}),\n",
       " Prediction(uid='A19W47CXJJP1MI', iid='B003XU78PE', r_ui=5.0, est=4.28584229390681, details={'was_impossible': True, 'reason': 'User and/or item is unknown.'}),\n",
       " Prediction(uid='A231WM2Z2JL0U3', iid='B000066JQU', r_ui=5.0, est=4.28584229390681, details={'was_impossible': True, 'reason': 'User and/or item is unknown.'}),\n",
       " Prediction(uid='A2L42QEWR77PKZ', iid='B008LUWRAM', r_ui=5.0, est=4.28584229390681, details={'was_impossible': True, 'reason': 'User and/or item is unknown.'}),\n",
       " Prediction(uid='A1EH2S92FHWZRP', iid='B003ES5ZUU', r_ui=5.0, est=4.28584229390681, details={'was_impossible': True, 'reason': 'User and/or item is unknown.'}),\n",
       " Prediction(uid='A1CMD08Z49PGKQ', iid='B00FZ03CD2', r_ui=5.0, est=4.28584229390681, details={'was_impossible': True, 'reason': 'User and/or item is unknown.'}),\n",
       " Prediction(uid='A1XXMNLOLKNO0I', iid='B005IKJ62A', r_ui=5.0, est=4.28584229390681, details={'was_impossible': True, 'reason': 'User and/or item is unknown.'}),\n",
       " Prediction(uid='A18HE80910BTZI', iid='B0007UQNKO', r_ui=3.0, est=4.28584229390681, details={'was_impossible': True, 'reason': 'User and/or item is unknown.'}),\n",
       " Prediction(uid='AN81JUYW2SL24', iid='B0000649ER', r_ui=5.0, est=4.28584229390681, details={'was_impossible': True, 'reason': 'User and/or item is unknown.'}),\n",
       " Prediction(uid='A3EZEP0FX5BC1P', iid='B00BR3ZYIW', r_ui=5.0, est=4.28584229390681, details={'was_impossible': True, 'reason': 'User and/or item is unknown.'}),\n",
       " Prediction(uid='AGVWTYW0ULXHT', iid='B00E8CF0CE', r_ui=4.0, est=4.28584229390681, details={'was_impossible': True, 'reason': 'User and/or item is unknown.'}),\n",
       " Prediction(uid='A10Y058K7B96C6', iid='B004CLYEFK', r_ui=5.0, est=4.6, details={'actual_k': 0, 'was_impossible': False}),\n",
       " Prediction(uid='A12DQZKRKTNF5E', iid='B00GYM8WYO', r_ui=4.0, est=4.28584229390681, details={'was_impossible': True, 'reason': 'User and/or item is unknown.'}),\n",
       " Prediction(uid='A23ONMGKEWDG4M', iid='B000B69WVG', r_ui=5.0, est=4.28584229390681, details={'was_impossible': True, 'reason': 'User and/or item is unknown.'}),\n",
       " Prediction(uid='A11KZ906QD08C5', iid='B0057CL3D4', r_ui=5.0, est=4.28584229390681, details={'was_impossible': True, 'reason': 'User and/or item is unknown.'}),\n",
       " Prediction(uid='A25C2M3QF9G7OQ', iid='B00JKH25DO', r_ui=4.0, est=4.28584229390681, details={'was_impossible': True, 'reason': 'User and/or item is unknown.'}),\n",
       " Prediction(uid='AEWYUPCNDV7HY', iid='B0001FTVEK', r_ui=4.0, est=4.28584229390681, details={'was_impossible': True, 'reason': 'User and/or item is unknown.'}),\n",
       " Prediction(uid='A1VQHH85U7PX0', iid='B00007EDM8', r_ui=3.0, est=4.3076923076923075, details={'actual_k': 0, 'was_impossible': False}),\n",
       " Prediction(uid='A5JLAU2ARJ0BO', iid='B000083K9F', r_ui=5.0, est=4.28584229390681, details={'was_impossible': True, 'reason': 'User and/or item is unknown.'}),\n",
       " Prediction(uid='A22CW0ZHY3NJH8', iid='B0002KKIUA', r_ui=5.0, est=4.28584229390681, details={'was_impossible': True, 'reason': 'User and/or item is unknown.'}),\n",
       " Prediction(uid='AWPODHOB4GFWL', iid='B000WS204Y', r_ui=5.0, est=4.28584229390681, details={'was_impossible': True, 'reason': 'User and/or item is unknown.'}),\n",
       " Prediction(uid='ABQWMANK4AR63', iid='B00622AG6S', r_ui=4.0, est=4.28584229390681, details={'was_impossible': True, 'reason': 'User and/or item is unknown.'}),\n",
       " Prediction(uid='A3CG93783LP0FO', iid='B0046TFH5Y', r_ui=5.0, est=4.28584229390681, details={'was_impossible': True, 'reason': 'User and/or item is unknown.'}),\n",
       " Prediction(uid='AOEAD7DPLZE53', iid='B004JISIE4', r_ui=5.0, est=4.28584229390681, details={'was_impossible': True, 'reason': 'User and/or item is unknown.'}),\n",
       " Prediction(uid='A28UMA3GW9L124', iid='B0001XGQCC', r_ui=5.0, est=4.28584229390681, details={'was_impossible': True, 'reason': 'User and/or item is unknown.'}),\n",
       " Prediction(uid='A3OA4DV4L81N1D', iid='B00A2BWAAK', r_ui=4.0, est=4.28584229390681, details={'was_impossible': True, 'reason': 'User and/or item is unknown.'}),\n",
       " Prediction(uid='A3TAS1AG6FMBQW', iid='B003GTSHY8', r_ui=5.0, est=4.28584229390681, details={'was_impossible': True, 'reason': 'User and/or item is unknown.'}),\n",
       " Prediction(uid='A2L42QEWR77PKZ', iid='B00CD8ADKO', r_ui=5.0, est=3.75, details={'actual_k': 0, 'was_impossible': False}),\n",
       " Prediction(uid='A2WB7LZ595CR50', iid='B005N130Y4', r_ui=4.0, est=4.28584229390681, details={'was_impossible': True, 'reason': 'User and/or item is unknown.'}),\n",
       " Prediction(uid='A1ODOGXEYECQQ8', iid='B005E8MVV4', r_ui=4.0, est=4.28584229390681, details={'was_impossible': True, 'reason': 'User and/or item is unknown.'}),\n",
       " Prediction(uid='A3CW0ZLUO5X2B1', iid='B001L7UL50', r_ui=4.0, est=4.28584229390681, details={'was_impossible': True, 'reason': 'User and/or item is unknown.'}),\n",
       " Prediction(uid='A3NEAETOSXDBOM', iid='B00873AC28', r_ui=3.0, est=4.28584229390681, details={'was_impossible': True, 'reason': 'User and/or item is unknown.'}),\n",
       " Prediction(uid='A1EH2S92FHWZRP', iid='B004BLIQDC', r_ui=5.0, est=4.28584229390681, details={'was_impossible': True, 'reason': 'User and/or item is unknown.'}),\n",
       " Prediction(uid='A1T1YSCDW0PD25', iid='B001A4HAFS', r_ui=5.0, est=4.28584229390681, details={'was_impossible': True, 'reason': 'User and/or item is unknown.'}),\n",
       " Prediction(uid='AT6CZDCP4TRGA', iid='B0039NLS4C', r_ui=5.0, est=4.0, details={'actual_k': 0, 'was_impossible': False}),\n",
       " Prediction(uid='A3PD8JD9L4WEII', iid='B003VAGXZC', r_ui=5.0, est=4.28584229390681, details={'was_impossible': True, 'reason': 'User and/or item is unknown.'}),\n",
       " Prediction(uid='A2NOW4U7W3F7RI', iid='B001SJVU6K', r_ui=1.0, est=4.588235294117647, details={'actual_k': 0, 'was_impossible': False}),\n",
       " Prediction(uid='A1YEPFLLH42OU1', iid='B002HWWDAY', r_ui=5.0, est=4.28584229390681, details={'was_impossible': True, 'reason': 'User and/or item is unknown.'}),\n",
       " Prediction(uid='A10Y058K7B96C6', iid='B0058GK55Q', r_ui=5.0, est=4.28584229390681, details={'was_impossible': True, 'reason': 'User and/or item is unknown.'}),\n",
       " Prediction(uid='A250AXLRBVYKB4', iid='B001P9KF14', r_ui=5.0, est=4.28584229390681, details={'was_impossible': True, 'reason': 'User and/or item is unknown.'}),\n",
       " Prediction(uid='A4WEZJOIZIV4U', iid='B00B7JLZQQ', r_ui=5.0, est=4.28584229390681, details={'was_impossible': True, 'reason': 'User and/or item is unknown.'}),\n",
       " Prediction(uid='A2V1J3JT5OOZFO', iid='B006GWO5WK', r_ui=5.0, est=3.6666666666666665, details={'actual_k': 0, 'was_impossible': False}),\n",
       " Prediction(uid='A6VXZ1EEPRTLV', iid='B004BI6MVS', r_ui=5.0, est=4.28584229390681, details={'was_impossible': True, 'reason': 'User and/or item is unknown.'}),\n",
       " Prediction(uid='A18S2VGUH9SCV5', iid='B001UJK66I', r_ui=2.0, est=4.28584229390681, details={'was_impossible': True, 'reason': 'User and/or item is unknown.'}),\n",
       " Prediction(uid='A18S2VGUH9SCV5', iid='B004YIZW16', r_ui=2.0, est=4.28584229390681, details={'was_impossible': True, 'reason': 'User and/or item is unknown.'}),\n",
       " Prediction(uid='A680RUE1FDO8B', iid='B001AALJ9U', r_ui=3.0, est=4.28584229390681, details={'was_impossible': True, 'reason': 'User and/or item is unknown.'}),\n",
       " Prediction(uid='A1VHCO8RQFIGQJ', iid='B0031AQ302', r_ui=5.0, est=4.28584229390681, details={'was_impossible': True, 'reason': 'User and/or item is unknown.'}),\n",
       " Prediction(uid='A3OXHLG6DIBRW8', iid='B005PUZOYM', r_ui=5.0, est=4.28584229390681, details={'was_impossible': True, 'reason': 'User and/or item is unknown.'}),\n",
       " Prediction(uid='AYB4ELCS5AM8P', iid='B00G4V0QSK', r_ui=5.0, est=4.28584229390681, details={'was_impossible': True, 'reason': 'User and/or item is unknown.'}),\n",
       " Prediction(uid='A1PN2U0AWXGVML', iid='B0047DVVVI', r_ui=5.0, est=4.28584229390681, details={'was_impossible': True, 'reason': 'User and/or item is unknown.'}),\n",
       " Prediction(uid='A2AY4YUOX2N1BQ', iid='B001EH8FZA', r_ui=5.0, est=4.28584229390681, details={'was_impossible': True, 'reason': 'User and/or item is unknown.'}),\n",
       " Prediction(uid='A19W47CXJJP1MI', iid='B001OXKPDO', r_ui=3.0, est=4.28584229390681, details={'was_impossible': True, 'reason': 'User and/or item is unknown.'}),\n",
       " Prediction(uid='A3AYSYSLHU26U9', iid='B008MF48J4', r_ui=4.0, est=4.28584229390681, details={'was_impossible': True, 'reason': 'User and/or item is unknown.'}),\n",
       " Prediction(uid='A20DZX38KRBIT8', iid='B001IOHAVO', r_ui=1.0, est=4.28584229390681, details={'was_impossible': True, 'reason': 'User and/or item is unknown.'}),\n",
       " Prediction(uid='A1F1A0QQP2XVH5', iid='B004WOBCXO', r_ui=3.0, est=4.28584229390681, details={'was_impossible': True, 'reason': 'User and/or item is unknown.'}),\n",
       " Prediction(uid='A2XRMQA6PJ5ZJ8', iid='B000A3V8SA', r_ui=5.0, est=4.28584229390681, details={'was_impossible': True, 'reason': 'User and/or item is unknown.'}),\n",
       " Prediction(uid='A6FIAB28IS79', iid='B000OQB76G', r_ui=4.0, est=4.28584229390681, details={'was_impossible': True, 'reason': 'User and/or item is unknown.'}),\n",
       " Prediction(uid='AAA0TUKS5VBSA', iid='B00CIZ2238', r_ui=5.0, est=4.28584229390681, details={'was_impossible': True, 'reason': 'User and/or item is unknown.'}),\n",
       " Prediction(uid='A1E1LEVQ9VQNK', iid='B000BY52NK', r_ui=5.0, est=4.28584229390681, details={'was_impossible': True, 'reason': 'User and/or item is unknown.'}),\n",
       " Prediction(uid='A3NEAETOSXDBOM', iid='B00DES74YU', r_ui=5.0, est=4.28584229390681, details={'was_impossible': True, 'reason': 'User and/or item is unknown.'}),\n",
       " Prediction(uid='A680RUE1FDO8B', iid='B000TMI0VU', r_ui=4.0, est=4.28584229390681, details={'was_impossible': True, 'reason': 'User and/or item is unknown.'}),\n",
       " Prediction(uid='A3REK3OFONWB1Q', iid='B0002EXF1A', r_ui=5.0, est=4.28584229390681, details={'was_impossible': True, 'reason': 'User and/or item is unknown.'}),\n",
       " Prediction(uid='ALDAF4VVLFRHP', iid='B004CLYEDC', r_ui=5.0, est=4.28584229390681, details={'was_impossible': True, 'reason': 'User and/or item is unknown.'}),\n",
       " Prediction(uid='A1F9Z42CFF9IAY', iid='B000I1YIDQ', r_ui=4.0, est=4.28584229390681, details={'was_impossible': True, 'reason': 'User and/or item is unknown.'}),\n",
       " Prediction(uid='A3A4ZAIBQWKOZS', iid='B003NYSZUW', r_ui=5.0, est=4.28584229390681, details={'was_impossible': True, 'reason': 'User and/or item is unknown.'}),\n",
       " Prediction(uid='AAA0TUKS5VBSA', iid='B00E0HITQ6', r_ui=4.0, est=4.28584229390681, details={'was_impossible': True, 'reason': 'User and/or item is unknown.'}),\n",
       " Prediction(uid='A1VHCO8RQFIGQJ', iid='B002HMC7A0', r_ui=5.0, est=4.28584229390681, details={'was_impossible': True, 'reason': 'User and/or item is unknown.'}),\n",
       " Prediction(uid='A1F9Z42CFF9IAY', iid='B000M6XKEK', r_ui=4.0, est=4.28584229390681, details={'was_impossible': True, 'reason': 'User and/or item is unknown.'}),\n",
       " Prediction(uid='A1RL1OTV8IJMVD', iid='B00EMB4LU8', r_ui=3.0, est=4.0, details={'actual_k': 0, 'was_impossible': False}),\n",
       " Prediction(uid='A231WM2Z2JL0U3', iid='B00005AC8J', r_ui=5.0, est=4.28584229390681, details={'was_impossible': True, 'reason': 'User and/or item is unknown.'}),\n",
       " Prediction(uid='AGVWTYW0ULXHT', iid='B006FLENJC', r_ui=4.0, est=4.28584229390681, details={'was_impossible': True, 'reason': 'User and/or item is unknown.'}),\n",
       " Prediction(uid='A2XRMQA6PJ5ZJ8', iid='B00005I9Q0', r_ui=4.0, est=4.28584229390681, details={'was_impossible': True, 'reason': 'User and/or item is unknown.'}),\n",
       " Prediction(uid='A19XMHRB3G4DIR', iid='B0013PSOT0', r_ui=4.0, est=4.28584229390681, details={'was_impossible': True, 'reason': 'User and/or item is unknown.'}),\n",
       " Prediction(uid='A1EKSETIBS9ETQ', iid='B00AEEDRFM', r_ui=5.0, est=4.28584229390681, details={'was_impossible': True, 'reason': 'User and/or item is unknown.'}),\n",
       " Prediction(uid='A15CL28ALB7MTZ', iid='B004YIZW16', r_ui=3.0, est=4.28584229390681, details={'was_impossible': True, 'reason': 'User and/or item is unknown.'}),\n",
       " Prediction(uid='A28UMA3GW9L124', iid='B008HO9DK4', r_ui=1.0, est=4.28584229390681, details={'was_impossible': True, 'reason': 'User and/or item is unknown.'}),\n",
       " Prediction(uid='A1T1YSCDW0PD25', iid='B0006TIA02', r_ui=5.0, est=4.28584229390681, details={'was_impossible': True, 'reason': 'User and/or item is unknown.'}),\n",
       " Prediction(uid='A6VXZ1EEPRTLV', iid='B005IA843W', r_ui=3.0, est=4.28584229390681, details={'was_impossible': True, 'reason': 'User and/or item is unknown.'}),\n",
       " Prediction(uid='AN81JUYW2SL24', iid='B000VE2RP6', r_ui=4.0, est=4.28584229390681, details={'was_impossible': True, 'reason': 'User and/or item is unknown.'}),\n",
       " Prediction(uid='A3LGT6UZL99IW1', iid='B00006HYJ2', r_ui=1.0, est=4.28584229390681, details={'was_impossible': True, 'reason': 'User and/or item is unknown.'}),\n",
       " Prediction(uid='A203OCQQ12MAVT', iid='B00194101O', r_ui=5.0, est=4.28584229390681, details={'was_impossible': True, 'reason': 'User and/or item is unknown.'}),\n",
       " Prediction(uid='A38KK0SZYEH5UD', iid='B000AMLXHW', r_ui=1.0, est=4.28584229390681, details={'was_impossible': True, 'reason': 'User and/or item is unknown.'}),\n",
       " Prediction(uid='AN81JUYW2SL24', iid='B0032UWTGI', r_ui=4.0, est=4.28584229390681, details={'was_impossible': True, 'reason': 'User and/or item is unknown.'}),\n",
       " Prediction(uid='AGVWTYW0ULXHT', iid='B00FC2R7ZC', r_ui=4.0, est=4.28584229390681, details={'was_impossible': True, 'reason': 'User and/or item is unknown.'}),\n",
       " Prediction(uid='A4WEZJOIZIV4U', iid='B004UTQRHW', r_ui=5.0, est=4.28584229390681, details={'was_impossible': True, 'reason': 'User and/or item is unknown.'}),\n",
       " Prediction(uid='A6FIAB28IS79', iid='B004J3ZV62', r_ui=5.0, est=4.28584229390681, details={'was_impossible': True, 'reason': 'User and/or item is unknown.'}),\n",
       " Prediction(uid='A2NOW4U7W3F7RI', iid='B00H8O8D96', r_ui=5.0, est=4.28584229390681, details={'was_impossible': True, 'reason': 'User and/or item is unknown.'}),\n",
       " Prediction(uid='A3OXHLG6DIBRW8', iid='B002HWRJY4', r_ui=5.0, est=4.28584229390681, details={'was_impossible': True, 'reason': 'User and/or item is unknown.'}),\n",
       " Prediction(uid='AGVWTYW0ULXHT', iid='B000VX6XL6', r_ui=3.0, est=4.28584229390681, details={'was_impossible': True, 'reason': 'User and/or item is unknown.'}),\n",
       " Prediction(uid='AOEAD7DPLZE53', iid='B000QJ6KXQ', r_ui=5.0, est=4.28584229390681, details={'was_impossible': True, 'reason': 'User and/or item is unknown.'}),\n",
       " Prediction(uid='A680RUE1FDO8B', iid='B00FLNYH8M', r_ui=5.0, est=4.28584229390681, details={'was_impossible': True, 'reason': 'User and/or item is unknown.'}),\n",
       " Prediction(uid='A3TAS1AG6FMBQW', iid='B00006I5NE', r_ui=5.0, est=4.28584229390681, details={'was_impossible': True, 'reason': 'User and/or item is unknown.'}),\n",
       " Prediction(uid='AWPODHOB4GFWL', iid='B00022TNHM', r_ui=5.0, est=4.28584229390681, details={'was_impossible': True, 'reason': 'User and/or item is unknown.'}),\n",
       " Prediction(uid='A3PD8JD9L4WEII', iid='B009WG6LLA', r_ui=4.0, est=4.28584229390681, details={'was_impossible': True, 'reason': 'User and/or item is unknown.'}),\n",
       " Prediction(uid='AGOH8N902URMW', iid='B00BBXTUA6', r_ui=5.0, est=4.28584229390681, details={'was_impossible': True, 'reason': 'User and/or item is unknown.'}),\n",
       " Prediction(uid='ARBKYIVNYWK3C', iid='B009E6J8U4', r_ui=3.0, est=4.28584229390681, details={'was_impossible': True, 'reason': 'User and/or item is unknown.'}),\n",
       " Prediction(uid='A1QVFHPY8418HC', iid='B00902SFC4', r_ui=5.0, est=4.28584229390681, details={'was_impossible': True, 'reason': 'User and/or item is unknown.'}),\n",
       " Prediction(uid='A3CW0ZLUO5X2B1', iid='B003T5KXJQ', r_ui=5.0, est=4.214285714285714, details={'actual_k': 0, 'was_impossible': False}),\n",
       " Prediction(uid='A2L42QEWR77PKZ', iid='B0049AVWAO', r_ui=5.0, est=4.28584229390681, details={'was_impossible': True, 'reason': 'User and/or item is unknown.'}),\n",
       " Prediction(uid='A1X1CEGHTHMBL1', iid='B0030H0MSA', r_ui=5.0, est=4.28584229390681, details={'was_impossible': True, 'reason': 'User and/or item is unknown.'}),\n",
       " Prediction(uid='AGOH8N902URMW', iid='B00EPZEU70', r_ui=5.0, est=4.28584229390681, details={'was_impossible': True, 'reason': 'User and/or item is unknown.'}),\n",
       " Prediction(uid='A2NYK9KWFMJV4Y', iid='B0000608R3', r_ui=5.0, est=4.28584229390681, details={'was_impossible': True, 'reason': 'User and/or item is unknown.'}),\n",
       " Prediction(uid='A18S2VGUH9SCV5', iid='B0096239G0', r_ui=3.0, est=4.28584229390681, details={'was_impossible': True, 'reason': 'User and/or item is unknown.'}),\n",
       " Prediction(uid='A34BZM6S9L7QI4', iid='B00JCSLDAW', r_ui=5.0, est=4.28584229390681, details={'was_impossible': True, 'reason': 'User and/or item is unknown.'}),\n",
       " Prediction(uid='A259MPG6SOL02P', iid='B004CCS266', r_ui=2.0, est=4.28584229390681, details={'was_impossible': True, 'reason': 'User and/or item is unknown.'}),\n",
       " Prediction(uid='A1435P5AMCPB3X', iid='B0000AZK0D', r_ui=5.0, est=4.28584229390681, details={'was_impossible': True, 'reason': 'User and/or item is unknown.'}),\n",
       " Prediction(uid='A2KYRPDKVBI2R4', iid='B002EE996Q', r_ui=5.0, est=4.28584229390681, details={'was_impossible': True, 'reason': 'User and/or item is unknown.'}),\n",
       " Prediction(uid='A22CW0ZHY3NJH8', iid='B00BB6LTI4', r_ui=5.0, est=4.28584229390681, details={'was_impossible': True, 'reason': 'User and/or item is unknown.'}),\n",
       " Prediction(uid='A2NOW4U7W3F7RI', iid='B0033RY7YC', r_ui=5.0, est=4.28584229390681, details={'was_impossible': True, 'reason': 'User and/or item is unknown.'}),\n",
       " Prediction(uid='A6VXZ1EEPRTLV', iid='B001LJG102', r_ui=4.0, est=4.28584229390681, details={'was_impossible': True, 'reason': 'User and/or item is unknown.'}),\n",
       " Prediction(uid='A680RUE1FDO8B', iid='B004URTJ6U', r_ui=4.0, est=4.28584229390681, details={'was_impossible': True, 'reason': 'User and/or item is unknown.'}),\n",
       " Prediction(uid='A23ONMGKEWDG4M', iid='B000H7GFWS', r_ui=5.0, est=4.28584229390681, details={'was_impossible': True, 'reason': 'User and/or item is unknown.'}),\n",
       " Prediction(uid='A3OXHLG6DIBRW8', iid='B003Y74AX4', r_ui=4.0, est=4.28584229390681, details={'was_impossible': True, 'reason': 'User and/or item is unknown.'}),\n",
       " Prediction(uid='A3FEGTOLCWXSV4', iid='B002VPDM2A', r_ui=5.0, est=4.5, details={'actual_k': 0, 'was_impossible': False}),\n",
       " Prediction(uid='A3OXHLG6DIBRW8', iid='B003LZB8RU', r_ui=5.0, est=4.28584229390681, details={'was_impossible': True, 'reason': 'User and/or item is unknown.'}),\n",
       " Prediction(uid='A3OXHLG6DIBRW8', iid='B005J0RAI6', r_ui=5.0, est=4.28584229390681, details={'was_impossible': True, 'reason': 'User and/or item is unknown.'}),\n",
       " Prediction(uid='A1RL1OTV8IJMVD', iid='B005KSQHLS', r_ui=3.0, est=4.28584229390681, details={'was_impossible': True, 'reason': 'User and/or item is unknown.'}),\n",
       " Prediction(uid='A3LGT6UZL99IW1', iid='B000CSGJCS', r_ui=5.0, est=4.28584229390681, details={'was_impossible': True, 'reason': 'User and/or item is unknown.'}),\n",
       " Prediction(uid='A32O5FZH994CNY', iid='B00007KDVJ', r_ui=5.0, est=4.28584229390681, details={'was_impossible': True, 'reason': 'User and/or item is unknown.'}),\n",
       " Prediction(uid='A34BZM6S9L7QI4', iid='B007PZYBTY', r_ui=5.0, est=4.28584229390681, details={'was_impossible': True, 'reason': 'User and/or item is unknown.'}),\n",
       " Prediction(uid='A12DQZKRKTNF5E', iid='B005C31HC0', r_ui=3.0, est=4.28584229390681, details={'was_impossible': True, 'reason': 'User and/or item is unknown.'}),\n",
       " Prediction(uid='A1ODOGXEYECQQ8', iid='B000U0JYZ2', r_ui=5.0, est=4.28584229390681, details={'was_impossible': True, 'reason': 'User and/or item is unknown.'}),\n",
       " Prediction(uid='A1EKSETIBS9ETQ', iid='B00D02AG7C', r_ui=3.0, est=4.28584229390681, details={'was_impossible': True, 'reason': 'User and/or item is unknown.'}),\n",
       " Prediction(uid='A3FEGTOLCWXSV4', iid='B00408GUNY', r_ui=3.0, est=4.28584229390681, details={'was_impossible': True, 'reason': 'User and/or item is unknown.'}),\n",
       " Prediction(uid='A3REK3OFONWB1Q', iid='B000LYABGS', r_ui=3.0, est=4.28584229390681, details={'was_impossible': True, 'reason': 'User and/or item is unknown.'}),\n",
       " Prediction(uid='A250AXLRBVYKB4', iid='B000IE5XIC', r_ui=5.0, est=4.28584229390681, details={'was_impossible': True, 'reason': 'User and/or item is unknown.'}),\n",
       " Prediction(uid='A250AXLRBVYKB4', iid='B001RB1XVQ', r_ui=1.0, est=4.28584229390681, details={'was_impossible': True, 'reason': 'User and/or item is unknown.'}),\n",
       " Prediction(uid='A3NEAETOSXDBOM', iid='B000BKJZ9Q', r_ui=5.0, est=4.25, details={'actual_k': 0, 'was_impossible': False}),\n",
       " Prediction(uid='A12DQZKRKTNF5E', iid='B00I4Z3JEM', r_ui=5.0, est=4.28584229390681, details={'was_impossible': True, 'reason': 'User and/or item is unknown.'}),\n",
       " Prediction(uid='A20DZX38KRBIT8', iid='B002HIAB98', r_ui=1.0, est=4.28584229390681, details={'was_impossible': True, 'reason': 'User and/or item is unknown.'}),\n",
       " Prediction(uid='A19W47CXJJP1MI', iid='B0088CJT4U', r_ui=4.0, est=4.5, details={'actual_k': 0, 'was_impossible': False}),\n",
       " Prediction(uid='A25C2M3QF9G7OQ', iid='B002MAPRYU', r_ui=5.0, est=4.28584229390681, details={'was_impossible': True, 'reason': 'User and/or item is unknown.'}),\n",
       " Prediction(uid='A1RL1OTV8IJMVD', iid='B003LVZO8I', r_ui=4.0, est=4.0, details={'actual_k': 0, 'was_impossible': False}),\n",
       " Prediction(uid='A1RL1OTV8IJMVD', iid='B00DQBA4D8', r_ui=4.0, est=4.28584229390681, details={'was_impossible': True, 'reason': 'User and/or item is unknown.'}),\n",
       " Prediction(uid='AGVWTYW0ULXHT', iid='B00ENZRS76', r_ui=5.0, est=4.090909090909091, details={'actual_k': 0, 'was_impossible': False}),\n",
       " Prediction(uid='A15QYHQH80W30L', iid='B0007W1E4W', r_ui=5.0, est=4.28584229390681, details={'was_impossible': True, 'reason': 'User and/or item is unknown.'}),\n",
       " Prediction(uid='A1143YEAZYMYHJ', iid='B005X9XVNQ', r_ui=4.0, est=4.28584229390681, details={'was_impossible': True, 'reason': 'User and/or item is unknown.'}),\n",
       " Prediction(uid='AAA0TUKS5VBSA', iid='B00006I53D', r_ui=4.0, est=4.28584229390681, details={'was_impossible': True, 'reason': 'User and/or item is unknown.'}),\n",
       " Prediction(uid='A2V1J3JT5OOZFO', iid='B007RFI81Y', r_ui=2.0, est=4.28584229390681, details={'was_impossible': True, 'reason': 'User and/or item is unknown.'}),\n",
       " Prediction(uid='A20OBCQWBKCGZT', iid='B00CIRLJPI', r_ui=5.0, est=4.28584229390681, details={'was_impossible': True, 'reason': 'User and/or item is unknown.'}),\n",
       " Prediction(uid='A1CMD08Z49PGKQ', iid='B0092ICXGK', r_ui=5.0, est=4.28584229390681, details={'was_impossible': True, 'reason': 'User and/or item is unknown.'}),\n",
       " Prediction(uid='A1435P5AMCPB3X', iid='B000TAQ7MG', r_ui=5.0, est=4.28584229390681, details={'was_impossible': True, 'reason': 'User and/or item is unknown.'}),\n",
       " Prediction(uid='A2AY4YUOX2N1BQ', iid='B0030U9ET0', r_ui=4.0, est=4.28584229390681, details={'was_impossible': True, 'reason': 'User and/or item is unknown.'}),\n",
       " Prediction(uid='A6VXZ1EEPRTLV', iid='B0062EUE54', r_ui=5.0, est=4.28584229390681, details={'was_impossible': True, 'reason': 'User and/or item is unknown.'}),\n",
       " Prediction(uid='A259MPG6SOL02P', iid='B000OYHU1Y', r_ui=5.0, est=4.28584229390681, details={'was_impossible': True, 'reason': 'User and/or item is unknown.'}),\n",
       " Prediction(uid='ADLVFFE4VBT8', iid='B003UE52ME', r_ui=5.0, est=4.28584229390681, details={'was_impossible': True, 'reason': 'User and/or item is unknown.'}),\n",
       " Prediction(uid='A2NOW4U7W3F7RI', iid='B0044CL1N0', r_ui=5.0, est=4.28584229390681, details={'was_impossible': True, 'reason': 'User and/or item is unknown.'}),\n",
       " Prediction(uid='A1L64KDYO5BOJA', iid='B0007VPFI4', r_ui=5.0, est=4.28584229390681, details={'was_impossible': True, 'reason': 'User and/or item is unknown.'}),\n",
       " Prediction(uid='A3NHUQ33CFH3VM', iid='B00EHDTQQ0', r_ui=5.0, est=4.28584229390681, details={'was_impossible': True, 'reason': 'User and/or item is unknown.'}),\n",
       " Prediction(uid='A20OBCQWBKCGZT', iid='B0046RE60I', r_ui=5.0, est=4.0, details={'actual_k': 0, 'was_impossible': False}),\n",
       " Prediction(uid='AEWYUPCNDV7HY', iid='B00008VSLA', r_ui=5.0, est=4.28584229390681, details={'was_impossible': True, 'reason': 'User and/or item is unknown.'}),\n",
       " Prediction(uid='A1F9Z42CFF9IAY', iid='B00DB9WCR6', r_ui=4.0, est=4.28584229390681, details={'was_impossible': True, 'reason': 'User and/or item is unknown.'}),\n",
       " Prediction(uid='A231WM2Z2JL0U3', iid='B00004SSRC', r_ui=5.0, est=4.28584229390681, details={'was_impossible': True, 'reason': 'User and/or item is unknown.'}),\n",
       " Prediction(uid='A1CPRP3VFJRS1R', iid='B0001YFZ46', r_ui=2.0, est=4.28584229390681, details={'was_impossible': True, 'reason': 'User and/or item is unknown.'}),\n",
       " Prediction(uid='A231WM2Z2JL0U3', iid='B00004SA30', r_ui=5.0, est=4.28584229390681, details={'was_impossible': True, 'reason': 'User and/or item is unknown.'}),\n",
       " Prediction(uid='A1XXMNLOLKNO0I', iid='B00009R6UA', r_ui=5.0, est=4.28584229390681, details={'was_impossible': True, 'reason': 'User and/or item is unknown.'}),\n",
       " Prediction(uid='A250AXLRBVYKB4', iid='B00408GUNY', r_ui=4.0, est=4.28584229390681, details={'was_impossible': True, 'reason': 'User and/or item is unknown.'}),\n",
       " Prediction(uid='A38KK0SZYEH5UD', iid='B00931DHKM', r_ui=3.0, est=4.28584229390681, details={'was_impossible': True, 'reason': 'User and/or item is unknown.'}),\n",
       " Prediction(uid='A1143YEAZYMYHJ', iid='B00JXLGE70', r_ui=5.0, est=4.428571428571429, details={'actual_k': 0, 'was_impossible': False}),\n",
       " Prediction(uid='A6FIAB28IS79', iid='B001FSJC6E', r_ui=3.0, est=4.28584229390681, details={'was_impossible': True, 'reason': 'User and/or item is unknown.'}),\n",
       " Prediction(uid='A4WEZJOIZIV4U', iid='B004CLYEDC', r_ui=5.0, est=4.28584229390681, details={'was_impossible': True, 'reason': 'User and/or item is unknown.'}),\n",
       " Prediction(uid='A3EXWV8FNSSFL6', iid='B00HDW9MU2', r_ui=5.0, est=4.28584229390681, details={'was_impossible': True, 'reason': 'User and/or item is unknown.'}),\n",
       " Prediction(uid='A6VXZ1EEPRTLV', iid='B005FYNSPK', r_ui=4.0, est=4.0, details={'actual_k': 0, 'was_impossible': False}),\n",
       " Prediction(uid='AOEAD7DPLZE53', iid='B00DYH6HEY', r_ui=5.0, est=4.28584229390681, details={'was_impossible': True, 'reason': 'User and/or item is unknown.'}),\n",
       " Prediction(uid='A25C2M3QF9G7OQ', iid='B00IL7B2YM', r_ui=2.0, est=4.28584229390681, details={'was_impossible': True, 'reason': 'User and/or item is unknown.'}),\n",
       " Prediction(uid='A2AY4YUOX2N1BQ', iid='B0027YYMQA', r_ui=4.0, est=4.28584229390681, details={'was_impossible': True, 'reason': 'User and/or item is unknown.'}),\n",
       " Prediction(uid='A2AY4YUOX2N1BQ', iid='B003TO51LC', r_ui=4.0, est=4.28584229390681, details={'was_impossible': True, 'reason': 'User and/or item is unknown.'}),\n",
       " Prediction(uid='A3OXHLG6DIBRW8', iid='B00ADM79N6', r_ui=5.0, est=4.28584229390681, details={'was_impossible': True, 'reason': 'User and/or item is unknown.'}),\n",
       " Prediction(uid='A3EZEP0FX5BC1P', iid='B002OS1J6A', r_ui=1.0, est=4.28584229390681, details={'was_impossible': True, 'reason': 'User and/or item is unknown.'}),\n",
       " Prediction(uid='A3AYSYSLHU26U9', iid='B000MXAZJQ', r_ui=5.0, est=4.28584229390681, details={'was_impossible': True, 'reason': 'User and/or item is unknown.'}),\n",
       " Prediction(uid='A11KZ906QD08C5', iid='B00A2L3J1Y', r_ui=5.0, est=4.28584229390681, details={'was_impossible': True, 'reason': 'User and/or item is unknown.'}),\n",
       " Prediction(uid='A5JLAU2ARJ0BO', iid='B000065BPC', r_ui=5.0, est=4.28584229390681, details={'was_impossible': True, 'reason': 'User and/or item is unknown.'}),\n",
       " Prediction(uid='A1UQBFCERIP7VJ', iid='B00GO4GMAI', r_ui=5.0, est=4.28584229390681, details={'was_impossible': True, 'reason': 'User and/or item is unknown.'}),\n",
       " Prediction(uid='A17HMM1M7T9PJ1', iid='B001AYW91I', r_ui=4.0, est=4.545454545454546, details={'actual_k': 0, 'was_impossible': False}),\n",
       " Prediction(uid='A1MEISNED4NP7U', iid='B007PLL4CK', r_ui=5.0, est=4.28584229390681, details={'was_impossible': True, 'reason': 'User and/or item is unknown.'}),\n",
       " Prediction(uid='A5JLAU2ARJ0BO', iid='B004RO9L50', r_ui=2.0, est=4.28584229390681, details={'was_impossible': True, 'reason': 'User and/or item is unknown.'}),\n",
       " Prediction(uid='A1QVFHPY8418HC', iid='B0039BPG4M', r_ui=5.0, est=4.28584229390681, details={'was_impossible': True, 'reason': 'User and/or item is unknown.'}),\n",
       " Prediction(uid='A3EXWV8FNSSFL6', iid='B0036OR924', r_ui=5.0, est=4.5, details={'actual_k': 0, 'was_impossible': False}),\n",
       " Prediction(uid='A231WM2Z2JL0U3', iid='B00006SG3W', r_ui=5.0, est=4.28584229390681, details={'was_impossible': True, 'reason': 'User and/or item is unknown.'}),\n",
       " Prediction(uid='A3OXHLG6DIBRW8', iid='B002EPF6YO', r_ui=4.0, est=4.28584229390681, details={'was_impossible': True, 'reason': 'User and/or item is unknown.'}),\n",
       " Prediction(uid='AYB4ELCS5AM8P', iid='B001N6W5GC', r_ui=5.0, est=4.28584229390681, details={'was_impossible': True, 'reason': 'User and/or item is unknown.'}),\n",
       " Prediction(uid='ARBKYIVNYWK3C', iid='B00267S7XW', r_ui=5.0, est=4.28584229390681, details={'was_impossible': True, 'reason': 'User and/or item is unknown.'}),\n",
       " Prediction(uid='A3EZEP0FX5BC1P', iid='B00EJ8CQSS', r_ui=5.0, est=4.28584229390681, details={'was_impossible': True, 'reason': 'User and/or item is unknown.'}),\n",
       " Prediction(uid='A1ODOGXEYECQQ8', iid='B009JBFOZW', r_ui=4.0, est=4.28584229390681, details={'was_impossible': True, 'reason': 'User and/or item is unknown.'}),\n",
       " Prediction(uid='A15CL28ALB7MTZ', iid='B002TOMKSU', r_ui=5.0, est=4.28584229390681, details={'was_impossible': True, 'reason': 'User and/or item is unknown.'}),\n",
       " Prediction(uid='AN81JUYW2SL24', iid='B004QK7HI8', r_ui=3.0, est=4.28584229390681, details={'was_impossible': True, 'reason': 'User and/or item is unknown.'}),\n",
       " Prediction(uid='A2WLNSZ9U0T1S3', iid='B0026V5MY0', r_ui=5.0, est=4.28584229390681, details={'was_impossible': True, 'reason': 'User and/or item is unknown.'}),\n",
       " Prediction(uid='AWPODHOB4GFWL', iid='B00A81ICCE', r_ui=5.0, est=4.28584229390681, details={'was_impossible': True, 'reason': 'User and/or item is unknown.'}),\n",
       " Prediction(uid='A259MPG6SOL02P', iid='B00005UK8V', r_ui=5.0, est=4.28584229390681, details={'was_impossible': True, 'reason': 'User and/or item is unknown.'}),\n",
       " Prediction(uid='A3CG93783LP0FO', iid='B002SZEOLG', r_ui=1.0, est=4.111111111111111, details={'actual_k': 0, 'was_impossible': False}),\n",
       " Prediction(uid='A203OCQQ12MAVT', iid='B003B1ASV6', r_ui=3.0, est=4.28584229390681, details={'was_impossible': True, 'reason': 'User and/or item is unknown.'}),\n",
       " Prediction(uid='A5JLAU2ARJ0BO', iid='B0000D17BF', r_ui=3.0, est=4.28584229390681, details={'was_impossible': True, 'reason': 'User and/or item is unknown.'}),\n",
       " Prediction(uid='A2XIOXRRYX0KZY', iid='B007X3VC7W', r_ui=4.0, est=4.28584229390681, details={'was_impossible': True, 'reason': 'User and/or item is unknown.'}),\n",
       " Prediction(uid='A1QVFHPY8418HC', iid='B001S0RUFY', r_ui=5.0, est=4.28584229390681, details={'was_impossible': True, 'reason': 'User and/or item is unknown.'}),\n",
       " Prediction(uid='A3R4794K2RVU1S', iid='B001F51G16', r_ui=5.0, est=4.28584229390681, details={'was_impossible': True, 'reason': 'User and/or item is unknown.'}),\n",
       " Prediction(uid='A2NOW4U7W3F7RI', iid='B00126HDO2', r_ui=5.0, est=4.28584229390681, details={'was_impossible': True, 'reason': 'User and/or item is unknown.'}),\n",
       " Prediction(uid='ARBKYIVNYWK3C', iid='B000068MP2', r_ui=4.0, est=4.28584229390681, details={'was_impossible': True, 'reason': 'User and/or item is unknown.'}),\n",
       " Prediction(uid='A1L64KDYO5BOJA', iid='B003MPOLX2', r_ui=2.0, est=4.28584229390681, details={'was_impossible': True, 'reason': 'User and/or item is unknown.'}),\n",
       " Prediction(uid='A1E1LEVQ9VQNK', iid='B000TXZIDM', r_ui=4.0, est=5, details={'actual_k': 0, 'was_impossible': False}),\n",
       " Prediction(uid='A3PD8JD9L4WEII', iid='B009WE65EA', r_ui=5.0, est=4.28584229390681, details={'was_impossible': True, 'reason': 'User and/or item is unknown.'}),\n",
       " Prediction(uid='A10Y058K7B96C6', iid='B001VEIYAC', r_ui=3.0, est=4.28584229390681, details={'was_impossible': True, 'reason': 'User and/or item is unknown.'}),\n",
       " Prediction(uid='A3EZEP0FX5BC1P', iid='B009HQCARY', r_ui=5.0, est=4.28584229390681, details={'was_impossible': True, 'reason': 'User and/or item is unknown.'}),\n",
       " Prediction(uid='A2NOW4U7W3F7RI', iid='B00FLKW0JI', r_ui=5.0, est=4.28584229390681, details={'was_impossible': True, 'reason': 'User and/or item is unknown.'}),\n",
       " Prediction(uid='A3R4794K2RVU1S', iid='B000S5Q9CA', r_ui=5.0, est=4.125, details={'actual_k': 0, 'was_impossible': False}),\n",
       " Prediction(uid='A1E1LEVQ9VQNK', iid='B00CYQN4KG', r_ui=5.0, est=4.28584229390681, details={'was_impossible': True, 'reason': 'User and/or item is unknown.'}),\n",
       " Prediction(uid='A1X1CEGHTHMBL1', iid='B005ITOUE0', r_ui=5.0, est=4.28584229390681, details={'was_impossible': True, 'reason': 'User and/or item is unknown.'}),\n",
       " Prediction(uid='A1YEPFLLH42OU1', iid='B0056TYRMW', r_ui=5.0, est=4.28584229390681, details={'was_impossible': True, 'reason': 'User and/or item is unknown.'}),\n",
       " Prediction(uid='A2NB2E5DXE319Z', iid='B00466X9SY', r_ui=5.0, est=4.28584229390681, details={'was_impossible': True, 'reason': 'User and/or item is unknown.'}),\n",
       " Prediction(uid='A3AYSYSLHU26U9', iid='B00EAXRVLY', r_ui=3.0, est=4.28584229390681, details={'was_impossible': True, 'reason': 'User and/or item is unknown.'}),\n",
       " Prediction(uid='A5JLAU2ARJ0BO', iid='B00006DY6J', r_ui=4.0, est=4.28584229390681, details={'was_impossible': True, 'reason': 'User and/or item is unknown.'}),\n",
       " Prediction(uid='A2AY4YUOX2N1BQ', iid='B004UD8JY2', r_ui=4.0, est=4.28584229390681, details={'was_impossible': True, 'reason': 'User and/or item is unknown.'}),\n",
       " Prediction(uid='AWPODHOB4GFWL', iid='B000M2GYF6', r_ui=4.0, est=4.28584229390681, details={'was_impossible': True, 'reason': 'User and/or item is unknown.'}),\n",
       " Prediction(uid='A6FIAB28IS79', iid='B0000TQ154', r_ui=3.0, est=4.28584229390681, details={'was_impossible': True, 'reason': 'User and/or item is unknown.'}),\n",
       " Prediction(uid='A20DZX38KRBIT8', iid='B0016OJXGQ', r_ui=1.0, est=4.28584229390681, details={'was_impossible': True, 'reason': 'User and/or item is unknown.'}),\n",
       " Prediction(uid='A1EH2S92FHWZRP', iid='B0069LY4KG', r_ui=5.0, est=4.28584229390681, details={'was_impossible': True, 'reason': 'User and/or item is unknown.'}),\n",
       " Prediction(uid='A2AX2UGB167J31', iid='B0032ANC8M', r_ui=5.0, est=4.28584229390681, details={'was_impossible': True, 'reason': 'User and/or item is unknown.'}),\n",
       " Prediction(uid='A3NEAETOSXDBOM', iid='B0000668YX', r_ui=5.0, est=4.28584229390681, details={'was_impossible': True, 'reason': 'User and/or item is unknown.'}),\n",
       " Prediction(uid='AN81JUYW2SL24', iid='B00006B6WS', r_ui=5.0, est=4.28584229390681, details={'was_impossible': True, 'reason': 'User and/or item is unknown.'}),\n",
       " Prediction(uid='A18S2VGUH9SCV5', iid='B0054JE706', r_ui=4.0, est=4.28584229390681, details={'was_impossible': True, 'reason': 'User and/or item is unknown.'}),\n",
       " Prediction(uid='A30XZK10EZN9V4', iid='B006W3ZWXE', r_ui=5.0, est=4.28584229390681, details={'was_impossible': True, 'reason': 'User and/or item is unknown.'}),\n",
       " Prediction(uid='A1VQHH85U7PX0', iid='B00017LRF4', r_ui=4.0, est=4.28584229390681, details={'was_impossible': True, 'reason': 'User and/or item is unknown.'}),\n",
       " Prediction(uid='A3CG93783LP0FO', iid='B00EI9LGFM', r_ui=4.0, est=4.28584229390681, details={'was_impossible': True, 'reason': 'User and/or item is unknown.'}),\n",
       " Prediction(uid='A19W47CXJJP1MI', iid='B004JF9N1O', r_ui=2.0, est=4.28584229390681, details={'was_impossible': True, 'reason': 'User and/or item is unknown.'}),\n",
       " Prediction(uid='A19W47CXJJP1MI', iid='B005FYNSPK', r_ui=5.0, est=4.5, details={'actual_k': 0, 'was_impossible': False}),\n",
       " Prediction(uid='A20DZX38KRBIT8', iid='B00G2TK76A', r_ui=1.0, est=4.28584229390681, details={'was_impossible': True, 'reason': 'User and/or item is unknown.'}),\n",
       " Prediction(uid='A2WLNSZ9U0T1S3', iid='B002TOJXLW', r_ui=5.0, est=4.28584229390681, details={'was_impossible': True, 'reason': 'User and/or item is unknown.'}),\n",
       " Prediction(uid='A1YEPFLLH42OU1', iid='B0076U29LK', r_ui=5.0, est=4.28584229390681, details={'was_impossible': True, 'reason': 'User and/or item is unknown.'}),\n",
       " Prediction(uid='A2AX2UGB167J31', iid='B0050RKH2Y', r_ui=5.0, est=4.28584229390681, details={'was_impossible': True, 'reason': 'User and/or item is unknown.'}),\n",
       " Prediction(uid='A1EXGL6L0QQ0M5', iid='B002VPDM2K', r_ui=3.0, est=4.28584229390681, details={'was_impossible': True, 'reason': 'User and/or item is unknown.'}),\n",
       " Prediction(uid='A2AY4YUOX2N1BQ', iid='B003AI272I', r_ui=5.0, est=4.28584229390681, details={'was_impossible': True, 'reason': 'User and/or item is unknown.'}),\n",
       " Prediction(uid='A3EZEP0FX5BC1P', iid='B00030DEQE', r_ui=5.0, est=4.28584229390681, details={'was_impossible': True, 'reason': 'User and/or item is unknown.'}),\n",
       " Prediction(uid='A2NYK9KWFMJV4Y', iid='B00FRBCSUW', r_ui=5.0, est=4.75, details={'actual_k': 0, 'was_impossible': False}),\n",
       " Prediction(uid='A2WLNSZ9U0T1S3', iid='B001P80EZW', r_ui=5.0, est=4.28584229390681, details={'was_impossible': True, 'reason': 'User and/or item is unknown.'}),\n",
       " Prediction(uid='A19XMHRB3G4DIR', iid='B000WU2FAQ', r_ui=5.0, est=4.28584229390681, details={'was_impossible': True, 'reason': 'User and/or item is unknown.'}),\n",
       " Prediction(uid='A1UQBFCERIP7VJ', iid='B00FHSYEHU', r_ui=5.0, est=4.28584229390681, details={'was_impossible': True, 'reason': 'User and/or item is unknown.'}),\n",
       " Prediction(uid='A1435P5AMCPB3X', iid='B000779RZA', r_ui=4.0, est=4.28584229390681, details={'was_impossible': True, 'reason': 'User and/or item is unknown.'}),\n",
       " Prediction(uid='A1CMD08Z49PGKQ', iid='B007R5YDYA', r_ui=5.0, est=5, details={'actual_k': 0, 'was_impossible': False}),\n",
       " Prediction(uid='A1PN2U0AWXGVML', iid='B00139JBU2', r_ui=5.0, est=4.28584229390681, details={'was_impossible': True, 'reason': 'User and/or item is unknown.'}),\n",
       " Prediction(uid='A3LGT6UZL99IW1', iid='B0046A8MQO', r_ui=4.0, est=4.28584229390681, details={'was_impossible': True, 'reason': 'User and/or item is unknown.'}),\n",
       " Prediction(uid='A19W47CXJJP1MI', iid='B0044UHMOO', r_ui=4.0, est=4.28584229390681, details={'was_impossible': True, 'reason': 'User and/or item is unknown.'}),\n",
       " Prediction(uid='A22CW0ZHY3NJH8', iid='B0010QPX4G', r_ui=5.0, est=4.28584229390681, details={'was_impossible': True, 'reason': 'User and/or item is unknown.'}),\n",
       " Prediction(uid='A17BUUBOU0598B', iid='B000EPJL1A', r_ui=3.0, est=4.28584229390681, details={'was_impossible': True, 'reason': 'User and/or item is unknown.'}),\n",
       " Prediction(uid='A17HMM1M7T9PJ1', iid='B007JPOX8O', r_ui=4.0, est=4.28584229390681, details={'was_impossible': True, 'reason': 'User and/or item is unknown.'}),\n",
       " Prediction(uid='A2AY4YUOX2N1BQ', iid='B007FGYZFI', r_ui=5.0, est=4.28584229390681, details={'was_impossible': True, 'reason': 'User and/or item is unknown.'}),\n",
       " Prediction(uid='A2XIOXRRYX0KZY', iid='B0097CXWUW', r_ui=4.0, est=4.0, details={'actual_k': 0, 'was_impossible': False}),\n",
       " Prediction(uid='A11KZ906QD08C5', iid='B003ASUEP0', r_ui=5.0, est=4.28584229390681, details={'was_impossible': True, 'reason': 'User and/or item is unknown.'}),\n",
       " Prediction(uid='A25C2M3QF9G7OQ', iid='B00JZC972Q', r_ui=3.0, est=4.769230769230769, details={'actual_k': 0, 'was_impossible': False}),\n",
       " Prediction(uid='A2WLNSZ9U0T1S3', iid='B00021HQXG', r_ui=5.0, est=4.28584229390681, details={'was_impossible': True, 'reason': 'User and/or item is unknown.'}),\n",
       " Prediction(uid='AEL6CQNQXONBX', iid='B00JIFMXSK', r_ui=5.0, est=4.28584229390681, details={'was_impossible': True, 'reason': 'User and/or item is unknown.'}),\n",
       " Prediction(uid='A1CMD08Z49PGKQ', iid='B00902SFC4', r_ui=3.0, est=4.28584229390681, details={'was_impossible': True, 'reason': 'User and/or item is unknown.'}),\n",
       " Prediction(uid='A203OCQQ12MAVT', iid='B005CQQLNM', r_ui=5.0, est=4.28584229390681, details={'was_impossible': True, 'reason': 'User and/or item is unknown.'}),\n",
       " Prediction(uid='A3CW0ZLUO5X2B1', iid='B00829THK0', r_ui=4.0, est=4.214285714285714, details={'actual_k': 0, 'was_impossible': False}),\n",
       " Prediction(uid='A3AYSYSLHU26U9', iid='B003EWNXFU', r_ui=3.0, est=4.28584229390681, details={'was_impossible': True, 'reason': 'User and/or item is unknown.'}),\n",
       " Prediction(uid='A3TAS1AG6FMBQW', iid='B00APUQPHW', r_ui=5.0, est=4.28584229390681, details={'was_impossible': True, 'reason': 'User and/or item is unknown.'}),\n",
       " Prediction(uid='A18HE80910BTZI', iid='B002UUPWP6', r_ui=5.0, est=4.28584229390681, details={'was_impossible': True, 'reason': 'User and/or item is unknown.'}),\n",
       " Prediction(uid='A3FEGTOLCWXSV4', iid='B00FA4Y7N2', r_ui=4.0, est=4.28584229390681, details={'was_impossible': True, 'reason': 'User and/or item is unknown.'}),\n",
       " Prediction(uid='A23GFTVIETX7DS', iid='B001GND6EW', r_ui=5.0, est=4.28584229390681, details={'was_impossible': True, 'reason': 'User and/or item is unknown.'}),\n",
       " Prediction(uid='A3EZEP0FX5BC1P', iid='B0028Y4CWI', r_ui=4.0, est=4.28584229390681, details={'was_impossible': True, 'reason': 'User and/or item is unknown.'}),\n",
       " Prediction(uid='A23GFTVIETX7DS', iid='B00AR95FOU', r_ui=5.0, est=4.28584229390681, details={'was_impossible': True, 'reason': 'User and/or item is unknown.'}),\n",
       " Prediction(uid='A259MPG6SOL02P', iid='B008DCBS94', r_ui=3.0, est=4.28584229390681, details={'was_impossible': True, 'reason': 'User and/or item is unknown.'}),\n",
       " Prediction(uid='A2XIOXRRYX0KZY', iid='B00EYTI0TG', r_ui=4.0, est=4.28584229390681, details={'was_impossible': True, 'reason': 'User and/or item is unknown.'}),\n",
       " Prediction(uid='A1XXMNLOLKNO0I', iid='B0000DK3I4', r_ui=4.0, est=4.28584229390681, details={'was_impossible': True, 'reason': 'User and/or item is unknown.'}),\n",
       " Prediction(uid='A5JLAU2ARJ0BO', iid='B000BHGWZ4', r_ui=5.0, est=4.28584229390681, details={'was_impossible': True, 'reason': 'User and/or item is unknown.'}),\n",
       " Prediction(uid='A5JLAU2ARJ0BO', iid='B000VB5MZG', r_ui=4.0, est=4.28584229390681, details={'was_impossible': True, 'reason': 'User and/or item is unknown.'}),\n",
       " Prediction(uid='A23ONMGKEWDG4M', iid='B006UMM2BW', r_ui=5.0, est=4.28584229390681, details={'was_impossible': True, 'reason': 'User and/or item is unknown.'}),\n",
       " Prediction(uid='A2NOW4U7W3F7RI', iid='B00G02YZ2Q', r_ui=5.0, est=4.28584229390681, details={'was_impossible': True, 'reason': 'User and/or item is unknown.'}),\n",
       " Prediction(uid='A30X750M8V1XXW', iid='B00007E816', r_ui=5.0, est=4.28584229390681, details={'was_impossible': True, 'reason': 'User and/or item is unknown.'}),\n",
       " Prediction(uid='A23ONMGKEWDG4M', iid='B0055I183U', r_ui=4.0, est=4.28584229390681, details={'was_impossible': True, 'reason': 'User and/or item is unknown.'}),\n",
       " Prediction(uid='ALDAF4VVLFRHP', iid='B004F1NZTS', r_ui=5.0, est=4.28584229390681, details={'was_impossible': True, 'reason': 'User and/or item is unknown.'}),\n",
       " Prediction(uid='A6FIAB28IS79', iid='B0043TB7OC', r_ui=4.0, est=4.28584229390681, details={'was_impossible': True, 'reason': 'User and/or item is unknown.'}),\n",
       " Prediction(uid='AGOH8N902URMW', iid='B0014KKV7W', r_ui=5.0, est=4.28584229390681, details={'was_impossible': True, 'reason': 'User and/or item is unknown.'}),\n",
       " Prediction(uid='A1F9Z42CFF9IAY', iid='B001KBZ3QO', r_ui=4.0, est=4.28584229390681, details={'was_impossible': True, 'reason': 'User and/or item is unknown.'}),\n",
       " Prediction(uid='AEWYUPCNDV7HY', iid='B007C0Y8NQ', r_ui=5.0, est=4.28584229390681, details={'was_impossible': True, 'reason': 'User and/or item is unknown.'}),\n",
       " Prediction(uid='A18S2VGUH9SCV5', iid='B006RG0QC8', r_ui=3.0, est=4.28584229390681, details={'was_impossible': True, 'reason': 'User and/or item is unknown.'}),\n",
       " Prediction(uid='A3CW0ZLUO5X2B1', iid='B0026L7B94', r_ui=2.0, est=4.28584229390681, details={'was_impossible': True, 'reason': 'User and/or item is unknown.'}),\n",
       " Prediction(uid='AEJAGHLC675A7', iid='B00CCIKJDG', r_ui=5.0, est=4.28584229390681, details={'was_impossible': True, 'reason': 'User and/or item is unknown.'}),\n",
       " Prediction(uid='A6FIAB28IS79', iid='B009AYLDSU', r_ui=3.0, est=4.28584229390681, details={'was_impossible': True, 'reason': 'User and/or item is unknown.'}),\n",
       " Prediction(uid='A17BUUBOU0598B', iid='B009NE5YC8', r_ui=2.0, est=4.28584229390681, details={'was_impossible': True, 'reason': 'User and/or item is unknown.'}),\n",
       " Prediction(uid='A2NOW4U7W3F7RI', iid='B007P4VOWC', r_ui=4.0, est=4.588235294117647, details={'actual_k': 0, 'was_impossible': False}),\n",
       " Prediction(uid='A17BUUBOU0598B', iid='B00176IJFO', r_ui=5.0, est=4.28584229390681, details={'was_impossible': True, 'reason': 'User and/or item is unknown.'}),\n",
       " Prediction(uid='AT6CZDCP4TRGA', iid='B005OB1TU0', r_ui=1.0, est=4.28584229390681, details={'was_impossible': True, 'reason': 'User and/or item is unknown.'}),\n",
       " Prediction(uid='AVPNQUVZWMDSX', iid='B001A78PQI', r_ui=4.0, est=4.28584229390681, details={'was_impossible': True, 'reason': 'User and/or item is unknown.'}),\n",
       " Prediction(uid='A2NYK9KWFMJV4Y', iid='B00HZ9GPTE', r_ui=5.0, est=4.28584229390681, details={'was_impossible': True, 'reason': 'User and/or item is unknown.'}),\n",
       " Prediction(uid='A3NEAETOSXDBOM', iid='B00658NXFA', r_ui=5.0, est=4.28584229390681, details={'was_impossible': True, 'reason': 'User and/or item is unknown.'}),\n",
       " Prediction(uid='A19XMHRB3G4DIR', iid='B000VVXNZW', r_ui=5.0, est=4.28584229390681, details={'was_impossible': True, 'reason': 'User and/or item is unknown.'}),\n",
       " Prediction(uid='A18HE80910BTZI', iid='B007KZQMO6', r_ui=4.0, est=4.28584229390681, details={'was_impossible': True, 'reason': 'User and/or item is unknown.'}),\n",
       " Prediction(uid='A3A4ZAIBQWKOZS', iid='B0058X0TFA', r_ui=3.0, est=4.28584229390681, details={'was_impossible': True, 'reason': 'User and/or item is unknown.'}),\n",
       " Prediction(uid='A2KYRPDKVBI2R4', iid='B001IF252M', r_ui=4.0, est=4.28584229390681, details={'was_impossible': True, 'reason': 'User and/or item is unknown.'}),\n",
       " Prediction(uid='AAA0TUKS5VBSA', iid='B008X9Z6EA', r_ui=4.0, est=4.28584229390681, details={'was_impossible': True, 'reason': 'User and/or item is unknown.'}),\n",
       " Prediction(uid='A2NYK9KWFMJV4Y', iid='B00JBJZFLU', r_ui=5.0, est=4.28584229390681, details={'was_impossible': True, 'reason': 'User and/or item is unknown.'}),\n",
       " Prediction(uid='A3AYSYSLHU26U9', iid='B0091UX3QI', r_ui=5.0, est=4.28584229390681, details={'was_impossible': True, 'reason': 'User and/or item is unknown.'}),\n",
       " Prediction(uid='A1CMD08Z49PGKQ', iid='B006DKEUAM', r_ui=5.0, est=4.28584229390681, details={'was_impossible': True, 'reason': 'User and/or item is unknown.'}),\n",
       " Prediction(uid='A1XXMNLOLKNO0I', iid='B0088PUEPK', r_ui=5.0, est=4.28584229390681, details={'was_impossible': True, 'reason': 'User and/or item is unknown.'}),\n",
       " Prediction(uid='A2NYK9KWFMJV4Y', iid='B00I9GU1QU', r_ui=5.0, est=4.28584229390681, details={'was_impossible': True, 'reason': 'User and/or item is unknown.'}),\n",
       " Prediction(uid='A19W47CXJJP1MI', iid='B003ES5ZSW', r_ui=5.0, est=4.5, details={'actual_k': 0, 'was_impossible': False}),\n",
       " Prediction(uid='A3LGT6UZL99IW1', iid='B00F3F0EIU', r_ui=4.0, est=4.5, details={'actual_k': 0, 'was_impossible': False}),\n",
       " Prediction(uid='A3A4ZAIBQWKOZS', iid='B00HFFDDLG', r_ui=4.0, est=4.28584229390681, details={'was_impossible': True, 'reason': 'User and/or item is unknown.'}),\n",
       " Prediction(uid='A1CPRP3VFJRS1R', iid='B0010Y414Q', r_ui=5.0, est=4.28584229390681, details={'was_impossible': True, 'reason': 'User and/or item is unknown.'}),\n",
       " Prediction(uid='ALDAF4VVLFRHP', iid='B00413PEYE', r_ui=4.0, est=4.28584229390681, details={'was_impossible': True, 'reason': 'User and/or item is unknown.'}),\n",
       " Prediction(uid='AEL6CQNQXONBX', iid='B00B7FLPBU', r_ui=3.0, est=4.28584229390681, details={'was_impossible': True, 'reason': 'User and/or item is unknown.'}),\n",
       " Prediction(uid='A22CW0ZHY3NJH8', iid='B005HSG3TC', r_ui=5.0, est=4.28584229390681, details={'was_impossible': True, 'reason': 'User and/or item is unknown.'}),\n",
       " Prediction(uid='A1QVFHPY8418HC', iid='B000IV413S', r_ui=5.0, est=4.28584229390681, details={'was_impossible': True, 'reason': 'User and/or item is unknown.'}),\n",
       " Prediction(uid='A259MPG6SOL02P', iid='B0011CZ8SA', r_ui=3.0, est=4.28584229390681, details={'was_impossible': True, 'reason': 'User and/or item is unknown.'}),\n",
       " Prediction(uid='A1EKSETIBS9ETQ', iid='B0099Y1QM4', r_ui=4.0, est=4.28584229390681, details={'was_impossible': True, 'reason': 'User and/or item is unknown.'}),\n",
       " Prediction(uid='A30X750M8V1XXW', iid='B000A0CV9S', r_ui=5.0, est=4.28584229390681, details={'was_impossible': True, 'reason': 'User and/or item is unknown.'}),\n",
       " Prediction(uid='A3A4ZAIBQWKOZS', iid='B00CKK8GEU', r_ui=5.0, est=4.28584229390681, details={'was_impossible': True, 'reason': 'User and/or item is unknown.'}),\n",
       " Prediction(uid='A1F1A0QQP2XVH5', iid='B002TMRZOQ', r_ui=5.0, est=4.28584229390681, details={'was_impossible': True, 'reason': 'User and/or item is unknown.'}),\n",
       " Prediction(uid='A34BZM6S9L7QI4', iid='B00AQ2BRXQ', r_ui=4.0, est=4.28584229390681, details={'was_impossible': True, 'reason': 'User and/or item is unknown.'}),\n",
       " Prediction(uid='A231WM2Z2JL0U3', iid='B00005B4BN', r_ui=1.0, est=4.28584229390681, details={'was_impossible': True, 'reason': 'User and/or item is unknown.'}),\n",
       " Prediction(uid='A2QDOJFFLFGF18', iid='B004CLYEH8', r_ui=5.0, est=5, details={'actual_k': 0, 'was_impossible': False}),\n",
       " Prediction(uid='A3T7V207KRDE2O', iid='B006TF3746', r_ui=3.0, est=4.28584229390681, details={'was_impossible': True, 'reason': 'User and/or item is unknown.'}),\n",
       " Prediction(uid='A5JLAU2ARJ0BO', iid='B0001IXUEY', r_ui=5.0, est=4.28584229390681, details={'was_impossible': True, 'reason': 'User and/or item is unknown.'}),\n",
       " Prediction(uid='A1F7YU6O5RU432', iid='B00CRGJJHU', r_ui=5.0, est=4.28584229390681, details={'was_impossible': True, 'reason': 'User and/or item is unknown.'}),\n",
       " Prediction(uid='A10Y058K7B96C6', iid='B000HCT12O', r_ui=5.0, est=4.28584229390681, details={'was_impossible': True, 'reason': 'User and/or item is unknown.'}),\n",
       " Prediction(uid='A680RUE1FDO8B', iid='B0013MYIJI', r_ui=5.0, est=4.28584229390681, details={'was_impossible': True, 'reason': 'User and/or item is unknown.'}),\n",
       " Prediction(uid='A1T1YSCDW0PD25', iid='B007P71IM0', r_ui=5.0, est=4.28584229390681, details={'was_impossible': True, 'reason': 'User and/or item is unknown.'}),\n",
       " Prediction(uid='A2WLNSZ9U0T1S3', iid='B004SBBDD0', r_ui=4.0, est=4.28584229390681, details={'was_impossible': True, 'reason': 'User and/or item is unknown.'}),\n",
       " Prediction(uid='A30XZK10EZN9V4', iid='B005MCXHP6', r_ui=4.0, est=4.28584229390681, details={'was_impossible': True, 'reason': 'User and/or item is unknown.'}),\n",
       " Prediction(uid='A1RL1OTV8IJMVD', iid='B00829TIA4', r_ui=4.0, est=4.28584229390681, details={'was_impossible': True, 'reason': 'User and/or item is unknown.'}),\n",
       " Prediction(uid='A1E1LEVQ9VQNK', iid='B0070S7DDM', r_ui=5.0, est=4.28584229390681, details={'was_impossible': True, 'reason': 'User and/or item is unknown.'}),\n",
       " Prediction(uid='A2NOW4U7W3F7RI', iid='B00HHRP11C', r_ui=5.0, est=4.588235294117647, details={'actual_k': 0, 'was_impossible': False}),\n",
       " Prediction(uid='A5JLAU2ARJ0BO', iid='B00068E1ME', r_ui=1.0, est=4.28584229390681, details={'was_impossible': True, 'reason': 'User and/or item is unknown.'}),\n",
       " Prediction(uid='A1CPRP3VFJRS1R', iid='B0002I7288', r_ui=1.0, est=4.28584229390681, details={'was_impossible': True, 'reason': 'User and/or item is unknown.'}),\n",
       " Prediction(uid='A9Y5O2R4D6EH5', iid='B00004WCG6', r_ui=4.0, est=4.0, details={'actual_k': 0, 'was_impossible': False}),\n",
       " Prediction(uid='AT6CZDCP4TRGA', iid='B00009PUM7', r_ui=4.0, est=4.28584229390681, details={'was_impossible': True, 'reason': 'User and/or item is unknown.'}),\n",
       " Prediction(uid='A2XRMQA6PJ5ZJ8', iid='B007WTAJTO', r_ui=5.0, est=4.333333333333333, details={'actual_k': 0, 'was_impossible': False}),\n",
       " Prediction(uid='AEL6CQNQXONBX', iid='B00E98O7GC', r_ui=5.0, est=4.28584229390681, details={'was_impossible': True, 'reason': 'User and/or item is unknown.'}),\n",
       " Prediction(uid='A1UQBFCERIP7VJ', iid='B00IEFUB02', r_ui=5.0, est=4.28584229390681, details={'was_impossible': True, 'reason': 'User and/or item is unknown.'}),\n",
       " Prediction(uid='A11KZ906QD08C5', iid='B00HPM1FZ0', r_ui=3.0, est=4.28584229390681, details={'was_impossible': True, 'reason': 'User and/or item is unknown.'}),\n",
       " Prediction(uid='A2NB2E5DXE319Z', iid='B0015YTYKM', r_ui=4.0, est=4.28584229390681, details={'was_impossible': True, 'reason': 'User and/or item is unknown.'}),\n",
       " Prediction(uid='A3NHUQ33CFH3VM', iid='B008VD4BYE', r_ui=5.0, est=4.28584229390681, details={'was_impossible': True, 'reason': 'User and/or item is unknown.'}),\n",
       " Prediction(uid='A1143YEAZYMYHJ', iid='B00E965ZKQ', r_ui=5.0, est=4.28584229390681, details={'was_impossible': True, 'reason': 'User and/or item is unknown.'}),\n",
       " Prediction(uid='AOEDWQLH2WKKW', iid='B00EVIBN26', r_ui=2.0, est=4.25, details={'actual_k': 0, 'was_impossible': False}),\n",
       " Prediction(uid='AEJAGHLC675A7', iid='B000KLHDZO', r_ui=5.0, est=4.28584229390681, details={'was_impossible': True, 'reason': 'User and/or item is unknown.'}),\n",
       " Prediction(uid='A4WEZJOIZIV4U', iid='B0000BYRIN', r_ui=5.0, est=4.28584229390681, details={'was_impossible': True, 'reason': 'User and/or item is unknown.'}),\n",
       " Prediction(uid='A3EXWV8FNSSFL6', iid='B005PUZOYM', r_ui=5.0, est=4.28584229390681, details={'was_impossible': True, 'reason': 'User and/or item is unknown.'}),\n",
       " Prediction(uid='A3PD8JD9L4WEII', iid='B008LCYIHK', r_ui=4.0, est=4.28584229390681, details={'was_impossible': True, 'reason': 'User and/or item is unknown.'}),\n",
       " Prediction(uid='A1435P5AMCPB3X', iid='B000LXXJ0O', r_ui=5.0, est=4.28584229390681, details={'was_impossible': True, 'reason': 'User and/or item is unknown.'}),\n",
       " Prediction(uid='A23GFTVIETX7DS', iid='B0009F62GW', r_ui=3.0, est=4.28584229390681, details={'was_impossible': True, 'reason': 'User and/or item is unknown.'}),\n",
       " Prediction(uid='A1CPRP3VFJRS1R', iid='B00014M2U6', r_ui=5.0, est=4.28584229390681, details={'was_impossible': True, 'reason': 'User and/or item is unknown.'}),\n",
       " Prediction(uid='A2V1J3JT5OOZFO', iid='B0011Z2402', r_ui=5.0, est=4.28584229390681, details={'was_impossible': True, 'reason': 'User and/or item is unknown.'}),\n",
       " Prediction(uid='A680RUE1FDO8B', iid='B000YL5N4I', r_ui=4.0, est=4.28584229390681, details={'was_impossible': True, 'reason': 'User and/or item is unknown.'}),\n",
       " Prediction(uid='AYB4ELCS5AM8P', iid='B00HZWJGS8', r_ui=5.0, est=4.28584229390681, details={'was_impossible': True, 'reason': 'User and/or item is unknown.'}),\n",
       " Prediction(uid='ABQWMANK4AR63', iid='B00FQ6CJ0W', r_ui=4.0, est=4.28584229390681, details={'was_impossible': True, 'reason': 'User and/or item is unknown.'}),\n",
       " Prediction(uid='A5JLAU2ARJ0BO', iid='B0001FV35U', r_ui=5.0, est=4.28584229390681, details={'was_impossible': True, 'reason': 'User and/or item is unknown.'}),\n",
       " Prediction(uid='A12DQZKRKTNF5E', iid='B00DJGPV88', r_ui=5.0, est=4.28584229390681, details={'was_impossible': True, 'reason': 'User and/or item is unknown.'}),\n",
       " Prediction(uid='AEL6CQNQXONBX', iid='B004IA6N5Y', r_ui=3.0, est=4.28584229390681, details={'was_impossible': True, 'reason': 'User and/or item is unknown.'}),\n",
       " Prediction(uid='A1CMD08Z49PGKQ', iid='B0074BW614', r_ui=5.0, est=5, details={'actual_k': 0, 'was_impossible': False}),\n",
       " Prediction(uid='A203OCQQ12MAVT', iid='B0000511T7', r_ui=1.0, est=4.28584229390681, details={'was_impossible': True, 'reason': 'User and/or item is unknown.'}),\n",
       " Prediction(uid='A3NEAETOSXDBOM', iid='B0025UHKNS', r_ui=5.0, est=4.28584229390681, details={'was_impossible': True, 'reason': 'User and/or item is unknown.'}),\n",
       " Prediction(uid='A1CPRP3VFJRS1R', iid='B0001CVBRI', r_ui=4.0, est=4.28584229390681, details={'was_impossible': True, 'reason': 'User and/or item is unknown.'}),\n",
       " Prediction(uid='A1PN2U0AWXGVML', iid='B0007VPFI4', r_ui=5.0, est=4.28584229390681, details={'was_impossible': True, 'reason': 'User and/or item is unknown.'}),\n",
       " Prediction(uid='A23GFTVIETX7DS', iid='B00DS5QZRQ', r_ui=5.0, est=4.28584229390681, details={'was_impossible': True, 'reason': 'User and/or item is unknown.'}),\n",
       " Prediction(uid='ABQWMANK4AR63', iid='B003M8HWDA', r_ui=3.0, est=4.28584229390681, details={'was_impossible': True, 'reason': 'User and/or item is unknown.'}),\n",
       " Prediction(uid='A9Y5O2R4D6EH5', iid='B004K1EOAC', r_ui=5.0, est=4.28584229390681, details={'was_impossible': True, 'reason': 'User and/or item is unknown.'}),\n",
       " Prediction(uid='AWPODHOB4GFWL', iid='B00119T6NQ', r_ui=5.0, est=4.583333333333333, details={'actual_k': 0, 'was_impossible': False}),\n",
       " Prediction(uid='A203OCQQ12MAVT', iid='B0009KF9BQ', r_ui=1.0, est=4.28584229390681, details={'was_impossible': True, 'reason': 'User and/or item is unknown.'}),\n",
       " Prediction(uid='A2AY4YUOX2N1BQ', iid='B004K8WPUQ', r_ui=4.0, est=4.28584229390681, details={'was_impossible': True, 'reason': 'User and/or item is unknown.'}),\n",
       " Prediction(uid='A23GFTVIETX7DS', iid='B004T9RR6I', r_ui=5.0, est=4.083333333333333, details={'actual_k': 0, 'was_impossible': False}),\n",
       " Prediction(uid='A1EKSETIBS9ETQ', iid='B000FHGONA', r_ui=5.0, est=4.28584229390681, details={'was_impossible': True, 'reason': 'User and/or item is unknown.'}),\n",
       " Prediction(uid='A2ZY49IDE6TY5I', iid='B0013FRNKG', r_ui=5.0, est=4.28584229390681, details={'was_impossible': True, 'reason': 'User and/or item is unknown.'}),\n",
       " Prediction(uid='A36K2N527TXXJN', iid='B005DOK8NW', r_ui=5.0, est=4.28584229390681, details={'was_impossible': True, 'reason': 'User and/or item is unknown.'}),\n",
       " Prediction(uid='AWPODHOB4GFWL', iid='B0000898TE', r_ui=4.0, est=4.28584229390681, details={'was_impossible': True, 'reason': 'User and/or item is unknown.'}),\n",
       " Prediction(uid='A2AX2UGB167J31', iid='B000Q9UFKU', r_ui=5.0, est=4.28584229390681, details={'was_impossible': True, 'reason': 'User and/or item is unknown.'}),\n",
       " Prediction(uid='A3OXHLG6DIBRW8', iid='B002R20X9M', r_ui=5.0, est=4.28584229390681, details={'was_impossible': True, 'reason': 'User and/or item is unknown.'}),\n",
       " Prediction(uid='A34BZM6S9L7QI4', iid='B00IX6D0EQ', r_ui=5.0, est=4.28584229390681, details={'was_impossible': True, 'reason': 'User and/or item is unknown.'}),\n",
       " Prediction(uid='A1CMD08Z49PGKQ', iid='B006G4SRXQ', r_ui=5.0, est=4.28584229390681, details={'was_impossible': True, 'reason': 'User and/or item is unknown.'}),\n",
       " Prediction(uid='A231WM2Z2JL0U3', iid='B00006JLWJ', r_ui=5.0, est=4.28584229390681, details={'was_impossible': True, 'reason': 'User and/or item is unknown.'}),\n",
       " Prediction(uid='A36K2N527TXXJN', iid='B00H8JLMLC', r_ui=5.0, est=4.28584229390681, details={'was_impossible': True, 'reason': 'User and/or item is unknown.'}),\n",
       " Prediction(uid='AEJAGHLC675A7', iid='B00825BZUY', r_ui=5.0, est=4.7272727272727275, details={'actual_k': 0, 'was_impossible': False}),\n",
       " Prediction(uid='A1CPRP3VFJRS1R', iid='B0007N55OQ', r_ui=2.0, est=4.28584229390681, details={'was_impossible': True, 'reason': 'User and/or item is unknown.'}),\n",
       " Prediction(uid='A1143YEAZYMYHJ', iid='B00B2F4O86', r_ui=4.0, est=4.28584229390681, details={'was_impossible': True, 'reason': 'User and/or item is unknown.'}),\n",
       " Prediction(uid='A10Y058K7B96C6', iid='B00JC5Y6WM', r_ui=4.0, est=4.28584229390681, details={'was_impossible': True, 'reason': 'User and/or item is unknown.'}),\n",
       " Prediction(uid='A4WEZJOIZIV4U', iid='B0030MITDK', r_ui=5.0, est=4.28584229390681, details={'was_impossible': True, 'reason': 'User and/or item is unknown.'}),\n",
       " Prediction(uid='AWPODHOB4GFWL', iid='B0014H16V0', r_ui=5.0, est=4.28584229390681, details={'was_impossible': True, 'reason': 'User and/or item is unknown.'}),\n",
       " Prediction(uid='A2WB7LZ595CR50', iid='B004S8A6WM', r_ui=4.0, est=4.28584229390681, details={'was_impossible': True, 'reason': 'User and/or item is unknown.'}),\n",
       " Prediction(uid='AT6CZDCP4TRGA', iid='B00006J6RN', r_ui=4.0, est=4.28584229390681, details={'was_impossible': True, 'reason': 'User and/or item is unknown.'}),\n",
       " Prediction(uid='A19XMHRB3G4DIR', iid='B001DWI1F0', r_ui=4.0, est=4.28584229390681, details={'was_impossible': True, 'reason': 'User and/or item is unknown.'}),\n",
       " Prediction(uid='A3A4ZAIBQWKOZS', iid='B009XN9GQY', r_ui=4.0, est=4.28584229390681, details={'was_impossible': True, 'reason': 'User and/or item is unknown.'}),\n",
       " Prediction(uid='A1QVFHPY8418HC', iid='B000RZQZM0', r_ui=5.0, est=4.285714285714286, details={'actual_k': 0, 'was_impossible': False}),\n",
       " Prediction(uid='A1435P5AMCPB3X', iid='B0015EA3P2', r_ui=4.0, est=4.28584229390681, details={'was_impossible': True, 'reason': 'User and/or item is unknown.'}),\n",
       " Prediction(uid='A2QDOJFFLFGF18', iid='B0079UAT0A', r_ui=5.0, est=5, details={'actual_k': 0, 'was_impossible': False}),\n",
       " Prediction(uid='AGVWTYW0ULXHT', iid='B00G4UQ6U8', r_ui=5.0, est=4.28584229390681, details={'was_impossible': True, 'reason': 'User and/or item is unknown.'}),\n",
       " Prediction(uid='AAA0TUKS5VBSA', iid='B003F5NS9W', r_ui=4.0, est=4.28584229390681, details={'was_impossible': True, 'reason': 'User and/or item is unknown.'}),\n",
       " Prediction(uid='A17BUUBOU0598B', iid='B00113V748', r_ui=4.0, est=3.909090909090909, details={'actual_k': 0, 'was_impossible': False}),\n",
       " Prediction(uid='A22CW0ZHY3NJH8', iid='B00CQJUT9U', r_ui=5.0, est=4.28584229390681, details={'was_impossible': True, 'reason': 'User and/or item is unknown.'}),\n",
       " Prediction(uid='ADLVFFE4VBT8', iid='B008CP5R8K', r_ui=5.0, est=4.28584229390681, details={'was_impossible': True, 'reason': 'User and/or item is unknown.'}),\n",
       " Prediction(uid='A1X1CEGHTHMBL1', iid='B006N4M1EU', r_ui=4.0, est=4.28584229390681, details={'was_impossible': True, 'reason': 'User and/or item is unknown.'}),\n",
       " Prediction(uid='A2ZY49IDE6TY5I', iid='B008DBI5RI', r_ui=4.0, est=4.28584229390681, details={'was_impossible': True, 'reason': 'User and/or item is unknown.'}),\n",
       " Prediction(uid='A2NOW4U7W3F7RI', iid='B001F7AJKI', r_ui=5.0, est=4.28584229390681, details={'was_impossible': True, 'reason': 'User and/or item is unknown.'}),\n",
       " Prediction(uid='A2AY4YUOX2N1BQ', iid='B00007GQLU', r_ui=4.0, est=4.28584229390681, details={'was_impossible': True, 'reason': 'User and/or item is unknown.'}),\n",
       " Prediction(uid='A15QYHQH80W30L', iid='B002ZCXJZE', r_ui=3.0, est=4.28584229390681, details={'was_impossible': True, 'reason': 'User and/or item is unknown.'}),\n",
       " Prediction(uid='A259MPG6SOL02P', iid='B00004Y7TC', r_ui=4.0, est=4.28584229390681, details={'was_impossible': True, 'reason': 'User and/or item is unknown.'}),\n",
       " Prediction(uid='ABQWMANK4AR63', iid='B005KSVU8S', r_ui=4.0, est=4.28584229390681, details={'was_impossible': True, 'reason': 'User and/or item is unknown.'}),\n",
       " Prediction(uid='A32O5FZH994CNY', iid='B00DBCJKPK', r_ui=5.0, est=4.28584229390681, details={'was_impossible': True, 'reason': 'User and/or item is unknown.'}),\n",
       " Prediction(uid='A25C2M3QF9G7OQ', iid='B00GXMLSFU', r_ui=4.0, est=4.28584229390681, details={'was_impossible': True, 'reason': 'User and/or item is unknown.'}),\n",
       " Prediction(uid='A9Y5O2R4D6EH5', iid='B00004ZCJE', r_ui=3.0, est=4.28584229390681, details={'was_impossible': True, 'reason': 'User and/or item is unknown.'}),\n",
       " Prediction(uid='AEJAGHLC675A7', iid='B00CHRID4Y', r_ui=5.0, est=4.28584229390681, details={'was_impossible': True, 'reason': 'User and/or item is unknown.'}),\n",
       " Prediction(uid='A1X1CEGHTHMBL1', iid='B00BNI4AWM', r_ui=5.0, est=4.28584229390681, details={'was_impossible': True, 'reason': 'User and/or item is unknown.'}),\n",
       " Prediction(uid='AEL6CQNQXONBX', iid='B00FCROWMS', r_ui=5.0, est=4.28584229390681, details={'was_impossible': True, 'reason': 'User and/or item is unknown.'}),\n",
       " Prediction(uid='A2XRMQA6PJ5ZJ8', iid='B008HYQ7ZI', r_ui=5.0, est=4.28584229390681, details={'was_impossible': True, 'reason': 'User and/or item is unknown.'}),\n",
       " Prediction(uid='A3CG93783LP0FO', iid='B00ADGXXJ6', r_ui=4.0, est=4.28584229390681, details={'was_impossible': True, 'reason': 'User and/or item is unknown.'}),\n",
       " Prediction(uid='A15QYHQH80W30L', iid='B00A6U6VWK', r_ui=5.0, est=4.28584229390681, details={'was_impossible': True, 'reason': 'User and/or item is unknown.'}),\n",
       " Prediction(uid='A2NYK9KWFMJV4Y', iid='B00I9H9B7Y', r_ui=5.0, est=4.28584229390681, details={'was_impossible': True, 'reason': 'User and/or item is unknown.'}),\n",
       " Prediction(uid='ARBKYIVNYWK3C', iid='B001MWRUZ8', r_ui=4.0, est=4.28584229390681, details={'was_impossible': True, 'reason': 'User and/or item is unknown.'}),\n",
       " Prediction(uid='AAA0TUKS5VBSA', iid='B00752R9PK', r_ui=5.0, est=4.28584229390681, details={'was_impossible': True, 'reason': 'User and/or item is unknown.'})]"
      ]
     },
     "execution_count": 40,
     "metadata": {
      "tags": []
     },
     "output_type": "execute_result"
    }
   ],
   "source": [
    "# Use user_based true/false to switch between user-based or item-based collaborative filtering\n",
    "algo = KNNWithMeans(k=50, sim_options={'name': 'pearson_baseline', 'user_based': True})\n",
    "algo.fit(trainset)\n",
    "\n",
    "# run the trained model against the testset\n",
    "test_pred_User = algo.test(testset)\n",
    "test_pred_User"
   ]
  },
  {
   "cell_type": "code",
   "execution_count": 41,
   "metadata": {
    "colab": {
     "base_uri": "https://localhost:8080/"
    },
    "id": "SfYz9shpe9Al",
    "outputId": "d881ce7a-b18d-4c57-fb5f-8c19c1f4f08e"
   },
   "outputs": [
    {
     "name": "stdout",
     "output_type": "stream",
     "text": [
      "Estimating biases using als...\n",
      "Computing the pearson_baseline similarity matrix...\n",
      "Done computing similarity matrix.\n"
     ]
    },
    {
     "data": {
      "text/plain": [
       "[Prediction(uid='A2QDOJFFLFGF18', iid='B007W7PK04', r_ui=4.0, est=4.28584229390681, details={'was_impossible': True, 'reason': 'User and/or item is unknown.'}),\n",
       " Prediction(uid='A3LGT6UZL99IW1', iid='B001EYTPO8', r_ui=2.0, est=4.28584229390681, details={'was_impossible': True, 'reason': 'User and/or item is unknown.'}),\n",
       " Prediction(uid='A1VQHH85U7PX0', iid='B001DL9WDG', r_ui=5.0, est=4.28584229390681, details={'was_impossible': True, 'reason': 'User and/or item is unknown.'}),\n",
       " Prediction(uid='A2WLNSZ9U0T1S3', iid='B0002A9RFM', r_ui=5.0, est=4.28584229390681, details={'was_impossible': True, 'reason': 'User and/or item is unknown.'}),\n",
       " Prediction(uid='AVPNQUVZWMDSX', iid='B00008SCFL', r_ui=4.0, est=4.28584229390681, details={'was_impossible': True, 'reason': 'User and/or item is unknown.'}),\n",
       " Prediction(uid='A20DZX38KRBIT8', iid='B0000AZW8X', r_ui=5.0, est=4.28584229390681, details={'was_impossible': True, 'reason': 'User and/or item is unknown.'}),\n",
       " Prediction(uid='A1435P5AMCPB3X', iid='B000FNJYZO', r_ui=5.0, est=4.28584229390681, details={'was_impossible': True, 'reason': 'User and/or item is unknown.'}),\n",
       " Prediction(uid='A18HE80910BTZI', iid='B00E7LOXTW', r_ui=4.0, est=4.28584229390681, details={'was_impossible': True, 'reason': 'User and/or item is unknown.'}),\n",
       " Prediction(uid='A2B7BUH8834Y6M', iid='B000086A17', r_ui=5.0, est=4.28584229390681, details={'was_impossible': True, 'reason': 'User and/or item is unknown.'}),\n",
       " Prediction(uid='A3R4794K2RVU1S', iid='B004OMV0CW', r_ui=5.0, est=4.28584229390681, details={'was_impossible': True, 'reason': 'User and/or item is unknown.'}),\n",
       " Prediction(uid='AOEAD7DPLZE53', iid='B004MKMH3M', r_ui=3.0, est=4.28584229390681, details={'was_impossible': True, 'reason': 'User and/or item is unknown.'}),\n",
       " Prediction(uid='A3LGT6UZL99IW1', iid='B000B7CM4E', r_ui=5.0, est=4.28584229390681, details={'was_impossible': True, 'reason': 'User and/or item is unknown.'}),\n",
       " Prediction(uid='A3EXWV8FNSSFL6', iid='B001EYV9TM', r_ui=5.0, est=4.28584229390681, details={'was_impossible': True, 'reason': 'User and/or item is unknown.'}),\n",
       " Prediction(uid='A3OXHLG6DIBRW8', iid='B004CLYEE6', r_ui=5.0, est=5, details={'actual_k': 0, 'was_impossible': False}),\n",
       " Prediction(uid='A19XMHRB3G4DIR', iid='B00155RGYM', r_ui=5.0, est=4.28584229390681, details={'was_impossible': True, 'reason': 'User and/or item is unknown.'}),\n",
       " Prediction(uid='A2NOW4U7W3F7RI', iid='B0097BEF0O', r_ui=4.0, est=4.28584229390681, details={'was_impossible': True, 'reason': 'User and/or item is unknown.'}),\n",
       " Prediction(uid='A3OXHLG6DIBRW8', iid='B0026M9YY8', r_ui=5.0, est=4.28584229390681, details={'was_impossible': True, 'reason': 'User and/or item is unknown.'}),\n",
       " Prediction(uid='A34BZM6S9L7QI4', iid='B00HXE4H1E', r_ui=5.0, est=4.28584229390681, details={'was_impossible': True, 'reason': 'User and/or item is unknown.'}),\n",
       " Prediction(uid='A1F1A0QQP2XVH5', iid='B0088CJT4U', r_ui=4.0, est=4.0, details={'actual_k': 0, 'was_impossible': False}),\n",
       " Prediction(uid='A15CL28ALB7MTZ', iid='B001QFYCXO', r_ui=4.0, est=4.28584229390681, details={'was_impossible': True, 'reason': 'User and/or item is unknown.'}),\n",
       " Prediction(uid='A3R4794K2RVU1S', iid='B0002NXNSG', r_ui=5.0, est=4.28584229390681, details={'was_impossible': True, 'reason': 'User and/or item is unknown.'}),\n",
       " Prediction(uid='A231WM2Z2JL0U3', iid='B00005QFZF', r_ui=5.0, est=4.28584229390681, details={'was_impossible': True, 'reason': 'User and/or item is unknown.'}),\n",
       " Prediction(uid='A30X750M8V1XXW', iid='B0000BZL1P', r_ui=5.0, est=4.28584229390681, details={'was_impossible': True, 'reason': 'User and/or item is unknown.'}),\n",
       " Prediction(uid='A1F9Z42CFF9IAY', iid='B0000AAAPF', r_ui=4.0, est=3.0, details={'actual_k': 0, 'was_impossible': False}),\n",
       " Prediction(uid='A5JLAU2ARJ0BO', iid='B0009K9Q2E', r_ui=5.0, est=4.28584229390681, details={'was_impossible': True, 'reason': 'User and/or item is unknown.'}),\n",
       " Prediction(uid='A18HE80910BTZI', iid='B008DWCRQW', r_ui=3.0, est=4.0, details={'actual_k': 0, 'was_impossible': False}),\n",
       " Prediction(uid='ADLVFFE4VBT8', iid='B000OH56ZS', r_ui=4.0, est=4.28584229390681, details={'was_impossible': True, 'reason': 'User and/or item is unknown.'}),\n",
       " Prediction(uid='A1435P5AMCPB3X', iid='B000GIQR0S', r_ui=3.0, est=4.28584229390681, details={'was_impossible': True, 'reason': 'User and/or item is unknown.'}),\n",
       " Prediction(uid='A1VHCO8RQFIGQJ', iid='B007PU2X6C', r_ui=4.0, est=4.28584229390681, details={'was_impossible': True, 'reason': 'User and/or item is unknown.'}),\n",
       " Prediction(uid='A1XXMNLOLKNO0I', iid='B008VO4S5K', r_ui=5.0, est=4.28584229390681, details={'was_impossible': True, 'reason': 'User and/or item is unknown.'}),\n",
       " Prediction(uid='A1CPRP3VFJRS1R', iid='B003N3GRCQ', r_ui=5.0, est=4.28584229390681, details={'was_impossible': True, 'reason': 'User and/or item is unknown.'}),\n",
       " Prediction(uid='A1UQBFCERIP7VJ', iid='B00FDLI9U4', r_ui=5.0, est=4.28584229390681, details={'was_impossible': True, 'reason': 'User and/or item is unknown.'}),\n",
       " Prediction(uid='A3OXHLG6DIBRW8', iid='B005Z63LWS', r_ui=5.0, est=4.28584229390681, details={'was_impossible': True, 'reason': 'User and/or item is unknown.'}),\n",
       " Prediction(uid='A3T7V207KRDE2O', iid='B000092TS9', r_ui=5.0, est=5, details={'actual_k': 0, 'was_impossible': False}),\n",
       " Prediction(uid='A9Y5O2R4D6EH5', iid='B0055R0YK4', r_ui=4.0, est=4.28584229390681, details={'was_impossible': True, 'reason': 'User and/or item is unknown.'}),\n",
       " Prediction(uid='ARBKYIVNYWK3C', iid='B000TH0VPS', r_ui=5.0, est=4.28584229390681, details={'was_impossible': True, 'reason': 'User and/or item is unknown.'}),\n",
       " Prediction(uid='A3CW0ZLUO5X2B1', iid='B0032OX1N4', r_ui=5.0, est=4.28584229390681, details={'was_impossible': True, 'reason': 'User and/or item is unknown.'}),\n",
       " Prediction(uid='A259MPG6SOL02P', iid='B000E71EW2', r_ui=5.0, est=4.28584229390681, details={'was_impossible': True, 'reason': 'User and/or item is unknown.'}),\n",
       " Prediction(uid='A30X750M8V1XXW', iid='B0017SVEDQ', r_ui=5.0, est=4.28584229390681, details={'was_impossible': True, 'reason': 'User and/or item is unknown.'}),\n",
       " Prediction(uid='A1X1CEGHTHMBL1', iid='B001E1Y5O6', r_ui=5.0, est=4.666666666666667, details={'actual_k': 0, 'was_impossible': False}),\n",
       " Prediction(uid='ARBKYIVNYWK3C', iid='B00IQ92L4K', r_ui=5.0, est=4.28584229390681, details={'was_impossible': True, 'reason': 'User and/or item is unknown.'}),\n",
       " Prediction(uid='A15CL28ALB7MTZ', iid='B002L6HDQA', r_ui=5.0, est=4.28584229390681, details={'was_impossible': True, 'reason': 'User and/or item is unknown.'}),\n",
       " Prediction(uid='A28UMA3GW9L124', iid='B005HEUWFW', r_ui=5.0, est=4.28584229390681, details={'was_impossible': True, 'reason': 'User and/or item is unknown.'}),\n",
       " Prediction(uid='A5JLAU2ARJ0BO', iid='B00009MDBY', r_ui=5.0, est=4.28584229390681, details={'was_impossible': True, 'reason': 'User and/or item is unknown.'}),\n",
       " Prediction(uid='A3A4ZAIBQWKOZS', iid='B00L2442H0', r_ui=5.0, est=5, details={'actual_k': 0, 'was_impossible': False}),\n",
       " Prediction(uid='A22CW0ZHY3NJH8', iid='B003I4FESI', r_ui=5.0, est=4.28584229390681, details={'was_impossible': True, 'reason': 'User and/or item is unknown.'}),\n",
       " Prediction(uid='A1EXGL6L0QQ0M5', iid='B001AQYJI2', r_ui=4.0, est=4.28584229390681, details={'was_impossible': True, 'reason': 'User and/or item is unknown.'}),\n",
       " Prediction(uid='A1CMD08Z49PGKQ', iid='B003XIJ3MW', r_ui=5.0, est=4.28584229390681, details={'was_impossible': True, 'reason': 'User and/or item is unknown.'}),\n",
       " Prediction(uid='A250AXLRBVYKB4', iid='B001TH7GSW', r_ui=5.0, est=5, details={'actual_k': 0, 'was_impossible': False}),\n",
       " Prediction(uid='A3PD8JD9L4WEII', iid='B001IUQB2W', r_ui=1.0, est=4.28584229390681, details={'was_impossible': True, 'reason': 'User and/or item is unknown.'}),\n",
       " Prediction(uid='A28UMA3GW9L124', iid='B000I98YWO', r_ui=5.0, est=4.28584229390681, details={'was_impossible': True, 'reason': 'User and/or item is unknown.'}),\n",
       " Prediction(uid='AYB4ELCS5AM8P', iid='B0057UUB1G', r_ui=5.0, est=4.28584229390681, details={'was_impossible': True, 'reason': 'User and/or item is unknown.'}),\n",
       " Prediction(uid='A1ODOGXEYECQQ8', iid='B002QEBMAK', r_ui=4.0, est=5, details={'actual_k': 0, 'was_impossible': False}),\n",
       " Prediction(uid='A1F7YU6O5RU432', iid='B00009X6PH', r_ui=5.0, est=4.28584229390681, details={'was_impossible': True, 'reason': 'User and/or item is unknown.'}),\n",
       " Prediction(uid='A1EH2S92FHWZRP', iid='B0011UEUOA', r_ui=4.0, est=4.28584229390681, details={'was_impossible': True, 'reason': 'User and/or item is unknown.'}),\n",
       " Prediction(uid='A1L64KDYO5BOJA', iid='B0015C4Y0Y', r_ui=5.0, est=4.28584229390681, details={'was_impossible': True, 'reason': 'User and/or item is unknown.'}),\n",
       " Prediction(uid='A23GFTVIETX7DS', iid='B00AYUZARY', r_ui=3.0, est=4.28584229390681, details={'was_impossible': True, 'reason': 'User and/or item is unknown.'}),\n",
       " Prediction(uid='A680RUE1FDO8B', iid='B000Q6UZBM', r_ui=3.0, est=4.28584229390681, details={'was_impossible': True, 'reason': 'User and/or item is unknown.'}),\n",
       " Prediction(uid='A2NYK9KWFMJV4Y', iid='B005GKYHJY', r_ui=4.0, est=4.28584229390681, details={'was_impossible': True, 'reason': 'User and/or item is unknown.'}),\n",
       " Prediction(uid='A1L64KDYO5BOJA', iid='B002EVP85K', r_ui=5.0, est=4.28584229390681, details={'was_impossible': True, 'reason': 'User and/or item is unknown.'}),\n",
       " Prediction(uid='AGOH8N902URMW', iid='B008B14TQ6', r_ui=5.0, est=4.28584229390681, details={'was_impossible': True, 'reason': 'User and/or item is unknown.'}),\n",
       " Prediction(uid='A1F7YU6O5RU432', iid='B008YQR8IY', r_ui=5.0, est=4.0, details={'actual_k': 0, 'was_impossible': False}),\n",
       " Prediction(uid='A3OXHLG6DIBRW8', iid='B000X5ZVS8', r_ui=5.0, est=4.28584229390681, details={'was_impossible': True, 'reason': 'User and/or item is unknown.'}),\n",
       " Prediction(uid='A1VHCO8RQFIGQJ', iid='B001CBDGHA', r_ui=4.0, est=4.28584229390681, details={'was_impossible': True, 'reason': 'User and/or item is unknown.'}),\n",
       " Prediction(uid='A30XZK10EZN9V4', iid='B00568KKOW', r_ui=4.0, est=4.28584229390681, details={'was_impossible': True, 'reason': 'User and/or item is unknown.'}),\n",
       " Prediction(uid='A4WEZJOIZIV4U', iid='B0042KFLJ4', r_ui=5.0, est=4.28584229390681, details={'was_impossible': True, 'reason': 'User and/or item is unknown.'}),\n",
       " Prediction(uid='A23GFTVIETX7DS', iid='B0006PIQE6', r_ui=5.0, est=4.28584229390681, details={'was_impossible': True, 'reason': 'User and/or item is unknown.'}),\n",
       " Prediction(uid='A6FIAB28IS79', iid='B001VAAJ5E', r_ui=2.0, est=4.28584229390681, details={'was_impossible': True, 'reason': 'User and/or item is unknown.'}),\n",
       " Prediction(uid='AGVWTYW0ULXHT', iid='B00BEGS4R0', r_ui=4.0, est=4.28584229390681, details={'was_impossible': True, 'reason': 'User and/or item is unknown.'}),\n",
       " Prediction(uid='A32O5FZH994CNY', iid='B00BI4JX2I', r_ui=4.0, est=4.28584229390681, details={'was_impossible': True, 'reason': 'User and/or item is unknown.'}),\n",
       " Prediction(uid='A3AYSYSLHU26U9', iid='B003UVCSZ6', r_ui=5.0, est=4.28584229390681, details={'was_impossible': True, 'reason': 'User and/or item is unknown.'}),\n",
       " Prediction(uid='A1X1CEGHTHMBL1', iid='B004XANO24', r_ui=5.0, est=4.28584229390681, details={'was_impossible': True, 'reason': 'User and/or item is unknown.'}),\n",
       " Prediction(uid='A1UQBFCERIP7VJ', iid='B00JX1ZS5O', r_ui=5.0, est=5, details={'actual_k': 0, 'was_impossible': False}),\n",
       " Prediction(uid='A1EXGL6L0QQ0M5', iid='B008JJLW4M', r_ui=5.0, est=4.28584229390681, details={'was_impossible': True, 'reason': 'User and/or item is unknown.'}),\n",
       " Prediction(uid='A19W47CXJJP1MI', iid='B003XU78PE', r_ui=5.0, est=4.28584229390681, details={'was_impossible': True, 'reason': 'User and/or item is unknown.'}),\n",
       " Prediction(uid='A231WM2Z2JL0U3', iid='B000066JQU', r_ui=5.0, est=4.28584229390681, details={'was_impossible': True, 'reason': 'User and/or item is unknown.'}),\n",
       " Prediction(uid='A2L42QEWR77PKZ', iid='B008LUWRAM', r_ui=5.0, est=4.28584229390681, details={'was_impossible': True, 'reason': 'User and/or item is unknown.'}),\n",
       " Prediction(uid='A1EH2S92FHWZRP', iid='B003ES5ZUU', r_ui=5.0, est=4.28584229390681, details={'was_impossible': True, 'reason': 'User and/or item is unknown.'}),\n",
       " Prediction(uid='A1CMD08Z49PGKQ', iid='B00FZ03CD2', r_ui=5.0, est=4.28584229390681, details={'was_impossible': True, 'reason': 'User and/or item is unknown.'}),\n",
       " Prediction(uid='A1XXMNLOLKNO0I', iid='B005IKJ62A', r_ui=5.0, est=4.28584229390681, details={'was_impossible': True, 'reason': 'User and/or item is unknown.'}),\n",
       " Prediction(uid='A18HE80910BTZI', iid='B0007UQNKO', r_ui=3.0, est=4.28584229390681, details={'was_impossible': True, 'reason': 'User and/or item is unknown.'}),\n",
       " Prediction(uid='AN81JUYW2SL24', iid='B0000649ER', r_ui=5.0, est=4.28584229390681, details={'was_impossible': True, 'reason': 'User and/or item is unknown.'}),\n",
       " Prediction(uid='A3EZEP0FX5BC1P', iid='B00BR3ZYIW', r_ui=5.0, est=4.28584229390681, details={'was_impossible': True, 'reason': 'User and/or item is unknown.'}),\n",
       " Prediction(uid='AGVWTYW0ULXHT', iid='B00E8CF0CE', r_ui=4.0, est=4.28584229390681, details={'was_impossible': True, 'reason': 'User and/or item is unknown.'}),\n",
       " Prediction(uid='A10Y058K7B96C6', iid='B004CLYEFK', r_ui=5.0, est=4.5, details={'actual_k': 0, 'was_impossible': False}),\n",
       " Prediction(uid='A12DQZKRKTNF5E', iid='B00GYM8WYO', r_ui=4.0, est=4.28584229390681, details={'was_impossible': True, 'reason': 'User and/or item is unknown.'}),\n",
       " Prediction(uid='A23ONMGKEWDG4M', iid='B000B69WVG', r_ui=5.0, est=4.28584229390681, details={'was_impossible': True, 'reason': 'User and/or item is unknown.'}),\n",
       " Prediction(uid='A11KZ906QD08C5', iid='B0057CL3D4', r_ui=5.0, est=4.28584229390681, details={'was_impossible': True, 'reason': 'User and/or item is unknown.'}),\n",
       " Prediction(uid='A25C2M3QF9G7OQ', iid='B00JKH25DO', r_ui=4.0, est=4.28584229390681, details={'was_impossible': True, 'reason': 'User and/or item is unknown.'}),\n",
       " Prediction(uid='AEWYUPCNDV7HY', iid='B0001FTVEK', r_ui=4.0, est=4.28584229390681, details={'was_impossible': True, 'reason': 'User and/or item is unknown.'}),\n",
       " Prediction(uid='A1VQHH85U7PX0', iid='B00007EDM8', r_ui=3.0, est=2.0, details={'actual_k': 0, 'was_impossible': False}),\n",
       " Prediction(uid='A5JLAU2ARJ0BO', iid='B000083K9F', r_ui=5.0, est=4.28584229390681, details={'was_impossible': True, 'reason': 'User and/or item is unknown.'}),\n",
       " Prediction(uid='A22CW0ZHY3NJH8', iid='B0002KKIUA', r_ui=5.0, est=4.28584229390681, details={'was_impossible': True, 'reason': 'User and/or item is unknown.'}),\n",
       " Prediction(uid='AWPODHOB4GFWL', iid='B000WS204Y', r_ui=5.0, est=4.28584229390681, details={'was_impossible': True, 'reason': 'User and/or item is unknown.'}),\n",
       " Prediction(uid='ABQWMANK4AR63', iid='B00622AG6S', r_ui=4.0, est=4.28584229390681, details={'was_impossible': True, 'reason': 'User and/or item is unknown.'}),\n",
       " Prediction(uid='A3CG93783LP0FO', iid='B0046TFH5Y', r_ui=5.0, est=4.28584229390681, details={'was_impossible': True, 'reason': 'User and/or item is unknown.'}),\n",
       " Prediction(uid='AOEAD7DPLZE53', iid='B004JISIE4', r_ui=5.0, est=4.28584229390681, details={'was_impossible': True, 'reason': 'User and/or item is unknown.'}),\n",
       " Prediction(uid='A28UMA3GW9L124', iid='B0001XGQCC', r_ui=5.0, est=4.28584229390681, details={'was_impossible': True, 'reason': 'User and/or item is unknown.'}),\n",
       " Prediction(uid='A3OA4DV4L81N1D', iid='B00A2BWAAK', r_ui=4.0, est=4.28584229390681, details={'was_impossible': True, 'reason': 'User and/or item is unknown.'}),\n",
       " Prediction(uid='A3TAS1AG6FMBQW', iid='B003GTSHY8', r_ui=5.0, est=4.28584229390681, details={'was_impossible': True, 'reason': 'User and/or item is unknown.'}),\n",
       " Prediction(uid='A2L42QEWR77PKZ', iid='B00CD8ADKO', r_ui=5.0, est=4.5, details={'actual_k': 0, 'was_impossible': False}),\n",
       " Prediction(uid='A2WB7LZ595CR50', iid='B005N130Y4', r_ui=4.0, est=4.28584229390681, details={'was_impossible': True, 'reason': 'User and/or item is unknown.'}),\n",
       " Prediction(uid='A1ODOGXEYECQQ8', iid='B005E8MVV4', r_ui=4.0, est=4.28584229390681, details={'was_impossible': True, 'reason': 'User and/or item is unknown.'}),\n",
       " Prediction(uid='A3CW0ZLUO5X2B1', iid='B001L7UL50', r_ui=4.0, est=4.28584229390681, details={'was_impossible': True, 'reason': 'User and/or item is unknown.'}),\n",
       " Prediction(uid='A3NEAETOSXDBOM', iid='B00873AC28', r_ui=3.0, est=4.28584229390681, details={'was_impossible': True, 'reason': 'User and/or item is unknown.'}),\n",
       " Prediction(uid='A1EH2S92FHWZRP', iid='B004BLIQDC', r_ui=5.0, est=4.28584229390681, details={'was_impossible': True, 'reason': 'User and/or item is unknown.'}),\n",
       " Prediction(uid='A1T1YSCDW0PD25', iid='B001A4HAFS', r_ui=5.0, est=4.28584229390681, details={'was_impossible': True, 'reason': 'User and/or item is unknown.'}),\n",
       " Prediction(uid='AT6CZDCP4TRGA', iid='B0039NLS4C', r_ui=5.0, est=4.0, details={'actual_k': 0, 'was_impossible': False}),\n",
       " Prediction(uid='A3PD8JD9L4WEII', iid='B003VAGXZC', r_ui=5.0, est=4.28584229390681, details={'was_impossible': True, 'reason': 'User and/or item is unknown.'}),\n",
       " Prediction(uid='A2NOW4U7W3F7RI', iid='B001SJVU6K', r_ui=1.0, est=5, details={'actual_k': 0, 'was_impossible': False}),\n",
       " Prediction(uid='A1YEPFLLH42OU1', iid='B002HWWDAY', r_ui=5.0, est=4.28584229390681, details={'was_impossible': True, 'reason': 'User and/or item is unknown.'}),\n",
       " Prediction(uid='A10Y058K7B96C6', iid='B0058GK55Q', r_ui=5.0, est=4.28584229390681, details={'was_impossible': True, 'reason': 'User and/or item is unknown.'}),\n",
       " Prediction(uid='A250AXLRBVYKB4', iid='B001P9KF14', r_ui=5.0, est=4.28584229390681, details={'was_impossible': True, 'reason': 'User and/or item is unknown.'}),\n",
       " Prediction(uid='A4WEZJOIZIV4U', iid='B00B7JLZQQ', r_ui=5.0, est=4.28584229390681, details={'was_impossible': True, 'reason': 'User and/or item is unknown.'}),\n",
       " Prediction(uid='A2V1J3JT5OOZFO', iid='B006GWO5WK', r_ui=5.0, est=4.666666666666667, details={'actual_k': 0, 'was_impossible': False}),\n",
       " Prediction(uid='A6VXZ1EEPRTLV', iid='B004BI6MVS', r_ui=5.0, est=4.28584229390681, details={'was_impossible': True, 'reason': 'User and/or item is unknown.'}),\n",
       " Prediction(uid='A18S2VGUH9SCV5', iid='B001UJK66I', r_ui=2.0, est=4.28584229390681, details={'was_impossible': True, 'reason': 'User and/or item is unknown.'}),\n",
       " Prediction(uid='A18S2VGUH9SCV5', iid='B004YIZW16', r_ui=2.0, est=4.28584229390681, details={'was_impossible': True, 'reason': 'User and/or item is unknown.'}),\n",
       " Prediction(uid='A680RUE1FDO8B', iid='B001AALJ9U', r_ui=3.0, est=4.28584229390681, details={'was_impossible': True, 'reason': 'User and/or item is unknown.'}),\n",
       " Prediction(uid='A1VHCO8RQFIGQJ', iid='B0031AQ302', r_ui=5.0, est=4.28584229390681, details={'was_impossible': True, 'reason': 'User and/or item is unknown.'}),\n",
       " Prediction(uid='A3OXHLG6DIBRW8', iid='B005PUZOYM', r_ui=5.0, est=4.28584229390681, details={'was_impossible': True, 'reason': 'User and/or item is unknown.'}),\n",
       " Prediction(uid='AYB4ELCS5AM8P', iid='B00G4V0QSK', r_ui=5.0, est=4.28584229390681, details={'was_impossible': True, 'reason': 'User and/or item is unknown.'}),\n",
       " Prediction(uid='A1PN2U0AWXGVML', iid='B0047DVVVI', r_ui=5.0, est=4.28584229390681, details={'was_impossible': True, 'reason': 'User and/or item is unknown.'}),\n",
       " Prediction(uid='A2AY4YUOX2N1BQ', iid='B001EH8FZA', r_ui=5.0, est=4.28584229390681, details={'was_impossible': True, 'reason': 'User and/or item is unknown.'}),\n",
       " Prediction(uid='A19W47CXJJP1MI', iid='B001OXKPDO', r_ui=3.0, est=4.28584229390681, details={'was_impossible': True, 'reason': 'User and/or item is unknown.'}),\n",
       " Prediction(uid='A3AYSYSLHU26U9', iid='B008MF48J4', r_ui=4.0, est=4.28584229390681, details={'was_impossible': True, 'reason': 'User and/or item is unknown.'}),\n",
       " Prediction(uid='A20DZX38KRBIT8', iid='B001IOHAVO', r_ui=1.0, est=4.28584229390681, details={'was_impossible': True, 'reason': 'User and/or item is unknown.'}),\n",
       " Prediction(uid='A1F1A0QQP2XVH5', iid='B004WOBCXO', r_ui=3.0, est=4.28584229390681, details={'was_impossible': True, 'reason': 'User and/or item is unknown.'}),\n",
       " Prediction(uid='A2XRMQA6PJ5ZJ8', iid='B000A3V8SA', r_ui=5.0, est=4.28584229390681, details={'was_impossible': True, 'reason': 'User and/or item is unknown.'}),\n",
       " Prediction(uid='A6FIAB28IS79', iid='B000OQB76G', r_ui=4.0, est=4.28584229390681, details={'was_impossible': True, 'reason': 'User and/or item is unknown.'}),\n",
       " Prediction(uid='AAA0TUKS5VBSA', iid='B00CIZ2238', r_ui=5.0, est=4.28584229390681, details={'was_impossible': True, 'reason': 'User and/or item is unknown.'}),\n",
       " Prediction(uid='A1E1LEVQ9VQNK', iid='B000BY52NK', r_ui=5.0, est=4.28584229390681, details={'was_impossible': True, 'reason': 'User and/or item is unknown.'}),\n",
       " Prediction(uid='A3NEAETOSXDBOM', iid='B00DES74YU', r_ui=5.0, est=4.28584229390681, details={'was_impossible': True, 'reason': 'User and/or item is unknown.'}),\n",
       " Prediction(uid='A680RUE1FDO8B', iid='B000TMI0VU', r_ui=4.0, est=4.28584229390681, details={'was_impossible': True, 'reason': 'User and/or item is unknown.'}),\n",
       " Prediction(uid='A3REK3OFONWB1Q', iid='B0002EXF1A', r_ui=5.0, est=4.28584229390681, details={'was_impossible': True, 'reason': 'User and/or item is unknown.'}),\n",
       " Prediction(uid='ALDAF4VVLFRHP', iid='B004CLYEDC', r_ui=5.0, est=4.28584229390681, details={'was_impossible': True, 'reason': 'User and/or item is unknown.'}),\n",
       " Prediction(uid='A1F9Z42CFF9IAY', iid='B000I1YIDQ', r_ui=4.0, est=4.28584229390681, details={'was_impossible': True, 'reason': 'User and/or item is unknown.'}),\n",
       " Prediction(uid='A3A4ZAIBQWKOZS', iid='B003NYSZUW', r_ui=5.0, est=4.28584229390681, details={'was_impossible': True, 'reason': 'User and/or item is unknown.'}),\n",
       " Prediction(uid='AAA0TUKS5VBSA', iid='B00E0HITQ6', r_ui=4.0, est=4.28584229390681, details={'was_impossible': True, 'reason': 'User and/or item is unknown.'}),\n",
       " Prediction(uid='A1VHCO8RQFIGQJ', iid='B002HMC7A0', r_ui=5.0, est=4.28584229390681, details={'was_impossible': True, 'reason': 'User and/or item is unknown.'}),\n",
       " Prediction(uid='A1F9Z42CFF9IAY', iid='B000M6XKEK', r_ui=4.0, est=4.28584229390681, details={'was_impossible': True, 'reason': 'User and/or item is unknown.'}),\n",
       " Prediction(uid='A1RL1OTV8IJMVD', iid='B00EMB4LU8', r_ui=3.0, est=3.0, details={'actual_k': 0, 'was_impossible': False}),\n",
       " Prediction(uid='A231WM2Z2JL0U3', iid='B00005AC8J', r_ui=5.0, est=4.28584229390681, details={'was_impossible': True, 'reason': 'User and/or item is unknown.'}),\n",
       " Prediction(uid='AGVWTYW0ULXHT', iid='B006FLENJC', r_ui=4.0, est=4.28584229390681, details={'was_impossible': True, 'reason': 'User and/or item is unknown.'}),\n",
       " Prediction(uid='A2XRMQA6PJ5ZJ8', iid='B00005I9Q0', r_ui=4.0, est=4.28584229390681, details={'was_impossible': True, 'reason': 'User and/or item is unknown.'}),\n",
       " Prediction(uid='A19XMHRB3G4DIR', iid='B0013PSOT0', r_ui=4.0, est=4.28584229390681, details={'was_impossible': True, 'reason': 'User and/or item is unknown.'}),\n",
       " Prediction(uid='A1EKSETIBS9ETQ', iid='B00AEEDRFM', r_ui=5.0, est=4.28584229390681, details={'was_impossible': True, 'reason': 'User and/or item is unknown.'}),\n",
       " Prediction(uid='A15CL28ALB7MTZ', iid='B004YIZW16', r_ui=3.0, est=4.28584229390681, details={'was_impossible': True, 'reason': 'User and/or item is unknown.'}),\n",
       " Prediction(uid='A28UMA3GW9L124', iid='B008HO9DK4', r_ui=1.0, est=4.28584229390681, details={'was_impossible': True, 'reason': 'User and/or item is unknown.'}),\n",
       " Prediction(uid='A1T1YSCDW0PD25', iid='B0006TIA02', r_ui=5.0, est=4.28584229390681, details={'was_impossible': True, 'reason': 'User and/or item is unknown.'}),\n",
       " Prediction(uid='A6VXZ1EEPRTLV', iid='B005IA843W', r_ui=3.0, est=4.28584229390681, details={'was_impossible': True, 'reason': 'User and/or item is unknown.'}),\n",
       " Prediction(uid='AN81JUYW2SL24', iid='B000VE2RP6', r_ui=4.0, est=4.28584229390681, details={'was_impossible': True, 'reason': 'User and/or item is unknown.'}),\n",
       " Prediction(uid='A3LGT6UZL99IW1', iid='B00006HYJ2', r_ui=1.0, est=4.28584229390681, details={'was_impossible': True, 'reason': 'User and/or item is unknown.'}),\n",
       " Prediction(uid='A203OCQQ12MAVT', iid='B00194101O', r_ui=5.0, est=4.28584229390681, details={'was_impossible': True, 'reason': 'User and/or item is unknown.'}),\n",
       " Prediction(uid='A38KK0SZYEH5UD', iid='B000AMLXHW', r_ui=1.0, est=4.28584229390681, details={'was_impossible': True, 'reason': 'User and/or item is unknown.'}),\n",
       " Prediction(uid='AN81JUYW2SL24', iid='B0032UWTGI', r_ui=4.0, est=4.28584229390681, details={'was_impossible': True, 'reason': 'User and/or item is unknown.'}),\n",
       " Prediction(uid='AGVWTYW0ULXHT', iid='B00FC2R7ZC', r_ui=4.0, est=4.28584229390681, details={'was_impossible': True, 'reason': 'User and/or item is unknown.'}),\n",
       " Prediction(uid='A4WEZJOIZIV4U', iid='B004UTQRHW', r_ui=5.0, est=4.28584229390681, details={'was_impossible': True, 'reason': 'User and/or item is unknown.'}),\n",
       " Prediction(uid='A6FIAB28IS79', iid='B004J3ZV62', r_ui=5.0, est=4.28584229390681, details={'was_impossible': True, 'reason': 'User and/or item is unknown.'}),\n",
       " Prediction(uid='A2NOW4U7W3F7RI', iid='B00H8O8D96', r_ui=5.0, est=4.28584229390681, details={'was_impossible': True, 'reason': 'User and/or item is unknown.'}),\n",
       " Prediction(uid='A3OXHLG6DIBRW8', iid='B002HWRJY4', r_ui=5.0, est=4.28584229390681, details={'was_impossible': True, 'reason': 'User and/or item is unknown.'}),\n",
       " Prediction(uid='AGVWTYW0ULXHT', iid='B000VX6XL6', r_ui=3.0, est=4.28584229390681, details={'was_impossible': True, 'reason': 'User and/or item is unknown.'}),\n",
       " Prediction(uid='AOEAD7DPLZE53', iid='B000QJ6KXQ', r_ui=5.0, est=4.28584229390681, details={'was_impossible': True, 'reason': 'User and/or item is unknown.'}),\n",
       " Prediction(uid='A680RUE1FDO8B', iid='B00FLNYH8M', r_ui=5.0, est=4.28584229390681, details={'was_impossible': True, 'reason': 'User and/or item is unknown.'}),\n",
       " Prediction(uid='A3TAS1AG6FMBQW', iid='B00006I5NE', r_ui=5.0, est=4.28584229390681, details={'was_impossible': True, 'reason': 'User and/or item is unknown.'}),\n",
       " Prediction(uid='AWPODHOB4GFWL', iid='B00022TNHM', r_ui=5.0, est=4.28584229390681, details={'was_impossible': True, 'reason': 'User and/or item is unknown.'}),\n",
       " Prediction(uid='A3PD8JD9L4WEII', iid='B009WG6LLA', r_ui=4.0, est=4.28584229390681, details={'was_impossible': True, 'reason': 'User and/or item is unknown.'}),\n",
       " Prediction(uid='AGOH8N902URMW', iid='B00BBXTUA6', r_ui=5.0, est=4.28584229390681, details={'was_impossible': True, 'reason': 'User and/or item is unknown.'}),\n",
       " Prediction(uid='ARBKYIVNYWK3C', iid='B009E6J8U4', r_ui=3.0, est=4.28584229390681, details={'was_impossible': True, 'reason': 'User and/or item is unknown.'}),\n",
       " Prediction(uid='A1QVFHPY8418HC', iid='B00902SFC4', r_ui=5.0, est=4.28584229390681, details={'was_impossible': True, 'reason': 'User and/or item is unknown.'}),\n",
       " Prediction(uid='A3CW0ZLUO5X2B1', iid='B003T5KXJQ', r_ui=5.0, est=5, details={'actual_k': 0, 'was_impossible': False}),\n",
       " Prediction(uid='A2L42QEWR77PKZ', iid='B0049AVWAO', r_ui=5.0, est=4.28584229390681, details={'was_impossible': True, 'reason': 'User and/or item is unknown.'}),\n",
       " Prediction(uid='A1X1CEGHTHMBL1', iid='B0030H0MSA', r_ui=5.0, est=4.28584229390681, details={'was_impossible': True, 'reason': 'User and/or item is unknown.'}),\n",
       " Prediction(uid='AGOH8N902URMW', iid='B00EPZEU70', r_ui=5.0, est=4.28584229390681, details={'was_impossible': True, 'reason': 'User and/or item is unknown.'}),\n",
       " Prediction(uid='A2NYK9KWFMJV4Y', iid='B0000608R3', r_ui=5.0, est=4.28584229390681, details={'was_impossible': True, 'reason': 'User and/or item is unknown.'}),\n",
       " Prediction(uid='A18S2VGUH9SCV5', iid='B0096239G0', r_ui=3.0, est=4.28584229390681, details={'was_impossible': True, 'reason': 'User and/or item is unknown.'}),\n",
       " Prediction(uid='A34BZM6S9L7QI4', iid='B00JCSLDAW', r_ui=5.0, est=4.28584229390681, details={'was_impossible': True, 'reason': 'User and/or item is unknown.'}),\n",
       " Prediction(uid='A259MPG6SOL02P', iid='B004CCS266', r_ui=2.0, est=4.28584229390681, details={'was_impossible': True, 'reason': 'User and/or item is unknown.'}),\n",
       " Prediction(uid='A1435P5AMCPB3X', iid='B0000AZK0D', r_ui=5.0, est=4.28584229390681, details={'was_impossible': True, 'reason': 'User and/or item is unknown.'}),\n",
       " Prediction(uid='A2KYRPDKVBI2R4', iid='B002EE996Q', r_ui=5.0, est=4.28584229390681, details={'was_impossible': True, 'reason': 'User and/or item is unknown.'}),\n",
       " Prediction(uid='A22CW0ZHY3NJH8', iid='B00BB6LTI4', r_ui=5.0, est=4.28584229390681, details={'was_impossible': True, 'reason': 'User and/or item is unknown.'}),\n",
       " Prediction(uid='A2NOW4U7W3F7RI', iid='B0033RY7YC', r_ui=5.0, est=4.28584229390681, details={'was_impossible': True, 'reason': 'User and/or item is unknown.'}),\n",
       " Prediction(uid='A6VXZ1EEPRTLV', iid='B001LJG102', r_ui=4.0, est=4.28584229390681, details={'was_impossible': True, 'reason': 'User and/or item is unknown.'}),\n",
       " Prediction(uid='A680RUE1FDO8B', iid='B004URTJ6U', r_ui=4.0, est=4.28584229390681, details={'was_impossible': True, 'reason': 'User and/or item is unknown.'}),\n",
       " Prediction(uid='A23ONMGKEWDG4M', iid='B000H7GFWS', r_ui=5.0, est=4.28584229390681, details={'was_impossible': True, 'reason': 'User and/or item is unknown.'}),\n",
       " Prediction(uid='A3OXHLG6DIBRW8', iid='B003Y74AX4', r_ui=4.0, est=4.28584229390681, details={'was_impossible': True, 'reason': 'User and/or item is unknown.'}),\n",
       " Prediction(uid='A3FEGTOLCWXSV4', iid='B002VPDM2A', r_ui=5.0, est=4.0, details={'actual_k': 0, 'was_impossible': False}),\n",
       " Prediction(uid='A3OXHLG6DIBRW8', iid='B003LZB8RU', r_ui=5.0, est=4.28584229390681, details={'was_impossible': True, 'reason': 'User and/or item is unknown.'}),\n",
       " Prediction(uid='A3OXHLG6DIBRW8', iid='B005J0RAI6', r_ui=5.0, est=4.28584229390681, details={'was_impossible': True, 'reason': 'User and/or item is unknown.'}),\n",
       " Prediction(uid='A1RL1OTV8IJMVD', iid='B005KSQHLS', r_ui=3.0, est=4.28584229390681, details={'was_impossible': True, 'reason': 'User and/or item is unknown.'}),\n",
       " Prediction(uid='A3LGT6UZL99IW1', iid='B000CSGJCS', r_ui=5.0, est=4.28584229390681, details={'was_impossible': True, 'reason': 'User and/or item is unknown.'}),\n",
       " Prediction(uid='A32O5FZH994CNY', iid='B00007KDVJ', r_ui=5.0, est=4.28584229390681, details={'was_impossible': True, 'reason': 'User and/or item is unknown.'}),\n",
       " Prediction(uid='A34BZM6S9L7QI4', iid='B007PZYBTY', r_ui=5.0, est=4.28584229390681, details={'was_impossible': True, 'reason': 'User and/or item is unknown.'}),\n",
       " Prediction(uid='A12DQZKRKTNF5E', iid='B005C31HC0', r_ui=3.0, est=4.28584229390681, details={'was_impossible': True, 'reason': 'User and/or item is unknown.'}),\n",
       " Prediction(uid='A1ODOGXEYECQQ8', iid='B000U0JYZ2', r_ui=5.0, est=4.28584229390681, details={'was_impossible': True, 'reason': 'User and/or item is unknown.'}),\n",
       " Prediction(uid='A1EKSETIBS9ETQ', iid='B00D02AG7C', r_ui=3.0, est=4.28584229390681, details={'was_impossible': True, 'reason': 'User and/or item is unknown.'}),\n",
       " Prediction(uid='A3FEGTOLCWXSV4', iid='B00408GUNY', r_ui=3.0, est=4.28584229390681, details={'was_impossible': True, 'reason': 'User and/or item is unknown.'}),\n",
       " Prediction(uid='A3REK3OFONWB1Q', iid='B000LYABGS', r_ui=3.0, est=4.28584229390681, details={'was_impossible': True, 'reason': 'User and/or item is unknown.'}),\n",
       " Prediction(uid='A250AXLRBVYKB4', iid='B000IE5XIC', r_ui=5.0, est=4.28584229390681, details={'was_impossible': True, 'reason': 'User and/or item is unknown.'}),\n",
       " Prediction(uid='A250AXLRBVYKB4', iid='B001RB1XVQ', r_ui=1.0, est=4.28584229390681, details={'was_impossible': True, 'reason': 'User and/or item is unknown.'}),\n",
       " Prediction(uid='A3NEAETOSXDBOM', iid='B000BKJZ9Q', r_ui=5.0, est=5, details={'actual_k': 0, 'was_impossible': False}),\n",
       " Prediction(uid='A12DQZKRKTNF5E', iid='B00I4Z3JEM', r_ui=5.0, est=4.28584229390681, details={'was_impossible': True, 'reason': 'User and/or item is unknown.'}),\n",
       " Prediction(uid='A20DZX38KRBIT8', iid='B002HIAB98', r_ui=1.0, est=4.28584229390681, details={'was_impossible': True, 'reason': 'User and/or item is unknown.'}),\n",
       " Prediction(uid='A19W47CXJJP1MI', iid='B0088CJT4U', r_ui=4.0, est=4.0, details={'actual_k': 0, 'was_impossible': False}),\n",
       " Prediction(uid='A25C2M3QF9G7OQ', iid='B002MAPRYU', r_ui=5.0, est=4.28584229390681, details={'was_impossible': True, 'reason': 'User and/or item is unknown.'}),\n",
       " Prediction(uid='A1RL1OTV8IJMVD', iid='B003LVZO8I', r_ui=4.0, est=4.0, details={'actual_k': 0, 'was_impossible': False}),\n",
       " Prediction(uid='A1RL1OTV8IJMVD', iid='B00DQBA4D8', r_ui=4.0, est=4.28584229390681, details={'was_impossible': True, 'reason': 'User and/or item is unknown.'}),\n",
       " Prediction(uid='AGVWTYW0ULXHT', iid='B00ENZRS76', r_ui=5.0, est=5, details={'actual_k': 0, 'was_impossible': False}),\n",
       " Prediction(uid='A15QYHQH80W30L', iid='B0007W1E4W', r_ui=5.0, est=4.28584229390681, details={'was_impossible': True, 'reason': 'User and/or item is unknown.'}),\n",
       " Prediction(uid='A1143YEAZYMYHJ', iid='B005X9XVNQ', r_ui=4.0, est=4.28584229390681, details={'was_impossible': True, 'reason': 'User and/or item is unknown.'}),\n",
       " Prediction(uid='AAA0TUKS5VBSA', iid='B00006I53D', r_ui=4.0, est=4.28584229390681, details={'was_impossible': True, 'reason': 'User and/or item is unknown.'}),\n",
       " Prediction(uid='A2V1J3JT5OOZFO', iid='B007RFI81Y', r_ui=2.0, est=4.28584229390681, details={'was_impossible': True, 'reason': 'User and/or item is unknown.'}),\n",
       " Prediction(uid='A20OBCQWBKCGZT', iid='B00CIRLJPI', r_ui=5.0, est=4.28584229390681, details={'was_impossible': True, 'reason': 'User and/or item is unknown.'}),\n",
       " Prediction(uid='A1CMD08Z49PGKQ', iid='B0092ICXGK', r_ui=5.0, est=4.28584229390681, details={'was_impossible': True, 'reason': 'User and/or item is unknown.'}),\n",
       " Prediction(uid='A1435P5AMCPB3X', iid='B000TAQ7MG', r_ui=5.0, est=4.28584229390681, details={'was_impossible': True, 'reason': 'User and/or item is unknown.'}),\n",
       " Prediction(uid='A2AY4YUOX2N1BQ', iid='B0030U9ET0', r_ui=4.0, est=4.28584229390681, details={'was_impossible': True, 'reason': 'User and/or item is unknown.'}),\n",
       " Prediction(uid='A6VXZ1EEPRTLV', iid='B0062EUE54', r_ui=5.0, est=4.28584229390681, details={'was_impossible': True, 'reason': 'User and/or item is unknown.'}),\n",
       " Prediction(uid='A259MPG6SOL02P', iid='B000OYHU1Y', r_ui=5.0, est=4.28584229390681, details={'was_impossible': True, 'reason': 'User and/or item is unknown.'}),\n",
       " Prediction(uid='ADLVFFE4VBT8', iid='B003UE52ME', r_ui=5.0, est=4.28584229390681, details={'was_impossible': True, 'reason': 'User and/or item is unknown.'}),\n",
       " Prediction(uid='A2NOW4U7W3F7RI', iid='B0044CL1N0', r_ui=5.0, est=4.28584229390681, details={'was_impossible': True, 'reason': 'User and/or item is unknown.'}),\n",
       " Prediction(uid='A1L64KDYO5BOJA', iid='B0007VPFI4', r_ui=5.0, est=4.28584229390681, details={'was_impossible': True, 'reason': 'User and/or item is unknown.'}),\n",
       " Prediction(uid='A3NHUQ33CFH3VM', iid='B00EHDTQQ0', r_ui=5.0, est=4.28584229390681, details={'was_impossible': True, 'reason': 'User and/or item is unknown.'}),\n",
       " Prediction(uid='A20OBCQWBKCGZT', iid='B0046RE60I', r_ui=5.0, est=4.0, details={'actual_k': 0, 'was_impossible': False}),\n",
       " Prediction(uid='AEWYUPCNDV7HY', iid='B00008VSLA', r_ui=5.0, est=4.28584229390681, details={'was_impossible': True, 'reason': 'User and/or item is unknown.'}),\n",
       " Prediction(uid='A1F9Z42CFF9IAY', iid='B00DB9WCR6', r_ui=4.0, est=4.28584229390681, details={'was_impossible': True, 'reason': 'User and/or item is unknown.'}),\n",
       " Prediction(uid='A231WM2Z2JL0U3', iid='B00004SSRC', r_ui=5.0, est=4.28584229390681, details={'was_impossible': True, 'reason': 'User and/or item is unknown.'}),\n",
       " Prediction(uid='A1CPRP3VFJRS1R', iid='B0001YFZ46', r_ui=2.0, est=4.28584229390681, details={'was_impossible': True, 'reason': 'User and/or item is unknown.'}),\n",
       " Prediction(uid='A231WM2Z2JL0U3', iid='B00004SA30', r_ui=5.0, est=4.28584229390681, details={'was_impossible': True, 'reason': 'User and/or item is unknown.'}),\n",
       " Prediction(uid='A1XXMNLOLKNO0I', iid='B00009R6UA', r_ui=5.0, est=4.28584229390681, details={'was_impossible': True, 'reason': 'User and/or item is unknown.'}),\n",
       " Prediction(uid='A250AXLRBVYKB4', iid='B00408GUNY', r_ui=4.0, est=4.28584229390681, details={'was_impossible': True, 'reason': 'User and/or item is unknown.'}),\n",
       " Prediction(uid='A38KK0SZYEH5UD', iid='B00931DHKM', r_ui=3.0, est=4.28584229390681, details={'was_impossible': True, 'reason': 'User and/or item is unknown.'}),\n",
       " Prediction(uid='A1143YEAZYMYHJ', iid='B00JXLGE70', r_ui=5.0, est=4.0, details={'actual_k': 0, 'was_impossible': False}),\n",
       " Prediction(uid='A6FIAB28IS79', iid='B001FSJC6E', r_ui=3.0, est=4.28584229390681, details={'was_impossible': True, 'reason': 'User and/or item is unknown.'}),\n",
       " Prediction(uid='A4WEZJOIZIV4U', iid='B004CLYEDC', r_ui=5.0, est=4.28584229390681, details={'was_impossible': True, 'reason': 'User and/or item is unknown.'}),\n",
       " Prediction(uid='A3EXWV8FNSSFL6', iid='B00HDW9MU2', r_ui=5.0, est=4.28584229390681, details={'was_impossible': True, 'reason': 'User and/or item is unknown.'}),\n",
       " Prediction(uid='A6VXZ1EEPRTLV', iid='B005FYNSPK', r_ui=4.0, est=5, details={'actual_k': 0, 'was_impossible': False}),\n",
       " Prediction(uid='AOEAD7DPLZE53', iid='B00DYH6HEY', r_ui=5.0, est=4.28584229390681, details={'was_impossible': True, 'reason': 'User and/or item is unknown.'}),\n",
       " Prediction(uid='A25C2M3QF9G7OQ', iid='B00IL7B2YM', r_ui=2.0, est=4.28584229390681, details={'was_impossible': True, 'reason': 'User and/or item is unknown.'}),\n",
       " Prediction(uid='A2AY4YUOX2N1BQ', iid='B0027YYMQA', r_ui=4.0, est=4.28584229390681, details={'was_impossible': True, 'reason': 'User and/or item is unknown.'}),\n",
       " Prediction(uid='A2AY4YUOX2N1BQ', iid='B003TO51LC', r_ui=4.0, est=4.28584229390681, details={'was_impossible': True, 'reason': 'User and/or item is unknown.'}),\n",
       " Prediction(uid='A3OXHLG6DIBRW8', iid='B00ADM79N6', r_ui=5.0, est=4.28584229390681, details={'was_impossible': True, 'reason': 'User and/or item is unknown.'}),\n",
       " Prediction(uid='A3EZEP0FX5BC1P', iid='B002OS1J6A', r_ui=1.0, est=4.28584229390681, details={'was_impossible': True, 'reason': 'User and/or item is unknown.'}),\n",
       " Prediction(uid='A3AYSYSLHU26U9', iid='B000MXAZJQ', r_ui=5.0, est=4.28584229390681, details={'was_impossible': True, 'reason': 'User and/or item is unknown.'}),\n",
       " Prediction(uid='A11KZ906QD08C5', iid='B00A2L3J1Y', r_ui=5.0, est=4.28584229390681, details={'was_impossible': True, 'reason': 'User and/or item is unknown.'}),\n",
       " Prediction(uid='A5JLAU2ARJ0BO', iid='B000065BPC', r_ui=5.0, est=4.28584229390681, details={'was_impossible': True, 'reason': 'User and/or item is unknown.'}),\n",
       " Prediction(uid='A1UQBFCERIP7VJ', iid='B00GO4GMAI', r_ui=5.0, est=4.28584229390681, details={'was_impossible': True, 'reason': 'User and/or item is unknown.'}),\n",
       " Prediction(uid='A17HMM1M7T9PJ1', iid='B001AYW91I', r_ui=4.0, est=3.0, details={'actual_k': 0, 'was_impossible': False}),\n",
       " Prediction(uid='A1MEISNED4NP7U', iid='B007PLL4CK', r_ui=5.0, est=4.28584229390681, details={'was_impossible': True, 'reason': 'User and/or item is unknown.'}),\n",
       " Prediction(uid='A5JLAU2ARJ0BO', iid='B004RO9L50', r_ui=2.0, est=4.28584229390681, details={'was_impossible': True, 'reason': 'User and/or item is unknown.'}),\n",
       " Prediction(uid='A1QVFHPY8418HC', iid='B0039BPG4M', r_ui=5.0, est=4.28584229390681, details={'was_impossible': True, 'reason': 'User and/or item is unknown.'}),\n",
       " Prediction(uid='A3EXWV8FNSSFL6', iid='B0036OR924', r_ui=5.0, est=4.0, details={'actual_k': 0, 'was_impossible': False}),\n",
       " Prediction(uid='A231WM2Z2JL0U3', iid='B00006SG3W', r_ui=5.0, est=4.28584229390681, details={'was_impossible': True, 'reason': 'User and/or item is unknown.'}),\n",
       " Prediction(uid='A3OXHLG6DIBRW8', iid='B002EPF6YO', r_ui=4.0, est=4.28584229390681, details={'was_impossible': True, 'reason': 'User and/or item is unknown.'}),\n",
       " Prediction(uid='AYB4ELCS5AM8P', iid='B001N6W5GC', r_ui=5.0, est=4.28584229390681, details={'was_impossible': True, 'reason': 'User and/or item is unknown.'}),\n",
       " Prediction(uid='ARBKYIVNYWK3C', iid='B00267S7XW', r_ui=5.0, est=4.28584229390681, details={'was_impossible': True, 'reason': 'User and/or item is unknown.'}),\n",
       " Prediction(uid='A3EZEP0FX5BC1P', iid='B00EJ8CQSS', r_ui=5.0, est=4.28584229390681, details={'was_impossible': True, 'reason': 'User and/or item is unknown.'}),\n",
       " Prediction(uid='A1ODOGXEYECQQ8', iid='B009JBFOZW', r_ui=4.0, est=4.28584229390681, details={'was_impossible': True, 'reason': 'User and/or item is unknown.'}),\n",
       " Prediction(uid='A15CL28ALB7MTZ', iid='B002TOMKSU', r_ui=5.0, est=4.28584229390681, details={'was_impossible': True, 'reason': 'User and/or item is unknown.'}),\n",
       " Prediction(uid='AN81JUYW2SL24', iid='B004QK7HI8', r_ui=3.0, est=4.28584229390681, details={'was_impossible': True, 'reason': 'User and/or item is unknown.'}),\n",
       " Prediction(uid='A2WLNSZ9U0T1S3', iid='B0026V5MY0', r_ui=5.0, est=4.28584229390681, details={'was_impossible': True, 'reason': 'User and/or item is unknown.'}),\n",
       " Prediction(uid='AWPODHOB4GFWL', iid='B00A81ICCE', r_ui=5.0, est=4.28584229390681, details={'was_impossible': True, 'reason': 'User and/or item is unknown.'}),\n",
       " Prediction(uid='A259MPG6SOL02P', iid='B00005UK8V', r_ui=5.0, est=4.28584229390681, details={'was_impossible': True, 'reason': 'User and/or item is unknown.'}),\n",
       " Prediction(uid='A3CG93783LP0FO', iid='B002SZEOLG', r_ui=1.0, est=4.0, details={'actual_k': 0, 'was_impossible': False}),\n",
       " Prediction(uid='A203OCQQ12MAVT', iid='B003B1ASV6', r_ui=3.0, est=4.28584229390681, details={'was_impossible': True, 'reason': 'User and/or item is unknown.'}),\n",
       " Prediction(uid='A5JLAU2ARJ0BO', iid='B0000D17BF', r_ui=3.0, est=4.28584229390681, details={'was_impossible': True, 'reason': 'User and/or item is unknown.'}),\n",
       " Prediction(uid='A2XIOXRRYX0KZY', iid='B007X3VC7W', r_ui=4.0, est=4.28584229390681, details={'was_impossible': True, 'reason': 'User and/or item is unknown.'}),\n",
       " Prediction(uid='A1QVFHPY8418HC', iid='B001S0RUFY', r_ui=5.0, est=4.28584229390681, details={'was_impossible': True, 'reason': 'User and/or item is unknown.'}),\n",
       " Prediction(uid='A3R4794K2RVU1S', iid='B001F51G16', r_ui=5.0, est=4.28584229390681, details={'was_impossible': True, 'reason': 'User and/or item is unknown.'}),\n",
       " Prediction(uid='A2NOW4U7W3F7RI', iid='B00126HDO2', r_ui=5.0, est=4.28584229390681, details={'was_impossible': True, 'reason': 'User and/or item is unknown.'}),\n",
       " Prediction(uid='ARBKYIVNYWK3C', iid='B000068MP2', r_ui=4.0, est=4.28584229390681, details={'was_impossible': True, 'reason': 'User and/or item is unknown.'}),\n",
       " Prediction(uid='A1L64KDYO5BOJA', iid='B003MPOLX2', r_ui=2.0, est=4.28584229390681, details={'was_impossible': True, 'reason': 'User and/or item is unknown.'}),\n",
       " Prediction(uid='A1E1LEVQ9VQNK', iid='B000TXZIDM', r_ui=4.0, est=4.0, details={'actual_k': 0, 'was_impossible': False}),\n",
       " Prediction(uid='A3PD8JD9L4WEII', iid='B009WE65EA', r_ui=5.0, est=4.28584229390681, details={'was_impossible': True, 'reason': 'User and/or item is unknown.'}),\n",
       " Prediction(uid='A10Y058K7B96C6', iid='B001VEIYAC', r_ui=3.0, est=4.28584229390681, details={'was_impossible': True, 'reason': 'User and/or item is unknown.'}),\n",
       " Prediction(uid='A3EZEP0FX5BC1P', iid='B009HQCARY', r_ui=5.0, est=4.28584229390681, details={'was_impossible': True, 'reason': 'User and/or item is unknown.'}),\n",
       " Prediction(uid='A2NOW4U7W3F7RI', iid='B00FLKW0JI', r_ui=5.0, est=4.28584229390681, details={'was_impossible': True, 'reason': 'User and/or item is unknown.'}),\n",
       " Prediction(uid='A3R4794K2RVU1S', iid='B000S5Q9CA', r_ui=5.0, est=5, details={'actual_k': 0, 'was_impossible': False}),\n",
       " Prediction(uid='A1E1LEVQ9VQNK', iid='B00CYQN4KG', r_ui=5.0, est=4.28584229390681, details={'was_impossible': True, 'reason': 'User and/or item is unknown.'}),\n",
       " Prediction(uid='A1X1CEGHTHMBL1', iid='B005ITOUE0', r_ui=5.0, est=4.28584229390681, details={'was_impossible': True, 'reason': 'User and/or item is unknown.'}),\n",
       " Prediction(uid='A1YEPFLLH42OU1', iid='B0056TYRMW', r_ui=5.0, est=4.28584229390681, details={'was_impossible': True, 'reason': 'User and/or item is unknown.'}),\n",
       " Prediction(uid='A2NB2E5DXE319Z', iid='B00466X9SY', r_ui=5.0, est=4.28584229390681, details={'was_impossible': True, 'reason': 'User and/or item is unknown.'}),\n",
       " Prediction(uid='A3AYSYSLHU26U9', iid='B00EAXRVLY', r_ui=3.0, est=4.28584229390681, details={'was_impossible': True, 'reason': 'User and/or item is unknown.'}),\n",
       " Prediction(uid='A5JLAU2ARJ0BO', iid='B00006DY6J', r_ui=4.0, est=4.28584229390681, details={'was_impossible': True, 'reason': 'User and/or item is unknown.'}),\n",
       " Prediction(uid='A2AY4YUOX2N1BQ', iid='B004UD8JY2', r_ui=4.0, est=4.28584229390681, details={'was_impossible': True, 'reason': 'User and/or item is unknown.'}),\n",
       " Prediction(uid='AWPODHOB4GFWL', iid='B000M2GYF6', r_ui=4.0, est=4.28584229390681, details={'was_impossible': True, 'reason': 'User and/or item is unknown.'}),\n",
       " Prediction(uid='A6FIAB28IS79', iid='B0000TQ154', r_ui=3.0, est=4.28584229390681, details={'was_impossible': True, 'reason': 'User and/or item is unknown.'}),\n",
       " Prediction(uid='A20DZX38KRBIT8', iid='B0016OJXGQ', r_ui=1.0, est=4.28584229390681, details={'was_impossible': True, 'reason': 'User and/or item is unknown.'}),\n",
       " Prediction(uid='A1EH2S92FHWZRP', iid='B0069LY4KG', r_ui=5.0, est=4.28584229390681, details={'was_impossible': True, 'reason': 'User and/or item is unknown.'}),\n",
       " Prediction(uid='A2AX2UGB167J31', iid='B0032ANC8M', r_ui=5.0, est=4.28584229390681, details={'was_impossible': True, 'reason': 'User and/or item is unknown.'}),\n",
       " Prediction(uid='A3NEAETOSXDBOM', iid='B0000668YX', r_ui=5.0, est=4.28584229390681, details={'was_impossible': True, 'reason': 'User and/or item is unknown.'}),\n",
       " Prediction(uid='AN81JUYW2SL24', iid='B00006B6WS', r_ui=5.0, est=4.28584229390681, details={'was_impossible': True, 'reason': 'User and/or item is unknown.'}),\n",
       " Prediction(uid='A18S2VGUH9SCV5', iid='B0054JE706', r_ui=4.0, est=4.28584229390681, details={'was_impossible': True, 'reason': 'User and/or item is unknown.'}),\n",
       " Prediction(uid='A30XZK10EZN9V4', iid='B006W3ZWXE', r_ui=5.0, est=4.28584229390681, details={'was_impossible': True, 'reason': 'User and/or item is unknown.'}),\n",
       " Prediction(uid='A1VQHH85U7PX0', iid='B00017LRF4', r_ui=4.0, est=4.28584229390681, details={'was_impossible': True, 'reason': 'User and/or item is unknown.'}),\n",
       " Prediction(uid='A3CG93783LP0FO', iid='B00EI9LGFM', r_ui=4.0, est=4.28584229390681, details={'was_impossible': True, 'reason': 'User and/or item is unknown.'}),\n",
       " Prediction(uid='A19W47CXJJP1MI', iid='B004JF9N1O', r_ui=2.0, est=4.28584229390681, details={'was_impossible': True, 'reason': 'User and/or item is unknown.'}),\n",
       " Prediction(uid='A19W47CXJJP1MI', iid='B005FYNSPK', r_ui=5.0, est=5, details={'actual_k': 0, 'was_impossible': False}),\n",
       " Prediction(uid='A20DZX38KRBIT8', iid='B00G2TK76A', r_ui=1.0, est=4.28584229390681, details={'was_impossible': True, 'reason': 'User and/or item is unknown.'}),\n",
       " Prediction(uid='A2WLNSZ9U0T1S3', iid='B002TOJXLW', r_ui=5.0, est=4.28584229390681, details={'was_impossible': True, 'reason': 'User and/or item is unknown.'}),\n",
       " Prediction(uid='A1YEPFLLH42OU1', iid='B0076U29LK', r_ui=5.0, est=4.28584229390681, details={'was_impossible': True, 'reason': 'User and/or item is unknown.'}),\n",
       " Prediction(uid='A2AX2UGB167J31', iid='B0050RKH2Y', r_ui=5.0, est=4.28584229390681, details={'was_impossible': True, 'reason': 'User and/or item is unknown.'}),\n",
       " Prediction(uid='A1EXGL6L0QQ0M5', iid='B002VPDM2K', r_ui=3.0, est=4.28584229390681, details={'was_impossible': True, 'reason': 'User and/or item is unknown.'}),\n",
       " Prediction(uid='A2AY4YUOX2N1BQ', iid='B003AI272I', r_ui=5.0, est=4.28584229390681, details={'was_impossible': True, 'reason': 'User and/or item is unknown.'}),\n",
       " Prediction(uid='A3EZEP0FX5BC1P', iid='B00030DEQE', r_ui=5.0, est=4.28584229390681, details={'was_impossible': True, 'reason': 'User and/or item is unknown.'}),\n",
       " Prediction(uid='A2NYK9KWFMJV4Y', iid='B00FRBCSUW', r_ui=5.0, est=5, details={'actual_k': 0, 'was_impossible': False}),\n",
       " Prediction(uid='A2WLNSZ9U0T1S3', iid='B001P80EZW', r_ui=5.0, est=4.28584229390681, details={'was_impossible': True, 'reason': 'User and/or item is unknown.'}),\n",
       " Prediction(uid='A19XMHRB3G4DIR', iid='B000WU2FAQ', r_ui=5.0, est=4.28584229390681, details={'was_impossible': True, 'reason': 'User and/or item is unknown.'}),\n",
       " Prediction(uid='A1UQBFCERIP7VJ', iid='B00FHSYEHU', r_ui=5.0, est=4.28584229390681, details={'was_impossible': True, 'reason': 'User and/or item is unknown.'}),\n",
       " Prediction(uid='A1435P5AMCPB3X', iid='B000779RZA', r_ui=4.0, est=4.28584229390681, details={'was_impossible': True, 'reason': 'User and/or item is unknown.'}),\n",
       " Prediction(uid='A1CMD08Z49PGKQ', iid='B007R5YDYA', r_ui=5.0, est=5, details={'actual_k': 0, 'was_impossible': False}),\n",
       " Prediction(uid='A1PN2U0AWXGVML', iid='B00139JBU2', r_ui=5.0, est=4.28584229390681, details={'was_impossible': True, 'reason': 'User and/or item is unknown.'}),\n",
       " Prediction(uid='A3LGT6UZL99IW1', iid='B0046A8MQO', r_ui=4.0, est=4.28584229390681, details={'was_impossible': True, 'reason': 'User and/or item is unknown.'}),\n",
       " Prediction(uid='A19W47CXJJP1MI', iid='B0044UHMOO', r_ui=4.0, est=4.28584229390681, details={'was_impossible': True, 'reason': 'User and/or item is unknown.'}),\n",
       " Prediction(uid='A22CW0ZHY3NJH8', iid='B0010QPX4G', r_ui=5.0, est=4.28584229390681, details={'was_impossible': True, 'reason': 'User and/or item is unknown.'}),\n",
       " Prediction(uid='A17BUUBOU0598B', iid='B000EPJL1A', r_ui=3.0, est=4.28584229390681, details={'was_impossible': True, 'reason': 'User and/or item is unknown.'}),\n",
       " Prediction(uid='A17HMM1M7T9PJ1', iid='B007JPOX8O', r_ui=4.0, est=4.28584229390681, details={'was_impossible': True, 'reason': 'User and/or item is unknown.'}),\n",
       " Prediction(uid='A2AY4YUOX2N1BQ', iid='B007FGYZFI', r_ui=5.0, est=4.28584229390681, details={'was_impossible': True, 'reason': 'User and/or item is unknown.'}),\n",
       " Prediction(uid='A2XIOXRRYX0KZY', iid='B0097CXWUW', r_ui=4.0, est=4.5, details={'actual_k': 0, 'was_impossible': False}),\n",
       " Prediction(uid='A11KZ906QD08C5', iid='B003ASUEP0', r_ui=5.0, est=4.28584229390681, details={'was_impossible': True, 'reason': 'User and/or item is unknown.'}),\n",
       " Prediction(uid='A25C2M3QF9G7OQ', iid='B00JZC972Q', r_ui=3.0, est=5, details={'actual_k': 0, 'was_impossible': False}),\n",
       " Prediction(uid='A2WLNSZ9U0T1S3', iid='B00021HQXG', r_ui=5.0, est=4.28584229390681, details={'was_impossible': True, 'reason': 'User and/or item is unknown.'}),\n",
       " Prediction(uid='AEL6CQNQXONBX', iid='B00JIFMXSK', r_ui=5.0, est=4.28584229390681, details={'was_impossible': True, 'reason': 'User and/or item is unknown.'}),\n",
       " Prediction(uid='A1CMD08Z49PGKQ', iid='B00902SFC4', r_ui=3.0, est=4.28584229390681, details={'was_impossible': True, 'reason': 'User and/or item is unknown.'}),\n",
       " Prediction(uid='A203OCQQ12MAVT', iid='B005CQQLNM', r_ui=5.0, est=4.28584229390681, details={'was_impossible': True, 'reason': 'User and/or item is unknown.'}),\n",
       " Prediction(uid='A3CW0ZLUO5X2B1', iid='B00829THK0', r_ui=4.0, est=4.0, details={'actual_k': 0, 'was_impossible': False}),\n",
       " Prediction(uid='A3AYSYSLHU26U9', iid='B003EWNXFU', r_ui=3.0, est=4.28584229390681, details={'was_impossible': True, 'reason': 'User and/or item is unknown.'}),\n",
       " Prediction(uid='A3TAS1AG6FMBQW', iid='B00APUQPHW', r_ui=5.0, est=4.28584229390681, details={'was_impossible': True, 'reason': 'User and/or item is unknown.'}),\n",
       " Prediction(uid='A18HE80910BTZI', iid='B002UUPWP6', r_ui=5.0, est=4.28584229390681, details={'was_impossible': True, 'reason': 'User and/or item is unknown.'}),\n",
       " Prediction(uid='A3FEGTOLCWXSV4', iid='B00FA4Y7N2', r_ui=4.0, est=4.28584229390681, details={'was_impossible': True, 'reason': 'User and/or item is unknown.'}),\n",
       " Prediction(uid='A23GFTVIETX7DS', iid='B001GND6EW', r_ui=5.0, est=4.28584229390681, details={'was_impossible': True, 'reason': 'User and/or item is unknown.'}),\n",
       " Prediction(uid='A3EZEP0FX5BC1P', iid='B0028Y4CWI', r_ui=4.0, est=4.28584229390681, details={'was_impossible': True, 'reason': 'User and/or item is unknown.'}),\n",
       " Prediction(uid='A23GFTVIETX7DS', iid='B00AR95FOU', r_ui=5.0, est=4.28584229390681, details={'was_impossible': True, 'reason': 'User and/or item is unknown.'}),\n",
       " Prediction(uid='A259MPG6SOL02P', iid='B008DCBS94', r_ui=3.0, est=4.28584229390681, details={'was_impossible': True, 'reason': 'User and/or item is unknown.'}),\n",
       " Prediction(uid='A2XIOXRRYX0KZY', iid='B00EYTI0TG', r_ui=4.0, est=4.28584229390681, details={'was_impossible': True, 'reason': 'User and/or item is unknown.'}),\n",
       " Prediction(uid='A1XXMNLOLKNO0I', iid='B0000DK3I4', r_ui=4.0, est=4.28584229390681, details={'was_impossible': True, 'reason': 'User and/or item is unknown.'}),\n",
       " Prediction(uid='A5JLAU2ARJ0BO', iid='B000BHGWZ4', r_ui=5.0, est=4.28584229390681, details={'was_impossible': True, 'reason': 'User and/or item is unknown.'}),\n",
       " Prediction(uid='A5JLAU2ARJ0BO', iid='B000VB5MZG', r_ui=4.0, est=4.28584229390681, details={'was_impossible': True, 'reason': 'User and/or item is unknown.'}),\n",
       " Prediction(uid='A23ONMGKEWDG4M', iid='B006UMM2BW', r_ui=5.0, est=4.28584229390681, details={'was_impossible': True, 'reason': 'User and/or item is unknown.'}),\n",
       " Prediction(uid='A2NOW4U7W3F7RI', iid='B00G02YZ2Q', r_ui=5.0, est=4.28584229390681, details={'was_impossible': True, 'reason': 'User and/or item is unknown.'}),\n",
       " Prediction(uid='A30X750M8V1XXW', iid='B00007E816', r_ui=5.0, est=4.28584229390681, details={'was_impossible': True, 'reason': 'User and/or item is unknown.'}),\n",
       " Prediction(uid='A23ONMGKEWDG4M', iid='B0055I183U', r_ui=4.0, est=4.28584229390681, details={'was_impossible': True, 'reason': 'User and/or item is unknown.'}),\n",
       " Prediction(uid='ALDAF4VVLFRHP', iid='B004F1NZTS', r_ui=5.0, est=4.28584229390681, details={'was_impossible': True, 'reason': 'User and/or item is unknown.'}),\n",
       " Prediction(uid='A6FIAB28IS79', iid='B0043TB7OC', r_ui=4.0, est=4.28584229390681, details={'was_impossible': True, 'reason': 'User and/or item is unknown.'}),\n",
       " Prediction(uid='AGOH8N902URMW', iid='B0014KKV7W', r_ui=5.0, est=4.28584229390681, details={'was_impossible': True, 'reason': 'User and/or item is unknown.'}),\n",
       " Prediction(uid='A1F9Z42CFF9IAY', iid='B001KBZ3QO', r_ui=4.0, est=4.28584229390681, details={'was_impossible': True, 'reason': 'User and/or item is unknown.'}),\n",
       " Prediction(uid='AEWYUPCNDV7HY', iid='B007C0Y8NQ', r_ui=5.0, est=4.28584229390681, details={'was_impossible': True, 'reason': 'User and/or item is unknown.'}),\n",
       " Prediction(uid='A18S2VGUH9SCV5', iid='B006RG0QC8', r_ui=3.0, est=4.28584229390681, details={'was_impossible': True, 'reason': 'User and/or item is unknown.'}),\n",
       " Prediction(uid='A3CW0ZLUO5X2B1', iid='B0026L7B94', r_ui=2.0, est=4.28584229390681, details={'was_impossible': True, 'reason': 'User and/or item is unknown.'}),\n",
       " Prediction(uid='AEJAGHLC675A7', iid='B00CCIKJDG', r_ui=5.0, est=4.28584229390681, details={'was_impossible': True, 'reason': 'User and/or item is unknown.'}),\n",
       " Prediction(uid='A6FIAB28IS79', iid='B009AYLDSU', r_ui=3.0, est=4.28584229390681, details={'was_impossible': True, 'reason': 'User and/or item is unknown.'}),\n",
       " Prediction(uid='A17BUUBOU0598B', iid='B009NE5YC8', r_ui=2.0, est=4.28584229390681, details={'was_impossible': True, 'reason': 'User and/or item is unknown.'}),\n",
       " Prediction(uid='A2NOW4U7W3F7RI', iid='B007P4VOWC', r_ui=4.0, est=4.5, details={'actual_k': 0, 'was_impossible': False}),\n",
       " Prediction(uid='A17BUUBOU0598B', iid='B00176IJFO', r_ui=5.0, est=4.28584229390681, details={'was_impossible': True, 'reason': 'User and/or item is unknown.'}),\n",
       " Prediction(uid='AT6CZDCP4TRGA', iid='B005OB1TU0', r_ui=1.0, est=4.28584229390681, details={'was_impossible': True, 'reason': 'User and/or item is unknown.'}),\n",
       " Prediction(uid='AVPNQUVZWMDSX', iid='B001A78PQI', r_ui=4.0, est=4.28584229390681, details={'was_impossible': True, 'reason': 'User and/or item is unknown.'}),\n",
       " Prediction(uid='A2NYK9KWFMJV4Y', iid='B00HZ9GPTE', r_ui=5.0, est=4.28584229390681, details={'was_impossible': True, 'reason': 'User and/or item is unknown.'}),\n",
       " Prediction(uid='A3NEAETOSXDBOM', iid='B00658NXFA', r_ui=5.0, est=4.28584229390681, details={'was_impossible': True, 'reason': 'User and/or item is unknown.'}),\n",
       " Prediction(uid='A19XMHRB3G4DIR', iid='B000VVXNZW', r_ui=5.0, est=4.28584229390681, details={'was_impossible': True, 'reason': 'User and/or item is unknown.'}),\n",
       " Prediction(uid='A18HE80910BTZI', iid='B007KZQMO6', r_ui=4.0, est=4.28584229390681, details={'was_impossible': True, 'reason': 'User and/or item is unknown.'}),\n",
       " Prediction(uid='A3A4ZAIBQWKOZS', iid='B0058X0TFA', r_ui=3.0, est=4.28584229390681, details={'was_impossible': True, 'reason': 'User and/or item is unknown.'}),\n",
       " Prediction(uid='A2KYRPDKVBI2R4', iid='B001IF252M', r_ui=4.0, est=4.28584229390681, details={'was_impossible': True, 'reason': 'User and/or item is unknown.'}),\n",
       " Prediction(uid='AAA0TUKS5VBSA', iid='B008X9Z6EA', r_ui=4.0, est=4.28584229390681, details={'was_impossible': True, 'reason': 'User and/or item is unknown.'}),\n",
       " Prediction(uid='A2NYK9KWFMJV4Y', iid='B00JBJZFLU', r_ui=5.0, est=4.28584229390681, details={'was_impossible': True, 'reason': 'User and/or item is unknown.'}),\n",
       " Prediction(uid='A3AYSYSLHU26U9', iid='B0091UX3QI', r_ui=5.0, est=4.28584229390681, details={'was_impossible': True, 'reason': 'User and/or item is unknown.'}),\n",
       " Prediction(uid='A1CMD08Z49PGKQ', iid='B006DKEUAM', r_ui=5.0, est=4.28584229390681, details={'was_impossible': True, 'reason': 'User and/or item is unknown.'}),\n",
       " Prediction(uid='A1XXMNLOLKNO0I', iid='B0088PUEPK', r_ui=5.0, est=4.28584229390681, details={'was_impossible': True, 'reason': 'User and/or item is unknown.'}),\n",
       " Prediction(uid='A2NYK9KWFMJV4Y', iid='B00I9GU1QU', r_ui=5.0, est=4.28584229390681, details={'was_impossible': True, 'reason': 'User and/or item is unknown.'}),\n",
       " Prediction(uid='A19W47CXJJP1MI', iid='B003ES5ZSW', r_ui=5.0, est=5, details={'actual_k': 0, 'was_impossible': False}),\n",
       " Prediction(uid='A3LGT6UZL99IW1', iid='B00F3F0EIU', r_ui=4.0, est=5, details={'actual_k': 0, 'was_impossible': False}),\n",
       " Prediction(uid='A3A4ZAIBQWKOZS', iid='B00HFFDDLG', r_ui=4.0, est=4.28584229390681, details={'was_impossible': True, 'reason': 'User and/or item is unknown.'}),\n",
       " Prediction(uid='A1CPRP3VFJRS1R', iid='B0010Y414Q', r_ui=5.0, est=4.28584229390681, details={'was_impossible': True, 'reason': 'User and/or item is unknown.'}),\n",
       " Prediction(uid='ALDAF4VVLFRHP', iid='B00413PEYE', r_ui=4.0, est=4.28584229390681, details={'was_impossible': True, 'reason': 'User and/or item is unknown.'}),\n",
       " Prediction(uid='AEL6CQNQXONBX', iid='B00B7FLPBU', r_ui=3.0, est=4.28584229390681, details={'was_impossible': True, 'reason': 'User and/or item is unknown.'}),\n",
       " Prediction(uid='A22CW0ZHY3NJH8', iid='B005HSG3TC', r_ui=5.0, est=4.28584229390681, details={'was_impossible': True, 'reason': 'User and/or item is unknown.'}),\n",
       " Prediction(uid='A1QVFHPY8418HC', iid='B000IV413S', r_ui=5.0, est=4.28584229390681, details={'was_impossible': True, 'reason': 'User and/or item is unknown.'}),\n",
       " Prediction(uid='A259MPG6SOL02P', iid='B0011CZ8SA', r_ui=3.0, est=4.28584229390681, details={'was_impossible': True, 'reason': 'User and/or item is unknown.'}),\n",
       " Prediction(uid='A1EKSETIBS9ETQ', iid='B0099Y1QM4', r_ui=4.0, est=4.28584229390681, details={'was_impossible': True, 'reason': 'User and/or item is unknown.'}),\n",
       " Prediction(uid='A30X750M8V1XXW', iid='B000A0CV9S', r_ui=5.0, est=4.28584229390681, details={'was_impossible': True, 'reason': 'User and/or item is unknown.'}),\n",
       " Prediction(uid='A3A4ZAIBQWKOZS', iid='B00CKK8GEU', r_ui=5.0, est=4.28584229390681, details={'was_impossible': True, 'reason': 'User and/or item is unknown.'}),\n",
       " Prediction(uid='A1F1A0QQP2XVH5', iid='B002TMRZOQ', r_ui=5.0, est=4.28584229390681, details={'was_impossible': True, 'reason': 'User and/or item is unknown.'}),\n",
       " Prediction(uid='A34BZM6S9L7QI4', iid='B00AQ2BRXQ', r_ui=4.0, est=4.28584229390681, details={'was_impossible': True, 'reason': 'User and/or item is unknown.'}),\n",
       " Prediction(uid='A231WM2Z2JL0U3', iid='B00005B4BN', r_ui=1.0, est=4.28584229390681, details={'was_impossible': True, 'reason': 'User and/or item is unknown.'}),\n",
       " Prediction(uid='A2QDOJFFLFGF18', iid='B004CLYEH8', r_ui=5.0, est=5, details={'actual_k': 0, 'was_impossible': False}),\n",
       " Prediction(uid='A3T7V207KRDE2O', iid='B006TF3746', r_ui=3.0, est=4.28584229390681, details={'was_impossible': True, 'reason': 'User and/or item is unknown.'}),\n",
       " Prediction(uid='A5JLAU2ARJ0BO', iid='B0001IXUEY', r_ui=5.0, est=4.28584229390681, details={'was_impossible': True, 'reason': 'User and/or item is unknown.'}),\n",
       " Prediction(uid='A1F7YU6O5RU432', iid='B00CRGJJHU', r_ui=5.0, est=4.28584229390681, details={'was_impossible': True, 'reason': 'User and/or item is unknown.'}),\n",
       " Prediction(uid='A10Y058K7B96C6', iid='B000HCT12O', r_ui=5.0, est=4.28584229390681, details={'was_impossible': True, 'reason': 'User and/or item is unknown.'}),\n",
       " Prediction(uid='A680RUE1FDO8B', iid='B0013MYIJI', r_ui=5.0, est=4.28584229390681, details={'was_impossible': True, 'reason': 'User and/or item is unknown.'}),\n",
       " Prediction(uid='A1T1YSCDW0PD25', iid='B007P71IM0', r_ui=5.0, est=4.28584229390681, details={'was_impossible': True, 'reason': 'User and/or item is unknown.'}),\n",
       " Prediction(uid='A2WLNSZ9U0T1S3', iid='B004SBBDD0', r_ui=4.0, est=4.28584229390681, details={'was_impossible': True, 'reason': 'User and/or item is unknown.'}),\n",
       " Prediction(uid='A30XZK10EZN9V4', iid='B005MCXHP6', r_ui=4.0, est=4.28584229390681, details={'was_impossible': True, 'reason': 'User and/or item is unknown.'}),\n",
       " Prediction(uid='A1RL1OTV8IJMVD', iid='B00829TIA4', r_ui=4.0, est=4.28584229390681, details={'was_impossible': True, 'reason': 'User and/or item is unknown.'}),\n",
       " Prediction(uid='A1E1LEVQ9VQNK', iid='B0070S7DDM', r_ui=5.0, est=4.28584229390681, details={'was_impossible': True, 'reason': 'User and/or item is unknown.'}),\n",
       " Prediction(uid='A2NOW4U7W3F7RI', iid='B00HHRP11C', r_ui=5.0, est=5, details={'actual_k': 0, 'was_impossible': False}),\n",
       " Prediction(uid='A5JLAU2ARJ0BO', iid='B00068E1ME', r_ui=1.0, est=4.28584229390681, details={'was_impossible': True, 'reason': 'User and/or item is unknown.'}),\n",
       " Prediction(uid='A1CPRP3VFJRS1R', iid='B0002I7288', r_ui=1.0, est=4.28584229390681, details={'was_impossible': True, 'reason': 'User and/or item is unknown.'}),\n",
       " Prediction(uid='A9Y5O2R4D6EH5', iid='B00004WCG6', r_ui=4.0, est=1, details={'actual_k': 0, 'was_impossible': False}),\n",
       " Prediction(uid='AT6CZDCP4TRGA', iid='B00009PUM7', r_ui=4.0, est=4.28584229390681, details={'was_impossible': True, 'reason': 'User and/or item is unknown.'}),\n",
       " Prediction(uid='A2XRMQA6PJ5ZJ8', iid='B007WTAJTO', r_ui=5.0, est=4.666666666666667, details={'actual_k': 0, 'was_impossible': False}),\n",
       " Prediction(uid='AEL6CQNQXONBX', iid='B00E98O7GC', r_ui=5.0, est=4.28584229390681, details={'was_impossible': True, 'reason': 'User and/or item is unknown.'}),\n",
       " Prediction(uid='A1UQBFCERIP7VJ', iid='B00IEFUB02', r_ui=5.0, est=4.28584229390681, details={'was_impossible': True, 'reason': 'User and/or item is unknown.'}),\n",
       " Prediction(uid='A11KZ906QD08C5', iid='B00HPM1FZ0', r_ui=3.0, est=4.28584229390681, details={'was_impossible': True, 'reason': 'User and/or item is unknown.'}),\n",
       " Prediction(uid='A2NB2E5DXE319Z', iid='B0015YTYKM', r_ui=4.0, est=4.28584229390681, details={'was_impossible': True, 'reason': 'User and/or item is unknown.'}),\n",
       " Prediction(uid='A3NHUQ33CFH3VM', iid='B008VD4BYE', r_ui=5.0, est=4.28584229390681, details={'was_impossible': True, 'reason': 'User and/or item is unknown.'}),\n",
       " Prediction(uid='A1143YEAZYMYHJ', iid='B00E965ZKQ', r_ui=5.0, est=4.28584229390681, details={'was_impossible': True, 'reason': 'User and/or item is unknown.'}),\n",
       " Prediction(uid='AOEDWQLH2WKKW', iid='B00EVIBN26', r_ui=2.0, est=2.0, details={'actual_k': 0, 'was_impossible': False}),\n",
       " Prediction(uid='AEJAGHLC675A7', iid='B000KLHDZO', r_ui=5.0, est=4.28584229390681, details={'was_impossible': True, 'reason': 'User and/or item is unknown.'}),\n",
       " Prediction(uid='A4WEZJOIZIV4U', iid='B0000BYRIN', r_ui=5.0, est=4.28584229390681, details={'was_impossible': True, 'reason': 'User and/or item is unknown.'}),\n",
       " Prediction(uid='A3EXWV8FNSSFL6', iid='B005PUZOYM', r_ui=5.0, est=4.28584229390681, details={'was_impossible': True, 'reason': 'User and/or item is unknown.'}),\n",
       " Prediction(uid='A3PD8JD9L4WEII', iid='B008LCYIHK', r_ui=4.0, est=4.28584229390681, details={'was_impossible': True, 'reason': 'User and/or item is unknown.'}),\n",
       " Prediction(uid='A1435P5AMCPB3X', iid='B000LXXJ0O', r_ui=5.0, est=4.28584229390681, details={'was_impossible': True, 'reason': 'User and/or item is unknown.'}),\n",
       " Prediction(uid='A23GFTVIETX7DS', iid='B0009F62GW', r_ui=3.0, est=4.28584229390681, details={'was_impossible': True, 'reason': 'User and/or item is unknown.'}),\n",
       " Prediction(uid='A1CPRP3VFJRS1R', iid='B00014M2U6', r_ui=5.0, est=4.28584229390681, details={'was_impossible': True, 'reason': 'User and/or item is unknown.'}),\n",
       " Prediction(uid='A2V1J3JT5OOZFO', iid='B0011Z2402', r_ui=5.0, est=4.28584229390681, details={'was_impossible': True, 'reason': 'User and/or item is unknown.'}),\n",
       " Prediction(uid='A680RUE1FDO8B', iid='B000YL5N4I', r_ui=4.0, est=4.28584229390681, details={'was_impossible': True, 'reason': 'User and/or item is unknown.'}),\n",
       " Prediction(uid='AYB4ELCS5AM8P', iid='B00HZWJGS8', r_ui=5.0, est=4.28584229390681, details={'was_impossible': True, 'reason': 'User and/or item is unknown.'}),\n",
       " Prediction(uid='ABQWMANK4AR63', iid='B00FQ6CJ0W', r_ui=4.0, est=4.28584229390681, details={'was_impossible': True, 'reason': 'User and/or item is unknown.'}),\n",
       " Prediction(uid='A5JLAU2ARJ0BO', iid='B0001FV35U', r_ui=5.0, est=4.28584229390681, details={'was_impossible': True, 'reason': 'User and/or item is unknown.'}),\n",
       " Prediction(uid='A12DQZKRKTNF5E', iid='B00DJGPV88', r_ui=5.0, est=4.28584229390681, details={'was_impossible': True, 'reason': 'User and/or item is unknown.'}),\n",
       " Prediction(uid='AEL6CQNQXONBX', iid='B004IA6N5Y', r_ui=3.0, est=4.28584229390681, details={'was_impossible': True, 'reason': 'User and/or item is unknown.'}),\n",
       " Prediction(uid='A1CMD08Z49PGKQ', iid='B0074BW614', r_ui=5.0, est=4.0, details={'actual_k': 0, 'was_impossible': False}),\n",
       " Prediction(uid='A203OCQQ12MAVT', iid='B0000511T7', r_ui=1.0, est=4.28584229390681, details={'was_impossible': True, 'reason': 'User and/or item is unknown.'}),\n",
       " Prediction(uid='A3NEAETOSXDBOM', iid='B0025UHKNS', r_ui=5.0, est=4.28584229390681, details={'was_impossible': True, 'reason': 'User and/or item is unknown.'}),\n",
       " Prediction(uid='A1CPRP3VFJRS1R', iid='B0001CVBRI', r_ui=4.0, est=4.28584229390681, details={'was_impossible': True, 'reason': 'User and/or item is unknown.'}),\n",
       " Prediction(uid='A1PN2U0AWXGVML', iid='B0007VPFI4', r_ui=5.0, est=4.28584229390681, details={'was_impossible': True, 'reason': 'User and/or item is unknown.'}),\n",
       " Prediction(uid='A23GFTVIETX7DS', iid='B00DS5QZRQ', r_ui=5.0, est=4.28584229390681, details={'was_impossible': True, 'reason': 'User and/or item is unknown.'}),\n",
       " Prediction(uid='ABQWMANK4AR63', iid='B003M8HWDA', r_ui=3.0, est=4.28584229390681, details={'was_impossible': True, 'reason': 'User and/or item is unknown.'}),\n",
       " Prediction(uid='A9Y5O2R4D6EH5', iid='B004K1EOAC', r_ui=5.0, est=4.28584229390681, details={'was_impossible': True, 'reason': 'User and/or item is unknown.'}),\n",
       " Prediction(uid='AWPODHOB4GFWL', iid='B00119T6NQ', r_ui=5.0, est=5, details={'actual_k': 0, 'was_impossible': False}),\n",
       " Prediction(uid='A203OCQQ12MAVT', iid='B0009KF9BQ', r_ui=1.0, est=4.28584229390681, details={'was_impossible': True, 'reason': 'User and/or item is unknown.'}),\n",
       " Prediction(uid='A2AY4YUOX2N1BQ', iid='B004K8WPUQ', r_ui=4.0, est=4.28584229390681, details={'was_impossible': True, 'reason': 'User and/or item is unknown.'}),\n",
       " Prediction(uid='A23GFTVIETX7DS', iid='B004T9RR6I', r_ui=5.0, est=3.3333333333333335, details={'actual_k': 0, 'was_impossible': False}),\n",
       " Prediction(uid='A1EKSETIBS9ETQ', iid='B000FHGONA', r_ui=5.0, est=4.28584229390681, details={'was_impossible': True, 'reason': 'User and/or item is unknown.'}),\n",
       " Prediction(uid='A2ZY49IDE6TY5I', iid='B0013FRNKG', r_ui=5.0, est=4.28584229390681, details={'was_impossible': True, 'reason': 'User and/or item is unknown.'}),\n",
       " Prediction(uid='A36K2N527TXXJN', iid='B005DOK8NW', r_ui=5.0, est=4.28584229390681, details={'was_impossible': True, 'reason': 'User and/or item is unknown.'}),\n",
       " Prediction(uid='AWPODHOB4GFWL', iid='B0000898TE', r_ui=4.0, est=4.28584229390681, details={'was_impossible': True, 'reason': 'User and/or item is unknown.'}),\n",
       " Prediction(uid='A2AX2UGB167J31', iid='B000Q9UFKU', r_ui=5.0, est=4.28584229390681, details={'was_impossible': True, 'reason': 'User and/or item is unknown.'}),\n",
       " Prediction(uid='A3OXHLG6DIBRW8', iid='B002R20X9M', r_ui=5.0, est=4.28584229390681, details={'was_impossible': True, 'reason': 'User and/or item is unknown.'}),\n",
       " Prediction(uid='A34BZM6S9L7QI4', iid='B00IX6D0EQ', r_ui=5.0, est=4.28584229390681, details={'was_impossible': True, 'reason': 'User and/or item is unknown.'}),\n",
       " Prediction(uid='A1CMD08Z49PGKQ', iid='B006G4SRXQ', r_ui=5.0, est=4.28584229390681, details={'was_impossible': True, 'reason': 'User and/or item is unknown.'}),\n",
       " Prediction(uid='A231WM2Z2JL0U3', iid='B00006JLWJ', r_ui=5.0, est=4.28584229390681, details={'was_impossible': True, 'reason': 'User and/or item is unknown.'}),\n",
       " Prediction(uid='A36K2N527TXXJN', iid='B00H8JLMLC', r_ui=5.0, est=4.28584229390681, details={'was_impossible': True, 'reason': 'User and/or item is unknown.'}),\n",
       " Prediction(uid='AEJAGHLC675A7', iid='B00825BZUY', r_ui=5.0, est=5, details={'actual_k': 0, 'was_impossible': False}),\n",
       " Prediction(uid='A1CPRP3VFJRS1R', iid='B0007N55OQ', r_ui=2.0, est=4.28584229390681, details={'was_impossible': True, 'reason': 'User and/or item is unknown.'}),\n",
       " Prediction(uid='A1143YEAZYMYHJ', iid='B00B2F4O86', r_ui=4.0, est=4.28584229390681, details={'was_impossible': True, 'reason': 'User and/or item is unknown.'}),\n",
       " Prediction(uid='A10Y058K7B96C6', iid='B00JC5Y6WM', r_ui=4.0, est=4.28584229390681, details={'was_impossible': True, 'reason': 'User and/or item is unknown.'}),\n",
       " Prediction(uid='A4WEZJOIZIV4U', iid='B0030MITDK', r_ui=5.0, est=4.28584229390681, details={'was_impossible': True, 'reason': 'User and/or item is unknown.'}),\n",
       " Prediction(uid='AWPODHOB4GFWL', iid='B0014H16V0', r_ui=5.0, est=4.28584229390681, details={'was_impossible': True, 'reason': 'User and/or item is unknown.'}),\n",
       " Prediction(uid='A2WB7LZ595CR50', iid='B004S8A6WM', r_ui=4.0, est=4.28584229390681, details={'was_impossible': True, 'reason': 'User and/or item is unknown.'}),\n",
       " Prediction(uid='AT6CZDCP4TRGA', iid='B00006J6RN', r_ui=4.0, est=4.28584229390681, details={'was_impossible': True, 'reason': 'User and/or item is unknown.'}),\n",
       " Prediction(uid='A19XMHRB3G4DIR', iid='B001DWI1F0', r_ui=4.0, est=4.28584229390681, details={'was_impossible': True, 'reason': 'User and/or item is unknown.'}),\n",
       " Prediction(uid='A3A4ZAIBQWKOZS', iid='B009XN9GQY', r_ui=4.0, est=4.28584229390681, details={'was_impossible': True, 'reason': 'User and/or item is unknown.'}),\n",
       " Prediction(uid='A1QVFHPY8418HC', iid='B000RZQZM0', r_ui=5.0, est=5, details={'actual_k': 0, 'was_impossible': False}),\n",
       " Prediction(uid='A1435P5AMCPB3X', iid='B0015EA3P2', r_ui=4.0, est=4.28584229390681, details={'was_impossible': True, 'reason': 'User and/or item is unknown.'}),\n",
       " Prediction(uid='A2QDOJFFLFGF18', iid='B0079UAT0A', r_ui=5.0, est=5, details={'actual_k': 0, 'was_impossible': False}),\n",
       " Prediction(uid='AGVWTYW0ULXHT', iid='B00G4UQ6U8', r_ui=5.0, est=4.28584229390681, details={'was_impossible': True, 'reason': 'User and/or item is unknown.'}),\n",
       " Prediction(uid='AAA0TUKS5VBSA', iid='B003F5NS9W', r_ui=4.0, est=4.28584229390681, details={'was_impossible': True, 'reason': 'User and/or item is unknown.'}),\n",
       " Prediction(uid='A17BUUBOU0598B', iid='B00113V748', r_ui=4.0, est=5, details={'actual_k': 0, 'was_impossible': False}),\n",
       " Prediction(uid='A22CW0ZHY3NJH8', iid='B00CQJUT9U', r_ui=5.0, est=4.28584229390681, details={'was_impossible': True, 'reason': 'User and/or item is unknown.'}),\n",
       " Prediction(uid='ADLVFFE4VBT8', iid='B008CP5R8K', r_ui=5.0, est=4.28584229390681, details={'was_impossible': True, 'reason': 'User and/or item is unknown.'}),\n",
       " Prediction(uid='A1X1CEGHTHMBL1', iid='B006N4M1EU', r_ui=4.0, est=4.28584229390681, details={'was_impossible': True, 'reason': 'User and/or item is unknown.'}),\n",
       " Prediction(uid='A2ZY49IDE6TY5I', iid='B008DBI5RI', r_ui=4.0, est=4.28584229390681, details={'was_impossible': True, 'reason': 'User and/or item is unknown.'}),\n",
       " Prediction(uid='A2NOW4U7W3F7RI', iid='B001F7AJKI', r_ui=5.0, est=4.28584229390681, details={'was_impossible': True, 'reason': 'User and/or item is unknown.'}),\n",
       " Prediction(uid='A2AY4YUOX2N1BQ', iid='B00007GQLU', r_ui=4.0, est=4.28584229390681, details={'was_impossible': True, 'reason': 'User and/or item is unknown.'}),\n",
       " Prediction(uid='A15QYHQH80W30L', iid='B002ZCXJZE', r_ui=3.0, est=4.28584229390681, details={'was_impossible': True, 'reason': 'User and/or item is unknown.'}),\n",
       " Prediction(uid='A259MPG6SOL02P', iid='B00004Y7TC', r_ui=4.0, est=4.28584229390681, details={'was_impossible': True, 'reason': 'User and/or item is unknown.'}),\n",
       " Prediction(uid='ABQWMANK4AR63', iid='B005KSVU8S', r_ui=4.0, est=4.28584229390681, details={'was_impossible': True, 'reason': 'User and/or item is unknown.'}),\n",
       " Prediction(uid='A32O5FZH994CNY', iid='B00DBCJKPK', r_ui=5.0, est=4.28584229390681, details={'was_impossible': True, 'reason': 'User and/or item is unknown.'}),\n",
       " Prediction(uid='A25C2M3QF9G7OQ', iid='B00GXMLSFU', r_ui=4.0, est=4.28584229390681, details={'was_impossible': True, 'reason': 'User and/or item is unknown.'}),\n",
       " Prediction(uid='A9Y5O2R4D6EH5', iid='B00004ZCJE', r_ui=3.0, est=4.28584229390681, details={'was_impossible': True, 'reason': 'User and/or item is unknown.'}),\n",
       " Prediction(uid='AEJAGHLC675A7', iid='B00CHRID4Y', r_ui=5.0, est=4.28584229390681, details={'was_impossible': True, 'reason': 'User and/or item is unknown.'}),\n",
       " Prediction(uid='A1X1CEGHTHMBL1', iid='B00BNI4AWM', r_ui=5.0, est=4.28584229390681, details={'was_impossible': True, 'reason': 'User and/or item is unknown.'}),\n",
       " Prediction(uid='AEL6CQNQXONBX', iid='B00FCROWMS', r_ui=5.0, est=4.28584229390681, details={'was_impossible': True, 'reason': 'User and/or item is unknown.'}),\n",
       " Prediction(uid='A2XRMQA6PJ5ZJ8', iid='B008HYQ7ZI', r_ui=5.0, est=4.28584229390681, details={'was_impossible': True, 'reason': 'User and/or item is unknown.'}),\n",
       " Prediction(uid='A3CG93783LP0FO', iid='B00ADGXXJ6', r_ui=4.0, est=4.28584229390681, details={'was_impossible': True, 'reason': 'User and/or item is unknown.'}),\n",
       " Prediction(uid='A15QYHQH80W30L', iid='B00A6U6VWK', r_ui=5.0, est=4.28584229390681, details={'was_impossible': True, 'reason': 'User and/or item is unknown.'}),\n",
       " Prediction(uid='A2NYK9KWFMJV4Y', iid='B00I9H9B7Y', r_ui=5.0, est=4.28584229390681, details={'was_impossible': True, 'reason': 'User and/or item is unknown.'}),\n",
       " Prediction(uid='ARBKYIVNYWK3C', iid='B001MWRUZ8', r_ui=4.0, est=4.28584229390681, details={'was_impossible': True, 'reason': 'User and/or item is unknown.'}),\n",
       " Prediction(uid='AAA0TUKS5VBSA', iid='B00752R9PK', r_ui=5.0, est=4.28584229390681, details={'was_impossible': True, 'reason': 'User and/or item is unknown.'})]"
      ]
     },
     "execution_count": 41,
     "metadata": {
      "tags": []
     },
     "output_type": "execute_result"
    }
   ],
   "source": [
    "# Use user_based true/false to switch between user-based or item-based collaborative filtering\n",
    "algo_Item = KNNWithMeans(k=50, sim_options={'name': 'pearson_baseline', 'user_based': False})\n",
    "algo_Item.fit(trainset)\n",
    "\n",
    "# run the trained model against the testset\n",
    "test_pred_Item = algo_Item.test(testset)\n",
    "test_pred_Item"
   ]
  },
  {
   "cell_type": "code",
   "execution_count": 41,
   "metadata": {
    "id": "zg5tcolMe9FO"
   },
   "outputs": [],
   "source": []
  },
  {
   "cell_type": "code",
   "execution_count": 41,
   "metadata": {
    "id": "ITWOGoNTe9Ln"
   },
   "outputs": [],
   "source": []
  },
  {
   "cell_type": "markdown",
   "metadata": {
    "id": "lCyNkNW2Ma6p"
   },
   "source": [
    "5. Evaluate the above model. ( Once the model is trained on the training data, it\n",
    "can be used to compute the error (like RMSE) on predictions made on the test\n",
    "data.) You can also use a different method to evaluate the models. ( 5 marks)"
   ]
  },
  {
   "cell_type": "markdown",
   "metadata": {
    "id": "msyE8-IQfdOx"
   },
   "source": [
    "\n",
    "SVD model"
   ]
  },
  {
   "cell_type": "code",
   "execution_count": 42,
   "metadata": {
    "colab": {
     "base_uri": "https://localhost:8080/",
     "height": 218
    },
    "id": "IJ_Rarg1MiFI",
    "outputId": "455e490b-ee9c-4fe0-ba0d-adb920bfa140"
   },
   "outputs": [
    {
     "ename": "NameError",
     "evalue": "ignored",
     "output_type": "error",
     "traceback": [
      "\u001b[0;31m---------------------------------------------------------------------------\u001b[0m",
      "\u001b[0;31mNameError\u001b[0m                                 Traceback (most recent call last)",
      "\u001b[0;32m<ipython-input-42-36dda0c95d00>\u001b[0m in \u001b[0;36m<module>\u001b[0;34m()\u001b[0m\n\u001b[1;32m      1\u001b[0m \u001b[0;31m# USING SVD\u001b[0m\u001b[0;34m\u001b[0m\u001b[0;34m\u001b[0m\u001b[0;34m\u001b[0m\u001b[0m\n\u001b[1;32m      2\u001b[0m \u001b[0;31m#evaluate model with MSE and RMSE\u001b[0m\u001b[0;34m\u001b[0m\u001b[0;34m\u001b[0m\u001b[0;34m\u001b[0m\u001b[0m\n\u001b[0;32m----> 3\u001b[0;31m \u001b[0mprint\u001b[0m \u001b[0;34m(\u001b[0m\u001b[0;34m'User-User CF MSE : '\u001b[0m\u001b[0;34m,\u001b[0m\u001b[0mrecmetrics\u001b[0m\u001b[0;34m.\u001b[0m\u001b[0mmse\u001b[0m\u001b[0;34m(\u001b[0m\u001b[0mtest\u001b[0m\u001b[0;34m.\u001b[0m\u001b[0mr_ui\u001b[0m\u001b[0;34m,\u001b[0m \u001b[0mtest\u001b[0m\u001b[0;34m.\u001b[0m\u001b[0mest\u001b[0m\u001b[0;34m)\u001b[0m\u001b[0;34m)\u001b[0m\u001b[0;34m\u001b[0m\u001b[0;34m\u001b[0m\u001b[0m\n\u001b[0m\u001b[1;32m      4\u001b[0m \u001b[0mprint\u001b[0m \u001b[0;34m(\u001b[0m\u001b[0;34m'User-User CF RMSE : '\u001b[0m\u001b[0;34m,\u001b[0m\u001b[0mrecmetrics\u001b[0m\u001b[0;34m.\u001b[0m\u001b[0mrmse\u001b[0m\u001b[0;34m(\u001b[0m\u001b[0mtest\u001b[0m\u001b[0;34m.\u001b[0m\u001b[0mr_ui\u001b[0m\u001b[0;34m,\u001b[0m \u001b[0mtest\u001b[0m\u001b[0;34m.\u001b[0m\u001b[0mest\u001b[0m\u001b[0;34m)\u001b[0m\u001b[0;34m)\u001b[0m\u001b[0;34m\u001b[0m\u001b[0;34m\u001b[0m\u001b[0m\n",
      "\u001b[0;31mNameError\u001b[0m: name 'recmetrics' is not defined"
     ]
    }
   ],
   "source": [
    "# USING SVD\n",
    "#evaluate model with MSE and RMSE\n",
    "print ('User-User CF MSE : ',recmetrics.mse(test.r_ui, test.est))\n",
    "print ('User-User CF RMSE : ',recmetrics.rmse(test.r_ui, test.est))"
   ]
  },
  {
   "cell_type": "markdown",
   "metadata": {
    "id": "47u_Mlxzfk3c"
   },
   "source": [
    "\n",
    "USER-USER"
   ]
  },
  {
   "cell_type": "code",
   "execution_count": null,
   "metadata": {
    "colab": {
     "base_uri": "https://localhost:8080/"
    },
    "id": "jJmFLuDjfZe5",
    "outputId": "b232df58-7821-4f73-abd5-10e912a31960"
   },
   "outputs": [
    {
     "name": "stdout",
     "output_type": "stream",
     "text": [
      "User-based Model : Test Set\n",
      "RMSE: 1.0494\n"
     ]
    },
    {
     "data": {
      "text/plain": [
       "1.0493867254344016"
      ]
     },
     "execution_count": 35,
     "metadata": {
      "tags": []
     },
     "output_type": "execute_result"
    }
   ],
   "source": [
    "# get RMSE\n",
    "print(\"User-based Model : Test Set\")\n",
    "accuracy.rmse(test_pred_User, verbose=True)"
   ]
  },
  {
   "cell_type": "markdown",
   "metadata": {
    "id": "TYhNpGi0ftO6"
   },
   "source": [
    "\n",
    "ITEM-ITEM"
   ]
  },
  {
   "cell_type": "code",
   "execution_count": null,
   "metadata": {
    "colab": {
     "base_uri": "https://localhost:8080/"
    },
    "id": "492Kweqbfurq",
    "outputId": "998a3421-12b2-4f32-f446-73d62758b0c2"
   },
   "outputs": [
    {
     "name": "stdout",
     "output_type": "stream",
     "text": [
      "Item-based Model : Test Set\n",
      "RMSE: 1.0600\n"
     ]
    },
    {
     "data": {
      "text/plain": [
       "1.0599939748452543"
      ]
     },
     "execution_count": 38,
     "metadata": {
      "tags": []
     },
     "output_type": "execute_result"
    }
   ],
   "source": [
    "# get RMSE\n",
    "print(\"Item-based Model : Test Set\")\n",
    "accuracy.rmse(test_pred_Item, verbose=True)"
   ]
  },
  {
   "cell_type": "markdown",
   "metadata": {
    "id": "A_Cxcau5MjEf"
   },
   "source": [
    "6. Get top - K ( K = 5) recommendations. Since our goal is to recommend new\n",
    "products to each user based on his/her habits, we will recommend 5 new\n",
    "products. ( 10 marks)"
   ]
  },
  {
   "cell_type": "markdown",
   "metadata": {
    "id": "u6u53h6Ff5NC"
   },
   "source": [
    "\n",
    "SVD Recommendations"
   ]
  },
  {
   "cell_type": "code",
   "execution_count": null,
   "metadata": {
    "id": "UUpT3ClZMluU"
   },
   "outputs": [],
   "source": [
    "def get_users_predictions(user_id, n, model):\n",
    "    recommended_items = pd.DataFrame(model.loc[user_id])\n",
    "    recommended_items.columns = [\"predicted_rating\"]\n",
    "    recommended_items = recommended_items.sort_values('predicted_rating', ascending=False)    \n",
    "    recommended_items = recommended_items.head(n)\n",
    "    return recommended_items.index.tolist()"
   ]
  },
  {
   "cell_type": "code",
   "execution_count": null,
   "metadata": {
    "colab": {
     "base_uri": "https://localhost:8080/"
    },
    "id": "Zl4nJ-3LgAWi",
    "outputId": "83d8e62f-5e5d-493a-fe7d-45aa10ae2561"
   },
   "outputs": [
    {
     "data": {
      "text/plain": [
       "['B0043TB7OC', 'B000075UZ7', 'B00007EDM8', 'B00000DM9M', 'B0064PKG3Q']"
      ]
     },
     "execution_count": 40,
     "metadata": {
      "tags": []
     },
     "output_type": "execute_result"
    }
   ],
   "source": [
    "#get example prediction\n",
    "get_users_predictions('A6FIAB28IS79', 5, cf_model)"
   ]
  },
  {
   "cell_type": "code",
   "execution_count": null,
   "metadata": {
    "colab": {
     "base_uri": "https://localhost:8080/",
     "height": 381
    },
    "id": "HKmyp5uVgBPF",
    "outputId": "b1af2fdb-a459-4034-ae7f-77f91a5d527f"
   },
   "outputs": [
    {
     "ename": "SpecificationError",
     "evalue": "ignored",
     "output_type": "error",
     "traceback": [
      "\u001b[0;31m---------------------------------------------------------------------------\u001b[0m",
      "\u001b[0;31mSpecificationError\u001b[0m                        Traceback (most recent call last)",
      "\u001b[0;32m<ipython-input-43-3667290467de>\u001b[0m in \u001b[0;36m<module>\u001b[0;34m()\u001b[0m\n\u001b[1;32m      1\u001b[0m \u001b[0;31m#format test data\u001b[0m\u001b[0;34m\u001b[0m\u001b[0;34m\u001b[0m\u001b[0;34m\u001b[0m\u001b[0m\n\u001b[0;32m----> 2\u001b[0;31m \u001b[0mtest\u001b[0m \u001b[0;34m=\u001b[0m \u001b[0mtest\u001b[0m\u001b[0;34m.\u001b[0m\u001b[0mcopy\u001b[0m\u001b[0;34m(\u001b[0m\u001b[0;34m)\u001b[0m\u001b[0;34m.\u001b[0m\u001b[0mgroupby\u001b[0m\u001b[0;34m(\u001b[0m\u001b[0;34m'uid'\u001b[0m\u001b[0;34m)\u001b[0m\u001b[0;34m[\u001b[0m\u001b[0;34m'pid'\u001b[0m\u001b[0;34m]\u001b[0m\u001b[0;34m.\u001b[0m\u001b[0magg\u001b[0m\u001b[0;34m(\u001b[0m\u001b[0;34m{\u001b[0m\u001b[0;34m'actual'\u001b[0m\u001b[0;34m:\u001b[0m \u001b[0;34m(\u001b[0m\u001b[0;32mlambda\u001b[0m \u001b[0mx\u001b[0m\u001b[0;34m:\u001b[0m \u001b[0mlist\u001b[0m\u001b[0;34m(\u001b[0m\u001b[0mset\u001b[0m\u001b[0;34m(\u001b[0m\u001b[0mx\u001b[0m\u001b[0;34m)\u001b[0m\u001b[0;34m)\u001b[0m\u001b[0;34m)\u001b[0m\u001b[0;34m}\u001b[0m\u001b[0;34m)\u001b[0m\u001b[0;34m\u001b[0m\u001b[0;34m\u001b[0m\u001b[0m\n\u001b[0m\u001b[1;32m      3\u001b[0m \u001b[0;31m#make recommendations for all members in the test data\u001b[0m\u001b[0;34m\u001b[0m\u001b[0;34m\u001b[0m\u001b[0;34m\u001b[0m\u001b[0m\n\u001b[1;32m      4\u001b[0m \u001b[0mrecs\u001b[0m \u001b[0;34m=\u001b[0m \u001b[0;34m[\u001b[0m\u001b[0;34m]\u001b[0m\u001b[0;34m\u001b[0m\u001b[0;34m\u001b[0m\u001b[0m\n\u001b[1;32m      5\u001b[0m \u001b[0;32mfor\u001b[0m \u001b[0muser\u001b[0m \u001b[0;32min\u001b[0m \u001b[0mtest\u001b[0m\u001b[0;34m.\u001b[0m\u001b[0mindex\u001b[0m\u001b[0;34m:\u001b[0m\u001b[0;34m\u001b[0m\u001b[0;34m\u001b[0m\u001b[0m\n",
      "\u001b[0;32m/usr/local/lib/python3.6/dist-packages/pandas/core/groupby/generic.py\u001b[0m in \u001b[0;36maggregate\u001b[0;34m(self, func, engine, engine_kwargs, *args, **kwargs)\u001b[0m\n\u001b[1;32m    244\u001b[0m             \u001b[0;31m# but not the class list / tuple itself.\u001b[0m\u001b[0;34m\u001b[0m\u001b[0;34m\u001b[0m\u001b[0;34m\u001b[0m\u001b[0m\n\u001b[1;32m    245\u001b[0m             \u001b[0mfunc\u001b[0m \u001b[0;34m=\u001b[0m \u001b[0mmaybe_mangle_lambdas\u001b[0m\u001b[0;34m(\u001b[0m\u001b[0mfunc\u001b[0m\u001b[0;34m)\u001b[0m\u001b[0;34m\u001b[0m\u001b[0;34m\u001b[0m\u001b[0m\n\u001b[0;32m--> 246\u001b[0;31m             \u001b[0mret\u001b[0m \u001b[0;34m=\u001b[0m \u001b[0mself\u001b[0m\u001b[0;34m.\u001b[0m\u001b[0m_aggregate_multiple_funcs\u001b[0m\u001b[0;34m(\u001b[0m\u001b[0mfunc\u001b[0m\u001b[0;34m)\u001b[0m\u001b[0;34m\u001b[0m\u001b[0;34m\u001b[0m\u001b[0m\n\u001b[0m\u001b[1;32m    247\u001b[0m             \u001b[0;32mif\u001b[0m \u001b[0mrelabeling\u001b[0m\u001b[0;34m:\u001b[0m\u001b[0;34m\u001b[0m\u001b[0;34m\u001b[0m\u001b[0m\n\u001b[1;32m    248\u001b[0m                 \u001b[0mret\u001b[0m\u001b[0;34m.\u001b[0m\u001b[0mcolumns\u001b[0m \u001b[0;34m=\u001b[0m \u001b[0mcolumns\u001b[0m\u001b[0;34m\u001b[0m\u001b[0;34m\u001b[0m\u001b[0m\n",
      "\u001b[0;32m/usr/local/lib/python3.6/dist-packages/pandas/core/groupby/generic.py\u001b[0m in \u001b[0;36m_aggregate_multiple_funcs\u001b[0;34m(self, arg)\u001b[0m\n\u001b[1;32m    290\u001b[0m             \u001b[0;31m# GH 15931\u001b[0m\u001b[0;34m\u001b[0m\u001b[0;34m\u001b[0m\u001b[0;34m\u001b[0m\u001b[0m\n\u001b[1;32m    291\u001b[0m             \u001b[0;32mif\u001b[0m \u001b[0misinstance\u001b[0m\u001b[0;34m(\u001b[0m\u001b[0mself\u001b[0m\u001b[0;34m.\u001b[0m\u001b[0m_selected_obj\u001b[0m\u001b[0;34m,\u001b[0m \u001b[0mSeries\u001b[0m\u001b[0;34m)\u001b[0m\u001b[0;34m:\u001b[0m\u001b[0;34m\u001b[0m\u001b[0;34m\u001b[0m\u001b[0m\n\u001b[0;32m--> 292\u001b[0;31m                 \u001b[0;32mraise\u001b[0m \u001b[0mSpecificationError\u001b[0m\u001b[0;34m(\u001b[0m\u001b[0;34m\"nested renamer is not supported\"\u001b[0m\u001b[0;34m)\u001b[0m\u001b[0;34m\u001b[0m\u001b[0;34m\u001b[0m\u001b[0m\n\u001b[0m\u001b[1;32m    293\u001b[0m \u001b[0;34m\u001b[0m\u001b[0m\n\u001b[1;32m    294\u001b[0m             \u001b[0mcolumns\u001b[0m \u001b[0;34m=\u001b[0m \u001b[0mlist\u001b[0m\u001b[0;34m(\u001b[0m\u001b[0marg\u001b[0m\u001b[0;34m.\u001b[0m\u001b[0mkeys\u001b[0m\u001b[0;34m(\u001b[0m\u001b[0;34m)\u001b[0m\u001b[0;34m)\u001b[0m\u001b[0;34m\u001b[0m\u001b[0;34m\u001b[0m\u001b[0m\n",
      "\u001b[0;31mSpecificationError\u001b[0m: nested renamer is not supported"
     ]
    }
   ],
   "source": [
    "#format test data\n",
    "test = test.copy().groupby('uid')['pid'].agg({'actual': (lambda x: list(set(x)))})\n",
    "#make recommendations for all members in the test data\n",
    "recs = []\n",
    "for user in test.index:\n",
    "    SVD_predictions = get_users_predictions(user, 5, cf_model)\n",
    "    recs.append(SVD_predictions)\n",
    "        \n",
    "test['SVD_reco'] = recs\n",
    "test.head(10)"
   ]
  },
  {
   "cell_type": "markdown",
   "metadata": {
    "id": "LCzkCpvDgIgX"
   },
   "source": [
    "Popularity Based -"
   ]
  },
  {
   "cell_type": "code",
   "execution_count": null,
   "metadata": {
    "colab": {
     "base_uri": "https://localhost:8080/",
     "height": 202
    },
    "id": "UDfc3SZ1gMUr",
    "outputId": "2aa6223f-cca3-4b46-e87c-a2ea01cabb81"
   },
   "outputs": [
    {
     "data": {
      "text/html": [
       "<div>\n",
       "<style scoped>\n",
       "    .dataframe tbody tr th:only-of-type {\n",
       "        vertical-align: middle;\n",
       "    }\n",
       "\n",
       "    .dataframe tbody tr th {\n",
       "        vertical-align: top;\n",
       "    }\n",
       "\n",
       "    .dataframe thead th {\n",
       "        text-align: right;\n",
       "    }\n",
       "</style>\n",
       "<table border=\"1\" class=\"dataframe\">\n",
       "  <thead>\n",
       "    <tr style=\"text-align: right;\">\n",
       "      <th></th>\n",
       "      <th>uid</th>\n",
       "      <th>pid</th>\n",
       "      <th>r_ui</th>\n",
       "      <th>est</th>\n",
       "      <th>Popularity_Reco</th>\n",
       "    </tr>\n",
       "  </thead>\n",
       "  <tbody>\n",
       "    <tr>\n",
       "      <th>0</th>\n",
       "      <td>A680RUE1FDO8B</td>\n",
       "      <td>B000YL5N4I</td>\n",
       "      <td>4.0</td>\n",
       "      <td>4.555982</td>\n",
       "      <td>[B0088CJT4U, B001E1Y5O6, B007WTAJTO, B004T9RR6...</td>\n",
       "    </tr>\n",
       "    <tr>\n",
       "      <th>1</th>\n",
       "      <td>A1CPRP3VFJRS1R</td>\n",
       "      <td>B005NCNDNQ</td>\n",
       "      <td>2.0</td>\n",
       "      <td>3.968464</td>\n",
       "      <td>[B0088CJT4U, B001E1Y5O6, B007WTAJTO, B004T9RR6...</td>\n",
       "    </tr>\n",
       "    <tr>\n",
       "      <th>2</th>\n",
       "      <td>AEL6CQNQXONBX</td>\n",
       "      <td>B0011E4N5C</td>\n",
       "      <td>5.0</td>\n",
       "      <td>4.382953</td>\n",
       "      <td>[B0088CJT4U, B001E1Y5O6, B007WTAJTO, B004T9RR6...</td>\n",
       "    </tr>\n",
       "    <tr>\n",
       "      <th>3</th>\n",
       "      <td>A4WEZJOIZIV4U</td>\n",
       "      <td>B0042KFLJ4</td>\n",
       "      <td>5.0</td>\n",
       "      <td>4.444483</td>\n",
       "      <td>[B0088CJT4U, B001E1Y5O6, B007WTAJTO, B004T9RR6...</td>\n",
       "    </tr>\n",
       "    <tr>\n",
       "      <th>4</th>\n",
       "      <td>A231WM2Z2JL0U3</td>\n",
       "      <td>B00004R8VC</td>\n",
       "      <td>5.0</td>\n",
       "      <td>4.105112</td>\n",
       "      <td>[B0088CJT4U, B001E1Y5O6, B007WTAJTO, B004T9RR6...</td>\n",
       "    </tr>\n",
       "  </tbody>\n",
       "</table>\n",
       "</div>"
      ],
      "text/plain": [
       "              uid  ...                                    Popularity_Reco\n",
       "0   A680RUE1FDO8B  ...  [B0088CJT4U, B001E1Y5O6, B007WTAJTO, B004T9RR6...\n",
       "1  A1CPRP3VFJRS1R  ...  [B0088CJT4U, B001E1Y5O6, B007WTAJTO, B004T9RR6...\n",
       "2   AEL6CQNQXONBX  ...  [B0088CJT4U, B001E1Y5O6, B007WTAJTO, B004T9RR6...\n",
       "3   A4WEZJOIZIV4U  ...  [B0088CJT4U, B001E1Y5O6, B007WTAJTO, B004T9RR6...\n",
       "4  A231WM2Z2JL0U3  ...  [B0088CJT4U, B001E1Y5O6, B007WTAJTO, B004T9RR6...\n",
       "\n",
       "[5 rows x 5 columns]"
      ]
     },
     "execution_count": 45,
     "metadata": {
      "tags": []
     },
     "output_type": "execute_result"
    }
   ],
   "source": [
    "#make recommendations for all members in the test data\n",
    "popularity_recs = df_popular.prod_id.value_counts().head(10).index.tolist()\n",
    "\n",
    "recs = []\n",
    "for user in test.index:\n",
    "    pop_predictions = popularity_recs\n",
    "    recs.append(pop_predictions)\n",
    "        \n",
    "test['Popularity_Reco'] = recs\n",
    "test.head()"
   ]
  },
  {
   "cell_type": "markdown",
   "metadata": {
    "id": "jIgPIdHcMo9k"
   },
   "source": [
    "7. Summarise your insights. ( 10 marks)"
   ]
  },
  {
   "cell_type": "markdown",
   "metadata": {
    "id": "Yxn5qJSTgV4T"
   },
   "source": [
    "Recall"
   ]
  },
  {
   "cell_type": "code",
   "execution_count": null,
   "metadata": {
    "colab": {
     "base_uri": "https://localhost:8080/",
     "height": 322
    },
    "id": "S-fR_70BMpiA",
    "outputId": "bedd8652-a4ad-449d-cd8d-26ab6b7980e6"
   },
   "outputs": [
    {
     "ename": "AttributeError",
     "evalue": "ignored",
     "output_type": "error",
     "traceback": [
      "\u001b[0;31m---------------------------------------------------------------------------\u001b[0m",
      "\u001b[0;31mAttributeError\u001b[0m                            Traceback (most recent call last)",
      "\u001b[0;32m<ipython-input-46-fc887f8f143b>\u001b[0m in \u001b[0;36m<module>\u001b[0;34m()\u001b[0m\n\u001b[0;32m----> 1\u001b[0;31m \u001b[0mactual\u001b[0m \u001b[0;34m=\u001b[0m \u001b[0mtest\u001b[0m\u001b[0;34m.\u001b[0m\u001b[0mactual\u001b[0m\u001b[0;34m.\u001b[0m\u001b[0mvalues\u001b[0m\u001b[0;34m.\u001b[0m\u001b[0mtolist\u001b[0m\u001b[0;34m(\u001b[0m\u001b[0;34m)\u001b[0m\u001b[0;34m\u001b[0m\u001b[0;34m\u001b[0m\u001b[0m\n\u001b[0m\u001b[1;32m      2\u001b[0m \u001b[0mcf_predictions\u001b[0m \u001b[0;34m=\u001b[0m \u001b[0mtest\u001b[0m\u001b[0;34m.\u001b[0m\u001b[0mSVD_reco\u001b[0m\u001b[0;34m.\u001b[0m\u001b[0mvalues\u001b[0m\u001b[0;34m.\u001b[0m\u001b[0mtolist\u001b[0m\u001b[0;34m(\u001b[0m\u001b[0;34m)\u001b[0m\u001b[0;34m\u001b[0m\u001b[0;34m\u001b[0m\u001b[0m\n\u001b[1;32m      3\u001b[0m \u001b[0mpop_predictions\u001b[0m \u001b[0;34m=\u001b[0m \u001b[0mtest\u001b[0m\u001b[0;34m.\u001b[0m\u001b[0mPopularity_Reco\u001b[0m\u001b[0;34m.\u001b[0m\u001b[0mvalues\u001b[0m\u001b[0;34m.\u001b[0m\u001b[0mtolist\u001b[0m\u001b[0;34m(\u001b[0m\u001b[0;34m)\u001b[0m\u001b[0;34m\u001b[0m\u001b[0;34m\u001b[0m\u001b[0m\n",
      "\u001b[0;32m/usr/local/lib/python3.6/dist-packages/pandas/core/generic.py\u001b[0m in \u001b[0;36m__getattr__\u001b[0;34m(self, name)\u001b[0m\n\u001b[1;32m   5139\u001b[0m             \u001b[0;32mif\u001b[0m \u001b[0mself\u001b[0m\u001b[0;34m.\u001b[0m\u001b[0m_info_axis\u001b[0m\u001b[0;34m.\u001b[0m\u001b[0m_can_hold_identifiers_and_holds_name\u001b[0m\u001b[0;34m(\u001b[0m\u001b[0mname\u001b[0m\u001b[0;34m)\u001b[0m\u001b[0;34m:\u001b[0m\u001b[0;34m\u001b[0m\u001b[0;34m\u001b[0m\u001b[0m\n\u001b[1;32m   5140\u001b[0m                 \u001b[0;32mreturn\u001b[0m \u001b[0mself\u001b[0m\u001b[0;34m[\u001b[0m\u001b[0mname\u001b[0m\u001b[0;34m]\u001b[0m\u001b[0;34m\u001b[0m\u001b[0;34m\u001b[0m\u001b[0m\n\u001b[0;32m-> 5141\u001b[0;31m             \u001b[0;32mreturn\u001b[0m \u001b[0mobject\u001b[0m\u001b[0;34m.\u001b[0m\u001b[0m__getattribute__\u001b[0m\u001b[0;34m(\u001b[0m\u001b[0mself\u001b[0m\u001b[0;34m,\u001b[0m \u001b[0mname\u001b[0m\u001b[0;34m)\u001b[0m\u001b[0;34m\u001b[0m\u001b[0;34m\u001b[0m\u001b[0m\n\u001b[0m\u001b[1;32m   5142\u001b[0m \u001b[0;34m\u001b[0m\u001b[0m\n\u001b[1;32m   5143\u001b[0m     \u001b[0;32mdef\u001b[0m \u001b[0m__setattr__\u001b[0m\u001b[0;34m(\u001b[0m\u001b[0mself\u001b[0m\u001b[0;34m,\u001b[0m \u001b[0mname\u001b[0m\u001b[0;34m:\u001b[0m \u001b[0mstr\u001b[0m\u001b[0;34m,\u001b[0m \u001b[0mvalue\u001b[0m\u001b[0;34m)\u001b[0m \u001b[0;34m->\u001b[0m \u001b[0;32mNone\u001b[0m\u001b[0;34m:\u001b[0m\u001b[0;34m\u001b[0m\u001b[0;34m\u001b[0m\u001b[0m\n",
      "\u001b[0;31mAttributeError\u001b[0m: 'DataFrame' object has no attribute 'actual'"
     ]
    }
   ],
   "source": [
    "actual = test.actual.values.tolist()\n",
    "cf_predictions = test.SVD_reco.values.tolist()\n",
    "pop_predictions = test.Popularity_Reco.values.tolist()"
   ]
  },
  {
   "cell_type": "code",
   "execution_count": null,
   "metadata": {
    "colab": {
     "base_uri": "https://localhost:8080/",
     "height": 218
    },
    "id": "4_zai4M9gbdv",
    "outputId": "f2660dd0-ba3c-40d0-c016-b965dedde8f1"
   },
   "outputs": [
    {
     "ename": "NameError",
     "evalue": "ignored",
     "output_type": "error",
     "traceback": [
      "\u001b[0;31m---------------------------------------------------------------------------\u001b[0m",
      "\u001b[0;31mNameError\u001b[0m                                 Traceback (most recent call last)",
      "\u001b[0;32m<ipython-input-47-b408bbcf1d0c>\u001b[0m in \u001b[0;36m<module>\u001b[0;34m()\u001b[0m\n\u001b[1;32m      1\u001b[0m \u001b[0mpop_mark\u001b[0m \u001b[0;34m=\u001b[0m \u001b[0;34m[\u001b[0m\u001b[0;34m]\u001b[0m\u001b[0;34m\u001b[0m\u001b[0;34m\u001b[0m\u001b[0m\n\u001b[1;32m      2\u001b[0m \u001b[0;32mfor\u001b[0m \u001b[0mK\u001b[0m \u001b[0;32min\u001b[0m \u001b[0mnp\u001b[0m\u001b[0;34m.\u001b[0m\u001b[0marange\u001b[0m\u001b[0;34m(\u001b[0m\u001b[0;36m1\u001b[0m\u001b[0;34m,\u001b[0m \u001b[0;36m11\u001b[0m\u001b[0;34m)\u001b[0m\u001b[0;34m:\u001b[0m\u001b[0;34m\u001b[0m\u001b[0;34m\u001b[0m\u001b[0m\n\u001b[0;32m----> 3\u001b[0;31m     \u001b[0mpop_mark\u001b[0m\u001b[0;34m.\u001b[0m\u001b[0mextend\u001b[0m\u001b[0;34m(\u001b[0m\u001b[0;34m[\u001b[0m\u001b[0mrecmetrics\u001b[0m\u001b[0;34m.\u001b[0m\u001b[0mmark\u001b[0m\u001b[0;34m(\u001b[0m\u001b[0mactual\u001b[0m\u001b[0;34m,\u001b[0m \u001b[0mpop_predictions\u001b[0m\u001b[0;34m,\u001b[0m \u001b[0mk\u001b[0m\u001b[0;34m=\u001b[0m\u001b[0mK\u001b[0m\u001b[0;34m)\u001b[0m\u001b[0;34m]\u001b[0m\u001b[0;34m)\u001b[0m\u001b[0;34m\u001b[0m\u001b[0;34m\u001b[0m\u001b[0m\n\u001b[0m\u001b[1;32m      4\u001b[0m \u001b[0mpop_mark\u001b[0m\u001b[0;34m\u001b[0m\u001b[0;34m\u001b[0m\u001b[0m\n",
      "\u001b[0;31mNameError\u001b[0m: name 'recmetrics' is not defined"
     ]
    }
   ],
   "source": [
    "pop_mark = []\n",
    "for K in np.arange(1, 11):\n",
    "    pop_mark.extend([recmetrics.mark(actual, pop_predictions, k=K)])\n",
    "pop_mark"
   ]
  },
  {
   "cell_type": "code",
   "execution_count": null,
   "metadata": {
    "colab": {
     "base_uri": "https://localhost:8080/",
     "height": 218
    },
    "id": "yXULrv-fgvpK",
    "outputId": "28362a88-63aa-42d3-efc9-3c20b9c78afc"
   },
   "outputs": [
    {
     "ename": "NameError",
     "evalue": "ignored",
     "output_type": "error",
     "traceback": [
      "\u001b[0;31m---------------------------------------------------------------------------\u001b[0m",
      "\u001b[0;31mNameError\u001b[0m                                 Traceback (most recent call last)",
      "\u001b[0;32m<ipython-input-48-abdf49ad9d79>\u001b[0m in \u001b[0;36m<module>\u001b[0;34m()\u001b[0m\n\u001b[1;32m      1\u001b[0m \u001b[0mcf_mark\u001b[0m \u001b[0;34m=\u001b[0m \u001b[0;34m[\u001b[0m\u001b[0;34m]\u001b[0m\u001b[0;34m\u001b[0m\u001b[0;34m\u001b[0m\u001b[0m\n\u001b[1;32m      2\u001b[0m \u001b[0;32mfor\u001b[0m \u001b[0mK\u001b[0m \u001b[0;32min\u001b[0m \u001b[0mnp\u001b[0m\u001b[0;34m.\u001b[0m\u001b[0marange\u001b[0m\u001b[0;34m(\u001b[0m\u001b[0;36m1\u001b[0m\u001b[0;34m,\u001b[0m \u001b[0;36m11\u001b[0m\u001b[0;34m)\u001b[0m\u001b[0;34m:\u001b[0m\u001b[0;34m\u001b[0m\u001b[0;34m\u001b[0m\u001b[0m\n\u001b[0;32m----> 3\u001b[0;31m     \u001b[0mcf_mark\u001b[0m\u001b[0;34m.\u001b[0m\u001b[0mextend\u001b[0m\u001b[0;34m(\u001b[0m\u001b[0;34m[\u001b[0m\u001b[0mrecmetrics\u001b[0m\u001b[0;34m.\u001b[0m\u001b[0mmark\u001b[0m\u001b[0;34m(\u001b[0m\u001b[0mactual\u001b[0m\u001b[0;34m,\u001b[0m \u001b[0mcf_predictions\u001b[0m\u001b[0;34m,\u001b[0m \u001b[0mk\u001b[0m\u001b[0;34m=\u001b[0m\u001b[0mK\u001b[0m\u001b[0;34m)\u001b[0m\u001b[0;34m]\u001b[0m\u001b[0;34m)\u001b[0m\u001b[0;34m\u001b[0m\u001b[0;34m\u001b[0m\u001b[0m\n\u001b[0m\u001b[1;32m      4\u001b[0m \u001b[0mcf_mark\u001b[0m\u001b[0;34m\u001b[0m\u001b[0;34m\u001b[0m\u001b[0m\n",
      "\u001b[0;31mNameError\u001b[0m: name 'recmetrics' is not defined"
     ]
    }
   ],
   "source": [
    "cf_mark = []\n",
    "for K in np.arange(1, 11):\n",
    "    cf_mark.extend([recmetrics.mark(actual, cf_predictions, k=K)])\n",
    "cf_mark\n"
   ]
  },
  {
   "cell_type": "markdown",
   "metadata": {
    "id": "HM4mScM0g6in"
   },
   "source": [
    "Mark Plot"
   ]
  },
  {
   "cell_type": "code",
   "execution_count": null,
   "metadata": {
    "colab": {
     "base_uri": "https://localhost:8080/",
     "height": 218
    },
    "id": "DDxVrFg4gx9p",
    "outputId": "23b67893-a745-43b7-d208-7722a34da9f3"
   },
   "outputs": [
    {
     "ename": "NameError",
     "evalue": "ignored",
     "output_type": "error",
     "traceback": [
      "\u001b[0;31m---------------------------------------------------------------------------\u001b[0m",
      "\u001b[0;31mNameError\u001b[0m                                 Traceback (most recent call last)",
      "\u001b[0;32m<ipython-input-51-71ca85517a11>\u001b[0m in \u001b[0;36m<module>\u001b[0;34m()\u001b[0m\n\u001b[1;32m      4\u001b[0m \u001b[0;34m\u001b[0m\u001b[0m\n\u001b[1;32m      5\u001b[0m \u001b[0mfig\u001b[0m \u001b[0;34m=\u001b[0m \u001b[0mplt\u001b[0m\u001b[0;34m.\u001b[0m\u001b[0mfigure\u001b[0m\u001b[0;34m(\u001b[0m\u001b[0mfigsize\u001b[0m\u001b[0;34m=\u001b[0m\u001b[0;34m(\u001b[0m\u001b[0;36m15\u001b[0m\u001b[0;34m,\u001b[0m \u001b[0;36m7\u001b[0m\u001b[0;34m)\u001b[0m\u001b[0;34m)\u001b[0m\u001b[0;34m\u001b[0m\u001b[0;34m\u001b[0m\u001b[0m\n\u001b[0;32m----> 6\u001b[0;31m \u001b[0mrecmetrics\u001b[0m\u001b[0;34m.\u001b[0m\u001b[0mmark_plot\u001b[0m\u001b[0;34m(\u001b[0m\u001b[0mmark_scores\u001b[0m\u001b[0;34m,\u001b[0m \u001b[0mmodel_names\u001b[0m\u001b[0;34m=\u001b[0m\u001b[0mnames\u001b[0m\u001b[0;34m,\u001b[0m \u001b[0mk_range\u001b[0m\u001b[0;34m=\u001b[0m\u001b[0mindex\u001b[0m\u001b[0;34m)\u001b[0m\u001b[0;34m\u001b[0m\u001b[0;34m\u001b[0m\u001b[0m\n\u001b[0m",
      "\u001b[0;31mNameError\u001b[0m: name 'recmetrics' is not defined"
     ]
    },
    {
     "data": {
      "text/plain": [
       "<Figure size 1080x504 with 0 Axes>"
      ]
     },
     "metadata": {
      "tags": []
     },
     "output_type": "display_data"
    }
   ],
   "source": [
    "mark_scores = [pop_mark, cf_mark]\n",
    "index = range(1,10+1)\n",
    "names = ['Popularity Recommender', 'Collaborative Filter']\n",
    "\n",
    "fig = plt.figure(figsize=(15, 7))\n",
    "recmetrics.mark_plot(mark_scores, model_names=names, k_range=index)"
   ]
  },
  {
   "cell_type": "markdown",
   "metadata": {
    "id": "8qsgsluZg_iL"
   },
   "source": [
    "Coverage\n"
   ]
  },
  {
   "cell_type": "code",
   "execution_count": null,
   "metadata": {
    "colab": {
     "base_uri": "https://localhost:8080/",
     "height": 322
    },
    "id": "B7SHP2n4g2Nt",
    "outputId": "c97eab4c-d8af-4d79-c0b9-3fe5d748cd81"
   },
   "outputs": [
    {
     "ename": "AttributeError",
     "evalue": "ignored",
     "output_type": "error",
     "traceback": [
      "\u001b[0;31m---------------------------------------------------------------------------\u001b[0m",
      "\u001b[0;31mAttributeError\u001b[0m                            Traceback (most recent call last)",
      "\u001b[0;32m<ipython-input-50-d473bc9dbfda>\u001b[0m in \u001b[0;36m<module>\u001b[0;34m()\u001b[0m\n\u001b[0;32m----> 1\u001b[0;31m \u001b[0mcatalog\u001b[0m \u001b[0;34m=\u001b[0m \u001b[0mdf_popular\u001b[0m\u001b[0;34m.\u001b[0m\u001b[0mproductId\u001b[0m\u001b[0;34m.\u001b[0m\u001b[0munique\u001b[0m\u001b[0;34m(\u001b[0m\u001b[0;34m)\u001b[0m\u001b[0;34m.\u001b[0m\u001b[0mtolist\u001b[0m\u001b[0;34m(\u001b[0m\u001b[0;34m)\u001b[0m\u001b[0;34m\u001b[0m\u001b[0;34m\u001b[0m\u001b[0m\n\u001b[0m\u001b[1;32m      2\u001b[0m \u001b[0mpop_coverage\u001b[0m \u001b[0;34m=\u001b[0m \u001b[0mrecmetrics\u001b[0m\u001b[0;34m.\u001b[0m\u001b[0mcoverage\u001b[0m\u001b[0;34m(\u001b[0m\u001b[0mpop_predictions\u001b[0m\u001b[0;34m,\u001b[0m \u001b[0mcatalog\u001b[0m\u001b[0;34m)\u001b[0m\u001b[0;34m\u001b[0m\u001b[0;34m\u001b[0m\u001b[0m\n\u001b[1;32m      3\u001b[0m \u001b[0mcf_coverage\u001b[0m \u001b[0;34m=\u001b[0m \u001b[0mrecmetrics\u001b[0m\u001b[0;34m.\u001b[0m\u001b[0mcoverage\u001b[0m\u001b[0;34m(\u001b[0m\u001b[0mcf_predictions\u001b[0m\u001b[0;34m,\u001b[0m \u001b[0mcatalog\u001b[0m\u001b[0;34m)\u001b[0m\u001b[0;34m\u001b[0m\u001b[0;34m\u001b[0m\u001b[0m\n",
      "\u001b[0;32m/usr/local/lib/python3.6/dist-packages/pandas/core/generic.py\u001b[0m in \u001b[0;36m__getattr__\u001b[0;34m(self, name)\u001b[0m\n\u001b[1;32m   5139\u001b[0m             \u001b[0;32mif\u001b[0m \u001b[0mself\u001b[0m\u001b[0;34m.\u001b[0m\u001b[0m_info_axis\u001b[0m\u001b[0;34m.\u001b[0m\u001b[0m_can_hold_identifiers_and_holds_name\u001b[0m\u001b[0;34m(\u001b[0m\u001b[0mname\u001b[0m\u001b[0;34m)\u001b[0m\u001b[0;34m:\u001b[0m\u001b[0;34m\u001b[0m\u001b[0;34m\u001b[0m\u001b[0m\n\u001b[1;32m   5140\u001b[0m                 \u001b[0;32mreturn\u001b[0m \u001b[0mself\u001b[0m\u001b[0;34m[\u001b[0m\u001b[0mname\u001b[0m\u001b[0;34m]\u001b[0m\u001b[0;34m\u001b[0m\u001b[0;34m\u001b[0m\u001b[0m\n\u001b[0;32m-> 5141\u001b[0;31m             \u001b[0;32mreturn\u001b[0m \u001b[0mobject\u001b[0m\u001b[0;34m.\u001b[0m\u001b[0m__getattribute__\u001b[0m\u001b[0;34m(\u001b[0m\u001b[0mself\u001b[0m\u001b[0;34m,\u001b[0m \u001b[0mname\u001b[0m\u001b[0;34m)\u001b[0m\u001b[0;34m\u001b[0m\u001b[0;34m\u001b[0m\u001b[0m\n\u001b[0m\u001b[1;32m   5142\u001b[0m \u001b[0;34m\u001b[0m\u001b[0m\n\u001b[1;32m   5143\u001b[0m     \u001b[0;32mdef\u001b[0m \u001b[0m__setattr__\u001b[0m\u001b[0;34m(\u001b[0m\u001b[0mself\u001b[0m\u001b[0;34m,\u001b[0m \u001b[0mname\u001b[0m\u001b[0;34m:\u001b[0m \u001b[0mstr\u001b[0m\u001b[0;34m,\u001b[0m \u001b[0mvalue\u001b[0m\u001b[0;34m)\u001b[0m \u001b[0;34m->\u001b[0m \u001b[0;32mNone\u001b[0m\u001b[0;34m:\u001b[0m\u001b[0;34m\u001b[0m\u001b[0;34m\u001b[0m\u001b[0m\n",
      "\u001b[0;31mAttributeError\u001b[0m: 'DataFrame' object has no attribute 'productId'"
     ]
    }
   ],
   "source": [
    "catalog = df_popular.productId.unique().tolist()\n",
    "pop_coverage = recmetrics.coverage(pop_predictions, catalog)\n",
    "cf_coverage = recmetrics.coverage(cf_predictions, catalog)"
   ]
  },
  {
   "cell_type": "markdown",
   "metadata": {
    "id": "9RJaZoDWhDyj"
   },
   "source": [
    "Coverage Plot"
   ]
  },
  {
   "cell_type": "code",
   "execution_count": null,
   "metadata": {
    "colab": {
     "base_uri": "https://localhost:8080/",
     "height": 235
    },
    "id": "RDq3NrzIhG8z",
    "outputId": "374b7efc-eb83-40f2-b897-03a668d0eaa9"
   },
   "outputs": [
    {
     "ename": "NameError",
     "evalue": "ignored",
     "output_type": "error",
     "traceback": [
      "\u001b[0;31m---------------------------------------------------------------------------\u001b[0m",
      "\u001b[0;31mNameError\u001b[0m                                 Traceback (most recent call last)",
      "\u001b[0;32m<ipython-input-49-38224652a628>\u001b[0m in \u001b[0;36m<module>\u001b[0;34m()\u001b[0m\n\u001b[0;32m----> 1\u001b[0;31m \u001b[0mcoverage_scores\u001b[0m \u001b[0;34m=\u001b[0m \u001b[0;34m[\u001b[0m \u001b[0mpop_coverage\u001b[0m\u001b[0;34m,\u001b[0m \u001b[0mcf_coverage\u001b[0m\u001b[0;34m]\u001b[0m\u001b[0;34m\u001b[0m\u001b[0;34m\u001b[0m\u001b[0m\n\u001b[0m\u001b[1;32m      2\u001b[0m \u001b[0mmodel_names\u001b[0m \u001b[0;34m=\u001b[0m \u001b[0;34m[\u001b[0m\u001b[0;34m'Popularity Recommender'\u001b[0m\u001b[0;34m,\u001b[0m \u001b[0;34m'Collaborative Filter'\u001b[0m\u001b[0;34m]\u001b[0m\u001b[0;34m\u001b[0m\u001b[0;34m\u001b[0m\u001b[0m\n\u001b[1;32m      3\u001b[0m \u001b[0;34m\u001b[0m\u001b[0m\n\u001b[1;32m      4\u001b[0m \u001b[0mfig\u001b[0m \u001b[0;34m=\u001b[0m \u001b[0mplt\u001b[0m\u001b[0;34m.\u001b[0m\u001b[0mfigure\u001b[0m\u001b[0;34m(\u001b[0m\u001b[0mfigsize\u001b[0m\u001b[0;34m=\u001b[0m\u001b[0;34m(\u001b[0m\u001b[0;36m7\u001b[0m\u001b[0;34m,\u001b[0m \u001b[0;36m5\u001b[0m\u001b[0;34m)\u001b[0m\u001b[0;34m)\u001b[0m\u001b[0;34m\u001b[0m\u001b[0;34m\u001b[0m\u001b[0m\n\u001b[1;32m      5\u001b[0m \u001b[0mrecmetrics\u001b[0m\u001b[0;34m.\u001b[0m\u001b[0mcoverage_plot\u001b[0m\u001b[0;34m(\u001b[0m\u001b[0mcoverage_scores\u001b[0m\u001b[0;34m,\u001b[0m \u001b[0mmodel_names\u001b[0m\u001b[0;34m)\u001b[0m\u001b[0;34m\u001b[0m\u001b[0;34m\u001b[0m\u001b[0m\n",
      "\u001b[0;31mNameError\u001b[0m: name 'pop_coverage' is not defined"
     ]
    }
   ],
   "source": [
    "coverage_scores = [ pop_coverage, cf_coverage]\n",
    "model_names = ['Popularity Recommender', 'Collaborative Filter']\n",
    "\n",
    "fig = plt.figure(figsize=(7, 5))\n",
    "recmetrics.coverage_plot(coverage_scores, model_names)"
   ]
  },
  {
   "cell_type": "markdown",
   "metadata": {
    "id": "U4gtCQSNhMln"
   },
   "source": [
    "\n",
    "We are working on the sample of 1042800 ratings provided for the 61764 different products by 782281 different users.There are no missing values in the data.We have 4 columns out of which timestamp is not significant for predicting the new products for the exisisting or the new users hence we can drop it.For making the data less sparse we are selecting user who have provided atleast 50 ratings which reduced the data set to 3400 records(ratings) and three columns(UserID,ProductID,Ratings). So, we checked for missing values(missing ratings,Id's),corrupted values(such as invalid entries).Now the data has - 2092 - unique products 37 - unique users\n",
    "\n",
    "Explored the data and performed in-depth analysis removed duplicates though there were no duplicates exsisting.\n",
    "\n",
    "Designed the Popularity based RS - with this we the recommendation for the products to the new customers who has not provided any ratings till now can be effectively done. But this is not personalized . Therefore, we created a Collaforatively filter model using SVD algo - To increase the sale through the existing customers by providing them new products suggestions to buy. The algo worked on finding the similarity measure of the users with other users and recommend new products.\n",
    "\n",
    "Conclusion :-\n",
    "\n",
    "This Recommendation System model implemented the strategies that can be employed for improving sales in AMAZON"
   ]
  },
  {
   "cell_type": "code",
   "execution_count": null,
   "metadata": {
    "id": "B4Z38kkohOBl"
   },
   "outputs": [],
   "source": []
  }
 ],
 "metadata": {
  "colab": {
   "collapsed_sections": [],
   "name": "Recommendation Systems_R5_Project.Amazon Electronics Products.ipynb",
   "provenance": []
  },
  "kernelspec": {
   "display_name": "Python 3",
   "language": "python",
   "name": "python3"
  },
  "language_info": {
   "codemirror_mode": {
    "name": "ipython",
    "version": 3
   },
   "file_extension": ".py",
   "mimetype": "text/x-python",
   "name": "python",
   "nbconvert_exporter": "python",
   "pygments_lexer": "ipython3",
   "version": "3.7.4"
  }
 },
 "nbformat": 4,
 "nbformat_minor": 1
}
